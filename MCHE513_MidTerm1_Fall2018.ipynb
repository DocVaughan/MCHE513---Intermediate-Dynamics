{
 "cells": [
  {
   "cell_type": "markdown",
   "metadata": {},
   "source": [
    "<h1 style=\"text-align:center\">Mid-Term 1 Solutions</h1>\n",
    "<h3 style=\"text-align:center\">MCHE 513: Intermediate Dynamics &mdash; Fall 2018</h3> \n",
    "<p style=\"text-align:center\">Dr. Joshua Vaughan <br>\n",
    "<a href=\"mailto:joshua.vaughan@louisiana.edu\">joshua.vaughan@louisiana.edu</a><br>\n",
    "<a href=\"http://www.ucs.louisiana.edu/~jev9637/\">http://www.ucs.louisiana.edu/~jev9637/</a></p>"
   ]
  },
  {
   "cell_type": "code",
   "execution_count": 1,
   "metadata": {
    "collapsed": true
   },
   "outputs": [],
   "source": [
    "# We'll first import the necessary modules from SymPy\n",
    "# Import the SymPy Module\n",
    "import sympy\n",
    "\n",
    "# Import the necessary sub-modules for kinematics\n",
    "# from sympy.vector import express\n",
    "\n",
    "# Import the necessary sub-modules and methods for dynamics\n",
    "from sympy.physics.mechanics import dynamicsymbols\n",
    "from sympy.physics.mechanics import inertia, Point, RigidBody, ReferenceFrame\n",
    "from sympy.physics.mechanics import linear_momentum, angular_momentum\n",
    "\n",
    "# initiate better printing of SymPy results\n",
    "sympy.init_printing()"
   ]
  },
  {
   "cell_type": "markdown",
   "metadata": {},
   "source": [
    "## Problem 1\n",
    "In Figure 1, a disk of radius $R$ spins about link BC at a rate of $\\dot{\\phi}$. Link ABC rotates about axis $Z$ at a constant rate, $\\dot{\\psi}$. The angle from link AB from vertical, $\\theta$, is also variable. The angle of the bend in the ABC linkage, $\\beta$, is fixed.\n",
    "\n",
    "  a. Write the angular velocity and angular acceleration of the disk. For each, be sure to indicate how to resolve all the components into the same frame.    \n",
    "\n",
    "  b. What is the velocity of point D?\n",
    "\n",
    "  c. What is the acceleration of point D?\n",
    "  \n",
    "<p style=\"text-align:center\">\n",
    "\t<img src=\"http://shared.crawlab.org/disk_on_bent_rod.png\" alt=\"A Spinning disk on a Bent Linkage\" width=50%><br>\n",
    "    <strong>Figure 1: A Spinning disk on a Bent Linkage</strong>\n",
    "</p>"
   ]
  },
  {
   "cell_type": "markdown",
   "metadata": {
    "collapsed": true
   },
   "source": [
    "### Part a."
   ]
  },
  {
   "cell_type": "code",
   "execution_count": 2,
   "metadata": {
    "collapsed": true
   },
   "outputs": [],
   "source": [
    "# Define the genearlized coordinates and other dynamic symbols\n",
    "psi, theta, phi = dynamicsymbols('Psi theta phi')\n",
    "\n",
    "# Also define the first derivatives\n",
    "psi_dot, theta_dot, phi_dot = dynamicsymbols('Psi theta phi', 1)\n",
    "\n",
    "# Define the symbols for the other paramters\n",
    "L1, L2, R, beta = sympy.symbols('L_1 L_2 R beta')"
   ]
  },
  {
   "cell_type": "code",
   "execution_count": 3,
   "metadata": {
    "collapsed": true
   },
   "outputs": [],
   "source": [
    "# Define the Newtonian reference frame\n",
    "N = ReferenceFrame('N')\n",
    "\n",
    "# Define a body-fixed frame along AB, but with Y parallel to the ground\n",
    "XYZ = N.orientnew('XYZ', 'Axis', [psi, N.z])\n",
    "\n",
    "# Define a new frame relative to the last, such that its z-axis is along AB \n",
    "prime = XYZ.orientnew('prime', 'Axis', [theta, XYZ.y])\n",
    "\n",
    "# Finally, define the last frame such that its z-axis is aligned with BC\n",
    "xyz = prime.orientnew('xyz', 'Axis', [beta, prime.y])"
   ]
  },
  {
   "cell_type": "markdown",
   "metadata": {},
   "source": [
    "We can now easily get the rotaion matrices between these frames."
   ]
  },
  {
   "cell_type": "code",
   "execution_count": 4,
   "metadata": {},
   "outputs": [
    {
     "data": {
      "image/png": "[encoded data removed]",
      "text/latex": [
       "$$\\left[\\begin{matrix}\\cos{\\left (\\theta{\\left (t \\right )} \\right )} & 0 & - \\sin{\\left (\\theta{\\left (t \\right )} \\right )}\\\\0 & 1 & 0\\\\\\sin{\\left (\\theta{\\left (t \\right )} \\right )} & 0 & \\cos{\\left (\\theta{\\left (t \\right )} \\right )}\\end{matrix}\\right]$$"
      ],
      "text/plain": [
       "⎡cos(θ(t))  0  -sin(θ(t))⎤\n",
       "⎢                        ⎥\n",
       "⎢    0      1      0     ⎥\n",
       "⎢                        ⎥\n",
       "⎣sin(θ(t))  0  cos(θ(t)) ⎦"
      ]
     },
     "execution_count": 4,
     "metadata": {},
     "output_type": "execute_result"
    }
   ],
   "source": [
    "# The rotation matrix from XYZ to x'y'z'\n",
    "R_theta = prime.dcm(XYZ)\n",
    "R_theta"
   ]
  },
  {
   "cell_type": "code",
   "execution_count": 5,
   "metadata": {},
   "outputs": [
    {
     "data": {
      "image/png": "[encoded data removed]",
      "text/latex": [
       "$$\\left[\\begin{matrix}\\cos{\\left (\\beta \\right )} & 0 & - \\sin{\\left (\\beta \\right )}\\\\0 & 1 & 0\\\\\\sin{\\left (\\beta \\right )} & 0 & \\cos{\\left (\\beta \\right )}\\end{matrix}\\right]$$"
      ],
      "text/plain": [
       "⎡cos(β)  0  -sin(β)⎤\n",
       "⎢                  ⎥\n",
       "⎢  0     1     0   ⎥\n",
       "⎢                  ⎥\n",
       "⎣sin(β)  0  cos(β) ⎦"
      ]
     },
     "execution_count": 5,
     "metadata": {},
     "output_type": "execute_result"
    }
   ],
   "source": [
    "# The rotation matrix from x'y'z' to xyz\n",
    "R_beta = xyz.dcm(prime)\n",
    "R_beta"
   ]
  },
  {
   "cell_type": "code",
   "execution_count": 6,
   "metadata": {},
   "outputs": [
    {
     "data": {
      "image/png": "[encoded data removed]",
      "text/latex": [
       "$$\\left[\\begin{matrix}- \\sin{\\left (\\beta \\right )} \\sin{\\left (\\theta{\\left (t \\right )} \\right )} + \\cos{\\left (\\beta \\right )} \\cos{\\left (\\theta{\\left (t \\right )} \\right )} & 0 & - \\sin{\\left (\\beta \\right )} \\cos{\\left (\\theta{\\left (t \\right )} \\right )} - \\sin{\\left (\\theta{\\left (t \\right )} \\right )} \\cos{\\left (\\beta \\right )}\\\\0 & 1 & 0\\\\\\sin{\\left (\\beta \\right )} \\cos{\\left (\\theta{\\left (t \\right )} \\right )} + \\sin{\\left (\\theta{\\left (t \\right )} \\right )} \\cos{\\left (\\beta \\right )} & 0 & - \\sin{\\left (\\beta \\right )} \\sin{\\left (\\theta{\\left (t \\right )} \\right )} + \\cos{\\left (\\beta \\right )} \\cos{\\left (\\theta{\\left (t \\right )} \\right )}\\end{matrix}\\right]$$"
      ],
      "text/plain": [
       "⎡-sin(β)⋅sin(θ(t)) + cos(β)⋅cos(θ(t))  0  -sin(β)⋅cos(θ(t)) - sin(θ(t))⋅cos(β)\n",
       "⎢                                                                             \n",
       "⎢                 0                    1                   0                  \n",
       "⎢                                                                             \n",
       "⎣sin(β)⋅cos(θ(t)) + sin(θ(t))⋅cos(β)   0  -sin(β)⋅sin(θ(t)) + cos(β)⋅cos(θ(t))\n",
       "\n",
       "⎤\n",
       "⎥\n",
       "⎥\n",
       "⎥\n",
       "⎦"
      ]
     },
     "execution_count": 6,
     "metadata": {},
     "output_type": "execute_result"
    }
   ],
   "source": [
    "# The total rotation matrix from XYZ to xyz = R_beta*R_theta\n",
    "R_total = xyz.dcm(XYZ)\n",
    "R_total"
   ]
  },
  {
   "cell_type": "code",
   "execution_count": 7,
   "metadata": {
    "collapsed": true
   },
   "outputs": [],
   "source": [
    "# Define a body-fixed frame on the disk and use it to set the angular velocity\n",
    "w_disk = ReferenceFrame('w_disk')\n",
    "\n",
    "# Express the angular velocity in the \"easiest\" coordinate frame to do so\n",
    "w_disk.set_ang_vel(N, psi_dot * N.z + theta_dot * XYZ.y + phi_dot * xyz.z)"
   ]
  },
  {
   "cell_type": "markdown",
   "metadata": {},
   "source": [
    "Then, we can express it in the frame of our chosing, using the `.express(frame)` method on the resulting vector."
   ]
  },
  {
   "cell_type": "code",
   "execution_count": 8,
   "metadata": {},
   "outputs": [
    {
     "data": {
      "image/png": "[encoded data removed]",
      "text/latex": [
       "$$\\left(\\operatorname{sin}\\left(\\beta\\right) \\operatorname{cos}\\left(\\theta\\right) + \\operatorname{sin}\\left(\\theta\\right) \\operatorname{cos}\\left(\\beta\\right)\\right) \\dot{\\phi}\\mathbf{\\hat{xyz}_x} + \\dot{\\theta}\\mathbf{\\hat{xyz}_y} + (\\left(- \\operatorname{sin}\\left(\\beta\\right) \\operatorname{sin}\\left(\\theta\\right) + \\operatorname{cos}\\left(\\beta\\right) \\operatorname{cos}\\left(\\theta\\right)\\right) \\dot{\\phi} + \\dot{\\Psi})\\mathbf{\\hat{xyz}_z}$$"
      ],
      "text/plain": [
       "                                      d                d                ⎛\n",
       "(sin(β)⋅cos(θ(t)) + sin(θ(t))⋅cos(β))⋅──(φ(t)) xyz_x + ──(θ(t)) xyz_y + ⎜(-sin\n",
       "                                      dt               dt               ⎝\n",
       "\n",
       "                                  d          d       ⎞\n",
       "(β)⋅sin(θ(t)) + cos(β)⋅cos(θ(t)))⋅──(φ(t)) + ──(Ψ(t))⎟ xyz_z\n",
       "                                  dt         dt      ⎠"
      ]
     },
     "execution_count": 8,
     "metadata": {},
     "output_type": "execute_result"
    }
   ],
   "source": [
    "# Either XYZ\n",
    "w_disk.ang_vel_in(N).express(XYZ)"
   ]
  },
  {
   "cell_type": "code",
   "execution_count": 9,
   "metadata": {},
   "outputs": [
    {
     "data": {
      "image/png": "[encoded data removed]",
      "text/latex": [
       "$$\\left(- \\operatorname{sin}\\left(\\beta\\right) \\operatorname{cos}\\left(\\theta\\right) - \\operatorname{sin}\\left(\\theta\\right) \\operatorname{cos}\\left(\\beta\\right)\\right) \\dot{\\Psi}\\mathbf{\\hat{xyz}_x} + \\dot{\\theta}\\mathbf{\\hat{xyz}_y} + (\\left(- \\operatorname{sin}\\left(\\beta\\right) \\operatorname{sin}\\left(\\theta\\right) + \\operatorname{cos}\\left(\\beta\\right) \\operatorname{cos}\\left(\\theta\\right)\\right) \\dot{\\Psi} + \\dot{\\phi})\\mathbf{\\hat{xyz}_z}$$"
      ],
      "text/plain": [
       "                                       d                d                ⎛\n",
       "(-sin(β)⋅cos(θ(t)) - sin(θ(t))⋅cos(β))⋅──(Ψ(t)) xyz_x + ──(θ(t)) xyz_y + ⎜(-si\n",
       "                                       dt               dt               ⎝\n",
       "\n",
       "                                   d          d       ⎞\n",
       "n(β)⋅sin(θ(t)) + cos(β)⋅cos(θ(t)))⋅──(Ψ(t)) + ──(φ(t))⎟ xyz_z\n",
       "                                   dt         dt      ⎠"
      ]
     },
     "execution_count": 9,
     "metadata": {},
     "output_type": "execute_result"
    }
   ],
   "source": [
    "# or xyz\n",
    "w_disk.ang_vel_in(N).express(xyz)"
   ]
  },
  {
   "cell_type": "markdown",
   "metadata": {},
   "source": [
    "Once we've properly defined the angular velocity and motion variables, we can get the angular acceleration using the `.ang_acc_in()` method on the frame (or body) of interest. "
   ]
  },
  {
   "cell_type": "code",
   "execution_count": 10,
   "metadata": {},
   "outputs": [
    {
     "data": {
      "image/png": "[encoded data removed]",
      "text/latex": [
       "$$\\ddot{\\Psi}\\mathbf{\\hat{n}_z} -  \\dot{\\Psi} \\dot{\\theta}\\mathbf{\\hat{xyz}_x} + \\ddot{\\theta}\\mathbf{\\hat{xyz}_y} + \\dot{\\phi} \\dot{\\theta}\\mathbf{\\hat{xyz}_x} -  \\left(- \\operatorname{sin}\\left(\\beta\\right) \\operatorname{cos}\\left(\\theta\\right) - \\operatorname{sin}\\left(\\theta\\right) \\operatorname{cos}\\left(\\beta\\right)\\right) \\dot{\\Psi} \\dot{\\phi}\\mathbf{\\hat{xyz}_y} + \\ddot{\\phi}\\mathbf{\\hat{xyz}_z}$$"
      ],
      "text/plain": [
       "  2                                          2\n",
       " d               d        d                 d                d        d\n",
       "───(Ψ(t)) n_z + -──(Ψ(t))⋅──(θ(t)) xyz_x + ───(θ(t)) xyz_y + ──(φ(t))⋅──(θ(t))\n",
       "  2              dt       dt                 2               dt       dt\n",
       "dt                                         dt\n",
       "\n",
       "                                                                             2\n",
       "                                                 d        d                 d\n",
       " xyz_x + -(-sin(β)⋅cos(θ(t)) - sin(θ(t))⋅cos(β))⋅──(Ψ(t))⋅──(φ(t)) xyz_y + ───\n",
       "                                                 dt       dt                 2\n",
       "                                                                           dt\n",
       "\n",
       "\n",
       "\n",
       "(φ(t)) xyz_z\n",
       "\n"
      ]
     },
     "execution_count": 10,
     "metadata": {},
     "output_type": "execute_result"
    }
   ],
   "source": [
    "w_disk.ang_acc_in(N)"
   ]
  },
  {
   "cell_type": "markdown",
   "metadata": {},
   "source": [
    "As with the angular velocity, we can express it in any frame we like using the `.express(frame)` method on the resulting vector."
   ]
  },
  {
   "cell_type": "code",
   "execution_count": 11,
   "metadata": {},
   "outputs": [
    {
     "data": {
      "image/png": "[encoded data removed]",
      "text/latex": [
       "$$(\\left(- \\operatorname{sin}\\left(\\beta\\right) \\operatorname{sin}\\left(\\theta\\right) + \\operatorname{cos}\\left(\\beta\\right) \\operatorname{cos}\\left(\\theta\\right)\\right) \\dot{\\phi} \\dot{\\theta} + \\left(\\operatorname{sin}\\left(\\beta\\right) \\operatorname{cos}\\left(\\theta\\right) + \\operatorname{sin}\\left(\\theta\\right) \\operatorname{cos}\\left(\\beta\\right)\\right) \\ddot{\\phi} - \\dot{\\Psi} \\dot{\\theta})\\mathbf{\\hat{xyz}_x} + (- \\left(- \\operatorname{sin}\\left(\\beta\\right) \\operatorname{cos}\\left(\\theta\\right) - \\operatorname{sin}\\left(\\theta\\right) \\operatorname{cos}\\left(\\beta\\right)\\right) \\dot{\\Psi} \\dot{\\phi} + \\ddot{\\theta})\\mathbf{\\hat{xyz}_y} + (\\left(- \\operatorname{sin}\\left(\\beta\\right) \\operatorname{sin}\\left(\\theta\\right) + \\operatorname{cos}\\left(\\beta\\right) \\operatorname{cos}\\left(\\theta\\right)\\right) \\ddot{\\phi} + \\left(- \\operatorname{sin}\\left(\\beta\\right) \\operatorname{cos}\\left(\\theta\\right) - \\operatorname{sin}\\left(\\theta\\right) \\operatorname{cos}\\left(\\beta\\right)\\right) \\dot{\\phi} \\dot{\\theta} + \\ddot{\\Psi})\\mathbf{\\hat{xyz}_z}$$"
      ],
      "text/plain": [
       "⎛\n",
       "⎜                                       d        d\n",
       "⎜(-sin(β)⋅sin(θ(t)) + cos(β)⋅cos(θ(t)))⋅──(φ(t))⋅──(θ(t)) + (sin(β)⋅cos(θ(t))\n",
       "⎜                                       dt       dt\n",
       "⎝\n",
       "\n",
       "                      2                          ⎞         ⎛\n",
       "                     d          d        d       ⎟         ⎜\n",
       "+ sin(θ(t))⋅cos(β))⋅───(φ(t)) - ──(Ψ(t))⋅──(θ(t))⎟ xyz_x + ⎜- (-sin(β)⋅cos(θ(t\n",
       "                      2         dt       dt      ⎟         ⎜\n",
       "                    dt                           ⎠         ⎝\n",
       "\n",
       "                                             2      ⎞         ⎛\n",
       "                       d        d           d       ⎟         ⎜\n",
       ")) - sin(θ(t))⋅cos(β))⋅──(Ψ(t))⋅──(φ(t)) + ───(θ(t))⎟ xyz_y + ⎜(-sin(β)⋅sin(θ(\n",
       "                       dt       dt           2      ⎟         ⎜\n",
       "                                           dt       ⎠         ⎝\n",
       "\n",
       "                          2\n",
       "                         d                                                 d\n",
       "t)) + cos(β)⋅cos(θ(t)))⋅───(φ(t)) + (-sin(β)⋅cos(θ(t)) - sin(θ(t))⋅cos(β))⋅──(\n",
       "                          2                                                dt\n",
       "                        dt\n",
       "\n",
       "                   2      ⎞\n",
       "      d           d       ⎟\n",
       "φ(t))⋅──(θ(t)) + ───(Ψ(t))⎟ xyz_z\n",
       "      dt           2      ⎟\n",
       "                 dt       ⎠"
      ]
     },
     "execution_count": 11,
     "metadata": {},
     "output_type": "execute_result"
    }
   ],
   "source": [
    "# Express in the XYZ frame\n",
    "w_disk.ang_acc_in(N).express(XYZ)"
   ]
  },
  {
   "cell_type": "code",
   "execution_count": 12,
   "metadata": {},
   "outputs": [
    {
     "data": {
      "image/png": "[encoded data removed]",
      "text/latex": [
       "$$(- \\left(- \\operatorname{sin}\\left(\\beta\\right) \\operatorname{sin}\\left(\\theta\\right) + \\operatorname{cos}\\left(\\beta\\right) \\operatorname{cos}\\left(\\theta\\right)\\right) \\dot{\\Psi} \\dot{\\theta} + \\left(- \\operatorname{sin}\\left(\\beta\\right) \\operatorname{cos}\\left(\\theta\\right) - \\operatorname{sin}\\left(\\theta\\right) \\operatorname{cos}\\left(\\beta\\right)\\right) \\ddot{\\Psi} + \\dot{\\phi} \\dot{\\theta})\\mathbf{\\hat{xyz}_x} + (- \\left(- \\operatorname{sin}\\left(\\beta\\right) \\operatorname{cos}\\left(\\theta\\right) - \\operatorname{sin}\\left(\\theta\\right) \\operatorname{cos}\\left(\\beta\\right)\\right) \\dot{\\Psi} \\dot{\\phi} + \\ddot{\\theta})\\mathbf{\\hat{xyz}_y} + (\\left(- \\operatorname{sin}\\left(\\beta\\right) \\operatorname{sin}\\left(\\theta\\right) + \\operatorname{cos}\\left(\\beta\\right) \\operatorname{cos}\\left(\\theta\\right)\\right) \\ddot{\\Psi} - \\left(\\operatorname{sin}\\left(\\beta\\right) \\operatorname{cos}\\left(\\theta\\right) + \\operatorname{sin}\\left(\\theta\\right) \\operatorname{cos}\\left(\\beta\\right)\\right) \\dot{\\Psi} \\dot{\\theta} + \\ddot{\\phi})\\mathbf{\\hat{xyz}_z}$$"
      ],
      "text/plain": [
       "⎛\n",
       "⎜                                         d        d\n",
       "⎜- (-sin(β)⋅sin(θ(t)) + cos(β)⋅cos(θ(t)))⋅──(Ψ(t))⋅──(θ(t)) + (-sin(β)⋅cos(θ(t\n",
       "⎜                                         dt       dt\n",
       "⎝\n",
       "\n",
       "                         2                          ⎞         ⎛\n",
       "                        d          d        d       ⎟         ⎜\n",
       ")) - sin(θ(t))⋅cos(β))⋅───(Ψ(t)) + ──(φ(t))⋅──(θ(t))⎟ xyz_x + ⎜- (-sin(β)⋅cos(\n",
       "                         2         dt       dt      ⎟         ⎜\n",
       "                       dt                           ⎠         ⎝\n",
       "\n",
       "                                                2      ⎞         ⎛\n",
       "                          d        d           d       ⎟         ⎜\n",
       "θ(t)) - sin(θ(t))⋅cos(β))⋅──(Ψ(t))⋅──(φ(t)) + ───(θ(t))⎟ xyz_y + ⎜(-sin(β)⋅sin\n",
       "                          dt       dt           2      ⎟         ⎜\n",
       "                                              dt       ⎠         ⎝\n",
       "\n",
       "                             2\n",
       "                            d                                                d\n",
       "(θ(t)) + cos(β)⋅cos(θ(t)))⋅───(Ψ(t)) - (sin(β)⋅cos(θ(t)) + sin(θ(t))⋅cos(β))⋅─\n",
       "                             2                                               d\n",
       "                           dt\n",
       "\n",
       "                     2      ⎞\n",
       "        d           d       ⎟\n",
       "─(Ψ(t))⋅──(θ(t)) + ───(φ(t))⎟ xyz_z\n",
       "t       dt           2      ⎟\n",
       "                   dt       ⎠"
      ]
     },
     "execution_count": 12,
     "metadata": {},
     "output_type": "execute_result"
    }
   ],
   "source": [
    "# or the xyz frame\n",
    "w_disk.ang_acc_in(N).express(xyz)"
   ]
  },
  {
   "cell_type": "markdown",
   "metadata": {},
   "source": [
    "### Part b."
   ]
  },
  {
   "cell_type": "code",
   "execution_count": 13,
   "metadata": {},
   "outputs": [
    {
     "data": {
      "image/png": "[encoded data removed]",
      "text/latex": [
       "$$(L_{1} \\operatorname{cos}\\left(\\theta\\right) \\dot{\\theta} + L_{2} \\left(- \\operatorname{sin}\\left(\\beta\\right) \\operatorname{sin}\\left(\\theta\\right) + \\operatorname{cos}\\left(\\beta\\right) \\operatorname{cos}\\left(\\theta\\right)\\right) \\dot{\\theta} + R \\left(\\operatorname{sin}\\left(\\beta\\right) \\operatorname{cos}\\left(\\theta\\right) + \\operatorname{sin}\\left(\\theta\\right) \\operatorname{cos}\\left(\\beta\\right)\\right) \\dot{\\theta})\\mathbf{\\hat{xyz}_x} + (L_{1} \\operatorname{sin}\\left(\\theta\\right) \\dot{\\Psi} - L_{2} \\left(- \\operatorname{sin}\\left(\\beta\\right) \\operatorname{cos}\\left(\\theta\\right) - \\operatorname{sin}\\left(\\theta\\right) \\operatorname{cos}\\left(\\beta\\right)\\right) \\dot{\\Psi} - R \\left(\\left(- \\operatorname{sin}\\left(\\beta\\right) \\operatorname{sin}\\left(\\theta\\right) + \\operatorname{cos}\\left(\\beta\\right) \\operatorname{cos}\\left(\\theta\\right)\\right) \\dot{\\Psi} + \\dot{\\phi}\\right))\\mathbf{\\hat{xyz}_y} + (- L_{1} \\operatorname{sin}\\left(\\theta\\right) \\dot{\\theta} + L_{2} \\left(- \\operatorname{sin}\\left(\\beta\\right) \\operatorname{cos}\\left(\\theta\\right) - \\operatorname{sin}\\left(\\theta\\right) \\operatorname{cos}\\left(\\beta\\right)\\right) \\dot{\\theta} + R \\left(- \\operatorname{sin}\\left(\\beta\\right) \\operatorname{sin}\\left(\\theta\\right) + \\operatorname{cos}\\left(\\beta\\right) \\operatorname{cos}\\left(\\theta\\right)\\right) \\dot{\\theta})\\mathbf{\\hat{xyz}_z}$$"
      ],
      "text/plain": [
       "⎛             d                                                    d\n",
       "⎜L₁⋅cos(θ(t))⋅──(θ(t)) + L₂⋅(-sin(β)⋅sin(θ(t)) + cos(β)⋅cos(θ(t)))⋅──(θ(t)) +\n",
       "⎝             dt                                                   dt\n",
       "\n",
       "                                        d       ⎞         ⎛             d\n",
       "R⋅(sin(β)⋅cos(θ(t)) + sin(θ(t))⋅cos(β))⋅──(θ(t))⎟ xyz_x + ⎜L₁⋅sin(θ(t))⋅──(Ψ(t\n",
       "                                        dt      ⎠         ⎝             dt\n",
       "\n",
       "                                               d            ⎛\n",
       ")) - L₂⋅(-sin(β)⋅cos(θ(t)) - sin(θ(t))⋅cos(β))⋅──(Ψ(t)) - R⋅⎜(-sin(β)⋅sin(θ(t)\n",
       "                                               dt           ⎝\n",
       "\n",
       "                      d          d       ⎞⎞         ⎛               d\n",
       ") + cos(β)⋅cos(θ(t)))⋅──(Ψ(t)) + ──(φ(t))⎟⎟ xyz_y + ⎜- L₁⋅sin(θ(t))⋅──(θ(t)) +\n",
       "                      dt         dt      ⎠⎠         ⎝               dt\n",
       "\n",
       "                                           d\n",
       " L₂⋅(-sin(β)⋅cos(θ(t)) - sin(θ(t))⋅cos(β))⋅──(θ(t)) + R⋅(-sin(β)⋅sin(θ(t)) + c\n",
       "                                           dt\n",
       "\n",
       "                 d       ⎞\n",
       "os(β)⋅cos(θ(t)))⋅──(θ(t))⎟ xyz_z\n",
       "                 dt      ⎠"
      ]
     },
     "execution_count": 13,
     "metadata": {},
     "output_type": "execute_result"
    }
   ],
   "source": [
    "# Define point A and its velocity\n",
    "A = Point('A')\n",
    "A.set_vel(N, 0 * N.x)\n",
    "\n",
    "# Define point B and set its velocity. Locate it relative to A\n",
    "B = A.locatenew('B', L1 * prime.z)\n",
    "B.v2pt_theory(A, N, prime)\n",
    "\n",
    "# Define point C and set its velocity. Locate it relative to C\n",
    "C = B.locatenew('C', L2 * xyz.z)\n",
    "C.v2pt_theory(B, N, xyz)\n",
    "\n",
    "# Finally, we can define point D, locate it relative to C, get its velocity, and express it in the XYZ frame\n",
    "D = C.locatenew('D', -R * xyz.x)\n",
    "D.v2pt_theory(C, N, w_disk).express(XYZ)"
   ]
  },
  {
   "cell_type": "markdown",
   "metadata": {},
   "source": [
    "### Part c."
   ]
  },
  {
   "cell_type": "markdown",
   "metadata": {},
   "source": [
    "Once we have the velocity (and if we have define the motion variables properly), the acceleration is easy to get. As before, we can express it in any frame of our choosing."
   ]
  },
  {
   "cell_type": "code",
   "execution_count": 14,
   "metadata": {},
   "outputs": [
    {
     "data": {
      "image/png": "[encoded data removed]",
      "text/latex": [
       "$$(\\left(- \\operatorname{sin}\\left(\\beta\\right) \\operatorname{sin}\\left(\\theta\\right) + \\operatorname{cos}\\left(\\beta\\right) \\operatorname{cos}\\left(\\theta\\right)\\right) \\left(L_{2} \\ddot{\\theta} + R \\dot{\\theta}^{2} - \\left(- \\operatorname{sin}\\left(\\beta\\right) \\operatorname{sin}\\left(\\theta\\right) + \\operatorname{cos}\\left(\\beta\\right) \\operatorname{cos}\\left(\\theta\\right)\\right) \\left(- L_{2} \\left(- \\operatorname{sin}\\left(\\beta\\right) \\operatorname{cos}\\left(\\theta\\right) - \\operatorname{sin}\\left(\\theta\\right) \\operatorname{cos}\\left(\\beta\\right)\\right) \\dot{\\Psi} - R \\left(\\left(- \\operatorname{sin}\\left(\\beta\\right) \\operatorname{sin}\\left(\\theta\\right) + \\operatorname{cos}\\left(\\beta\\right) \\operatorname{cos}\\left(\\theta\\right)\\right) \\dot{\\Psi} + \\dot{\\phi}\\right)\\right) \\dot{\\Psi}\\right) \\operatorname{cos}\\left(\\Psi\\right) + \\left(\\operatorname{sin}\\left(\\beta\\right) \\operatorname{cos}\\left(\\theta\\right) + \\operatorname{sin}\\left(\\theta\\right) \\operatorname{cos}\\left(\\beta\\right)\\right) \\left(- L_{2} \\dot{\\theta}^{2} + R \\ddot{\\theta} + \\left(- \\operatorname{sin}\\left(\\beta\\right) \\operatorname{cos}\\left(\\theta\\right) - \\operatorname{sin}\\left(\\theta\\right) \\operatorname{cos}\\left(\\beta\\right)\\right) \\left(- L_{2} \\left(- \\operatorname{sin}\\left(\\beta\\right) \\operatorname{cos}\\left(\\theta\\right) - \\operatorname{sin}\\left(\\theta\\right) \\operatorname{cos}\\left(\\beta\\right)\\right) \\dot{\\Psi} - R \\left(\\left(- \\operatorname{sin}\\left(\\beta\\right) \\operatorname{sin}\\left(\\theta\\right) + \\operatorname{cos}\\left(\\beta\\right) \\operatorname{cos}\\left(\\theta\\right)\\right) \\dot{\\Psi} + \\dot{\\phi}\\right)\\right) \\dot{\\Psi}\\right) \\operatorname{cos}\\left(\\Psi\\right) - \\left(L_{1} \\operatorname{sin}\\left(\\theta\\right) \\ddot{\\Psi} + 2 L_{1} \\operatorname{cos}\\left(\\theta\\right) \\dot{\\Psi} \\dot{\\theta}\\right) \\operatorname{sin}\\left(\\Psi\\right) + \\left(- L_{1} \\operatorname{sin}^{2}\\left(\\theta\\right) \\dot{\\Psi}^{2} - L_{1} \\dot{\\theta}^{2}\\right) \\operatorname{sin}\\left(\\theta\\right) \\operatorname{cos}\\left(\\Psi\\right) + \\left(- L_{1} \\operatorname{sin}\\left(\\theta\\right) \\operatorname{cos}\\left(\\theta\\right) \\dot{\\Psi}^{2} + L_{1} \\ddot{\\theta}\\right) \\operatorname{cos}\\left(\\Psi\\right) \\operatorname{cos}\\left(\\theta\\right) - \\left(L_{2} \\left(- \\operatorname{sin}\\left(\\beta\\right) \\operatorname{sin}\\left(\\theta\\right) + \\operatorname{cos}\\left(\\beta\\right) \\operatorname{cos}\\left(\\theta\\right)\\right) \\dot{\\Psi} \\dot{\\theta} - L_{2} \\left(- \\operatorname{sin}\\left(\\beta\\right) \\operatorname{cos}\\left(\\theta\\right) - \\operatorname{sin}\\left(\\theta\\right) \\operatorname{cos}\\left(\\beta\\right)\\right) \\ddot{\\Psi} - L_{2} \\left(\\operatorname{sin}\\left(\\beta\\right) \\operatorname{sin}\\left(\\theta\\right) \\dot{\\theta} - \\operatorname{cos}\\left(\\beta\\right) \\operatorname{cos}\\left(\\theta\\right) \\dot{\\theta}\\right) \\dot{\\Psi} - R \\left(- \\operatorname{sin}\\left(\\beta\\right) \\operatorname{cos}\\left(\\theta\\right) - \\operatorname{sin}\\left(\\theta\\right) \\operatorname{cos}\\left(\\beta\\right)\\right) \\dot{\\Psi} \\dot{\\theta} - R \\left(\\left(- \\operatorname{sin}\\left(\\beta\\right) \\operatorname{sin}\\left(\\theta\\right) + \\operatorname{cos}\\left(\\beta\\right) \\operatorname{cos}\\left(\\theta\\right)\\right) \\ddot{\\Psi} + \\left(- \\operatorname{sin}\\left(\\beta\\right) \\operatorname{cos}\\left(\\theta\\right) \\dot{\\theta} - \\operatorname{sin}\\left(\\theta\\right) \\operatorname{cos}\\left(\\beta\\right) \\dot{\\theta}\\right) \\dot{\\Psi} + \\ddot{\\phi}\\right)\\right) \\operatorname{sin}\\left(\\Psi\\right))\\mathbf{\\hat{n}_x} + (\\left(- \\operatorname{sin}\\left(\\beta\\right) \\operatorname{sin}\\left(\\theta\\right) + \\operatorname{cos}\\left(\\beta\\right) \\operatorname{cos}\\left(\\theta\\right)\\right) \\left(L_{2} \\ddot{\\theta} + R \\dot{\\theta}^{2} - \\left(- \\operatorname{sin}\\left(\\beta\\right) \\operatorname{sin}\\left(\\theta\\right) + \\operatorname{cos}\\left(\\beta\\right) \\operatorname{cos}\\left(\\theta\\right)\\right) \\left(- L_{2} \\left(- \\operatorname{sin}\\left(\\beta\\right) \\operatorname{cos}\\left(\\theta\\right) - \\operatorname{sin}\\left(\\theta\\right) \\operatorname{cos}\\left(\\beta\\right)\\right) \\dot{\\Psi} - R \\left(\\left(- \\operatorname{sin}\\left(\\beta\\right) \\operatorname{sin}\\left(\\theta\\right) + \\operatorname{cos}\\left(\\beta\\right) \\operatorname{cos}\\left(\\theta\\right)\\right) \\dot{\\Psi} + \\dot{\\phi}\\right)\\right) \\dot{\\Psi}\\right) \\operatorname{sin}\\left(\\Psi\\right) + \\left(\\operatorname{sin}\\left(\\beta\\right) \\operatorname{cos}\\left(\\theta\\right) + \\operatorname{sin}\\left(\\theta\\right) \\operatorname{cos}\\left(\\beta\\right)\\right) \\left(- L_{2} \\dot{\\theta}^{2} + R \\ddot{\\theta} + \\left(- \\operatorname{sin}\\left(\\beta\\right) \\operatorname{cos}\\left(\\theta\\right) - \\operatorname{sin}\\left(\\theta\\right) \\operatorname{cos}\\left(\\beta\\right)\\right) \\left(- L_{2} \\left(- \\operatorname{sin}\\left(\\beta\\right) \\operatorname{cos}\\left(\\theta\\right) - \\operatorname{sin}\\left(\\theta\\right) \\operatorname{cos}\\left(\\beta\\right)\\right) \\dot{\\Psi} - R \\left(\\left(- \\operatorname{sin}\\left(\\beta\\right) \\operatorname{sin}\\left(\\theta\\right) + \\operatorname{cos}\\left(\\beta\\right) \\operatorname{cos}\\left(\\theta\\right)\\right) \\dot{\\Psi} + \\dot{\\phi}\\right)\\right) \\dot{\\Psi}\\right) \\operatorname{sin}\\left(\\Psi\\right) + \\left(L_{1} \\operatorname{sin}\\left(\\theta\\right) \\ddot{\\Psi} + 2 L_{1} \\operatorname{cos}\\left(\\theta\\right) \\dot{\\Psi} \\dot{\\theta}\\right) \\operatorname{cos}\\left(\\Psi\\right) + \\left(- L_{1} \\operatorname{sin}^{2}\\left(\\theta\\right) \\dot{\\Psi}^{2} - L_{1} \\dot{\\theta}^{2}\\right) \\operatorname{sin}\\left(\\Psi\\right) \\operatorname{sin}\\left(\\theta\\right) + \\left(- L_{1} \\operatorname{sin}\\left(\\theta\\right) \\operatorname{cos}\\left(\\theta\\right) \\dot{\\Psi}^{2} + L_{1} \\ddot{\\theta}\\right) \\operatorname{sin}\\left(\\Psi\\right) \\operatorname{cos}\\left(\\theta\\right) + \\left(L_{2} \\left(- \\operatorname{sin}\\left(\\beta\\right) \\operatorname{sin}\\left(\\theta\\right) + \\operatorname{cos}\\left(\\beta\\right) \\operatorname{cos}\\left(\\theta\\right)\\right) \\dot{\\Psi} \\dot{\\theta} - L_{2} \\left(- \\operatorname{sin}\\left(\\beta\\right) \\operatorname{cos}\\left(\\theta\\right) - \\operatorname{sin}\\left(\\theta\\right) \\operatorname{cos}\\left(\\beta\\right)\\right) \\ddot{\\Psi} - L_{2} \\left(\\operatorname{sin}\\left(\\beta\\right) \\operatorname{sin}\\left(\\theta\\right) \\dot{\\theta} - \\operatorname{cos}\\left(\\beta\\right) \\operatorname{cos}\\left(\\theta\\right) \\dot{\\theta}\\right) \\dot{\\Psi} - R \\left(- \\operatorname{sin}\\left(\\beta\\right) \\operatorname{cos}\\left(\\theta\\right) - \\operatorname{sin}\\left(\\theta\\right) \\operatorname{cos}\\left(\\beta\\right)\\right) \\dot{\\Psi} \\dot{\\theta} - R \\left(\\left(- \\operatorname{sin}\\left(\\beta\\right) \\operatorname{sin}\\left(\\theta\\right) + \\operatorname{cos}\\left(\\beta\\right) \\operatorname{cos}\\left(\\theta\\right)\\right) \\ddot{\\Psi} + \\left(- \\operatorname{sin}\\left(\\beta\\right) \\operatorname{cos}\\left(\\theta\\right) \\dot{\\theta} - \\operatorname{sin}\\left(\\theta\\right) \\operatorname{cos}\\left(\\beta\\right) \\dot{\\theta}\\right) \\dot{\\Psi} + \\ddot{\\phi}\\right)\\right) \\operatorname{cos}\\left(\\Psi\\right))\\mathbf{\\hat{n}_y} + (\\left(- \\operatorname{sin}\\left(\\beta\\right) \\operatorname{sin}\\left(\\theta\\right) + \\operatorname{cos}\\left(\\beta\\right) \\operatorname{cos}\\left(\\theta\\right)\\right) \\left(- L_{2} \\dot{\\theta}^{2} + R \\ddot{\\theta} + \\left(- \\operatorname{sin}\\left(\\beta\\right) \\operatorname{cos}\\left(\\theta\\right) - \\operatorname{sin}\\left(\\theta\\right) \\operatorname{cos}\\left(\\beta\\right)\\right) \\left(- L_{2} \\left(- \\operatorname{sin}\\left(\\beta\\right) \\operatorname{cos}\\left(\\theta\\right) - \\operatorname{sin}\\left(\\theta\\right) \\operatorname{cos}\\left(\\beta\\right)\\right) \\dot{\\Psi} - R \\left(\\left(- \\operatorname{sin}\\left(\\beta\\right) \\operatorname{sin}\\left(\\theta\\right) + \\operatorname{cos}\\left(\\beta\\right) \\operatorname{cos}\\left(\\theta\\right)\\right) \\dot{\\Psi} + \\dot{\\phi}\\right)\\right) \\dot{\\Psi}\\right) + \\left(- \\operatorname{sin}\\left(\\beta\\right) \\operatorname{cos}\\left(\\theta\\right) - \\operatorname{sin}\\left(\\theta\\right) \\operatorname{cos}\\left(\\beta\\right)\\right) \\left(L_{2} \\ddot{\\theta} + R \\dot{\\theta}^{2} - \\left(- \\operatorname{sin}\\left(\\beta\\right) \\operatorname{sin}\\left(\\theta\\right) + \\operatorname{cos}\\left(\\beta\\right) \\operatorname{cos}\\left(\\theta\\right)\\right) \\left(- L_{2} \\left(- \\operatorname{sin}\\left(\\beta\\right) \\operatorname{cos}\\left(\\theta\\right) - \\operatorname{sin}\\left(\\theta\\right) \\operatorname{cos}\\left(\\beta\\right)\\right) \\dot{\\Psi} - R \\left(\\left(- \\operatorname{sin}\\left(\\beta\\right) \\operatorname{sin}\\left(\\theta\\right) + \\operatorname{cos}\\left(\\beta\\right) \\operatorname{cos}\\left(\\theta\\right)\\right) \\dot{\\Psi} + \\dot{\\phi}\\right)\\right) \\dot{\\Psi}\\right) + \\left(- L_{1} \\operatorname{sin}^{2}\\left(\\theta\\right) \\dot{\\Psi}^{2} - L_{1} \\dot{\\theta}^{2}\\right) \\operatorname{cos}\\left(\\theta\\right) - \\left(- L_{1} \\operatorname{sin}\\left(\\theta\\right) \\operatorname{cos}\\left(\\theta\\right) \\dot{\\Psi}^{2} + L_{1} \\ddot{\\theta}\\right) \\operatorname{sin}\\left(\\theta\\right))\\mathbf{\\hat{n}_z}$$"
      ],
      "text/plain": [
       "⎛                                       ⎛     2                     2\n",
       "⎜                                       ⎜    d            ⎛d       ⎞\n",
       "⎜(-sin(β)⋅sin(θ(t)) + cos(β)⋅cos(θ(t)))⋅⎜L₂⋅───(θ(t)) + R⋅⎜──(θ(t))⎟  - (-sin(\n",
       "⎜                                       ⎜     2           ⎝dt      ⎠\n",
       "⎝                                       ⎝   dt\n",
       "\n",
       "\n",
       "                                 ⎛\n",
       "β)⋅sin(θ(t)) + cos(β)⋅cos(θ(t)))⋅⎜- L₂⋅(-sin(β)⋅cos(θ(t)) - sin(θ(t))⋅cos(β))⋅\n",
       "                                 ⎝\n",
       "\n",
       "\n",
       "\n",
       "d            ⎛                                       d          d       ⎞⎞ d\n",
       "──(Ψ(t)) - R⋅⎜(-sin(β)⋅sin(θ(t)) + cos(β)⋅cos(θ(t)))⋅──(Ψ(t)) + ──(φ(t))⎟⎟⋅──(\n",
       "dt           ⎝                                       dt         dt      ⎠⎠ dt\n",
       "\n",
       "\n",
       "     ⎞                                                   ⎛               2\n",
       "     ⎟                                                   ⎜     ⎛d       ⎞\n",
       "Ψ(t))⎟⋅cos(Ψ(t)) + (sin(β)⋅cos(θ(t)) + sin(θ(t))⋅cos(β))⋅⎜- L₂⋅⎜──(θ(t))⎟  + R\n",
       "     ⎟                                                   ⎜     ⎝dt      ⎠\n",
       "     ⎠                                                   ⎝\n",
       "\n",
       "   2\n",
       "  d                                                 ⎛\n",
       "⋅───(θ(t)) + (-sin(β)⋅cos(θ(t)) - sin(θ(t))⋅cos(β))⋅⎜- L₂⋅(-sin(β)⋅cos(θ(t)) -\n",
       "   2                                                ⎝\n",
       " dt\n",
       "\n",
       "\n",
       "                   d            ⎛                                       d\n",
       " sin(θ(t))⋅cos(β))⋅──(Ψ(t)) - R⋅⎜(-sin(β)⋅sin(θ(t)) + cos(β)⋅cos(θ(t)))⋅──(Ψ(t\n",
       "                   dt           ⎝                                       dt\n",
       "\n",
       "\n",
       "                        ⎞             ⎛               2\n",
       "     d       ⎞⎞ d       ⎟             ⎜              d\n",
       ")) + ──(φ(t))⎟⎟⋅──(Ψ(t))⎟⋅cos(Ψ(t)) - ⎜L₁⋅sin(θ(t))⋅───(Ψ(t)) + 2⋅L₁⋅cos(θ(t))\n",
       "     dt      ⎠⎠ dt      ⎟             ⎜               2\n",
       "                        ⎠             ⎝             dt\n",
       "\n",
       "                  ⎞             ⎛                          2                2⎞\n",
       " d        d       ⎟             ⎜        2       ⎛d       ⎞       ⎛d       ⎞ ⎟\n",
       "⋅──(Ψ(t))⋅──(θ(t))⎟⋅sin(Ψ(t)) + ⎜- L₁⋅sin (θ(t))⋅⎜──(Ψ(t))⎟  - L₁⋅⎜──(θ(t))⎟ ⎟\n",
       " dt       dt      ⎟             ⎝                ⎝dt      ⎠       ⎝dt      ⎠ ⎠\n",
       "                  ⎠\n",
       "\n",
       "                       ⎛                                   2        2      ⎞\n",
       "                       ⎜                         ⎛d       ⎞        d       ⎟\n",
       "⋅sin(θ(t))⋅cos(Ψ(t)) + ⎜- L₁⋅sin(θ(t))⋅cos(θ(t))⋅⎜──(Ψ(t))⎟  + L₁⋅───(θ(t))⎟⋅c\n",
       "                       ⎜                         ⎝dt      ⎠         2      ⎟\n",
       "                       ⎝                                          dt       ⎠\n",
       "\n",
       "                     ⎛\n",
       "                     ⎜                                          d        d\n",
       "os(Ψ(t))⋅cos(θ(t)) - ⎜L₂⋅(-sin(β)⋅sin(θ(t)) + cos(β)⋅cos(θ(t)))⋅──(Ψ(t))⋅──(θ(\n",
       "                     ⎜                                          dt       dt\n",
       "                     ⎝\n",
       "\n",
       "                                                  2\n",
       "                                                 d             ⎛\n",
       "t)) - L₂⋅(-sin(β)⋅cos(θ(t)) - sin(θ(t))⋅cos(β))⋅───(Ψ(t)) - L₂⋅⎜sin(β)⋅sin(θ(t\n",
       "                                                  2            ⎝\n",
       "                                                dt\n",
       "\n",
       "\n",
       "   d                           d       ⎞ d\n",
       "))⋅──(θ(t)) - cos(β)⋅cos(θ(t))⋅──(θ(t))⎟⋅──(Ψ(t)) - R⋅(-sin(β)⋅cos(θ(t)) - sin\n",
       "   dt                          dt      ⎠ dt\n",
       "\n",
       "\n",
       "                                     ⎛\n",
       "               d        d            ⎜\n",
       "(θ(t))⋅cos(β))⋅──(Ψ(t))⋅──(θ(t)) - R⋅⎜(-sin(β)⋅sin(θ(t)) + cos(β)⋅cos(θ(t)))⋅─\n",
       "               dt       dt           ⎜\n",
       "                                     ⎝                                       d\n",
       "\n",
       " 2\n",
       "d          ⎛                   d                           d       ⎞ d\n",
       "──(Ψ(t)) + ⎜- sin(β)⋅cos(θ(t))⋅──(θ(t)) - sin(θ(t))⋅cos(β)⋅──(θ(t))⎟⋅──(Ψ(t))\n",
       " 2         ⎝                   dt                          dt      ⎠ dt\n",
       "t\n",
       "\n",
       "    2      ⎞⎞          ⎞       ⎛                                       ⎛     2\n",
       "   d       ⎟⎟          ⎟       ⎜                                       ⎜    d\n",
       "+ ───(φ(t))⎟⎟⋅sin(Ψ(t))⎟ n_x + ⎜(-sin(β)⋅sin(θ(t)) + cos(β)⋅cos(θ(t)))⋅⎜L₂⋅───\n",
       "    2      ⎟⎟          ⎟       ⎜                                       ⎜     2\n",
       "  dt       ⎠⎠          ⎠       ⎝                                       ⎝   dt\n",
       "\n",
       "                     2\n",
       "           ⎛d       ⎞                                           ⎛\n",
       "(θ(t)) + R⋅⎜──(θ(t))⎟  - (-sin(β)⋅sin(θ(t)) + cos(β)⋅cos(θ(t)))⋅⎜- L₂⋅(-sin(β)\n",
       "           ⎝dt      ⎠                                           ⎝\n",
       "\n",
       "\n",
       "\n",
       "                               d            ⎛\n",
       "⋅cos(θ(t)) - sin(θ(t))⋅cos(β))⋅──(Ψ(t)) - R⋅⎜(-sin(β)⋅sin(θ(t)) + cos(β)⋅cos(θ\n",
       "                               dt           ⎝\n",
       "\n",
       "\n",
       "                                    ⎞\n",
       "      d          d       ⎞⎞ d       ⎟\n",
       "(t)))⋅──(Ψ(t)) + ──(φ(t))⎟⎟⋅──(Ψ(t))⎟⋅sin(Ψ(t)) + (sin(β)⋅cos(θ(t)) + sin(θ(t)\n",
       "      dt         dt      ⎠⎠ dt      ⎟\n",
       "                                    ⎠\n",
       "\n",
       "          ⎛               2       2\n",
       "          ⎜     ⎛d       ⎞       d\n",
       ")⋅cos(β))⋅⎜- L₂⋅⎜──(θ(t))⎟  + R⋅───(θ(t)) + (-sin(β)⋅cos(θ(t)) - sin(θ(t))⋅cos\n",
       "          ⎜     ⎝dt      ⎠        2\n",
       "          ⎝                     dt\n",
       "\n",
       "\n",
       "     ⎛                                            d            ⎛\n",
       "(β))⋅⎜- L₂⋅(-sin(β)⋅cos(θ(t)) - sin(θ(t))⋅cos(β))⋅──(Ψ(t)) - R⋅⎜(-sin(β)⋅sin(θ\n",
       "     ⎝                                            dt           ⎝\n",
       "\n",
       "\n",
       "                                                       ⎞             ⎛\n",
       "                         d          d       ⎞⎞ d       ⎟             ⎜\n",
       "(t)) + cos(β)⋅cos(θ(t)))⋅──(Ψ(t)) + ──(φ(t))⎟⎟⋅──(Ψ(t))⎟⋅sin(Ψ(t)) + ⎜L₁⋅sin(θ\n",
       "                         dt         dt      ⎠⎠ dt      ⎟             ⎜\n",
       "                                                       ⎠             ⎝\n",
       "\n",
       "       2                                         ⎞             ⎛\n",
       "      d                         d        d       ⎟             ⎜        2\n",
       "(t))⋅───(Ψ(t)) + 2⋅L₁⋅cos(θ(t))⋅──(Ψ(t))⋅──(θ(t))⎟⋅cos(Ψ(t)) + ⎜- L₁⋅sin (θ(t)\n",
       "       2                        dt       dt      ⎟             ⎝\n",
       "     dt                                          ⎠\n",
       "\n",
       "            2                2⎞                       ⎛\n",
       "  ⎛d       ⎞       ⎛d       ⎞ ⎟                       ⎜\n",
       ")⋅⎜──(Ψ(t))⎟  - L₁⋅⎜──(θ(t))⎟ ⎟⋅sin(Ψ(t))⋅sin(θ(t)) + ⎜- L₁⋅sin(θ(t))⋅cos(θ(t)\n",
       "  ⎝dt      ⎠       ⎝dt      ⎠ ⎠                       ⎜\n",
       "                                                      ⎝\n",
       "\n",
       "            2        2      ⎞                       ⎛\n",
       "  ⎛d       ⎞        d       ⎟                       ⎜\n",
       ")⋅⎜──(Ψ(t))⎟  + L₁⋅───(θ(t))⎟⋅sin(Ψ(t))⋅cos(θ(t)) + ⎜L₂⋅(-sin(β)⋅sin(θ(t)) + c\n",
       "  ⎝dt      ⎠         2      ⎟                       ⎜\n",
       "                   dt       ⎠                       ⎝\n",
       "\n",
       "\n",
       "                 d        d\n",
       "os(β)⋅cos(θ(t)))⋅──(Ψ(t))⋅──(θ(t)) - L₂⋅(-sin(β)⋅cos(θ(t)) - sin(θ(t))⋅cos(β))\n",
       "                 dt       dt\n",
       "\n",
       "\n",
       "   2\n",
       "  d             ⎛                 d                           d       ⎞ d\n",
       "⋅───(Ψ(t)) - L₂⋅⎜sin(β)⋅sin(θ(t))⋅──(θ(t)) - cos(β)⋅cos(θ(t))⋅──(θ(t))⎟⋅──(Ψ(t\n",
       "   2            ⎝                 dt                          dt      ⎠ dt\n",
       " dt\n",
       "\n",
       "                                                                    ⎛\n",
       "                                              d        d            ⎜\n",
       ")) - R⋅(-sin(β)⋅cos(θ(t)) - sin(θ(t))⋅cos(β))⋅──(Ψ(t))⋅──(θ(t)) - R⋅⎜(-sin(β)⋅\n",
       "                                              dt       dt           ⎜\n",
       "                                                                    ⎝\n",
       "\n",
       "                                2\n",
       "                               d          ⎛                   d\n",
       "sin(θ(t)) + cos(β)⋅cos(θ(t)))⋅───(Ψ(t)) + ⎜- sin(β)⋅cos(θ(t))⋅──(θ(t)) - sin(θ\n",
       "                                2         ⎝                   dt\n",
       "                              dt\n",
       "\n",
       "                                   2      ⎞⎞          ⎞       ⎛\n",
       "            d       ⎞ d           d       ⎟⎟          ⎟       ⎜\n",
       "(t))⋅cos(β)⋅──(θ(t))⎟⋅──(Ψ(t)) + ───(φ(t))⎟⎟⋅cos(Ψ(t))⎟ n_y + ⎜(-sin(β)⋅sin(θ(\n",
       "            dt      ⎠ dt           2      ⎟⎟          ⎟       ⎜\n",
       "                                 dt       ⎠⎠          ⎠       ⎝\n",
       "\n",
       "                        ⎛               2       2\n",
       "                        ⎜     ⎛d       ⎞       d\n",
       "t)) + cos(β)⋅cos(θ(t)))⋅⎜- L₂⋅⎜──(θ(t))⎟  + R⋅───(θ(t)) + (-sin(β)⋅cos(θ(t)) -\n",
       "                        ⎜     ⎝dt      ⎠        2\n",
       "                        ⎝                     dt\n",
       "\n",
       "\n",
       "                   ⎛                                            d            ⎛\n",
       " sin(θ(t))⋅cos(β))⋅⎜- L₂⋅(-sin(β)⋅cos(θ(t)) - sin(θ(t))⋅cos(β))⋅──(Ψ(t)) - R⋅⎜\n",
       "                   ⎝                                            dt           ⎝\n",
       "\n",
       "\n",
       "                                                                     ⎞\n",
       "                                       d          d       ⎞⎞ d       ⎟\n",
       "(-sin(β)⋅sin(θ(t)) + cos(β)⋅cos(θ(t)))⋅──(Ψ(t)) + ──(φ(t))⎟⎟⋅──(Ψ(t))⎟ + (-sin\n",
       "                                       dt         dt      ⎠⎠ dt      ⎟\n",
       "                                                                     ⎠\n",
       "\n",
       "                                  ⎛     2                     2\n",
       "                                  ⎜    d            ⎛d       ⎞\n",
       "(β)⋅cos(θ(t)) - sin(θ(t))⋅cos(β))⋅⎜L₂⋅───(θ(t)) + R⋅⎜──(θ(t))⎟  - (-sin(β)⋅sin\n",
       "                                  ⎜     2           ⎝dt      ⎠\n",
       "                                  ⎝   dt\n",
       "\n",
       "\n",
       "                           ⎛                                            d\n",
       "(θ(t)) + cos(β)⋅cos(θ(t)))⋅⎜- L₂⋅(-sin(β)⋅cos(θ(t)) - sin(θ(t))⋅cos(β))⋅──(Ψ(t\n",
       "                           ⎝                                            dt\n",
       "\n",
       "\n",
       "                                                                             ⎞\n",
       "       ⎛                                       d          d       ⎞⎞ d       ⎟\n",
       ")) - R⋅⎜(-sin(β)⋅sin(θ(t)) + cos(β)⋅cos(θ(t)))⋅──(Ψ(t)) + ──(φ(t))⎟⎟⋅──(Ψ(t))⎟\n",
       "       ⎝                                       dt         dt      ⎠⎠ dt      ⎟\n",
       "                                                                             ⎠\n",
       "\n",
       "   ⎛                          2                2⎞             ⎛\n",
       "   ⎜        2       ⎛d       ⎞       ⎛d       ⎞ ⎟             ⎜\n",
       " + ⎜- L₁⋅sin (θ(t))⋅⎜──(Ψ(t))⎟  - L₁⋅⎜──(θ(t))⎟ ⎟⋅cos(θ(t)) - ⎜- L₁⋅sin(θ(t))⋅\n",
       "   ⎝                ⎝dt      ⎠       ⎝dt      ⎠ ⎠             ⎜\n",
       "                                                              ⎝\n",
       "\n",
       "                    2        2      ⎞          ⎞\n",
       "          ⎛d       ⎞        d       ⎟          ⎟\n",
       "cos(θ(t))⋅⎜──(Ψ(t))⎟  + L₁⋅───(θ(t))⎟⋅sin(θ(t))⎟ n_z\n",
       "          ⎝dt      ⎠         2      ⎟          ⎟\n",
       "                           dt       ⎠          ⎠"
      ]
     },
     "execution_count": 14,
     "metadata": {},
     "output_type": "execute_result"
    }
   ],
   "source": [
    "# In the fixed frame\n",
    "D.acc(N).express(N)"
   ]
  },
  {
   "cell_type": "code",
   "execution_count": 15,
   "metadata": {},
   "outputs": [
    {
     "data": {
      "image/png": "[encoded data removed]",
      "text/latex": [
       "$$(\\left(- \\operatorname{sin}\\left(\\beta\\right) \\operatorname{sin}\\left(\\theta\\right) + \\operatorname{cos}\\left(\\beta\\right) \\operatorname{cos}\\left(\\theta\\right)\\right) \\left(L_{2} \\ddot{\\theta} + R \\dot{\\theta}^{2} - \\left(- \\operatorname{sin}\\left(\\beta\\right) \\operatorname{sin}\\left(\\theta\\right) + \\operatorname{cos}\\left(\\beta\\right) \\operatorname{cos}\\left(\\theta\\right)\\right) \\left(- L_{2} \\left(- \\operatorname{sin}\\left(\\beta\\right) \\operatorname{cos}\\left(\\theta\\right) - \\operatorname{sin}\\left(\\theta\\right) \\operatorname{cos}\\left(\\beta\\right)\\right) \\dot{\\Psi} - R \\left(\\left(- \\operatorname{sin}\\left(\\beta\\right) \\operatorname{sin}\\left(\\theta\\right) + \\operatorname{cos}\\left(\\beta\\right) \\operatorname{cos}\\left(\\theta\\right)\\right) \\dot{\\Psi} + \\dot{\\phi}\\right)\\right) \\dot{\\Psi}\\right) + \\left(\\operatorname{sin}\\left(\\beta\\right) \\operatorname{cos}\\left(\\theta\\right) + \\operatorname{sin}\\left(\\theta\\right) \\operatorname{cos}\\left(\\beta\\right)\\right) \\left(- L_{2} \\dot{\\theta}^{2} + R \\ddot{\\theta} + \\left(- \\operatorname{sin}\\left(\\beta\\right) \\operatorname{cos}\\left(\\theta\\right) - \\operatorname{sin}\\left(\\theta\\right) \\operatorname{cos}\\left(\\beta\\right)\\right) \\left(- L_{2} \\left(- \\operatorname{sin}\\left(\\beta\\right) \\operatorname{cos}\\left(\\theta\\right) - \\operatorname{sin}\\left(\\theta\\right) \\operatorname{cos}\\left(\\beta\\right)\\right) \\dot{\\Psi} - R \\left(\\left(- \\operatorname{sin}\\left(\\beta\\right) \\operatorname{sin}\\left(\\theta\\right) + \\operatorname{cos}\\left(\\beta\\right) \\operatorname{cos}\\left(\\theta\\right)\\right) \\dot{\\Psi} + \\dot{\\phi}\\right)\\right) \\dot{\\Psi}\\right) + \\left(- L_{1} \\operatorname{sin}^{2}\\left(\\theta\\right) \\dot{\\Psi}^{2} - L_{1} \\dot{\\theta}^{2}\\right) \\operatorname{sin}\\left(\\theta\\right) + \\left(- L_{1} \\operatorname{sin}\\left(\\theta\\right) \\operatorname{cos}\\left(\\theta\\right) \\dot{\\Psi}^{2} + L_{1} \\ddot{\\theta}\\right) \\operatorname{cos}\\left(\\theta\\right))\\mathbf{\\hat{xyz}_x} + (L_{1} \\operatorname{sin}\\left(\\theta\\right) \\ddot{\\Psi} + 2 L_{1} \\operatorname{cos}\\left(\\theta\\right) \\dot{\\Psi} \\dot{\\theta} + L_{2} \\left(- \\operatorname{sin}\\left(\\beta\\right) \\operatorname{sin}\\left(\\theta\\right) + \\operatorname{cos}\\left(\\beta\\right) \\operatorname{cos}\\left(\\theta\\right)\\right) \\dot{\\Psi} \\dot{\\theta} - L_{2} \\left(- \\operatorname{sin}\\left(\\beta\\right) \\operatorname{cos}\\left(\\theta\\right) - \\operatorname{sin}\\left(\\theta\\right) \\operatorname{cos}\\left(\\beta\\right)\\right) \\ddot{\\Psi} - L_{2} \\left(\\operatorname{sin}\\left(\\beta\\right) \\operatorname{sin}\\left(\\theta\\right) \\dot{\\theta} - \\operatorname{cos}\\left(\\beta\\right) \\operatorname{cos}\\left(\\theta\\right) \\dot{\\theta}\\right) \\dot{\\Psi} - R \\left(- \\operatorname{sin}\\left(\\beta\\right) \\operatorname{cos}\\left(\\theta\\right) - \\operatorname{sin}\\left(\\theta\\right) \\operatorname{cos}\\left(\\beta\\right)\\right) \\dot{\\Psi} \\dot{\\theta} - R \\left(\\left(- \\operatorname{sin}\\left(\\beta\\right) \\operatorname{sin}\\left(\\theta\\right) + \\operatorname{cos}\\left(\\beta\\right) \\operatorname{cos}\\left(\\theta\\right)\\right) \\ddot{\\Psi} + \\left(- \\operatorname{sin}\\left(\\beta\\right) \\operatorname{cos}\\left(\\theta\\right) \\dot{\\theta} - \\operatorname{sin}\\left(\\theta\\right) \\operatorname{cos}\\left(\\beta\\right) \\dot{\\theta}\\right) \\dot{\\Psi} + \\ddot{\\phi}\\right))\\mathbf{\\hat{xyz}_y} + (\\left(- \\operatorname{sin}\\left(\\beta\\right) \\operatorname{sin}\\left(\\theta\\right) + \\operatorname{cos}\\left(\\beta\\right) \\operatorname{cos}\\left(\\theta\\right)\\right) \\left(- L_{2} \\dot{\\theta}^{2} + R \\ddot{\\theta} + \\left(- \\operatorname{sin}\\left(\\beta\\right) \\operatorname{cos}\\left(\\theta\\right) - \\operatorname{sin}\\left(\\theta\\right) \\operatorname{cos}\\left(\\beta\\right)\\right) \\left(- L_{2} \\left(- \\operatorname{sin}\\left(\\beta\\right) \\operatorname{cos}\\left(\\theta\\right) - \\operatorname{sin}\\left(\\theta\\right) \\operatorname{cos}\\left(\\beta\\right)\\right) \\dot{\\Psi} - R \\left(\\left(- \\operatorname{sin}\\left(\\beta\\right) \\operatorname{sin}\\left(\\theta\\right) + \\operatorname{cos}\\left(\\beta\\right) \\operatorname{cos}\\left(\\theta\\right)\\right) \\dot{\\Psi} + \\dot{\\phi}\\right)\\right) \\dot{\\Psi}\\right) + \\left(- \\operatorname{sin}\\left(\\beta\\right) \\operatorname{cos}\\left(\\theta\\right) - \\operatorname{sin}\\left(\\theta\\right) \\operatorname{cos}\\left(\\beta\\right)\\right) \\left(L_{2} \\ddot{\\theta} + R \\dot{\\theta}^{2} - \\left(- \\operatorname{sin}\\left(\\beta\\right) \\operatorname{sin}\\left(\\theta\\right) + \\operatorname{cos}\\left(\\beta\\right) \\operatorname{cos}\\left(\\theta\\right)\\right) \\left(- L_{2} \\left(- \\operatorname{sin}\\left(\\beta\\right) \\operatorname{cos}\\left(\\theta\\right) - \\operatorname{sin}\\left(\\theta\\right) \\operatorname{cos}\\left(\\beta\\right)\\right) \\dot{\\Psi} - R \\left(\\left(- \\operatorname{sin}\\left(\\beta\\right) \\operatorname{sin}\\left(\\theta\\right) + \\operatorname{cos}\\left(\\beta\\right) \\operatorname{cos}\\left(\\theta\\right)\\right) \\dot{\\Psi} + \\dot{\\phi}\\right)\\right) \\dot{\\Psi}\\right) + \\left(- L_{1} \\operatorname{sin}^{2}\\left(\\theta\\right) \\dot{\\Psi}^{2} - L_{1} \\dot{\\theta}^{2}\\right) \\operatorname{cos}\\left(\\theta\\right) - \\left(- L_{1} \\operatorname{sin}\\left(\\theta\\right) \\operatorname{cos}\\left(\\theta\\right) \\dot{\\Psi}^{2} + L_{1} \\ddot{\\theta}\\right) \\operatorname{sin}\\left(\\theta\\right))\\mathbf{\\hat{xyz}_z}$$"
      ],
      "text/plain": [
       "⎛                                       ⎛     2                     2\n",
       "⎜                                       ⎜    d            ⎛d       ⎞\n",
       "⎜(-sin(β)⋅sin(θ(t)) + cos(β)⋅cos(θ(t)))⋅⎜L₂⋅───(θ(t)) + R⋅⎜──(θ(t))⎟  - (-sin(\n",
       "⎜                                       ⎜     2           ⎝dt      ⎠\n",
       "⎝                                       ⎝   dt\n",
       "\n",
       "\n",
       "                                 ⎛\n",
       "β)⋅sin(θ(t)) + cos(β)⋅cos(θ(t)))⋅⎜- L₂⋅(-sin(β)⋅cos(θ(t)) - sin(θ(t))⋅cos(β))⋅\n",
       "                                 ⎝\n",
       "\n",
       "\n",
       "\n",
       "d            ⎛                                       d          d       ⎞⎞ d\n",
       "──(Ψ(t)) - R⋅⎜(-sin(β)⋅sin(θ(t)) + cos(β)⋅cos(θ(t)))⋅──(Ψ(t)) + ──(φ(t))⎟⎟⋅──(\n",
       "dt           ⎝                                       dt         dt      ⎠⎠ dt\n",
       "\n",
       "\n",
       "     ⎞                                         ⎛               2       2\n",
       "     ⎟                                         ⎜     ⎛d       ⎞       d\n",
       "Ψ(t))⎟ + (sin(β)⋅cos(θ(t)) + sin(θ(t))⋅cos(β))⋅⎜- L₂⋅⎜──(θ(t))⎟  + R⋅───(θ(t))\n",
       "     ⎟                                         ⎜     ⎝dt      ⎠        2\n",
       "     ⎠                                         ⎝                     dt\n",
       "\n",
       "\n",
       "                                          ⎛\n",
       " + (-sin(β)⋅cos(θ(t)) - sin(θ(t))⋅cos(β))⋅⎜- L₂⋅(-sin(β)⋅cos(θ(t)) - sin(θ(t))\n",
       "                                          ⎝\n",
       "\n",
       "\n",
       "\n",
       "         d            ⎛                                       d          d\n",
       "⋅cos(β))⋅──(Ψ(t)) - R⋅⎜(-sin(β)⋅sin(θ(t)) + cos(β)⋅cos(θ(t)))⋅──(Ψ(t)) + ──(φ(\n",
       "         dt           ⎝                                       dt         dt\n",
       "\n",
       "\n",
       "              ⎞   ⎛                          2                2⎞             ⎛\n",
       "   ⎞⎞ d       ⎟   ⎜        2       ⎛d       ⎞       ⎛d       ⎞ ⎟             ⎜\n",
       "t))⎟⎟⋅──(Ψ(t))⎟ + ⎜- L₁⋅sin (θ(t))⋅⎜──(Ψ(t))⎟  - L₁⋅⎜──(θ(t))⎟ ⎟⋅sin(θ(t)) + ⎜\n",
       "   ⎠⎠ dt      ⎟   ⎝                ⎝dt      ⎠       ⎝dt      ⎠ ⎠             ⎜\n",
       "              ⎠                                                              ⎝\n",
       "\n",
       "                                   2        2      ⎞          ⎞         ⎛\n",
       "                         ⎛d       ⎞        d       ⎟          ⎟         ⎜\n",
       "- L₁⋅sin(θ(t))⋅cos(θ(t))⋅⎜──(Ψ(t))⎟  + L₁⋅───(θ(t))⎟⋅cos(θ(t))⎟ xyz_x + ⎜L₁⋅si\n",
       "                         ⎝dt      ⎠         2      ⎟          ⎟         ⎜\n",
       "                                          dt       ⎠          ⎠         ⎝\n",
       "\n",
       "          2\n",
       "         d                         d        d\n",
       "n(θ(t))⋅───(Ψ(t)) + 2⋅L₁⋅cos(θ(t))⋅──(Ψ(t))⋅──(θ(t)) + L₂⋅(-sin(β)⋅sin(θ(t)) +\n",
       "          2                        dt       dt\n",
       "        dt\n",
       "\n",
       "\n",
       "                   d        d\n",
       " cos(β)⋅cos(θ(t)))⋅──(Ψ(t))⋅──(θ(t)) - L₂⋅(-sin(β)⋅cos(θ(t)) - sin(θ(t))⋅cos(β\n",
       "                   dt       dt\n",
       "\n",
       "\n",
       "     2\n",
       "    d             ⎛                 d                           d       ⎞ d\n",
       "))⋅───(Ψ(t)) - L₂⋅⎜sin(β)⋅sin(θ(t))⋅──(θ(t)) - cos(β)⋅cos(θ(t))⋅──(θ(t))⎟⋅──(Ψ\n",
       "     2            ⎝                 dt                          dt      ⎠ dt\n",
       "   dt\n",
       "\n",
       "                                                                      ⎛\n",
       "                                                d        d            ⎜\n",
       "(t)) - R⋅(-sin(β)⋅cos(θ(t)) - sin(θ(t))⋅cos(β))⋅──(Ψ(t))⋅──(θ(t)) - R⋅⎜(-sin(β\n",
       "                                                dt       dt           ⎜\n",
       "                                                                      ⎝\n",
       "\n",
       "                                  2\n",
       "                                 d          ⎛                   d\n",
       ")⋅sin(θ(t)) + cos(β)⋅cos(θ(t)))⋅───(Ψ(t)) + ⎜- sin(β)⋅cos(θ(t))⋅──(θ(t)) - sin\n",
       "                                  2         ⎝                   dt\n",
       "                                dt\n",
       "\n",
       "                                     2      ⎞⎞         ⎛\n",
       "              d       ⎞ d           d       ⎟⎟         ⎜\n",
       "(θ(t))⋅cos(β)⋅──(θ(t))⎟⋅──(Ψ(t)) + ───(φ(t))⎟⎟ xyz_y + ⎜(-sin(β)⋅sin(θ(t)) + c\n",
       "              dt      ⎠ dt           2      ⎟⎟         ⎜\n",
       "                                   dt       ⎠⎠         ⎝\n",
       "\n",
       "                 ⎛               2       2\n",
       "                 ⎜     ⎛d       ⎞       d\n",
       "os(β)⋅cos(θ(t)))⋅⎜- L₂⋅⎜──(θ(t))⎟  + R⋅───(θ(t)) + (-sin(β)⋅cos(θ(t)) - sin(θ(\n",
       "                 ⎜     ⎝dt      ⎠        2\n",
       "                 ⎝                     dt\n",
       "\n",
       "\n",
       "            ⎛                                            d            ⎛\n",
       "t))⋅cos(β))⋅⎜- L₂⋅(-sin(β)⋅cos(θ(t)) - sin(θ(t))⋅cos(β))⋅──(Ψ(t)) - R⋅⎜(-sin(β\n",
       "            ⎝                                            dt           ⎝\n",
       "\n",
       "\n",
       "                                                              ⎞\n",
       "                                d          d       ⎞⎞ d       ⎟\n",
       ")⋅sin(θ(t)) + cos(β)⋅cos(θ(t)))⋅──(Ψ(t)) + ──(φ(t))⎟⎟⋅──(Ψ(t))⎟ + (-sin(β)⋅cos\n",
       "                                dt         dt      ⎠⎠ dt      ⎟\n",
       "                                                              ⎠\n",
       "\n",
       "                           ⎛     2                     2\n",
       "                           ⎜    d            ⎛d       ⎞\n",
       "(θ(t)) - sin(θ(t))⋅cos(β))⋅⎜L₂⋅───(θ(t)) + R⋅⎜──(θ(t))⎟  - (-sin(β)⋅sin(θ(t))\n",
       "                           ⎜     2           ⎝dt      ⎠\n",
       "                           ⎝   dt\n",
       "\n",
       "\n",
       "                    ⎛                                            d\n",
       "+ cos(β)⋅cos(θ(t)))⋅⎜- L₂⋅(-sin(β)⋅cos(θ(t)) - sin(θ(t))⋅cos(β))⋅──(Ψ(t)) - R⋅\n",
       "                    ⎝                                            dt\n",
       "\n",
       "\n",
       "                                                                      ⎞   ⎛\n",
       "⎛                                       d          d       ⎞⎞ d       ⎟   ⎜\n",
       "⎜(-sin(β)⋅sin(θ(t)) + cos(β)⋅cos(θ(t)))⋅──(Ψ(t)) + ──(φ(t))⎟⎟⋅──(Ψ(t))⎟ + ⎜- L\n",
       "⎝                                       dt         dt      ⎠⎠ dt      ⎟   ⎝\n",
       "                                                                      ⎠\n",
       "\n",
       "                       2                2⎞             ⎛\n",
       "     2       ⎛d       ⎞       ⎛d       ⎞ ⎟             ⎜\n",
       "₁⋅sin (θ(t))⋅⎜──(Ψ(t))⎟  - L₁⋅⎜──(θ(t))⎟ ⎟⋅cos(θ(t)) - ⎜- L₁⋅sin(θ(t))⋅cos(θ(t\n",
       "             ⎝dt      ⎠       ⎝dt      ⎠ ⎠             ⎜\n",
       "                                                       ⎝\n",
       "\n",
       "             2        2      ⎞          ⎞\n",
       "   ⎛d       ⎞        d       ⎟          ⎟\n",
       "))⋅⎜──(Ψ(t))⎟  + L₁⋅───(θ(t))⎟⋅sin(θ(t))⎟ xyz_z\n",
       "   ⎝dt      ⎠         2      ⎟          ⎟\n",
       "                    dt       ⎠          ⎠"
      ]
     },
     "execution_count": 15,
     "metadata": {},
     "output_type": "execute_result"
    }
   ],
   "source": [
    "# In the XYZ frame\n",
    "D.acc(N).express(XYZ)"
   ]
  },
  {
   "cell_type": "code",
   "execution_count": 16,
   "metadata": {},
   "outputs": [
    {
     "data": {
      "image/png": "[encoded data removed]",
      "text/latex": [
       "$$(L_{2} \\ddot{\\theta} + R \\dot{\\theta}^{2} - \\left(- \\operatorname{sin}\\left(\\beta\\right) \\operatorname{sin}\\left(\\theta\\right) + \\operatorname{cos}\\left(\\beta\\right) \\operatorname{cos}\\left(\\theta\\right)\\right) \\left(- L_{2} \\left(- \\operatorname{sin}\\left(\\beta\\right) \\operatorname{cos}\\left(\\theta\\right) - \\operatorname{sin}\\left(\\theta\\right) \\operatorname{cos}\\left(\\beta\\right)\\right) \\dot{\\Psi} - R \\left(\\left(- \\operatorname{sin}\\left(\\beta\\right) \\operatorname{sin}\\left(\\theta\\right) + \\operatorname{cos}\\left(\\beta\\right) \\operatorname{cos}\\left(\\theta\\right)\\right) \\dot{\\Psi} + \\dot{\\phi}\\right)\\right) \\dot{\\Psi} - \\left(- L_{1} \\operatorname{sin}^{2}\\left(\\theta\\right) \\dot{\\Psi}^{2} - L_{1} \\dot{\\theta}^{2}\\right) \\operatorname{sin}\\left(\\beta\\right) + \\left(- L_{1} \\operatorname{sin}\\left(\\theta\\right) \\operatorname{cos}\\left(\\theta\\right) \\dot{\\Psi}^{2} + L_{1} \\ddot{\\theta}\\right) \\operatorname{cos}\\left(\\beta\\right))\\mathbf{\\hat{xyz}_x} + (L_{1} \\operatorname{sin}\\left(\\theta\\right) \\ddot{\\Psi} + 2 L_{1} \\operatorname{cos}\\left(\\theta\\right) \\dot{\\Psi} \\dot{\\theta} + L_{2} \\left(- \\operatorname{sin}\\left(\\beta\\right) \\operatorname{sin}\\left(\\theta\\right) + \\operatorname{cos}\\left(\\beta\\right) \\operatorname{cos}\\left(\\theta\\right)\\right) \\dot{\\Psi} \\dot{\\theta} - L_{2} \\left(- \\operatorname{sin}\\left(\\beta\\right) \\operatorname{cos}\\left(\\theta\\right) - \\operatorname{sin}\\left(\\theta\\right) \\operatorname{cos}\\left(\\beta\\right)\\right) \\ddot{\\Psi} - L_{2} \\left(\\operatorname{sin}\\left(\\beta\\right) \\operatorname{sin}\\left(\\theta\\right) \\dot{\\theta} - \\operatorname{cos}\\left(\\beta\\right) \\operatorname{cos}\\left(\\theta\\right) \\dot{\\theta}\\right) \\dot{\\Psi} - R \\left(- \\operatorname{sin}\\left(\\beta\\right) \\operatorname{cos}\\left(\\theta\\right) - \\operatorname{sin}\\left(\\theta\\right) \\operatorname{cos}\\left(\\beta\\right)\\right) \\dot{\\Psi} \\dot{\\theta} - R \\left(\\left(- \\operatorname{sin}\\left(\\beta\\right) \\operatorname{sin}\\left(\\theta\\right) + \\operatorname{cos}\\left(\\beta\\right) \\operatorname{cos}\\left(\\theta\\right)\\right) \\ddot{\\Psi} + \\left(- \\operatorname{sin}\\left(\\beta\\right) \\operatorname{cos}\\left(\\theta\\right) \\dot{\\theta} - \\operatorname{sin}\\left(\\theta\\right) \\operatorname{cos}\\left(\\beta\\right) \\dot{\\theta}\\right) \\dot{\\Psi} + \\ddot{\\phi}\\right))\\mathbf{\\hat{xyz}_y} + (- L_{2} \\dot{\\theta}^{2} + R \\ddot{\\theta} + \\left(- \\operatorname{sin}\\left(\\beta\\right) \\operatorname{cos}\\left(\\theta\\right) - \\operatorname{sin}\\left(\\theta\\right) \\operatorname{cos}\\left(\\beta\\right)\\right) \\left(- L_{2} \\left(- \\operatorname{sin}\\left(\\beta\\right) \\operatorname{cos}\\left(\\theta\\right) - \\operatorname{sin}\\left(\\theta\\right) \\operatorname{cos}\\left(\\beta\\right)\\right) \\dot{\\Psi} - R \\left(\\left(- \\operatorname{sin}\\left(\\beta\\right) \\operatorname{sin}\\left(\\theta\\right) + \\operatorname{cos}\\left(\\beta\\right) \\operatorname{cos}\\left(\\theta\\right)\\right) \\dot{\\Psi} + \\dot{\\phi}\\right)\\right) \\dot{\\Psi} + \\left(- L_{1} \\operatorname{sin}^{2}\\left(\\theta\\right) \\dot{\\Psi}^{2} - L_{1} \\dot{\\theta}^{2}\\right) \\operatorname{cos}\\left(\\beta\\right) + \\left(- L_{1} \\operatorname{sin}\\left(\\theta\\right) \\operatorname{cos}\\left(\\theta\\right) \\dot{\\Psi}^{2} + L_{1} \\ddot{\\theta}\\right) \\operatorname{sin}\\left(\\beta\\right))\\mathbf{\\hat{xyz}_z}$$"
      ],
      "text/plain": [
       "⎛     2                     2\n",
       "⎜    d            ⎛d       ⎞                                           ⎛\n",
       "⎜L₂⋅───(θ(t)) + R⋅⎜──(θ(t))⎟  - (-sin(β)⋅sin(θ(t)) + cos(β)⋅cos(θ(t)))⋅⎜- L₂⋅(\n",
       "⎜     2           ⎝dt      ⎠                                           ⎝\n",
       "⎝   dt\n",
       "\n",
       "\n",
       "                                      d            ⎛\n",
       "-sin(β)⋅cos(θ(t)) - sin(θ(t))⋅cos(β))⋅──(Ψ(t)) - R⋅⎜(-sin(β)⋅sin(θ(t)) + cos(β\n",
       "                                      dt           ⎝\n",
       "\n",
       "\n",
       "                                              ⎛                          2\n",
       "             d          d       ⎞⎞ d          ⎜        2       ⎛d       ⎞\n",
       ")⋅cos(θ(t)))⋅──(Ψ(t)) + ──(φ(t))⎟⎟⋅──(Ψ(t)) - ⎜- L₁⋅sin (θ(t))⋅⎜──(Ψ(t))⎟  - L\n",
       "             dt         dt      ⎠⎠ dt         ⎝                ⎝dt      ⎠\n",
       "\n",
       "\n",
       "            2⎞          ⎛                                   2        2      ⎞\n",
       "  ⎛d       ⎞ ⎟          ⎜                         ⎛d       ⎞        d       ⎟\n",
       "₁⋅⎜──(θ(t))⎟ ⎟⋅sin(β) + ⎜- L₁⋅sin(θ(t))⋅cos(θ(t))⋅⎜──(Ψ(t))⎟  + L₁⋅───(θ(t))⎟⋅\n",
       "  ⎝dt      ⎠ ⎠          ⎜                         ⎝dt      ⎠         2      ⎟\n",
       "                        ⎝                                          dt       ⎠\n",
       "\n",
       "      ⎞         ⎛               2\n",
       "      ⎟         ⎜              d                         d        d\n",
       "cos(β)⎟ xyz_x + ⎜L₁⋅sin(θ(t))⋅───(Ψ(t)) + 2⋅L₁⋅cos(θ(t))⋅──(Ψ(t))⋅──(θ(t)) + L\n",
       "      ⎟         ⎜               2                        dt       dt\n",
       "      ⎠         ⎝             dt\n",
       "\n",
       "\n",
       "                                         d        d\n",
       "₂⋅(-sin(β)⋅sin(θ(t)) + cos(β)⋅cos(θ(t)))⋅──(Ψ(t))⋅──(θ(t)) - L₂⋅(-sin(β)⋅cos(θ\n",
       "                                         dt       dt\n",
       "\n",
       "\n",
       "                           2\n",
       "                          d             ⎛                 d\n",
       "(t)) - sin(θ(t))⋅cos(β))⋅───(Ψ(t)) - L₂⋅⎜sin(β)⋅sin(θ(t))⋅──(θ(t)) - cos(β)⋅co\n",
       "                           2            ⎝                 dt\n",
       "                         dt\n",
       "\n",
       "\n",
       "        d       ⎞ d                                                   d\n",
       "s(θ(t))⋅──(θ(t))⎟⋅──(Ψ(t)) - R⋅(-sin(β)⋅cos(θ(t)) - sin(θ(t))⋅cos(β))⋅──(Ψ(t))\n",
       "        dt      ⎠ dt                                                  dt\n",
       "\n",
       "\n",
       "              ⎛                                         2\n",
       " d            ⎜                                        d          ⎛\n",
       "⋅──(θ(t)) - R⋅⎜(-sin(β)⋅sin(θ(t)) + cos(β)⋅cos(θ(t)))⋅───(Ψ(t)) + ⎜- sin(β)⋅co\n",
       " dt           ⎜                                         2         ⎝\n",
       "              ⎝                                       dt\n",
       "\n",
       "                                                           2      ⎞⎞         ⎛\n",
       "        d                           d       ⎞ d           d       ⎟⎟         ⎜\n",
       "s(θ(t))⋅──(θ(t)) - sin(θ(t))⋅cos(β)⋅──(θ(t))⎟⋅──(Ψ(t)) + ───(φ(t))⎟⎟ xyz_y + ⎜\n",
       "        dt                          dt      ⎠ dt           2      ⎟⎟         ⎜\n",
       "                                                         dt       ⎠⎠         ⎝\n",
       "\n",
       "               2       2\n",
       "     ⎛d       ⎞       d                                                 ⎛\n",
       "- L₂⋅⎜──(θ(t))⎟  + R⋅───(θ(t)) + (-sin(β)⋅cos(θ(t)) - sin(θ(t))⋅cos(β))⋅⎜- L₂⋅\n",
       "     ⎝dt      ⎠        2                                                ⎝\n",
       "                     dt\n",
       "\n",
       "\n",
       "                                       d            ⎛\n",
       "(-sin(β)⋅cos(θ(t)) - sin(θ(t))⋅cos(β))⋅──(Ψ(t)) - R⋅⎜(-sin(β)⋅sin(θ(t)) + cos(\n",
       "                                       dt           ⎝\n",
       "\n",
       "\n",
       "                                               ⎛                          2\n",
       "              d          d       ⎞⎞ d          ⎜        2       ⎛d       ⎞\n",
       "β)⋅cos(θ(t)))⋅──(Ψ(t)) + ──(φ(t))⎟⎟⋅──(Ψ(t)) + ⎜- L₁⋅sin (θ(t))⋅⎜──(Ψ(t))⎟  -\n",
       "              dt         dt      ⎠⎠ dt         ⎝                ⎝dt      ⎠\n",
       "\n",
       "\n",
       "             2⎞          ⎛                                   2        2      ⎞\n",
       "   ⎛d       ⎞ ⎟          ⎜                         ⎛d       ⎞        d       ⎟\n",
       "L₁⋅⎜──(θ(t))⎟ ⎟⋅cos(β) + ⎜- L₁⋅sin(θ(t))⋅cos(θ(t))⋅⎜──(Ψ(t))⎟  + L₁⋅───(θ(t))⎟\n",
       "   ⎝dt      ⎠ ⎠          ⎜                         ⎝dt      ⎠         2      ⎟\n",
       "                         ⎝                                          dt       ⎠\n",
       "\n",
       "       ⎞\n",
       "       ⎟\n",
       "⋅sin(β)⎟ xyz_z\n",
       "       ⎟\n",
       "       ⎠"
      ]
     },
     "execution_count": 16,
     "metadata": {},
     "output_type": "execute_result"
    }
   ],
   "source": [
    "# Or in the xyz frame\n",
    "D.acc(N).express(xyz)"
   ]
  },
  {
   "cell_type": "markdown",
   "metadata": {},
   "source": [
    "## Problem 2\n",
    "Figure 2 shows an instantaneous view of a disk rotating at a rate $\\omega_2$ about point Q. An ant is relaxing on the disk (*i.e.* its location on the disk is fixed) at a distance $R$ from its center. When, $\\theta = 0$, the ant reaches her topmost position. The center of the disk is located on the T-bar at a distance $L$ from the axis about which the bar is spinning, $Z$. The rate of rotation of the T-bar is described by $\\omega_1$. \n",
    "\n",
    "a. What is the velocity of the ant, $\\bar{v}_A$?\n",
    "\n",
    "b. What is the acceleration of the ant, $\\bar{a}_A$?\n",
    "\n",
    "c. What does the ant observe as the velocity and acceleration of point P, the top of the T-bar?\n",
    "\n",
    "<p style=\"text-align:center\">\n",
    "\t<img src=\"http://shared.crawlab.org/disk_on_Tbar.png\" alt=\"An Ant Riding on a Spinning Disk on a T-bar\" width=50%><br>\n",
    "    <strong>Figure 2: An Ant Riding on a Spinning Disk on a T-bar</strong>\n",
    "</p>\n"
   ]
  },
  {
   "cell_type": "code",
   "execution_count": 17,
   "metadata": {
    "collapsed": true
   },
   "outputs": [],
   "source": [
    "# Define the genearlized coordinates and other dynamic symbols\n",
    "theta_1, theta = dynamicsymbols('theta_1 theta')\n",
    "\n",
    "# Also define the first derivatives\n",
    "w1, w2 = dynamicsymbols('theta_1 theta', 1)\n",
    "\n",
    "# Define the symbols for the other paramters\n",
    "L, R = sympy.symbols('L R')"
   ]
  },
  {
   "cell_type": "code",
   "execution_count": 18,
   "metadata": {
    "collapsed": true
   },
   "outputs": [],
   "source": [
    "# Define the Newtonian reference frame\n",
    "N = ReferenceFrame('N')\n",
    "\n",
    "# Define a body-fixed frame to the T-bar\n",
    "prime = N.orientnew('prime', 'Axis', [theta_1, N.z])\n",
    "\n",
    "# Finally, define the last frame such that its z-axis is aligned with BC\n",
    "xyz = prime.orientnew('xyz', 'Axis', [theta, prime.y])"
   ]
  },
  {
   "cell_type": "markdown",
   "metadata": {},
   "source": [
    "### Part a."
   ]
  },
  {
   "cell_type": "code",
   "execution_count": 19,
   "metadata": {},
   "outputs": [
    {
     "data": {
      "image/png": "[encoded data removed]",
      "text/latex": [
       "$$R \\operatorname{cos}\\left(\\theta\\right) \\dot{\\theta}\\mathbf{\\hat{prime}_x} + (L \\dot{\\theta}_{1} + R \\operatorname{sin}\\left(\\theta\\right) \\dot{\\theta}_{1})\\mathbf{\\hat{prime}_y} -  R \\operatorname{sin}\\left(\\theta\\right) \\dot{\\theta}\\mathbf{\\hat{prime}_z}$$"
      ],
      "text/plain": [
       "            d                  ⎛  d                       d        ⎞\n",
       "R⋅cos(θ(t))⋅──(θ(t)) prime_x + ⎜L⋅──(θ₁(t)) + R⋅sin(θ(t))⋅──(θ₁(t))⎟ prime_y +\n",
       "            dt                 ⎝  dt                      dt       ⎠\n",
       "\n",
       "              d\n",
       " -R⋅sin(θ(t))⋅──(θ(t)) prime_z\n",
       "              dt"
      ]
     },
     "execution_count": 19,
     "metadata": {},
     "output_type": "execute_result"
    }
   ],
   "source": [
    "# Define point A and its velocity\n",
    "O = Point('O')\n",
    "O.set_vel(N, 0 * N.x)\n",
    "\n",
    "# Define point Q and set its velocity. Locate it relative to O\n",
    "Q = O.locatenew('B', L * prime.x)\n",
    "Q.v2pt_theory(O, N, prime)\n",
    "\n",
    "# Define point A and set its velocity. Locate it relative to Q\n",
    "A = Q.locatenew('Q', R * xyz.z)\n",
    "A.v2pt_theory(Q, N, xyz)\n",
    "\n",
    "# Now, we can express the velocity of the ant in any frame we chose. Here, we'll use the x'y'z' frame.\n",
    "A.v2pt_theory(Q, N, xyz).express(prime)"
   ]
  },
  {
   "cell_type": "markdown",
   "metadata": {},
   "source": [
    "### Part b."
   ]
  },
  {
   "cell_type": "markdown",
   "metadata": {},
   "source": [
    "Once we have the velocity (and if we have define the motion variables properly), the acceleration is easy to get. As before, we can express it in any frame of our choosing."
   ]
  },
  {
   "cell_type": "code",
   "execution_count": 20,
   "metadata": {},
   "outputs": [
    {
     "data": {
      "image/png": "[encoded data removed]",
      "text/latex": [
       "$$(- L \\dot{\\theta}_{1}^{2} + \\left(- R \\operatorname{sin}^{2}\\left(\\theta\\right) \\dot{\\theta}_{1}^{2} - R \\dot{\\theta}^{2}\\right) \\operatorname{sin}\\left(\\theta\\right) + \\left(- R \\operatorname{sin}\\left(\\theta\\right) \\operatorname{cos}\\left(\\theta\\right) \\dot{\\theta}_{1}^{2} + R \\ddot{\\theta}\\right) \\operatorname{cos}\\left(\\theta\\right))\\mathbf{\\hat{prime}_x} + (L \\ddot{\\theta}_{1} + R \\operatorname{sin}\\left(\\theta\\right) \\ddot{\\theta}_{1} + 2 R \\operatorname{cos}\\left(\\theta\\right) \\dot{\\theta} \\dot{\\theta}_{1})\\mathbf{\\hat{prime}_y} + (\\left(- R \\operatorname{sin}^{2}\\left(\\theta\\right) \\dot{\\theta}_{1}^{2} - R \\dot{\\theta}^{2}\\right) \\operatorname{cos}\\left(\\theta\\right) - \\left(- R \\operatorname{sin}\\left(\\theta\\right) \\operatorname{cos}\\left(\\theta\\right) \\dot{\\theta}_{1}^{2} + R \\ddot{\\theta}\\right) \\operatorname{sin}\\left(\\theta\\right))\\mathbf{\\hat{prime}_z}$$"
      ],
      "text/plain": [
       "⎛               2   ⎛                          2               2⎞\n",
       "⎜    ⎛d        ⎞    ⎜       2       ⎛d        ⎞      ⎛d       ⎞ ⎟\n",
       "⎜- L⋅⎜──(θ₁(t))⎟  + ⎜- R⋅sin (θ(t))⋅⎜──(θ₁(t))⎟  - R⋅⎜──(θ(t))⎟ ⎟⋅sin(θ(t)) +\n",
       "⎜    ⎝dt       ⎠    ⎝               ⎝dt       ⎠      ⎝dt      ⎠ ⎠\n",
       "⎝\n",
       "\n",
       "⎛                                   2       2      ⎞          ⎞           ⎛\n",
       "⎜                        ⎛d        ⎞       d       ⎟          ⎟           ⎜\n",
       "⎜- R⋅sin(θ(t))⋅cos(θ(t))⋅⎜──(θ₁(t))⎟  + R⋅───(θ(t))⎟⋅cos(θ(t))⎟ prime_x + ⎜L⋅─\n",
       "⎜                        ⎝dt       ⎠        2      ⎟          ⎟           ⎜\n",
       "⎝                                         dt       ⎠          ⎠           ⎝  d\n",
       "\n",
       " 2                        2                                          ⎞\n",
       "d                        d                         d        d        ⎟\n",
       "──(θ₁(t)) + R⋅sin(θ(t))⋅───(θ₁(t)) + 2⋅R⋅cos(θ(t))⋅──(θ(t))⋅──(θ₁(t))⎟ prime_y\n",
       " 2                        2                        dt       dt       ⎟\n",
       "t                       dt                                           ⎠\n",
       "\n",
       "   ⎛⎛                          2               2⎞             ⎛\n",
       "   ⎜⎜       2       ⎛d        ⎞      ⎛d       ⎞ ⎟             ⎜\n",
       " + ⎜⎜- R⋅sin (θ(t))⋅⎜──(θ₁(t))⎟  - R⋅⎜──(θ(t))⎟ ⎟⋅cos(θ(t)) - ⎜- R⋅sin(θ(t))⋅c\n",
       "   ⎜⎝               ⎝dt       ⎠      ⎝dt      ⎠ ⎠             ⎜\n",
       "   ⎝                                                          ⎝\n",
       "\n",
       "                    2       2      ⎞          ⎞\n",
       "         ⎛d        ⎞       d       ⎟          ⎟\n",
       "os(θ(t))⋅⎜──(θ₁(t))⎟  + R⋅───(θ(t))⎟⋅sin(θ(t))⎟ prime_z\n",
       "         ⎝dt       ⎠        2      ⎟          ⎟\n",
       "                          dt       ⎠          ⎠"
      ]
     },
     "execution_count": 20,
     "metadata": {},
     "output_type": "execute_result"
    }
   ],
   "source": [
    "# In the x'y'z' frame\n",
    "A.acc(N).express(prime)"
   ]
  },
  {
   "cell_type": "markdown",
   "metadata": {},
   "source": [
    "## Problem 3\n",
    "The sketch in Figure 3 shows a thin plate of mass, $m$, connected to a massless shaft. The corner of the plate is labeled as O, and the shaft-plate body rotates around $X$ at a constant rate, $\\omega$. For this system:\n",
    "\n",
    "a. Write the angular momentum about point O. You do *not* need to derive the inertial properties of the plate, but be sure properly identify what terms would be needed.\n",
    "\n",
    "b. What moment must be applied at point O for this motion to occur?\n",
    "\n",
    "<p style=\"text-align:center\">\n",
    "\t<img src=\"http://shared.crawlab.org/rotating_plate.png\" alt=\"A Rotating Thin Plate\" width=50%><br>\n",
    "    <strong>Figure 3: A Rotating Thin Plate</strong>\n",
    "</p>"
   ]
  },
  {
   "cell_type": "code",
   "execution_count": 21,
   "metadata": {
    "collapsed": true
   },
   "outputs": [],
   "source": [
    "# Define the genearlized coordinate\n",
    "theta = dynamicsymbols('theta')\n",
    "\n",
    "# Also define the first derivative\n",
    "theta_dot = dynamicsymbols('theta', 1)\n",
    "\n",
    "# Define the symbols for the other paramters\n",
    "m, L, Ixx, Iyy, Izz, Ixy, t = sympy.symbols('m L I_xx, I_yy, I_zz, I_xy t')"
   ]
  },
  {
   "cell_type": "code",
   "execution_count": 22,
   "metadata": {
    "collapsed": true
   },
   "outputs": [],
   "source": [
    "# Define the Newtonian reference frame\n",
    "N = ReferenceFrame('N')\n",
    "\n",
    "# Define the frame that is fixed to the plate\n",
    "xyz = N.orientnew('xyz', 'Axis', [theta, N.x])"
   ]
  },
  {
   "cell_type": "code",
   "execution_count": 23,
   "metadata": {},
   "outputs": [
    {
     "data": {
      "image/png": "[encoded data removed]",
      "text/latex": [
       "$$\\frac{L \\dot{\\theta}}{2}\\mathbf{\\hat{xyz}_z}$$"
      ],
      "text/plain": [
       "  d\n",
       "L⋅──(θ(t))\n",
       "  dt\n",
       "────────── xyz_z\n",
       "    2"
      ]
     },
     "execution_count": 23,
     "metadata": {},
     "output_type": "execute_result"
    }
   ],
   "source": [
    "# Define the location of the points O and the plate COM\n",
    "O = Point('O')\n",
    "O.set_vel(N, 0 * N.x)\n",
    "\n",
    "# Define point Q and set its velocity. Locate it relative to O\n",
    "G = O.locatenew('G', L * xyz.x + L/2 * xyz.y)\n",
    "G.v2pt_theory(O, N, xyz)"
   ]
  },
  {
   "cell_type": "code",
   "execution_count": 24,
   "metadata": {
    "collapsed": true
   },
   "outputs": [],
   "source": [
    "# Now, we need to define the rigid body element for the plate\n",
    "\n",
    "# But first, we need to define its inertia properties\n",
    "I = inertia(xyz, Ixx, Iyy, Izz, -Ixy)\n",
    "plate = RigidBody('plate', G, xyz, m, (I, O))"
   ]
  },
  {
   "cell_type": "code",
   "execution_count": 25,
   "metadata": {},
   "outputs": [
    {
     "data": {
      "image/png": "[encoded data removed]",
      "text/latex": [
       "$$I_{xx} \\dot{\\theta}\\mathbf{\\hat{xyz}_x} -  I_{xy} \\dot{\\theta}\\mathbf{\\hat{xyz}_y}$$"
      ],
      "text/plain": [
       "    d                      d\n",
       "Iₓₓ⋅──(θ(t)) xyz_x + -I_xy⋅──(θ(t)) xyz_y\n",
       "    dt                     dt"
      ]
     },
     "execution_count": 25,
     "metadata": {},
     "output_type": "execute_result"
    }
   ],
   "source": [
    "angular_momentum(O, N, plate).simplify()"
   ]
  },
  {
   "cell_type": "markdown",
   "metadata": {},
   "source": [
    "The sum of moments is just the total time derivative of this. In this case, we know that it is just \n",
    "\n",
    "$$ \\quad \\sum \\bar{M}_O = \\bar{\\omega} \\times \\bar{H}_O $$"
   ]
  },
  {
   "cell_type": "code",
   "execution_count": 26,
   "metadata": {},
   "outputs": [
    {
     "data": {
      "image/png": "[encoded data removed]",
      "text/latex": [
       "$$-  I_{xy} \\dot{\\theta}^{2}\\mathbf{\\hat{xyz}_z}$$"
      ],
      "text/plain": [
       "                2\n",
       "      ⎛d       ⎞\n",
       "-I_xy⋅⎜──(θ(t))⎟  xyz_z\n",
       "      ⎝dt      ⎠"
      ]
     },
     "execution_count": 26,
     "metadata": {},
     "output_type": "execute_result"
    }
   ],
   "source": [
    "((theta_dot * N.x).cross(angular_momentum(O, N, plate))).simplify()"
   ]
  },
  {
   "cell_type": "markdown",
   "metadata": {},
   "source": [
    "<hr style=\"border: 0px;\n",
    "        height: 1px;\n",
    "        text-align: center;\n",
    "        background: #333;\n",
    "        background-image: -webkit-linear-gradient(left, #ccc, #333, #ccc); \n",
    "        background-image:    -moz-linear-gradient(left, #ccc, #333, #ccc); \n",
    "        background-image:     -ms-linear-gradient(left, #ccc, #333, #ccc); \n",
    "        background-image:      -o-linear-gradient(left, #ccc, #333, #ccc);\">"
   ]
  },
  {
   "cell_type": "markdown",
   "metadata": {},
   "source": [
    "#### Licenses\n",
    "Code is licensed under a 3-clause BSD style license. See the licenses/LICENSE.md file.\n",
    "\n",
    "Other content is provided under a [Creative Commons Attribution-NonCommercial 4.0 International License](http://creativecommons.org/licenses/by-nc/4.0/), CC-BY-NC 4.0."
   ]
  },
  {
   "cell_type": "code",
   "execution_count": 27,
   "metadata": {},
   "outputs": [
    {
     "data": {
      "text/html": [
       "<script>\n",
       "    MathJax.Hub.Config({\n",
       "                        TeX: {\n",
       "                           extensions: [\"AMSmath.js\"]\n",
       "                           },\n",
       "                tex2jax: {\n",
       "                    inlineMath: [ ['$','$'], [\"\\\\(\",\"\\\\)\"] ],\n",
       "                    displayMath: [ ['$$','$$'], [\"\\\\[\",\"\\\\]\"] ]\n",
       "                },\n",
       "                displayAlign: 'center', // Change this to 'center' to center equations.\n",
       "                \"HTML-CSS\": {\n",
       "                    styles: {'.MathJax_Display': {\"margin\": 4}}\n",
       "                }\n",
       "        });\n",
       "</script>\n",
       "\n",
       "<style>\n",
       "    @font-face {\n",
       "        font-family: \"Computer Modern\";\n",
       "        src: url('http://mirrors.ctan.org/fonts/cm-unicode/fonts/otf/cmunss.otf');\n",
       "    }\n",
       "    @font-face {\n",
       "        font-family: \"Computer Modern\";\n",
       "        src: url('http://mirrors.ctan.org/fonts/cm-unicode/fonts/otf/cmunsx.otf');\n",
       "        font-weight: bold;\n",
       "    }\n",
       "    @font-face {\n",
       "        font-family: \"Computer Modern\";\n",
       "        src: url('http://mirrors.ctan.org/fonts/cm-unicode/fonts/otf/cmunsi.otf');\n",
       "        font-style: oblique;\n",
       "    }\n",
       "    @font-face {\n",
       "        font-family: \"Computer Modern\";\n",
       "        src: url('http://mirrors.ctan.org/fonts/cm-unicode/fonts/otf/cmunso.otf');\n",
       "        font-weight: bold;\n",
       "        font-style: oblique;\n",
       "    }\n",
       "\n",
       "    div.cell {\n",
       "        max-width: 1100px;\n",
       "    }\n",
       "    \n",
       "    h1 {\n",
       "        font-family: Computer Modern;\n",
       "    }\n",
       "    \n",
       "    h4 {\n",
       "        margin-top: 12px;\n",
       "        margin-bottom: 3px;\n",
       "    }\n",
       "\n",
       "    div.text_cell_render {\n",
       "        font-family: Computer Modern, \"Helvetica Neue\", Arial, Helvetica, Geneva, sans-serif;\n",
       "        line-height: 145%;\n",
       "        font-size: 130%;\n",
       "        width: 100%;\n",
       "        max-width: 1100px;\n",
       "    }\n",
       "    \n",
       "    .CodeMirror {\n",
       "        font-family: \"Source Code Pro\", source-code-pro, Consolas, monospace;\n",
       "    }\n",
       "    \n",
       "    .warning {\n",
       "        color: rgb( 240, 20, 20 )\n",
       "    }  \n",
       "  \n",
       "   \n",
       "    hr.style-end {\n",
       "        border: 0px !important;\n",
       "        height: 1px !important;\n",
       "        text-align: center !important;\n",
       "        background: #333 !important;\n",
       "        background-image: -webkit-linear-gradient(left, #ccc, #333, #ccc) !important; \n",
       "        background-image:    -moz-linear-gradient(left, #ccc, #333, #ccc) !important; \n",
       "        background-image:     -ms-linear-gradient(left, #ccc, #333, #ccc) !important; \n",
       "        background-image:      -o-linear-gradient(left, #ccc, #333, #ccc) !important; \n",
       "    }\n",
       "\n",
       "    hr.style-end:after {\n",
       "        content: &#x269C !important;\n",
       "        left: 50% !important;\n",
       "        position: absolute !important;\n",
       "        /* Controls the whitespace around the symbol */\n",
       "        padding: 0px !important;\n",
       "        background: #fff !important;\n",
       "    }\n",
       "    \n",
       "/*  Center figures, etc\n",
       "    .ui-wrapper {\n",
       "        margin-left: auto !important;\n",
       "        margin-right: auto !important;\n",
       "    }\n",
       "*/\n",
       "    \n",
       "</style>\n"
      ],
      "text/plain": [
       "<IPython.core.display.HTML object>"
      ]
     },
     "execution_count": 27,
     "metadata": {},
     "output_type": "execute_result"
    }
   ],
   "source": [
    "# This cell will just improve the styling of the notebook\n",
    "# You can ignore it, if you are okay with the default sytling\n",
    "from IPython.core.display import HTML\n",
    "import urllib.request\n",
    "response = urllib.request.urlopen(\"https://cl.ly/1B1y452Z1d35\")\n",
    "HTML(response.read().decode(\"utf-8\"))"
   ]
  }
 ],
 "metadata": {
  "kernelspec": {
   "display_name": "Python 3",
   "language": "python",
   "name": "python3"
  },
  "language_info": {
   "codemirror_mode": {
    "name": "ipython",
    "version": 3
   },
   "file_extension": ".py",
   "mimetype": "text/x-python",
   "name": "python",
   "nbconvert_exporter": "python",
   "pygments_lexer": "ipython3",
   "version": "3.6.2"
  }
 },
 "nbformat": 4,
 "nbformat_minor": 2
}
