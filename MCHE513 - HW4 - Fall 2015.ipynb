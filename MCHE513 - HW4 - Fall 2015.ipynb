{
 "cells": [
  {
   "cell_type": "markdown",
   "metadata": {},
   "source": [
    "<h1 style=\"text-align:center\">MCHE 513: Intermediate Dynamics</h1>\n",
    "<h3 style=\"text-align:center\">Homework 4 &mdash; Fall 2015</h3> \n",
    "<p style=\"text-align:center\">Dr. Joshua Vaughan <br>\n",
    "<a href=\"mailto:joshua.vaughan@louisiana.edu\">joshua.vaughan@louisiana.edu</a><br>\n",
    "<a href=\"http://www.ucs.louisiana.edu/~jev9637/\">http://www.ucs.louisiana.edu/~jev9637/</a></p>"
   ]
  },
  {
   "cell_type": "markdown",
   "metadata": {},
   "source": [
    "We'll use the [Sympy](http://www.sympy.org/) library to solve these problems analytically. To use it, we need to import it."
   ]
  },
  {
   "cell_type": "code",
   "execution_count": 1,
   "metadata": {
    "collapsed": true
   },
   "outputs": [],
   "source": [
    "# import Sympy and start \"pretty printing\"\n",
    "import sympy\n",
    "sympy.init_printing()"
   ]
  },
  {
   "cell_type": "code",
   "execution_count": 2,
   "metadata": {
    "collapsed": true
   },
   "outputs": [],
   "source": [
    "# We also want to import the sympy.physics.mechanics module\n",
    "\n",
    "# Note that * imports are usually considered bad practice\n",
    "from sympy.physics.mechanics import *"
   ]
  },
  {
   "cell_type": "markdown",
   "metadata": {},
   "source": [
    "## Problem 4.5"
   ]
  },
  {
   "cell_type": "code",
   "execution_count": null,
   "metadata": {
    "collapsed": true
   },
   "outputs": [],
   "source": []
  },
  {
   "cell_type": "markdown",
   "metadata": {},
   "source": [
    "<hr class = \"style-end\">"
   ]
  },
  {
   "cell_type": "markdown",
   "metadata": {},
   "source": [
    "#### Licenses\n",
    "Code is licensed under a 3-clause BSD style license. See the licenses/LICENSE.md file.\n",
    "\n",
    "Other content is provided under a [Creative Commons Attribution-NonCommercial 4.0 International License](http://creativecommons.org/licenses/by-nc/4.0/), CC-BY-NC 4.0.\n",
    "    "
   ]
  },
  {
   "cell_type": "code",
   "execution_count": 3,
   "metadata": {
    "collapsed": false
   },
   "outputs": [
    {
     "data": {
      "text/html": [
       "<style>\n",
       "    @font-face {\n",
       "        font-family: \"Computer Modern\";\n",
       "        src: url('http://9dbb143991406a7c655e-aa5fcb0a5a4ec34cff238a2d56ca4144.r56.cf5.rackcdn.com/cmunss.otf');\n",
       "    }\n",
       "    @font-face {\n",
       "        font-family: \"Computer Modern\";\n",
       "        font-weight: bold;\n",
       "        src: url('http://9dbb143991406a7c655e-aa5fcb0a5a4ec34cff238a2d56ca4144.r56.cf5.rackcdn.com/cmunsx.otf');\n",
       "    }\n",
       "    @font-face {\n",
       "        font-family: \"Computer Modern\";\n",
       "        font-style: oblique;\n",
       "        src: url('http://9dbb143991406a7c655e-aa5fcb0a5a4ec34cff238a2d56ca4144.r56.cf5.rackcdn.com/cmunsi.otf');\n",
       "    }\n",
       "    @font-face {\n",
       "        font-family: \"Computer Modern\";\n",
       "        font-weight: bold;\n",
       "        font-style: oblique;\n",
       "        src: url('http://9dbb143991406a7c655e-aa5fcb0a5a4ec34cff238a2d56ca4144.r56.cf5.rackcdn.com/cmunso.otf');\n",
       "    }\n",
       "    \n",
       "    div.cell{\n",
       "        max-width:1100px;\n",
       "        margin-left:auto;\n",
       "        margin-right:auto;\n",
       "    }\n",
       "    \n",
       "    h1 {\n",
       "        font-family: Computer Modern;\n",
       "    }\n",
       "    \n",
       "    h4{\n",
       "        margin-top:12px;\n",
       "        margin-bottom: 3px;\n",
       "       }\n",
       "\n",
       "    div.text_cell_render{\n",
       "        font-family: Computer Modern, \"Helvetica Neue\", Arial, Helvetica, Geneva, sans-serif;\n",
       "        line-height: 145%;\n",
       "        font-size: 130%;\n",
       "        max-width:1100px;\n",
       "        margin-left:auto;\n",
       "        margin-right:auto;\n",
       "    }\n",
       "    \n",
       "    .CodeMirror{\n",
       "            font-family: \"Source Code Pro\", source-code-pro, Consolas, monospace;\n",
       "    }\n",
       "    \n",
       "    .warning{\n",
       "        color: rgb( 240, 20, 20 )\n",
       "        }  \n",
       "    \n",
       "    hr.style-end {\n",
       "    border: 0;\n",
       "    height: 1px;\n",
       "    text-align: center;\n",
       "    background: #333;\n",
       "    background-image: -webkit-linear-gradient(left, #ccc, #333, #ccc); \n",
       "    background-image:    -moz-linear-gradient(left, #ccc, #333, #ccc); \n",
       "    background-image:     -ms-linear-gradient(left, #ccc, #333, #ccc); \n",
       "    background-image:      -o-linear-gradient(left, #ccc, #333, #ccc); \n",
       "    }\n",
       "\n",
       "    hr.style-end:after {\n",
       "    content: \"⚜\";\n",
       "    display: inline-block;\n",
       "    position: relative; \n",
       "    top: -0.5em;  \n",
       "    font-size: 1.5em;\n",
       "    padding: 0 0.25em;\n",
       "    background: white;\n",
       "    }\n",
       "    \n",
       "/*  Center figures, etc\n",
       "    .ui-wrapper {\n",
       "        margin-left: auto !important;\n",
       "        margin-right: auto !important;\n",
       "    }\n",
       " */\n",
       "    \n",
       "</style>\n",
       "<script>\n",
       "    MathJax.Hub.Config({\n",
       "                        TeX: {\n",
       "                           extensions: [\"AMSmath.js\"]\n",
       "                           },\n",
       "                tex2jax: {\n",
       "                    inlineMath: [ ['$','$'], [\"\\\\(\",\"\\\\)\"] ],\n",
       "                    displayMath: [ ['$$','$$'], [\"\\\\[\",\"\\\\]\"] ]\n",
       "                },\n",
       "                displayAlign: 'center', // Change this to 'center' to center equations.\n",
       "                \"HTML-CSS\": {\n",
       "                    styles: {'.MathJax_Display': {\"margin\": 4}}\n",
       "                }\n",
       "        });\n",
       "</script>\n"
      ],
      "text/plain": [
       "<IPython.core.display.HTML object>"
      ]
     },
     "execution_count": 3,
     "metadata": {},
     "output_type": "execute_result"
    }
   ],
   "source": [
    "# Ignore this cell - We just update the CSS to make the notebook look a little bit better and easier to read\n",
    "\n",
    "# Improve the notebook styling -- Run this first\n",
    "import codecs\n",
    "from IPython.core.display import HTML\n",
    "css_file = 'styling/CRAWLAB_IPythonNotebook.css'\n",
    "HTML(codecs.open(css_file, 'r', 'utf-8').read())"
   ]
  }
 ],
 "metadata": {
  "kernelspec": {
   "display_name": "Python 3",
   "language": "python",
   "name": "python3"
  },
  "language_info": {
   "codemirror_mode": {
    "name": "ipython",
    "version": 3
   },
   "file_extension": ".py",
   "mimetype": "text/x-python",
   "name": "python",
   "nbconvert_exporter": "python",
   "pygments_lexer": "ipython3",
   "version": "3.4.3"
  }
 },
 "nbformat": 4,
 "nbformat_minor": 0
}
