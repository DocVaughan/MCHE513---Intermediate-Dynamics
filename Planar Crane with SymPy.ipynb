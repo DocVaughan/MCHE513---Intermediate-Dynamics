{
 "cells": [
  {
   "cell_type": "markdown",
   "metadata": {},
   "source": [
    "<h1 style=\"text-align:center\">Planar Crane Example</h1>\n",
    "<h3 style=\"text-align:center\">MCHE 513: Intermediate Dynamics</h3> \n",
    "<p style=\"text-align:center\">Dr. Joshua Vaughan <br>\n",
    "<a href=\"mailto:joshua.vaughan@louisiana.edu\">joshua.vaughan@louisiana.edu</a><br>\n",
    "<a href=\"http://www.ucs.louisiana.edu/~jev9637/\">http://www.ucs.louisiana.edu/~jev9637/</a></p>"
   ]
  },
  {
   "cell_type": "markdown",
   "metadata": {},
   "source": [
    "In this example, we'll determine the equations of motion for the planar crane model shown in Figure 1. The system consists of a point mass, $m$, connected to the crane trolley, which has mass $m_t$, by an ideal pin via a massless rod of length $l$. The rotation of the suspension cable is represented by $\\theta$. There is a force, $f$, acting on the crane trolley.\n",
    "\n",
    "<p style=\"text-align:center\">\n",
    "\t<img src=\"http://shared.crawlab.org/crane_forwardAngle.png\" alt=\"Planar Crane\" width=35%><br>\n",
    "    <strong>Figure 1: Planar Crane Model</strong>\n",
    "</p>"
   ]
  },
  {
   "cell_type": "code",
   "execution_count": 1,
   "metadata": {
    "collapsed": true
   },
   "outputs": [],
   "source": [
    "# Import the SymPy Module\n",
    "import sympy\n",
    "\n",
    "# Import the necessary sub-modules and methods for dynamics\n",
    "from sympy.physics.mechanics import dynamicsymbols\n",
    "from sympy.physics.mechanics import LagrangesMethod, Lagrangian\n",
    "from sympy.physics.mechanics import Particle, Point, ReferenceFrame\n",
    "\n",
    "# initiate better printing of SymPy results\n",
    "sympy.init_printing()"
   ]
  },
  {
   "cell_type": "code",
   "execution_count": 2,
   "metadata": {
    "collapsed": true
   },
   "outputs": [],
   "source": [
    "# Define the genearlized coordinates and other dynamic symbols\n",
    "x, theta, f = dynamicsymbols('x theta f')\n",
    "\n",
    "# Also define the first derivatives\n",
    "x_dot, theta_dot = dynamicsymbols('x theta', 1)\n",
    "\n",
    "# Define the symbols for the other paramters\n",
    "m, mt, g, l, t = sympy.symbols('m, m_t, g, l, t')"
   ]
  },
  {
   "cell_type": "code",
   "execution_count": 3,
   "metadata": {
    "collapsed": false
   },
   "outputs": [
    {
     "data": {
      "image/png": "[encoded data removed]",
      "text/latex": [
       "$$g l m \\cos{\\left (\\theta{\\left (t \\right )} \\right )} + \\frac{l^{2} m}{2} \\left(\\frac{d}{d t} \\theta{\\left (t \\right )}\\right)^{2} + l m \\cos{\\left (\\theta{\\left (t \\right )} \\right )} \\frac{d}{d t} \\theta{\\left (t \\right )} \\frac{d}{d t} x{\\left (t \\right )} + \\frac{m}{2} \\left(\\frac{d}{d t} x{\\left (t \\right )}\\right)^{2} + \\frac{m_{t}}{2} \\left(\\frac{d}{d t} x{\\left (t \\right )}\\right)^{2}$$"
      ],
      "text/plain": [
       "                                 2                                            \n",
       "                   2   ⎛d       ⎞                                        ⎛d   \n",
       "                  l ⋅m⋅⎜──(θ(t))⎟                                      m⋅⎜──(x\n",
       "                       ⎝dt      ⎠                  d        d            ⎝dt  \n",
       "g⋅l⋅m⋅cos(θ(t)) + ──────────────── + l⋅m⋅cos(θ(t))⋅──(θ(t))⋅──(x(t)) + ───────\n",
       "                         2                         dt       dt               2\n",
       "\n",
       "     2                 2\n",
       "    ⎞        ⎛d       ⎞ \n",
       "(t))⎟    m_t⋅⎜──(x(t))⎟ \n",
       "    ⎠        ⎝dt      ⎠ \n",
       "────── + ───────────────\n",
       "                2       "
      ]
     },
     "execution_count": 3,
     "metadata": {},
     "output_type": "execute_result"
    }
   ],
   "source": [
    "# Define the Newtonian reference frame\n",
    "N = ReferenceFrame('N')\n",
    "\n",
    "# Define a body-fixed frame along the pendulum, with y aligned from m to the pin\n",
    "A = N.orientnew('A', 'Axis', [theta, N.z])\n",
    "\n",
    "# Define the trolley point and its velocity\n",
    "T = Point('T')\n",
    "T.set_vel(N, x_dot * N.x)\n",
    "\n",
    "# Treat the trolley as a particle\n",
    "mtr = Particle('mtr', T, mt)\n",
    "\n",
    "# Define the payload point and set its velocity\n",
    "P = Point('P')\n",
    "P.set_vel(N, x_dot * N.x + l * theta_dot * A.x)\n",
    "\n",
    "# The payload is a particle (a point mass)\n",
    "mp = Particle('mp', P, m)\n",
    "\n",
    "# Define the potential energy of the payload - just gravity here\n",
    "mp.set_potential_energy(-m * g * l * sympy.cos(theta))\n",
    "\n",
    "# Set up the force list - each item follows the form:\n",
    "#    (the location where the force is applied, its magnitude and direction)\n",
    "forces = [(T, f * N.x)]\n",
    "\n",
    "# Form the Lagrangian, then simplify and print\n",
    "L = Lagrangian(N, mtr, mp)\n",
    "L.simplify()"
   ]
  },
  {
   "cell_type": "code",
   "execution_count": 4,
   "metadata": {
    "collapsed": false
   },
   "outputs": [],
   "source": [
    "# This creates a LagrangesMethod class instance that will allow us to form the equations of motion, etc\n",
    "LM = LagrangesMethod(L, [x, theta], forcelist = forces, frame = N)"
   ]
  },
  {
   "cell_type": "code",
   "execution_count": 5,
   "metadata": {
    "collapsed": false
   },
   "outputs": [
    {
     "data": {
      "image/png": "[encoded data removed]",
      "text/latex": [
       "$$\\left[\\begin{matrix}- l m \\sin{\\left (\\theta{\\left (t \\right )} \\right )} \\left(\\frac{d}{d t} \\theta{\\left (t \\right )}\\right)^{2} + l m \\cos{\\left (\\theta{\\left (t \\right )} \\right )} \\frac{d^{2}}{d t^{2}}  \\theta{\\left (t \\right )} + m \\frac{d^{2}}{d t^{2}}  x{\\left (t \\right )} + m_{t} \\frac{d^{2}}{d t^{2}}  x{\\left (t \\right )} - f{\\left (t \\right )}\\\\g l m \\sin{\\left (\\theta{\\left (t \\right )} \\right )} + l^{2} m \\frac{d^{2}}{d t^{2}}  \\theta{\\left (t \\right )} + l m \\cos{\\left (\\theta{\\left (t \\right )} \\right )} \\frac{d^{2}}{d t^{2}}  x{\\left (t \\right )}\\end{matrix}\\right]$$"
      ],
      "text/plain": [
       "⎡                          2                   2             2               2\n",
       "⎢                ⎛d       ⎞                   d             d               d \n",
       "⎢- l⋅m⋅sin(θ(t))⋅⎜──(θ(t))⎟  + l⋅m⋅cos(θ(t))⋅───(θ(t)) + m⋅───(x(t)) + m_t⋅───\n",
       "⎢                ⎝dt      ⎠                    2             2               2\n",
       "⎢                                            dt            dt              dt \n",
       "⎢                                                                             \n",
       "⎢                                         2                         2         \n",
       "⎢                                   2    d                         d          \n",
       "⎢                g⋅l⋅m⋅sin(θ(t)) + l ⋅m⋅───(θ(t)) + l⋅m⋅cos(θ(t))⋅───(x(t))   \n",
       "⎢                                         2                         2         \n",
       "⎣                                       dt                        dt          \n",
       "\n",
       "             ⎤\n",
       "             ⎥\n",
       "(x(t)) - f(t)⎥\n",
       "             ⎥\n",
       "             ⎥\n",
       "             ⎥\n",
       "             ⎥\n",
       "             ⎥\n",
       "             ⎥\n",
       "             ⎥\n",
       "             ⎦"
      ]
     },
     "execution_count": 5,
     "metadata": {},
     "output_type": "execute_result"
    }
   ],
   "source": [
    "LM.form_lagranges_equations()"
   ]
  },
  {
   "cell_type": "markdown",
   "metadata": {},
   "source": [
    "The <tt>LagrangesMethod</tt> class gives us lots of information about the system. For example, we can output the mass/inertia matrix and the forcing terms. Note that the forcing terms include what might be conservative forces and would therefore normally appear in a stiffness matrix."
   ]
  },
  {
   "cell_type": "code",
   "execution_count": 6,
   "metadata": {
    "collapsed": false
   },
   "outputs": [
    {
     "data": {
      "image/png": "[encoded data removed]",
      "text/latex": [
       "$$\\left[\\begin{matrix}m + m_{t} & l m \\cos{\\left (\\theta{\\left (t \\right )} \\right )}\\\\l m \\cos{\\left (\\theta{\\left (t \\right )} \\right )} & l^{2} m\\end{matrix}\\right]$$"
      ],
      "text/plain": [
       "⎡   m + m_t     l⋅m⋅cos(θ(t))⎤\n",
       "⎢                            ⎥\n",
       "⎢                    2       ⎥\n",
       "⎣l⋅m⋅cos(θ(t))      l ⋅m     ⎦"
      ]
     },
     "execution_count": 6,
     "metadata": {},
     "output_type": "execute_result"
    }
   ],
   "source": [
    "# Output the inertia/mass matrix of the system\n",
    "LM.mass_matrix"
   ]
  },
  {
   "cell_type": "code",
   "execution_count": 7,
   "metadata": {
    "collapsed": false
   },
   "outputs": [
    {
     "data": {
      "image/png": "[encoded data removed]",
      "text/latex": [
       "$$\\left[\\begin{matrix}l m \\sin{\\left (\\theta{\\left (t \\right )} \\right )} \\left(\\frac{d}{d t} \\theta{\\left (t \\right )}\\right)^{2} + f{\\left (t \\right )}\\\\- g l m \\sin{\\left (\\theta{\\left (t \\right )} \\right )}\\end{matrix}\\right]$$"
      ],
      "text/plain": [
       "⎡                        2       ⎤\n",
       "⎢              ⎛d       ⎞        ⎥\n",
       "⎢l⋅m⋅sin(θ(t))⋅⎜──(θ(t))⎟  + f(t)⎥\n",
       "⎢              ⎝dt      ⎠        ⎥\n",
       "⎢                                ⎥\n",
       "⎣        -g⋅l⋅m⋅sin(θ(t))        ⎦"
      ]
     },
     "execution_count": 7,
     "metadata": {},
     "output_type": "execute_result"
    }
   ],
   "source": [
    "# Output the forcing terms of the system\n",
    "LM.forcing"
   ]
  },
  {
   "cell_type": "markdown",
   "metadata": {},
   "source": [
    "We can also use builtin functions to write the sytsem as a set of first order ODEs, suitable for simluation."
   ]
  },
  {
   "cell_type": "code",
   "execution_count": 8,
   "metadata": {
    "collapsed": false
   },
   "outputs": [
    {
     "data": {
      "image/png": "[encoded data removed]",
      "text/latex": [
       "$$\\left[\\begin{matrix}\\frac{d}{d t} x{\\left (t \\right )}\\\\\\frac{d}{d t} \\theta{\\left (t \\right )}\\\\\\frac{1}{m \\sin^{2}{\\left (\\theta{\\left (t \\right )} \\right )} + m_{t}} \\left(\\frac{g m}{2} \\sin{\\left (2 \\theta{\\left (t \\right )} \\right )} + l m \\sin{\\left (\\theta{\\left (t \\right )} \\right )} \\left(\\frac{d}{d t} \\theta{\\left (t \\right )}\\right)^{2} + f{\\left (t \\right )}\\right)\\\\- \\frac{1}{l \\left(m \\sin^{2}{\\left (\\theta{\\left (t \\right )} \\right )} + m_{t}\\right)} \\left(g \\left(m + m_{t}\\right) \\sin{\\left (\\theta{\\left (t \\right )} \\right )} + \\left(l m \\sin{\\left (\\theta{\\left (t \\right )} \\right )} \\left(\\frac{d}{d t} \\theta{\\left (t \\right )}\\right)^{2} + f{\\left (t \\right )}\\right) \\cos{\\left (\\theta{\\left (t \\right )} \\right )}\\right)\\end{matrix}\\right]$$"
      ],
      "text/plain": [
       "⎡                                d                                       ⎤\n",
       "⎢                                ──(x(t))                                ⎥\n",
       "⎢                                dt                                      ⎥\n",
       "⎢                                                                        ⎥\n",
       "⎢                                d                                       ⎥\n",
       "⎢                                ──(θ(t))                                ⎥\n",
       "⎢                                dt                                      ⎥\n",
       "⎢                                                                        ⎥\n",
       "⎢                                                     2                  ⎥\n",
       "⎢           g⋅m⋅sin(2⋅θ(t))                 ⎛d       ⎞                   ⎥\n",
       "⎢           ─────────────── + l⋅m⋅sin(θ(t))⋅⎜──(θ(t))⎟  + f(t)           ⎥\n",
       "⎢                  2                        ⎝dt      ⎠                   ⎥\n",
       "⎢           ──────────────────────────────────────────────────           ⎥\n",
       "⎢                                2                                       ⎥\n",
       "⎢                           m⋅sin (θ(t)) + m_t                           ⎥\n",
       "⎢                                                                        ⎥\n",
       "⎢ ⎛                        ⎛                        2       ⎞          ⎞ ⎥\n",
       "⎢ ⎜                        ⎜              ⎛d       ⎞        ⎟          ⎟ ⎥\n",
       "⎢-⎜g⋅(m + m_t)⋅sin(θ(t)) + ⎜l⋅m⋅sin(θ(t))⋅⎜──(θ(t))⎟  + f(t)⎟⋅cos(θ(t))⎟ ⎥\n",
       "⎢ ⎝                        ⎝              ⎝dt      ⎠        ⎠          ⎠ ⎥\n",
       "⎢────────────────────────────────────────────────────────────────────────⎥\n",
       "⎢                           ⎛     2            ⎞                         ⎥\n",
       "⎣                         l⋅⎝m⋅sin (θ(t)) + m_t⎠                         ⎦"
      ]
     },
     "execution_count": 8,
     "metadata": {},
     "output_type": "execute_result"
    }
   ],
   "source": [
    "# Make the call to set up in state-space-ish form q_dot = f(q, t)\n",
    "lrhs = LM.rhs()\n",
    "\n",
    "# Simplify the results\n",
    "lrhs.simplify()\n",
    "\n",
    "# Output the result\n",
    "lrhs"
   ]
  },
  {
   "cell_type": "markdown",
   "metadata": {},
   "source": [
    "We can also linearize these equations with builtin SymPy methods. Let's do so about the operating point:\n",
    "\n",
    "$$ x = \\dot{x} = \\theta = \\dot{\\theta} = 0 $$\n",
    "\n",
    "The resulting equations returned are a system of first order ODEs in state-space form:\n",
    "\n",
    "$$ \\dot{x} = Ax + Bu $$\n",
    "\n",
    "See the [SymPy Documentation](http://docs.sympy.org/0.7.6/modules/physics/mechanics/linearize.html#linearizing-lagrange-s-equations) for much more information."
   ]
  },
  {
   "cell_type": "code",
   "execution_count": 9,
   "metadata": {
    "collapsed": false
   },
   "outputs": [],
   "source": [
    "# Define the point to linearize around\n",
    "operating_point = {x: 0.0, x_dot: 0.0, theta: 0.0, theta_dot: 0.0}\n",
    "\n",
    "# Make the call to the linearizer\n",
    "A, B, inp_vec = LM.linearize([x, theta], \n",
    "                             [x_dot, theta_dot],\n",
    "                             op_point = operating_point, \n",
    "                             A_and_B = True)"
   ]
  },
  {
   "cell_type": "code",
   "execution_count": 10,
   "metadata": {
    "collapsed": false
   },
   "outputs": [
    {
     "data": {
      "image/png": "[encoded data removed]",
      "text/latex": [
       "$$\\left[\\begin{matrix}0 & 0 & 1 & 0\\\\0 & 0 & 0 & 1\\\\0 & \\frac{g l^{2} m^{2}}{\\left(m + m_{t}\\right) \\left(- \\frac{l^{2} m^{2}}{m + m_{t}} + l^{2} m\\right)} & 0 & 0\\\\0 & - \\frac{g l m}{- \\frac{l^{2} m^{2}}{m + m_{t}} + l^{2} m} & 0 & 0\\end{matrix}\\right]$$"
      ],
      "text/plain": [
       "⎡0               0                1  0⎤\n",
       "⎢                                     ⎥\n",
       "⎢0               0                0  1⎥\n",
       "⎢                                     ⎥\n",
       "⎢                2  2                 ⎥\n",
       "⎢             g⋅l ⋅m                  ⎥\n",
       "⎢0  ────────────────────────────  0  0⎥\n",
       "⎢             ⎛    2  2        ⎞      ⎥\n",
       "⎢             ⎜   l ⋅m      2  ⎟      ⎥\n",
       "⎢   (m + m_t)⋅⎜- ─────── + l ⋅m⎟      ⎥\n",
       "⎢             ⎝  m + m_t       ⎠      ⎥\n",
       "⎢                                     ⎥\n",
       "⎢             -g⋅l⋅m                  ⎥\n",
       "⎢0        ────────────────        0  0⎥\n",
       "⎢             2  2                    ⎥\n",
       "⎢            l ⋅m      2              ⎥\n",
       "⎢         - ─────── + l ⋅m            ⎥\n",
       "⎣           m + m_t                   ⎦"
      ]
     },
     "execution_count": 10,
     "metadata": {},
     "output_type": "execute_result"
    }
   ],
   "source": [
    "A"
   ]
  },
  {
   "cell_type": "code",
   "execution_count": 11,
   "metadata": {
    "collapsed": false
   },
   "outputs": [
    {
     "data": {
      "image/png": "[encoded data removed]",
      "text/latex": [
       "$$\\left[\\begin{matrix}0\\\\0\\\\\\frac{1}{m + m_{t}} \\left(\\frac{l^{2} m^{2}}{\\left(m + m_{t}\\right) \\left(- \\frac{l^{2} m^{2}}{m + m_{t}} + l^{2} m\\right)} + 1\\right)\\\\- \\frac{l m}{\\left(m + m_{t}\\right) \\left(- \\frac{l^{2} m^{2}}{m + m_{t}} + l^{2} m\\right)}\\end{matrix}\\right]$$"
      ],
      "text/plain": [
       "⎡               0                ⎤\n",
       "⎢                                ⎥\n",
       "⎢               0                ⎥\n",
       "⎢                                ⎥\n",
       "⎢            2  2                ⎥\n",
       "⎢           l ⋅m                 ⎥\n",
       "⎢──────────────────────────── + 1⎥\n",
       "⎢          ⎛    2  2        ⎞    ⎥\n",
       "⎢          ⎜   l ⋅m      2  ⎟    ⎥\n",
       "⎢(m + m_t)⋅⎜- ─────── + l ⋅m⎟    ⎥\n",
       "⎢          ⎝  m + m_t       ⎠    ⎥\n",
       "⎢────────────────────────────────⎥\n",
       "⎢            m + m_t             ⎥\n",
       "⎢                                ⎥\n",
       "⎢             -l⋅m               ⎥\n",
       "⎢  ────────────────────────────  ⎥\n",
       "⎢            ⎛    2  2        ⎞  ⎥\n",
       "⎢            ⎜   l ⋅m      2  ⎟  ⎥\n",
       "⎢  (m + m_t)⋅⎜- ─────── + l ⋅m⎟  ⎥\n",
       "⎣            ⎝  m + m_t       ⎠  ⎦"
      ]
     },
     "execution_count": 11,
     "metadata": {},
     "output_type": "execute_result"
    }
   ],
   "source": [
    "B"
   ]
  },
  {
   "cell_type": "markdown",
   "metadata": {},
   "source": [
    "Given these two matrices, the system of equations match those that we'd expect:\n",
    "\n",
    "$$ \\begin{bmatrix}\\dot{w}_1 \\\\ \\dot{w}_2 \\\\ \\dot{w}_3 \\\\ \\dot{w}_4\\end{bmatrix} = A \\begin{bmatrix}w_1 \\\\ w_2 \\\\ w_3 \\\\ w_4 \\end{bmatrix} + B f(t)$$\n",
    "\n",
    "where:\n",
    "\n",
    "$$ \\mathbf{w} = \\begin{bmatrix}w_1 \\\\ w_2 \\\\ w_3 \\\\ w_4 \\end{bmatrix} = \\begin{bmatrix}x \\\\ \\theta \\\\ \\dot{x} \\\\ \\dot{\\theta}\\end{bmatrix} $$"
   ]
  },
  {
   "cell_type": "markdown",
   "metadata": {},
   "source": [
    "## Simulation\n",
    "We can pass these equations of motion to numerical solver for simluation. To do so, we need to import [NumPy](http://numpy.org) and the [SciPy](http://www.scipy.org) ode solver, ```ode```. We'll also import [matplotlib](http://www.scipy.org) to enable plotting of the results.\n",
    "\n",
    "For a system as simple as this one, we could easily set up the necessary components for the numerical simulation manually. However, here will automate as much as possible. Following a similar procedure on more complicated systems would be necessary."
   ]
  },
  {
   "cell_type": "code",
   "execution_count": 12,
   "metadata": {
    "collapsed": false
   },
   "outputs": [],
   "source": [
    "# import NumPy with namespace np\n",
    "import numpy as np\n",
    "\n",
    "# import the ode ODE solver\n",
    "from scipy.integrate import ode\n",
    "\n",
    "# import the plotting functions from matplotlib\n",
    "import matplotlib.pyplot as plt\n",
    "\n",
    "# set up the notebook to display the plots inline\n",
    "%matplotlib inline"
   ]
  },
  {
   "cell_type": "markdown",
   "metadata": {},
   "source": [
    "Let's define the forcing function, so that it can be substituted into the generated equations of motion. Here, we'll use a simple bang-bang input."
   ]
  },
  {
   "cell_type": "code",
   "execution_count": 13,
   "metadata": {
    "collapsed": true
   },
   "outputs": [],
   "source": [
    "# define the forcing function\n",
    "def force(t):\n",
    "    # set the maximum force output\n",
    "    fmax = 10.0\n",
    "    \n",
    "    # return a bang-bang command\n",
    "    return fmax * ((t > 0.25) - 2 * (t >= 1.25) + (t >= 2.25))"
   ]
  },
  {
   "cell_type": "markdown",
   "metadata": {},
   "source": [
    "Let's plot the input to make sure it matches the bang-bang profile we precribed."
   ]
  },
  {
   "cell_type": "code",
   "execution_count": 14,
   "metadata": {
    "collapsed": false
   },
   "outputs": [
    {
     "data": {
      "image/png": "[encoded data removed]",
      "text/plain": [
       "<matplotlib.figure.Figure at 0x110275a90>"
      ]
     },
     "metadata": {},
     "output_type": "display_data"
    }
   ],
   "source": [
    "# Set the plot size - 3x2 aspect ratio is best\n",
    "fig = plt.figure(figsize=(6, 4))\n",
    "ax = plt.gca()\n",
    "plt.subplots_adjust(bottom=0.17, left=0.17, top=0.96, right=0.96)\n",
    "\n",
    "# Change the axis units to serif\n",
    "plt.setp(ax.get_ymajorticklabels(), family='serif', fontsize=18)\n",
    "plt.setp(ax.get_xmajorticklabels(), family='serif', fontsize=18)\n",
    "\n",
    "ax.spines['right'].set_color('none')\n",
    "ax.spines['top'].set_color('none')\n",
    "\n",
    "ax.xaxis.set_ticks_position('bottom')\n",
    "ax.yaxis.set_ticks_position('left')\n",
    "\n",
    "# Turn on the plot grid and set appropriate linestyle and color\n",
    "ax.grid(True,linestyle=':', color='0.75')\n",
    "ax.set_axisbelow(True)\n",
    "\n",
    "# Define the X and Y axis labels\n",
    "plt.xlabel('Time (s)', family='serif', fontsize=22, weight='bold', labelpad=5)\n",
    "plt.ylabel('Force (N)', family='serif', fontsize=22, weight='bold', labelpad=10)\n",
    "\n",
    "# Plot the force over 10 seconds\n",
    "force_plot_time = np.linspace(0.0, 10.0, 1001)\n",
    "plt.plot(force_plot_time, force(force_plot_time), linewidth=2, linestyle='-', label=r'Force')\n",
    "\n",
    "# uncomment below and set limits if needed\n",
    "# plt.xlim(0, 5)\n",
    "# plt.ylim(0, 10)\n",
    "\n",
    "# Create the legend, then fix the fontsize\n",
    "# leg = plt.legend(loc='upper right', ncol = 1, fancybox=True)\n",
    "# ltext  = leg.get_texts()\n",
    "# plt.setp(ltext, family='serif', fontsize=20)\n",
    "\n",
    "# Adjust the page layout filling the page using the new tight_layout command\n",
    "plt.tight_layout(pad=0.5)\n",
    "\n",
    "# Uncomment to save the figure as a high-res pdf in the current folder\n",
    "# It's saved at the original 6x4 size\n",
    "# plt.savefig('Bang_Bang_Force.pdf')\n",
    "\n",
    "fig.set_size_inches(9, 6) # Resize the figure for better display in the notebook"
   ]
  },
  {
   "cell_type": "markdown",
   "metadata": {},
   "source": [
    "From this plot, you can see why this type of command is called bang-bang. It \"bangs\" on, then \"bangs\" negative, then is zero for all other time.\n",
    "\n",
    "Now, let's continue setting up the simluation by creating a version of the generated equations of motion that we can use in a numerical ODE solver."
   ]
  },
  {
   "cell_type": "code",
   "execution_count": 15,
   "metadata": {
    "collapsed": false
   },
   "outputs": [],
   "source": [
    "# Define the states and state vector\n",
    "w1, w2, w3, w4 = sympy.symbols('w1 w2 w3 w4', cls=sympy.Function)\n",
    "w = [w1(t), w2(t), w3(t), w4(t)]\n",
    "\n",
    "# Set up the state definitions and parameter substitution\n",
    "sub_params = {x : w1(t),\n",
    "              theta : w2(t), \n",
    "              x_dot : w3(t),\n",
    "              theta_dot : w4(t), \n",
    "              mt : 10.0,\n",
    "              m : 1.0,\n",
    "              g : 9.81, \n",
    "              l : 2.0, \n",
    "              f: force(t)}\n",
    "\n",
    "# set this parameter to enable array output from sympy.lambdify\n",
    "mat2array = [{'ImmutableMatrix': np.array}, 'numpy']\n",
    "\n",
    "# Create a function from the equations of motion\n",
    "# Here, we substitude the states and parameters as appropriate prior to the lamdification\n",
    "eq_of_motion = sympy.lambdify((t, w), \n",
    "                              lrhs.subs(sub_params), \n",
    "                              modules = mat2array)"
   ]
  },
  {
   "cell_type": "code",
   "execution_count": 16,
   "metadata": {
    "collapsed": true
   },
   "outputs": [],
   "source": [
    "# Set up the initial conditions for the solver\n",
    "x_init = 0.0                   # Initial trolley position (m)\n",
    "x_dot_init = 0.0               # Initial trolley velocity (m/s)\n",
    "theta_init = 0.0 * np.pi/180   # Initial angle (rad)\n",
    "theta_dot_init = 0.0           # Initial angular velocity (rad/s)\n",
    "\n",
    "# Pack the initial conditions into an array\n",
    "x0 = [x_init, theta_init, x_dot_init, theta_dot_init]\n",
    "\n",
    "# Create the time samples for the output of the ODE solver\n",
    "sim_time = np.linspace(0.0, 10.0, 1001) # 0-10s with 1001 points in between"
   ]
  },
  {
   "cell_type": "code",
   "execution_count": 17,
   "metadata": {
    "collapsed": false
   },
   "outputs": [],
   "source": [
    "# Set up the initial point for the ode solver\n",
    "r = ode(eq_of_motion).set_initial_value(x0, sim_time[0])\n",
    " \n",
    "# define the sample time\n",
    "dt = sim_time[1] - sim_time[0]   \n",
    "\n",
    "# pre-populate the response array with zeros\n",
    "response = np.zeros((len(sim_time), len(x0)))\n",
    "\n",
    "# Set the initial index to 0\n",
    "index = 0\n",
    "\n",
    "# Now, numerically integrate the ODE while:\n",
    "#   1. the last step was successful\n",
    "#   2. the current time is less than the desired simluation end time\n",
    "while r.successful() and r.t < sim_time[-1]:\n",
    "    response[index, :] = r.y\n",
    "    r.integrate(r.t + dt)\n",
    "    index += 1"
   ]
  },
  {
   "cell_type": "markdown",
   "metadata": {},
   "source": [
    "Now, let's plot the results. The first column of the ```response``` vector is the position of the trolley, $x$, and the second column of the ```response``` vector is the angle of the pendulum, $\\theta$. We'll plot both below, after setting up plotting parameters to make the plot more readable."
   ]
  },
  {
   "cell_type": "code",
   "execution_count": 18,
   "metadata": {
    "collapsed": false
   },
   "outputs": [
    {
     "data": {
      "image/png": "[encoded data removed]",
      "text/plain": [
       "<matplotlib.figure.Figure at 0x11231ff28>"
      ]
     },
     "metadata": {},
     "output_type": "display_data"
    }
   ],
   "source": [
    "# Plot the payload response\n",
    "\n",
    "# Set the plot size - 3x2 aspect ratio is best\n",
    "fig = plt.figure(figsize=(6, 4))\n",
    "ax = plt.gca()\n",
    "plt.subplots_adjust(bottom=0.17, left=0.17, top=0.96, right=0.96)\n",
    "\n",
    "# Change the axis units to serif\n",
    "plt.setp(ax.get_ymajorticklabels(), family='serif', fontsize=18)\n",
    "plt.setp(ax.get_xmajorticklabels(), family='serif', fontsize=18)\n",
    "\n",
    "# Remove top and right axes border\n",
    "ax.spines['right'].set_color('none')\n",
    "ax.spines['top'].set_color('none')\n",
    "\n",
    "# Only show axes ticks on the bottom and left axes\n",
    "ax.xaxis.set_ticks_position('bottom')\n",
    "ax.yaxis.set_ticks_position('left')\n",
    "\n",
    "# Turn on the plot grid and set appropriate linestyle and color\n",
    "ax.grid(True,linestyle=':', color='0.75')\n",
    "ax.set_axisbelow(True)\n",
    "\n",
    "# Define the X and Y axis labels\n",
    "plt.xlabel('Time (s)', family='serif', fontsize=22, weight='bold', labelpad=5)\n",
    "plt.ylabel('Position (m)', family='serif', fontsize=22, weight='bold', labelpad=10)\n",
    "\n",
    "# Plot the data\n",
    "plt.plot(sim_time, response[:, 0], linewidth=2, linestyle='-', label = '$x$')\n",
    "\n",
    "# uncomment below and set limits if needed\n",
    "# plt.xlim(0, 5)\n",
    "# plt.ylim(-1, 1)\n",
    "\n",
    "# Create the legend, then fix the fontsize\n",
    "# leg = plt.legend(loc='upper right', ncol = 1, fancybox=True)\n",
    "# ltext  = leg.get_texts()\n",
    "# plt.setp(ltext, family='serif', fontsize=20)\n",
    "\n",
    "# Adjust the page layout filling the page using the new tight_layout command\n",
    "plt.tight_layout(pad=0.5)\n",
    "\n",
    "# Uncomment to save the figure as a high-res pdf in the current folder\n",
    "# It's saved at the original 6x4 size\n",
    "# plt.savefig('Trolley_Response.pdf')\n",
    "\n",
    "fig.set_size_inches(9, 6) # Resize the figure for better display in the notebook"
   ]
  },
  {
   "cell_type": "markdown",
   "metadata": {},
   "source": [
    "Now, let's plot the suspension cable angle, $\\theta$."
   ]
  },
  {
   "cell_type": "code",
   "execution_count": 19,
   "metadata": {
    "collapsed": false
   },
   "outputs": [
    {
     "data": {
      "image/png": "[encoded data removed]",
      "text/plain": [
       "<matplotlib.figure.Figure at 0x112494390>"
      ]
     },
     "metadata": {},
     "output_type": "display_data"
    }
   ],
   "source": [
    "# Set the plot size - 3x2 aspect ratio is best\n",
    "fig = plt.figure(figsize=(6, 4))\n",
    "ax = plt.gca()\n",
    "plt.subplots_adjust(bottom=0.17, left=0.17, top=0.96, right=0.96)\n",
    "\n",
    "# Change the axis units to serif\n",
    "plt.setp(ax.get_ymajorticklabels(), family='serif', fontsize=18)\n",
    "plt.setp(ax.get_xmajorticklabels(), family='serif', fontsize=18)\n",
    "\n",
    "# Remove top and right axes border\n",
    "ax.spines['right'].set_color('none')\n",
    "ax.spines['top'].set_color('none')\n",
    "\n",
    "# Only show axes ticks on the bottom and left axes\n",
    "ax.xaxis.set_ticks_position('bottom')\n",
    "ax.yaxis.set_ticks_position('left')\n",
    "\n",
    "# Turn on the plot grid and set appropriate linestyle and color\n",
    "ax.grid(True,linestyle=':', color='0.75')\n",
    "ax.set_axisbelow(True)\n",
    "\n",
    "# Define the X and Y axis labels\n",
    "plt.xlabel('Time (s)', family='serif', fontsize=22, weight='bold', labelpad=5)\n",
    "plt.ylabel('Angle (deg)', family='serif', fontsize=22, weight='bold', labelpad=10)\n",
    "\n",
    "# Plot the data\n",
    "plt.plot(sim_time, response[:, 1] * 180/np.pi, linewidth=2, linestyle='-', label = '$\\theta$')\n",
    "\n",
    "# uncomment below and set limits if needed\n",
    "# plt.xlim(0, 5)\n",
    "# plt.ylim(-1, 1)\n",
    "\n",
    "# Create the legend, then fix the fontsize\n",
    "# leg = plt.legend(loc='upper right', ncol = 1, fancybox=True)\n",
    "# ltext  = leg.get_texts()\n",
    "# plt.setp(ltext, family='serif', fontsize=20)\n",
    "\n",
    "# Adjust the page layout filling the page using the new tight_layout command\n",
    "plt.tight_layout(pad=0.5)\n",
    "\n",
    "# Uncomment to save the figure as a high-res pdf in the current folder\n",
    "# It's saved at the original 6x4 size\n",
    "# plt.savefig('Payload_Response.pdf')\n",
    "\n",
    "fig.set_size_inches(9, 6) # Resize the figure for better display in the notebook"
   ]
  },
  {
   "cell_type": "markdown",
   "metadata": {},
   "source": [
    "We can also plot the horizontal position of the trolley and payload over time, to better understand how they interact. To do so, we need to define the horizontal position of the payload, $x_p$. It is simply the position of the trolley, $x$, plus the horizontal position of the point mass relative to it, $l\\sin{\\theta}$:\n",
    "\n",
    "$$ x_p = x + l\\sin{\\theta} $$"
   ]
  },
  {
   "cell_type": "code",
   "execution_count": 20,
   "metadata": {
    "collapsed": true
   },
   "outputs": [],
   "source": [
    "# Define the horizontal position of the payload\n",
    "xp = response[:,0] + 2.0 * np.sin(response[:,1])"
   ]
  },
  {
   "cell_type": "code",
   "execution_count": 21,
   "metadata": {
    "collapsed": false
   },
   "outputs": [
    {
     "data": {
      "image/png": "[encoded data removed]",
      "text/plain": [
       "<matplotlib.figure.Figure at 0x1124b1dd8>"
      ]
     },
     "metadata": {},
     "output_type": "display_data"
    }
   ],
   "source": [
    "# Now plot the responses together\n",
    "\n",
    "# Set the plot size - 3x2 aspect ratio is best\n",
    "fig = plt.figure(figsize=(6, 4))\n",
    "ax = plt.gca()\n",
    "plt.subplots_adjust(bottom=0.17, left=0.17, top=0.96, right=0.96)\n",
    "\n",
    "# Change the axis units to serif\n",
    "plt.setp(ax.get_ymajorticklabels(), family='serif', fontsize=18)\n",
    "plt.setp(ax.get_xmajorticklabels(), family='serif', fontsize=18)\n",
    "\n",
    "# Remove top and right axes border\n",
    "ax.spines['right'].set_color('none')\n",
    "ax.spines['top'].set_color('none')\n",
    "\n",
    "# Only show axes ticks on the bottom and left axes\n",
    "ax.xaxis.set_ticks_position('bottom')\n",
    "ax.yaxis.set_ticks_position('left')\n",
    "\n",
    "# Turn on the plot grid and set appropriate linestyle and color\n",
    "ax.grid(True,linestyle=':', color='0.75')\n",
    "ax.set_axisbelow(True)\n",
    "\n",
    "# Define the X and Y axis labels\n",
    "plt.xlabel('Time (s)', family='serif', fontsize=22, weight='bold', labelpad=5)\n",
    "plt.ylabel('Position (m)', family='serif', fontsize=22, weight='bold', labelpad=10)\n",
    "\n",
    "# Plot the data\n",
    "plt.plot(sim_time, response[:, 0], linewidth=2, linestyle='--', label = 'Trolley')\n",
    "plt.plot(sim_time, xp, linewidth=2, linestyle='-', label = 'Payload')\n",
    "\n",
    "# uncomment below and set limits if needed\n",
    "# plt.xlim(0, 5)\n",
    "plt.ylim(0, 2)\n",
    "\n",
    "# Create the legend, then fix the fontsize\n",
    "leg = plt.legend(loc='upper right', ncol = 2, fancybox=True)\n",
    "ltext  = leg.get_texts()\n",
    "plt.setp(ltext, family='serif', fontsize=20)\n",
    "\n",
    "# Adjust the page layout filling the page using the new tight_layout command\n",
    "plt.tight_layout(pad=0.5)\n",
    "\n",
    "# Uncomment to save the figure as a high-res pdf in the current folder\n",
    "# It's saved at the original 6x4 size\n",
    "# plt.savefig('TrolleyAndPayload_Response.pdf')\n",
    "\n",
    "fig.set_size_inches(9, 6) # Resize the figure for better display in the notebook"
   ]
  },
  {
   "cell_type": "markdown",
   "metadata": {},
   "source": [
    "Given our choice of masses, we see that the payload is able to back-drive the trolley, causing the trolley to move opposite of the payload once the bang-bang command is over."
   ]
  },
  {
   "cell_type": "markdown",
   "metadata": {},
   "source": [
    "<hr class = \"style-end\">"
   ]
  },
  {
   "cell_type": "markdown",
   "metadata": {},
   "source": [
    "#### Licenses\n",
    "Code is licensed under a 3-clause BSD style license. See the licenses/LICENSE.md file.\n",
    "\n",
    "Other content is provided under a [Creative Commons Attribution-NonCommercial 4.0 International License](http://creativecommons.org/licenses/by-nc/4.0/), CC-BY-NC 4.0."
   ]
  },
  {
   "cell_type": "code",
   "execution_count": 22,
   "metadata": {
    "collapsed": false
   },
   "outputs": [
    {
     "data": {
      "text/html": [
       "<style>\n",
       "    @font-face {\n",
       "        font-family: \"Computer Modern\";\n",
       "        src: url('http://9dbb143991406a7c655e-aa5fcb0a5a4ec34cff238a2d56ca4144.r56.cf5.rackcdn.com/cmunss.otf');\n",
       "    }\n",
       "    @font-face {\n",
       "        font-family: \"Computer Modern\";\n",
       "        font-weight: bold;\n",
       "        src: url('http://9dbb143991406a7c655e-aa5fcb0a5a4ec34cff238a2d56ca4144.r56.cf5.rackcdn.com/cmunsx.otf');\n",
       "    }\n",
       "    @font-face {\n",
       "        font-family: \"Computer Modern\";\n",
       "        font-style: oblique;\n",
       "        src: url('http://9dbb143991406a7c655e-aa5fcb0a5a4ec34cff238a2d56ca4144.r56.cf5.rackcdn.com/cmunsi.otf');\n",
       "    }\n",
       "    @font-face {\n",
       "        font-family: \"Computer Modern\";\n",
       "        font-weight: bold;\n",
       "        font-style: oblique;\n",
       "        src: url('http://9dbb143991406a7c655e-aa5fcb0a5a4ec34cff238a2d56ca4144.r56.cf5.rackcdn.com/cmunso.otf');\n",
       "    }\n",
       "    \n",
       "    div.cell{\n",
       "        max-width:1100px;\n",
       "        margin-left:auto;\n",
       "        margin-right:auto;\n",
       "    }\n",
       "    \n",
       "    h1 {\n",
       "        font-family: Computer Modern;\n",
       "    }\n",
       "    \n",
       "    h4{\n",
       "        margin-top:12px;\n",
       "        margin-bottom: 3px;\n",
       "       }\n",
       "\n",
       "    div.text_cell_render{\n",
       "        font-family: Computer Modern, \"Helvetica Neue\", Arial, Helvetica, Geneva, sans-serif;\n",
       "        line-height: 145%;\n",
       "        font-size: 130%;\n",
       "        max-width:1100px;\n",
       "        margin-left:auto;\n",
       "        margin-right:auto;\n",
       "    }\n",
       "    \n",
       "    .CodeMirror{\n",
       "            font-family: \"Source Code Pro\", source-code-pro, Consolas, monospace;\n",
       "    }\n",
       "    \n",
       "    .warning{\n",
       "        color: rgb( 240, 20, 20 )\n",
       "        }  \n",
       "    \n",
       "    hr.style-end {\n",
       "    border: 0;\n",
       "    height: 1px;\n",
       "    text-align: center;\n",
       "    background: #333;\n",
       "    background-image: -webkit-linear-gradient(left, #ccc, #333, #ccc); \n",
       "    background-image:    -moz-linear-gradient(left, #ccc, #333, #ccc); \n",
       "    background-image:     -ms-linear-gradient(left, #ccc, #333, #ccc); \n",
       "    background-image:      -o-linear-gradient(left, #ccc, #333, #ccc); \n",
       "    }\n",
       "\n",
       "    hr.style-end:after {\n",
       "    content: \"⚜\";\n",
       "    display: inline-block;\n",
       "    position: relative; \n",
       "    top: -0.5em;  \n",
       "    font-size: 1.5em;\n",
       "    padding: 0 0.25em;\n",
       "    background: white;\n",
       "    }\n",
       "    \n",
       "/*  Center figures, etc\n",
       "    .ui-wrapper {\n",
       "        margin-left: auto !important;\n",
       "        margin-right: auto !important;\n",
       "    }\n",
       " */\n",
       "    \n",
       "</style>\n",
       "<script>\n",
       "    MathJax.Hub.Config({\n",
       "                        TeX: {\n",
       "                           extensions: [\"AMSmath.js\"]\n",
       "                           },\n",
       "                tex2jax: {\n",
       "                    inlineMath: [ ['$','$'], [\"\\\\(\",\"\\\\)\"] ],\n",
       "                    displayMath: [ ['$$','$$'], [\"\\\\[\",\"\\\\]\"] ]\n",
       "                },\n",
       "                displayAlign: 'center', // Change this to 'center' to center equations.\n",
       "                \"HTML-CSS\": {\n",
       "                    styles: {'.MathJax_Display': {\"margin\": 4}}\n",
       "                }\n",
       "        });\n",
       "</script>\n"
      ],
      "text/plain": [
       "<IPython.core.display.HTML object>"
      ]
     },
     "execution_count": 22,
     "metadata": {},
     "output_type": "execute_result"
    }
   ],
   "source": [
    "# Ignore this cell - We just update the CSS to make the notebook look a little bit better and easier to read\n",
    "\n",
    "# Improve the notebook styling -- Run this first\n",
    "import codecs\n",
    "from IPython.core.display import HTML\n",
    "css_file = 'styling/CRAWLAB_IPythonNotebook.css'\n",
    "HTML(codecs.open(css_file, 'r', 'utf-8').read())"
   ]
  }
 ],
 "metadata": {
  "kernelspec": {
   "display_name": "Python 3",
   "language": "python",
   "name": "python3"
  },
  "language_info": {
   "codemirror_mode": {
    "name": "ipython",
    "version": 3
   },
   "file_extension": ".py",
   "mimetype": "text/x-python",
   "name": "python",
   "nbconvert_exporter": "python",
   "pygments_lexer": "ipython3",
   "version": "3.4.3"
  }
 },
 "nbformat": 4,
 "nbformat_minor": 0
}
