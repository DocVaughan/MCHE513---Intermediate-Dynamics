{
 "cells": [
  {
   "cell_type": "markdown",
   "metadata": {},
   "source": [
    "<h1 style=\"text-align:center\">Spring Pendulum Example</h1>\n",
    "<h3 style=\"text-align:center\">MCHE 513: Intermediate Dynamics</h3> \n",
    "<p style=\"text-align:center\">Dr. Joshua Vaughan <br>\n",
    "<a href=\"mailto:joshua.vaughan@louisiana.edu\">joshua.vaughan@louisiana.edu</a><br>\n",
    "<a href=\"http://www.ucs.louisiana.edu/~jev9637/\">http://www.ucs.louisiana.edu/~jev9637/</a></p>"
   ]
  },
  {
   "cell_type": "markdown",
   "metadata": {},
   "source": [
    "In this example, we'll determine the equations of motion for the spring pendulum system shown in Figure 1. The system consists of a point mass, $m$, connected to an ideal pin by a spring of stiffness $k$. The rotation of the pendulum is represented by $\\theta$ and the length of the spring by $R$. The equilibrium length of the spring is $L_0$.\n",
    "\n",
    "<p style=\"text-align:center\">\n",
    "\t<img src=\"http://shared.crawlab.org/Spring_Pendulum.png\" alt=\"Spring Pendulum\" width=25%><br>\n",
    "    <strong>Figure 1: Spring Pendulum</strong>\n",
    "</p>"
   ]
  },
  {
   "cell_type": "code",
   "execution_count": 1,
   "metadata": {
    "collapsed": true
   },
   "outputs": [],
   "source": [
    "# Import the SymPy Module\n",
    "import sympy\n",
    "\n",
    "# Import the necessary sub-modules and methods for dynamics\n",
    "from sympy.physics.mechanics import dynamicsymbols\n",
    "from sympy.physics.mechanics import LagrangesMethod, Lagrangian\n",
    "from sympy.physics.mechanics import Particle, Point, ReferenceFrame\n",
    "\n",
    "# initiate better printing of SymPy results\n",
    "sympy.init_printing()"
   ]
  },
  {
   "cell_type": "code",
   "execution_count": 2,
   "metadata": {
    "collapsed": false
   },
   "outputs": [],
   "source": [
    "# Define the genearlized coordinate\n",
    "R, theta = dynamicsymbols('R theta')\n",
    "\n",
    "# Also define the first derivative\n",
    "R_dot, theta_dot = dynamicsymbols('R theta', 1)\n",
    "\n",
    "# Define the symbols for the other paramters\n",
    "m, g, k, l0 = sympy.symbols('m g k l_0')"
   ]
  },
  {
   "cell_type": "code",
   "execution_count": 3,
   "metadata": {
    "collapsed": false
   },
   "outputs": [
    {
     "data": {
      "image/png": "[encoded data removed]",
      "text/latex": [
       "$$g m R{\\left (t \\right )} \\cos{\\left (\\theta{\\left (t \\right )} \\right )} - 0.5 k \\left(- l_{0} + R{\\left (t \\right )}\\right)^{2} + \\frac{m}{2} R^{2}{\\left (t \\right )} \\left(\\frac{d}{d t} \\theta{\\left (t \\right )}\\right)^{2} + \\frac{m}{2} \\left(\\frac{d}{d t} R{\\left (t \\right )}\\right)^{2}$$"
      ],
      "text/plain": [
       "                                                                2             \n",
       "                                                 2    ⎛d       ⎞      ⎛d      \n",
       "                                              m⋅R (t)⋅⎜──(θ(t))⎟    m⋅⎜──(R(t)\n",
       "                                          2           ⎝dt      ⎠      ⎝dt     \n",
       "g⋅m⋅R(t)⋅cos(θ(t)) - - -0.5⋅k⋅(-l₀ + R(t))  + ─────────────────── + ──────────\n",
       "                                                       2                  2   \n",
       "\n",
       "  2\n",
       " ⎞ \n",
       ")⎟ \n",
       " ⎠ \n",
       "───\n",
       "   "
      ]
     },
     "execution_count": 3,
     "metadata": {},
     "output_type": "execute_result"
    }
   ],
   "source": [
    "# Define the Newtonian reference frame\n",
    "N = ReferenceFrame('N')\n",
    "\n",
    "# Define a body-fixed frame along the pendulum, with y aligned from m to the pin\n",
    "A = N.orientnew('A', 'Axis', [theta, N.z])\n",
    "\n",
    "# Define the points and set its velocity\n",
    "P = Point('P')\n",
    "P.set_vel(N, R * theta_dot * A.x - R_dot * A.y)\n",
    "\n",
    "mp = Particle('mp', P, m)\n",
    "\n",
    "mp.set_potential_energy(-m * g * R * sympy.cos(theta) + 1/2 * k * (R - l0)**2)\n",
    "\n",
    "# Set up the force list - each item follows the form:\n",
    "#    (the location where the force is applied, its magnitude and direction)\n",
    "# Here, there are no non-conservataive external forces\n",
    "forces = []\n",
    "\n",
    "# Form the Lagrangian - L = T - V\n",
    "# L = (1 / 2 * m * l**2 * theta_dot**2) + (m * g * l * sympy.cos(theta))\n",
    "L =  Lagrangian(N, mp)\n",
    "\n",
    "# Print the Lagrangian as a check\n",
    "L"
   ]
  },
  {
   "cell_type": "code",
   "execution_count": 4,
   "metadata": {
    "collapsed": true
   },
   "outputs": [],
   "source": [
    "# This creates a LagrangesMethod class instance that will allow us to form the equations of motion, etc\n",
    "LM = LagrangesMethod(L, [R, theta], forcelist = forces, frame = N)"
   ]
  },
  {
   "cell_type": "code",
   "execution_count": 5,
   "metadata": {
    "collapsed": false
   },
   "outputs": [
    {
     "data": {
      "image/png": "[encoded data removed]",
      "text/latex": [
       "$$\\left[\\begin{matrix}- g m \\cos{\\left (\\theta{\\left (t \\right )} \\right )} - 1.0 k \\left(l_{0} - R{\\left (t \\right )}\\right) - m R{\\left (t \\right )} \\left(\\frac{d}{d t} \\theta{\\left (t \\right )}\\right)^{2} + m \\frac{d^{2}}{d t^{2}}  R{\\left (t \\right )}\\\\m \\left(g \\sin{\\left (\\theta{\\left (t \\right )} \\right )} + R{\\left (t \\right )} \\frac{d^{2}}{d t^{2}}  \\theta{\\left (t \\right )} + 2 \\frac{d}{d t} R{\\left (t \\right )} \\frac{d}{d t} \\theta{\\left (t \\right )}\\right) R{\\left (t \\right )}\\end{matrix}\\right]$$"
      ],
      "text/plain": [
       "⎡                                                         2       2      ⎤\n",
       "⎢                                               ⎛d       ⎞       d       ⎥\n",
       "⎢-g⋅m⋅cos(θ(t)) - - -1.0⋅k⋅(l₀ - R(t)) - m⋅R(t)⋅⎜──(θ(t))⎟  + m⋅───(R(t))⎥\n",
       "⎢                                               ⎝dt      ⎠        2      ⎥\n",
       "⎢                                                               dt       ⎥\n",
       "⎢                                                                        ⎥\n",
       "⎢        ⎛                     2                            ⎞            ⎥\n",
       "⎢        ⎜                    d            d        d       ⎟            ⎥\n",
       "⎢      m⋅⎜g⋅sin(θ(t)) + R(t)⋅───(θ(t)) + 2⋅──(R(t))⋅──(θ(t))⎟⋅R(t)       ⎥\n",
       "⎢        ⎜                     2           dt       dt      ⎟            ⎥\n",
       "⎣        ⎝                   dt                             ⎠            ⎦"
      ]
     },
     "execution_count": 5,
     "metadata": {},
     "output_type": "execute_result"
    }
   ],
   "source": [
    "# Form the equations fo motion\n",
    "EqMotion = LM.form_lagranges_equations()\n",
    "\n",
    "# Print the simplified version of the equations of motion\n",
    "sympy.simplify(EqMotion)"
   ]
  },
  {
   "cell_type": "markdown",
   "metadata": {},
   "source": [
    "The <tt>LagrangesMethod</tt> class gives us lots of information about the system. For example, we can output the mass/inertia matrix and the forcing terms. Note that the forcing terms include what might be conservative forces and would therefore normally appear in a stiffness matrix."
   ]
  },
  {
   "cell_type": "markdown",
   "metadata": {},
   "source": [
    "We can also use builtin functions to write the sytsem as a set of first order ODEs, suitable for simluation."
   ]
  },
  {
   "cell_type": "code",
   "execution_count": 6,
   "metadata": {
    "collapsed": false
   },
   "outputs": [
    {
     "data": {
      "image/png": "[encoded data removed]",
      "text/latex": [
       "$$\\left[\\begin{matrix}\\frac{d}{d t} R{\\left (t \\right )}\\\\\\frac{d}{d t} \\theta{\\left (t \\right )}\\\\\\frac{1}{m} \\left(g m \\cos{\\left (\\theta{\\left (t \\right )} \\right )} + k \\left(l_{0} - R{\\left (t \\right )}\\right) + m R{\\left (t \\right )} \\left(\\frac{d}{d t} \\theta{\\left (t \\right )}\\right)^{2}\\right)\\\\- \\frac{1}{R{\\left (t \\right )}} \\left(g \\sin{\\left (\\theta{\\left (t \\right )} \\right )} + 2 \\frac{d}{d t} R{\\left (t \\right )} \\frac{d}{d t} \\theta{\\left (t \\right )}\\right)\\end{matrix}\\right]$$"
      ],
      "text/plain": [
       "⎡                     d                            ⎤\n",
       "⎢                     ──(R(t))                     ⎥\n",
       "⎢                     dt                           ⎥\n",
       "⎢                                                  ⎥\n",
       "⎢                     d                            ⎥\n",
       "⎢                     ──(θ(t))                     ⎥\n",
       "⎢                     dt                           ⎥\n",
       "⎢                                                  ⎥\n",
       "⎢                                                 2⎥\n",
       "⎢                                       ⎛d       ⎞ ⎥\n",
       "⎢g⋅m⋅cos(θ(t)) + k⋅(l₀ - R(t)) + m⋅R(t)⋅⎜──(θ(t))⎟ ⎥\n",
       "⎢                                       ⎝dt      ⎠ ⎥\n",
       "⎢──────────────────────────────────────────────────⎥\n",
       "⎢                        m                         ⎥\n",
       "⎢                                                  ⎥\n",
       "⎢       ⎛                d        d       ⎞        ⎥\n",
       "⎢      -⎜g⋅sin(θ(t)) + 2⋅──(R(t))⋅──(θ(t))⎟        ⎥\n",
       "⎢       ⎝                dt       dt      ⎠        ⎥\n",
       "⎢      ─────────────────────────────────────       ⎥\n",
       "⎣                       R(t)                       ⎦"
      ]
     },
     "execution_count": 6,
     "metadata": {},
     "output_type": "execute_result"
    }
   ],
   "source": [
    "# Make the call to set up in state-space-ish form q_dot = f(q, t)\n",
    "lrhs = LM.rhs()\n",
    "\n",
    "# Simplify the results\n",
    "lrhs.simplify()\n",
    "\n",
    "# Output the result\n",
    "lrhs"
   ]
  },
  {
   "cell_type": "markdown",
   "metadata": {},
   "source": [
    "We can also linearize these equations with builtin SymPy methods. Let's do so about the $\\theta = 0$, $\\dot{\\theta} = 0$ operating point. The resulting equations returned are a system of first order ODEs in state-space form:\n",
    "\n",
    "$$ \\dot{x} = Ax + Bu $$\n",
    "\n",
    "See the [SymPy Documentation](http://docs.sympy.org/0.7.6/modules/physics/mechanics/linearize.html#linearizing-lagrange-s-equations) for much more information."
   ]
  },
  {
   "cell_type": "code",
   "execution_count": 7,
   "metadata": {
    "collapsed": false
   },
   "outputs": [],
   "source": [
    "# Define the point to linearize around\n",
    "operating_point = {R: l0, R_dot: 0.0, theta: 0.0, theta_dot: 0.0}\n",
    "\n",
    "# Make the call to the linearizer\n",
    "A, B, inp_vec = LM.linearize([R, theta], [R_dot, theta_dot],\n",
    "                             op_point = operating_point, \n",
    "                             A_and_B = True)"
   ]
  },
  {
   "cell_type": "code",
   "execution_count": 8,
   "metadata": {
    "collapsed": false
   },
   "outputs": [
    {
     "data": {
      "image/png": "[encoded data removed]",
      "text/latex": [
       "$$\\left[\\begin{matrix}0 & 0 & 1 & 0\\\\0 & 0 & 0 & 1\\\\- \\frac{1.0 k}{m} & 0 & 0 & 0\\\\- \\frac{2}{l_{0}} \\frac{d^{2}}{d t^{2}}  \\theta{\\left (t \\right )} & - \\frac{g}{l_{0}} & 0 & 0\\end{matrix}\\right]$$"
      ],
      "text/plain": [
       "⎡      0         0   1  0⎤\n",
       "⎢                        ⎥\n",
       "⎢      0         0   0  1⎥\n",
       "⎢                        ⎥\n",
       "⎢   -1.0⋅k               ⎥\n",
       "⎢   ───────      0   0  0⎥\n",
       "⎢      m                 ⎥\n",
       "⎢                        ⎥\n",
       "⎢     2                  ⎥\n",
       "⎢    d                   ⎥\n",
       "⎢-2⋅───(θ(t))            ⎥\n",
       "⎢     2                  ⎥\n",
       "⎢   dt          -g       ⎥\n",
       "⎢─────────────  ───  0  0⎥\n",
       "⎣      l₀        l₀      ⎦"
      ]
     },
     "execution_count": 8,
     "metadata": {},
     "output_type": "execute_result"
    }
   ],
   "source": [
    "A"
   ]
  },
  {
   "cell_type": "code",
   "execution_count": 9,
   "metadata": {
    "collapsed": false
   },
   "outputs": [
    {
     "data": {
      "image/png": "[encoded data removed]",
      "text/latex": [
       "$$\\left[\\begin{matrix}\\end{matrix}\\right]$$"
      ],
      "text/plain": [
       "[]"
      ]
     },
     "execution_count": 9,
     "metadata": {},
     "output_type": "execute_result"
    }
   ],
   "source": [
    "B"
   ]
  },
  {
   "cell_type": "markdown",
   "metadata": {},
   "source": [
    "<hr class = \"style-end\">"
   ]
  },
  {
   "cell_type": "markdown",
   "metadata": {},
   "source": [
    "#### Licenses\n",
    "Code is licensed under a 3-clause BSD style license. See the licenses/LICENSE.md file.\n",
    "\n",
    "Other content is provided under a [Creative Commons Attribution-NonCommercial 4.0 International License](http://creativecommons.org/licenses/by-nc/4.0/), CC-BY-NC 4.0."
   ]
  },
  {
   "cell_type": "code",
   "execution_count": 10,
   "metadata": {
    "collapsed": false
   },
   "outputs": [
    {
     "data": {
      "text/html": [
       "<style>\n",
       "    @font-face {\n",
       "        font-family: \"Computer Modern\";\n",
       "        src: url('http://9dbb143991406a7c655e-aa5fcb0a5a4ec34cff238a2d56ca4144.r56.cf5.rackcdn.com/cmunss.otf');\n",
       "    }\n",
       "    @font-face {\n",
       "        font-family: \"Computer Modern\";\n",
       "        font-weight: bold;\n",
       "        src: url('http://9dbb143991406a7c655e-aa5fcb0a5a4ec34cff238a2d56ca4144.r56.cf5.rackcdn.com/cmunsx.otf');\n",
       "    }\n",
       "    @font-face {\n",
       "        font-family: \"Computer Modern\";\n",
       "        font-style: oblique;\n",
       "        src: url('http://9dbb143991406a7c655e-aa5fcb0a5a4ec34cff238a2d56ca4144.r56.cf5.rackcdn.com/cmunsi.otf');\n",
       "    }\n",
       "    @font-face {\n",
       "        font-family: \"Computer Modern\";\n",
       "        font-weight: bold;\n",
       "        font-style: oblique;\n",
       "        src: url('http://9dbb143991406a7c655e-aa5fcb0a5a4ec34cff238a2d56ca4144.r56.cf5.rackcdn.com/cmunso.otf');\n",
       "    }\n",
       "    \n",
       "    div.cell{\n",
       "        max-width:1100px;\n",
       "        margin-left:auto;\n",
       "        margin-right:auto;\n",
       "    }\n",
       "    \n",
       "    h1 {\n",
       "        font-family: Computer Modern;\n",
       "    }\n",
       "    \n",
       "    h4{\n",
       "        margin-top:12px;\n",
       "        margin-bottom: 3px;\n",
       "       }\n",
       "\n",
       "    div.text_cell_render{\n",
       "        font-family: Computer Modern, \"Helvetica Neue\", Arial, Helvetica, Geneva, sans-serif;\n",
       "        line-height: 145%;\n",
       "        font-size: 130%;\n",
       "        max-width:1100px;\n",
       "        margin-left:auto;\n",
       "        margin-right:auto;\n",
       "    }\n",
       "    \n",
       "    .CodeMirror{\n",
       "            font-family: \"Source Code Pro\", source-code-pro, Consolas, monospace;\n",
       "    }\n",
       "    \n",
       "    .warning{\n",
       "        color: rgb( 240, 20, 20 )\n",
       "        }  \n",
       "    \n",
       "    hr.style-end {\n",
       "    border: 0;\n",
       "    height: 1px;\n",
       "    text-align: center;\n",
       "    background: #333;\n",
       "    background-image: -webkit-linear-gradient(left, #ccc, #333, #ccc); \n",
       "    background-image:    -moz-linear-gradient(left, #ccc, #333, #ccc); \n",
       "    background-image:     -ms-linear-gradient(left, #ccc, #333, #ccc); \n",
       "    background-image:      -o-linear-gradient(left, #ccc, #333, #ccc); \n",
       "    }\n",
       "\n",
       "    hr.style-end:after {\n",
       "    content: \"⚜\";\n",
       "    display: inline-block;\n",
       "    position: relative; \n",
       "    top: -0.5em;  \n",
       "    font-size: 1.5em;\n",
       "    padding: 0 0.25em;\n",
       "    background: white;\n",
       "    }\n",
       "    \n",
       "/*  Center figures, etc\n",
       "    .ui-wrapper {\n",
       "        margin-left: auto !important;\n",
       "        margin-right: auto !important;\n",
       "    }\n",
       " */\n",
       "    \n",
       "</style>\n",
       "<script>\n",
       "    MathJax.Hub.Config({\n",
       "                        TeX: {\n",
       "                           extensions: [\"AMSmath.js\"]\n",
       "                           },\n",
       "                tex2jax: {\n",
       "                    inlineMath: [ ['$','$'], [\"\\\\(\",\"\\\\)\"] ],\n",
       "                    displayMath: [ ['$$','$$'], [\"\\\\[\",\"\\\\]\"] ]\n",
       "                },\n",
       "                displayAlign: 'center', // Change this to 'center' to center equations.\n",
       "                \"HTML-CSS\": {\n",
       "                    styles: {'.MathJax_Display': {\"margin\": 4}}\n",
       "                }\n",
       "        });\n",
       "</script>\n"
      ],
      "text/plain": [
       "<IPython.core.display.HTML object>"
      ]
     },
     "execution_count": 10,
     "metadata": {},
     "output_type": "execute_result"
    }
   ],
   "source": [
    "# Ignore this cell - We just update the CSS to make the notebook look a little bit better and easier to read\n",
    "\n",
    "# Improve the notebook styling -- Run this first\n",
    "import codecs\n",
    "from IPython.core.display import HTML\n",
    "css_file = 'styling/CRAWLAB_IPythonNotebook.css'\n",
    "HTML(codecs.open(css_file, 'r', 'utf-8').read())"
   ]
  }
 ],
 "metadata": {
  "kernelspec": {
   "display_name": "Python 3",
   "language": "python",
   "name": "python3"
  },
  "language_info": {
   "codemirror_mode": {
    "name": "ipython",
    "version": 3
   },
   "file_extension": ".py",
   "mimetype": "text/x-python",
   "name": "python",
   "nbconvert_exporter": "python",
   "pygments_lexer": "ipython3",
   "version": "3.4.3"
  }
 },
 "nbformat": 4,
 "nbformat_minor": 0
}
