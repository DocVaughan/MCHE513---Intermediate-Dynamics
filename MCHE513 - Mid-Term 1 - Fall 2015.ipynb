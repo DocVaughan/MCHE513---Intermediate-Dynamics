{
 "cells": [
  {
   "cell_type": "markdown",
   "metadata": {},
   "source": [
    "<h1 style=\"text-align:center\">MCHE 513: Intermediate Dynamics</h1>\n",
    "<h3 style=\"text-align:center\">Mid-Term 1 &mdash; Fall 2015</h3> \n",
    "<p style=\"text-align:center\">Dr. Joshua Vaughan <br>\n",
    "<a href=\"mailto:joshua.vaughan@louisiana.edu\">joshua.vaughan@louisiana.edu</a><br>\n",
    "<a href=\"http://www.ucs.louisiana.edu/~jev9637/\">http://www.ucs.louisiana.edu/~jev9637/</a></p>"
   ]
  },
  {
   "cell_type": "markdown",
   "metadata": {},
   "source": [
    "We'll use the [Sympy](http://www.sympy.org/) library to solve these problems analytically. To use it, we need to import it."
   ]
  },
  {
   "cell_type": "code",
   "execution_count": 1,
   "metadata": {
    "collapsed": true
   },
   "outputs": [],
   "source": [
    "# import Sympy and start \"pretty printing\"\n",
    "import sympy\n",
    "sympy.init_printing()"
   ]
  },
  {
   "cell_type": "code",
   "execution_count": 2,
   "metadata": {
    "collapsed": true
   },
   "outputs": [],
   "source": [
    "# We also want to import the sympy.physics.mechanics module\n",
    "\n",
    "# Note that * imports are usually considered bad practice\n",
    "from sympy.physics.mechanics import *"
   ]
  },
  {
   "cell_type": "markdown",
   "metadata": {},
   "source": [
    "## Problem 1\n",
    "The system in Figure 1 consists of cart being pushed by pin P, which moves in a slot that is fixed in an inertial frame. The cart is capable of measuring the vertical position of the pin and finds the height able to be described by $s(t) = 10 - 3t - 4t^2$m. The radius of curvature of the slot in the position shown is $\\rho = 10$m. The time shown in the figure represents $t=0$. Find the velocity and acceleration of the cart at this instant.\n",
    "\n",
    "<p style=\"text-align:center\">\n",
    "\t<img src=\"http://shared.crawlab.org/Cart_with_Slot.png\" alt=\"Cart with Slot\" width=50%><br>\n",
    "    <strong>Figure 1: Cart with Slot</strong>\n",
    "</p>"
   ]
  },
  {
   "cell_type": "code",
   "execution_count": 3,
   "metadata": {
    "collapsed": true
   },
   "outputs": [],
   "source": [
    "u, vc, s = dynamicsymbols('u v_c s')\n",
    "u_dot, vc_dot, s_dot = dynamicsymbols('u v_c s', 1)\n",
    "rho, beta = sympy.symbols('rho beta')\n",
    "\n",
    "N = ReferenceFrame('N')"
   ]
  },
  {
   "cell_type": "code",
   "execution_count": 4,
   "metadata": {
    "collapsed": false
   },
   "outputs": [],
   "source": [
    "# Define the point O in the fixed frame\n",
    "O = Point('O')\n",
    "O.set_vel(N, vc * N.x)"
   ]
  },
  {
   "cell_type": "code",
   "execution_count": 5,
   "metadata": {
    "collapsed": true
   },
   "outputs": [],
   "source": [
    "u, u_dot, vc, ac, rho, beta = sympy.symbols('u u_dot v_c ac rho beta')"
   ]
  },
  {
   "cell_type": "code",
   "execution_count": 6,
   "metadata": {
    "collapsed": false
   },
   "outputs": [
    {
     "data": {
      "image/png": "[encoded data removed]",
      "text/latex": [
       "$$6$$"
      ],
      "text/plain": [
       "6"
      ]
     },
     "execution_count": 6,
     "metadata": {},
     "output_type": "execute_result"
    }
   ],
   "source": [
    "# the j-direction equation gives u\n",
    "u_t0 = sympy.solve(-u * sympy.sin(beta) + 3, u)[0].subs(beta, sympy.pi/6)\n",
    "u_t0"
   ]
  },
  {
   "cell_type": "code",
   "execution_count": 7,
   "metadata": {
    "collapsed": false
   },
   "outputs": [
    {
     "data": {
      "image/png": "[encoded data removed]",
      "text/latex": [
       "$$3 \\sqrt{3}$$"
      ],
      "text/plain": [
       "    ___\n",
       "3⋅╲╱ 3 "
      ]
     },
     "execution_count": 7,
     "metadata": {},
     "output_type": "execute_result"
    }
   ],
   "source": [
    "# now, substitute into the i-direction to solve for vc\n",
    "sympy.solve(u_t0 * sympy.cos(beta) - vc, vc)[0].subs(beta, sympy.pi/6)"
   ]
  },
  {
   "cell_type": "code",
   "execution_count": 8,
   "metadata": {
    "collapsed": false
   },
   "outputs": [
    {
     "data": {
      "image/png": "[encoded data removed]",
      "text/latex": [
       "$$6.65640646055102$$"
      ],
      "text/plain": [
       "6.65640646055102"
      ]
     },
     "execution_count": 8,
     "metadata": {},
     "output_type": "execute_result"
    }
   ],
   "source": [
    "u_dot_t0 = sympy.solve(-u_dot * sympy.sin(beta) - u_t0**2 / rho * sympy.cos(beta) + 8, u_dot)[0].subs([(rho, 10), (beta, sympy.pi/6)])\n",
    "sympy.solve(u_dot_t0 * sympy.cos(beta) - u_t0**2 / rho * sympy.sin(beta) - ac, ac)[0].subs([(rho, 10), (beta, sympy.pi/6)]).evalf()"
   ]
  },
  {
   "cell_type": "markdown",
   "metadata": {},
   "source": [
    "## Problem 2\n",
    "The system shown in Figure 2 is a machine used for testing golf clubs. Figure 3 is a sketch of the system. It consists of a base and a main link, $OA$, of length $L_1$ at a fixed angle from vertical, $\\theta$. Link $AB$ has length $L_2$ and is driven around the $z'$ axis according to $\\beta$. Finally, link BC, representing the golf club, has length $L_3$ and rotates about point B through a driven pin-like joint.\n",
    "\n",
    "a. Write the angular velocity and acceleration of link BC. For each, be sure to indicate how to resolve all the components into the same frame.    \n",
    "b. What is the velocity of point C?    \n",
    "c. What is the acceleration of point C? \n",
    "\n",
    "<p style=\"text-align:center\">\n",
    "\t<img src=\"http://www.mygolfspy.com/wp-content/uploads/2013/08/Iron-Byron-1-2.jpg\" alt=\"Golf Club Robot Image\" width=50%><br>\n",
    "    <strong>Figure 2: Golf Club Robot <br><span style=\"font-size:85%\">(Image from: http://www.mygolfspy.com/golf-club-testing-results-you-can-trust/)</span></strong>\n",
    "</p>\n",
    "<p style=\"text-align:center\">\n",
    "\t<img src=\"http://shared.crawlab.org/GolfClubRobot.png\" alt=\"Golf Club Robot Sketch\" width=50%><br>\n",
    "    <strong>Figure 3: Golf Club Robot Sketch</strong>\n",
    "</p>"
   ]
  },
  {
   "cell_type": "code",
   "execution_count": 9,
   "metadata": {
    "collapsed": false
   },
   "outputs": [],
   "source": [
    "theta, beta, phi = dynamicsymbols('theta beta phi')\n",
    "theta_dot, beta_dot, phi_dot = dynamicsymbols('theta beta phi', 1)\n",
    "L1, L2, L3 = sympy.symbols('L_1 L_2 L_3')"
   ]
  },
  {
   "cell_type": "code",
   "execution_count": 10,
   "metadata": {
    "collapsed": false
   },
   "outputs": [
    {
     "data": {
      "image/png": "[encoded data removed]",
      "text/latex": [
       "$$\\left[\\begin{matrix}\\left(- \\sin{\\left (\\beta{\\left (t \\right )} \\right )} \\sin{\\left (\\phi{\\left (t \\right )} \\right )} + \\cos{\\left (\\beta{\\left (t \\right )} \\right )} \\cos{\\left (\\phi{\\left (t \\right )} \\right )}\\right) \\cos{\\left (\\theta{\\left (t \\right )} \\right )} & \\sin{\\left (\\beta{\\left (t \\right )} \\right )} \\cos{\\left (\\phi{\\left (t \\right )} \\right )} + \\sin{\\left (\\phi{\\left (t \\right )} \\right )} \\cos{\\left (\\beta{\\left (t \\right )} \\right )} & - \\left(- \\sin{\\left (\\beta{\\left (t \\right )} \\right )} \\sin{\\left (\\phi{\\left (t \\right )} \\right )} + \\cos{\\left (\\beta{\\left (t \\right )} \\right )} \\cos{\\left (\\phi{\\left (t \\right )} \\right )}\\right) \\sin{\\left (\\theta{\\left (t \\right )} \\right )}\\\\\\left(- \\sin{\\left (\\beta{\\left (t \\right )} \\right )} \\cos{\\left (\\phi{\\left (t \\right )} \\right )} - \\sin{\\left (\\phi{\\left (t \\right )} \\right )} \\cos{\\left (\\beta{\\left (t \\right )} \\right )}\\right) \\cos{\\left (\\theta{\\left (t \\right )} \\right )} & - \\sin{\\left (\\beta{\\left (t \\right )} \\right )} \\sin{\\left (\\phi{\\left (t \\right )} \\right )} + \\cos{\\left (\\beta{\\left (t \\right )} \\right )} \\cos{\\left (\\phi{\\left (t \\right )} \\right )} & - \\left(- \\sin{\\left (\\beta{\\left (t \\right )} \\right )} \\cos{\\left (\\phi{\\left (t \\right )} \\right )} - \\sin{\\left (\\phi{\\left (t \\right )} \\right )} \\cos{\\left (\\beta{\\left (t \\right )} \\right )}\\right) \\sin{\\left (\\theta{\\left (t \\right )} \\right )}\\\\\\sin{\\left (\\theta{\\left (t \\right )} \\right )} & 0 & \\cos{\\left (\\theta{\\left (t \\right )} \\right )}\\end{matrix}\\right]$$"
      ],
      "text/plain": [
       "⎡(-sin(β(t))⋅sin(φ(t)) + cos(β(t))⋅cos(φ(t)))⋅cos(θ(t))  sin(β(t))⋅cos(φ(t)) +\n",
       "⎢                                                                             \n",
       "⎢(-sin(β(t))⋅cos(φ(t)) - sin(φ(t))⋅cos(β(t)))⋅cos(θ(t))  -sin(β(t))⋅sin(φ(t)) \n",
       "⎢                                                                             \n",
       "⎣                      sin(θ(t))                                             0\n",
       "\n",
       " sin(φ(t))⋅cos(β(t))   -(-sin(β(t))⋅sin(φ(t)) + cos(β(t))⋅cos(φ(t)))⋅sin(θ(t))\n",
       "                                                                              \n",
       "+ cos(β(t))⋅cos(φ(t))  -(-sin(β(t))⋅cos(φ(t)) - sin(φ(t))⋅cos(β(t)))⋅sin(θ(t))\n",
       "                                                                              \n",
       "                                              cos(θ(t))                       \n",
       "\n",
       "⎤\n",
       "⎥\n",
       "⎥\n",
       "⎥\n",
       "⎦"
      ]
     },
     "execution_count": 10,
     "metadata": {},
     "output_type": "execute_result"
    }
   ],
   "source": [
    "N = ReferenceFrame('N')\n",
    "N_prime = N.orientnew('N_{prime}', 'Axis', [theta, N.y])\n",
    "N_dbl_prime = N_prime.orientnew('N_{dbl-prime}', 'Axis', [beta, N_prime.z])\n",
    "N_final = N_dbl_prime.orientnew('N_{final}', 'Axis', [phi, N_dbl_prime.z])\n",
    "\n",
    "# We can also write rotation matrices\n",
    "# The rotation, or Direction Cosing Matrix (dcm), between the final set of axes and N\n",
    "N_final.dcm(N)"
   ]
  },
  {
   "cell_type": "code",
   "execution_count": 11,
   "metadata": {
    "collapsed": false
   },
   "outputs": [
    {
     "data": {
      "image/png": "[encoded data removed]",
      "text/latex": [
       "$$(L_{1} \\operatorname{sin}\\left(\\theta\\right) + L_{2} \\operatorname{cos}\\left(\\beta\\right) \\operatorname{cos}\\left(\\theta\\right) + L_{3} \\left(- \\operatorname{sin}\\left(\\beta\\right) \\operatorname{sin}\\left(\\phi\\right) + \\operatorname{cos}\\left(\\beta\\right) \\operatorname{cos}\\left(\\phi\\right)\\right) \\operatorname{cos}\\left(\\theta\\right))\\mathbf{\\hat{n}_x} + (L_{2} \\operatorname{sin}\\left(\\beta\\right) + L_{3} \\left(\\operatorname{sin}\\left(\\beta\\right) \\operatorname{cos}\\left(\\phi\\right) + \\operatorname{sin}\\left(\\phi\\right) \\operatorname{cos}\\left(\\beta\\right)\\right))\\mathbf{\\hat{n}_y} + (L_{1} \\operatorname{cos}\\left(\\theta\\right) - L_{2} \\operatorname{sin}\\left(\\theta\\right) \\operatorname{cos}\\left(\\beta\\right) - L_{3} \\left(- \\operatorname{sin}\\left(\\beta\\right) \\operatorname{sin}\\left(\\phi\\right) + \\operatorname{cos}\\left(\\beta\\right) \\operatorname{cos}\\left(\\phi\\right)\\right) \\operatorname{sin}\\left(\\theta\\right))\\mathbf{\\hat{n}_z}$$"
      ],
      "text/plain": [
       "(L₁⋅sin(θ(t)) + L₂⋅cos(β(t))⋅cos(θ(t)) + L₃⋅(-sin(β(t))⋅sin(φ(t)) + cos(β(t))⋅cos(φ(t)))⋅cos(θ(t))) n_x + (L₂⋅sin(β(t)) + L₃⋅(sin(β(t))⋅cos(φ(t)) + sin(φ(t))⋅cos(β(t)))) n_y + (L₁⋅cos(θ(t)) - L₂⋅sin(θ(t))⋅cos(β(t)) - L₃⋅(-sin(β(t))⋅sin(φ(t)) + cos(β(t))⋅cos(φ(t)))⋅sin(θ(t))) n_z"
      ]
     },
     "execution_count": 11,
     "metadata": {},
     "output_type": "execute_result"
    }
   ],
   "source": [
    "# Define the point O in the fixed frame\n",
    "O = Point('O')\n",
    "O.set_vel(N, 0 * N.x)\n",
    "\n",
    "# Define the other points\n",
    "# We can use the intermediate frames to do so\n",
    "A = O.locatenew('A', L1 * N_prime.z)\n",
    "B = A.locatenew('B', L2 * N_dbl_prime.x)\n",
    "C = B.locatenew('C', L3 * N_final.x)\n",
    "\n",
    "# Sympy will calculate the position based on our points defined above\n",
    "C.pos_from(O)\n",
    "\n",
    "# Sympy can also express that position into a single frame\n",
    "C.pos_from(O).express(N)"
   ]
  },
  {
   "cell_type": "code",
   "execution_count": 12,
   "metadata": {
    "collapsed": false
   },
   "outputs": [
    {
     "data": {
      "image/png": "[encoded data removed]",
      "text/latex": [
       "$$(L_{1} \\operatorname{sin}\\left(\\theta\\right) + L_{2} \\operatorname{cos}\\left(\\beta\\right) \\operatorname{cos}\\left(\\theta\\right) + L_{3} \\left(- \\operatorname{sin}\\left(\\beta\\right) \\operatorname{sin}\\left(\\phi\\right) + \\operatorname{cos}\\left(\\beta\\right) \\operatorname{cos}\\left(\\phi\\right)\\right) \\operatorname{cos}\\left(\\theta\\right))\\mathbf{\\hat{n}_x} + (L_{2} \\operatorname{sin}\\left(\\beta\\right) + L_{3} \\left(\\operatorname{sin}\\left(\\beta\\right) \\operatorname{cos}\\left(\\phi\\right) + \\operatorname{sin}\\left(\\phi\\right) \\operatorname{cos}\\left(\\beta\\right)\\right))\\mathbf{\\hat{n}_y} + (L_{1} \\operatorname{cos}\\left(\\theta\\right) - L_{2} \\operatorname{sin}\\left(\\theta\\right) \\operatorname{cos}\\left(\\beta\\right) - L_{3} \\left(- \\operatorname{sin}\\left(\\beta\\right) \\operatorname{sin}\\left(\\phi\\right) + \\operatorname{cos}\\left(\\beta\\right) \\operatorname{cos}\\left(\\phi\\right)\\right) \\operatorname{sin}\\left(\\theta\\right))\\mathbf{\\hat{n}_z}$$"
      ],
      "text/plain": [
       "(L₁⋅sin(θ(t)) + L₂⋅cos(β(t))⋅cos(θ(t)) + L₃⋅(-sin(β(t))⋅sin(φ(t)) + cos(β(t))⋅cos(φ(t)))⋅cos(θ(t))) n_x + (L₂⋅sin(β(t)) + L₃⋅(sin(β(t))⋅cos(φ(t)) + sin(φ(t))⋅cos(β(t)))) n_y + (L₁⋅cos(θ(t)) - L₂⋅sin(θ(t))⋅cos(β(t)) - L₃⋅(-sin(β(t))⋅sin(φ(t)) + cos(β(t))⋅cos(φ(t)))⋅sin(θ(t))) n_z"
      ]
     },
     "execution_count": 12,
     "metadata": {},
     "output_type": "execute_result"
    }
   ],
   "source": [
    "# Sympy can also express that position into a single frame\n",
    "C.pos_from(O).express(N)"
   ]
  },
  {
   "cell_type": "code",
   "execution_count": 13,
   "metadata": {
    "collapsed": false
   },
   "outputs": [
    {
     "data": {
      "image/png": "[encoded data removed]",
      "text/latex": [
       "$$\\dot{\\phi}\\mathbf{\\hat{n_{dbl-prime}}_z} + \\dot{\\beta}\\mathbf{\\hat{n_{prime}}_z} + \\dot{\\theta}\\mathbf{\\hat{n}_y}$$"
      ],
      "text/plain": [
       "d       \n",
       "──(φ(t))\n",
       "dt       n_{dbl-prime}_z + d       \n",
       "──(β(t))\n",
       "dt       n_{prime}_z + d       \n",
       "──(θ(t))\n",
       "dt       n_y"
      ]
     },
     "execution_count": 13,
     "metadata": {},
     "output_type": "execute_result"
    }
   ],
   "source": [
    "# Now, we can write the angular velocity\n",
    "N_final.ang_vel_in(N)"
   ]
  },
  {
   "cell_type": "code",
   "execution_count": 14,
   "metadata": {
    "collapsed": false
   },
   "outputs": [
    {
     "data": {
      "image/png": "[encoded data removed]",
      "text/latex": [
       "$$(\\operatorname{sin}\\left(\\theta\\right) \\dot{\\beta} + \\operatorname{sin}\\left(\\theta\\right) \\dot{\\phi})\\mathbf{\\hat{n}_x} + \\dot{\\theta}\\mathbf{\\hat{n}_y} + (\\operatorname{cos}\\left(\\theta\\right) \\dot{\\beta} + \\operatorname{cos}\\left(\\theta\\right) \\dot{\\phi})\\mathbf{\\hat{n}_z}$$"
      ],
      "text/plain": [
       "⎛          d                    d       ⎞\n",
       "⎜sin(θ(t))⋅──(β(t)) + sin(θ(t))⋅──(φ(t))⎟\n",
       "⎝          dt                   dt      ⎠ n_x + d       \n",
       "──(θ(t))\n",
       "dt       n_y + ⎛          d                    d       ⎞\n",
       "⎜cos(θ(t))⋅──(β(t)) + cos(θ(t))⋅──(φ(t))⎟\n",
       "⎝          dt                   dt      ⎠ n_z"
      ]
     },
     "execution_count": 14,
     "metadata": {},
     "output_type": "execute_result"
    }
   ],
   "source": [
    "# We can also express the angular velocity in a single frame\n",
    "N_final.ang_vel_in(N).express(N)"
   ]
  },
  {
   "cell_type": "code",
   "execution_count": 15,
   "metadata": {
    "collapsed": false
   },
   "outputs": [
    {
     "data": {
      "image/png": "[encoded data removed]",
      "text/latex": [
       "$$\\operatorname{cos}\\left(\\beta\\right) \\dot{\\phi} \\dot{\\theta}\\mathbf{\\hat{n_{dbl-prime}}_x} -  \\operatorname{sin}\\left(\\beta\\right) \\dot{\\phi} \\dot{\\theta}\\mathbf{\\hat{n_{dbl-prime}}_y} + \\ddot{\\phi}\\mathbf{\\hat{n_{dbl-prime}}_z} + \\dot{\\beta} \\dot{\\theta}\\mathbf{\\hat{n_{prime}}_x} + \\ddot{\\beta}\\mathbf{\\hat{n_{prime}}_z} + \\ddot{\\theta}\\mathbf{\\hat{n}_y}$$"
      ],
      "text/plain": [
       "          d        d       \n",
       "cos(β(t))⋅──(φ(t))⋅──(θ(t))\n",
       "          dt       dt       n_{dbl-prime}_x +            d        d       \n",
       "-sin(β(t))⋅──(φ(t))⋅──(θ(t))\n",
       "           dt       dt       n_{dbl-prime}_y +   2      \n",
       " d       \n",
       "───(φ(t))\n",
       "  2      \n",
       "dt        n_{dbl-prime}_z + d        d       \n",
       "──(β(t))⋅──(θ(t))\n",
       "dt       dt       n_{prime}_x +   2      \n",
       " d       \n",
       "───(β(t))\n",
       "  2      \n",
       "dt        n_{prime}_z +   2      \n",
       " d       \n",
       "───(θ(t))\n",
       "  2      \n",
       "dt        n_y"
      ]
     },
     "execution_count": 15,
     "metadata": {},
     "output_type": "execute_result"
    }
   ],
   "source": [
    "# We can write the angular acceleration in a similar way\n",
    "N_final.ang_acc_in(N)"
   ]
  },
  {
   "cell_type": "code",
   "execution_count": 16,
   "metadata": {
    "collapsed": false
   },
   "outputs": [
    {
     "data": {
      "image/png": "[encoded data removed]",
      "text/latex": [
       "$$(\\operatorname{sin}^{2}\\left(\\beta\\right) \\operatorname{cos}\\left(\\theta\\right) \\dot{\\phi} \\dot{\\theta} + \\operatorname{sin}\\left(\\theta\\right) \\ddot{\\beta} + \\operatorname{sin}\\left(\\theta\\right) \\ddot{\\phi} + \\operatorname{cos}^{2}\\left(\\beta\\right) \\operatorname{cos}\\left(\\theta\\right) \\dot{\\phi} \\dot{\\theta} + \\operatorname{cos}\\left(\\theta\\right) \\dot{\\beta} \\dot{\\theta})\\mathbf{\\hat{n}_x} + \\ddot{\\theta}\\mathbf{\\hat{n}_y} + (- \\operatorname{sin}^{2}\\left(\\beta\\right) \\operatorname{sin}\\left(\\theta\\right) \\dot{\\phi} \\dot{\\theta} - \\operatorname{sin}\\left(\\theta\\right) \\operatorname{cos}^{2}\\left(\\beta\\right) \\dot{\\phi} \\dot{\\theta} - \\operatorname{sin}\\left(\\theta\\right) \\dot{\\beta} \\dot{\\theta} + \\operatorname{cos}\\left(\\theta\\right) \\ddot{\\beta} + \\operatorname{cos}\\left(\\theta\\right) \\ddot{\\phi})\\mathbf{\\hat{n}_z}$$"
      ],
      "text/plain": [
       "⎛                                                     2                     2                                                                             ⎞\n",
       "⎜   2                 d        d                     d                     d             2                 d        d                    d        d       ⎟\n",
       "⎜sin (β(t))⋅cos(θ(t))⋅──(φ(t))⋅──(θ(t)) + sin(θ(t))⋅───(β(t)) + sin(θ(t))⋅───(φ(t)) + cos (β(t))⋅cos(θ(t))⋅──(φ(t))⋅──(θ(t)) + cos(θ(t))⋅──(β(t))⋅──(θ(t))⎟\n",
       "⎜                     dt       dt                     2                     2                              dt       dt                   dt       dt      ⎟\n",
       "⎝                                                   dt                    dt                                                                              ⎠ n_x +   2      \n",
       " d       \n",
       "───(θ(t))\n",
       "  2      \n",
       "dt        n_y + ⎛                                                                                                                              2                     2      ⎞\n",
       "⎜     2                 d        d                       2       d        d                    d        d                     d                     d       ⎟\n",
       "⎜- sin (β(t))⋅sin(θ(t))⋅──(φ(t))⋅──(θ(t)) - sin(θ(t))⋅cos (β(t))⋅──(φ(t))⋅──(θ(t)) - sin(θ(t))⋅──(β(t))⋅──(θ(t)) + cos(θ(t))⋅───(β(t)) + cos(θ(t))⋅───(φ(t))⎟\n",
       "⎜                       dt       dt                              dt       dt                   dt       dt                     2                     2      ⎟\n",
       "⎝                                                                                                                            dt                    dt       ⎠ n_z"
      ]
     },
     "execution_count": 16,
     "metadata": {},
     "output_type": "execute_result"
    }
   ],
   "source": [
    "# We can also express it in a single frame\n",
    "N_final.ang_acc_in(N).express(N)"
   ]
  },
  {
   "cell_type": "code",
   "execution_count": 17,
   "metadata": {
    "collapsed": false
   },
   "outputs": [
    {
     "data": {
      "image/png": "[encoded data removed]",
      "text/latex": [
       "$$L_{1} \\dot{\\theta}\\mathbf{\\hat{n_{prime}}_x} + L_{2} \\dot{\\beta}\\mathbf{\\hat{n_{dbl-prime}}_y} + L_{3} \\dot{\\phi}\\mathbf{\\hat{n_{final}}_y}$$"
      ],
      "text/plain": [
       "   d       \n",
       "L₁⋅──(θ(t))\n",
       "   dt       n_{prime}_x +    d       \n",
       "L₂⋅──(β(t))\n",
       "   dt       n_{dbl-prime}_y +    d       \n",
       "L₃⋅──(φ(t))\n",
       "   dt       n_{final}_y"
      ]
     },
     "execution_count": 17,
     "metadata": {},
     "output_type": "execute_result"
    }
   ],
   "source": [
    "# We can also easily write the velocity of point C\n",
    "\n",
    "# Define the velocity of point A\n",
    "# Use the .v2pt_theory() to calculate the compoent from the rotation of L1\n",
    "A.set_vel(N_prime, A.v2pt_theory(O, N, N_prime))\n",
    "\n",
    "# Define the velocity of point B\n",
    "# Use the .v2pt_theory() to calculate the compoent from the rotation of L2\n",
    "B.set_vel(N_dbl_prime, B.v2pt_theory(A, N_prime, N_dbl_prime))\n",
    "\n",
    "# We use the .v2pt_theory() to calculate the compoent from the rotation of L3\n",
    "C.v2pt_theory(B, N_dbl_prime, N_final)"
   ]
  },
  {
   "cell_type": "code",
   "execution_count": 18,
   "metadata": {
    "collapsed": false
   },
   "outputs": [
    {
     "data": {
      "image/png": "[encoded data removed]",
      "text/latex": [
       "$$(L_{1} \\operatorname{cos}\\left(\\theta\\right) \\dot{\\theta} - L_{2} \\operatorname{sin}\\left(\\beta\\right) \\operatorname{cos}\\left(\\theta\\right) \\dot{\\beta} + L_{3} \\left(- \\operatorname{sin}\\left(\\beta\\right) \\operatorname{cos}\\left(\\phi\\right) - \\operatorname{sin}\\left(\\phi\\right) \\operatorname{cos}\\left(\\beta\\right)\\right) \\operatorname{cos}\\left(\\theta\\right) \\dot{\\phi})\\mathbf{\\hat{n}_x} + (L_{2} \\operatorname{cos}\\left(\\beta\\right) \\dot{\\beta} + L_{3} \\left(- \\operatorname{sin}\\left(\\beta\\right) \\operatorname{sin}\\left(\\phi\\right) + \\operatorname{cos}\\left(\\beta\\right) \\operatorname{cos}\\left(\\phi\\right)\\right) \\dot{\\phi})\\mathbf{\\hat{n}_y} + (- L_{1} \\operatorname{sin}\\left(\\theta\\right) \\dot{\\theta} + L_{2} \\operatorname{sin}\\left(\\beta\\right) \\operatorname{sin}\\left(\\theta\\right) \\dot{\\beta} - L_{3} \\left(- \\operatorname{sin}\\left(\\beta\\right) \\operatorname{cos}\\left(\\phi\\right) - \\operatorname{sin}\\left(\\phi\\right) \\operatorname{cos}\\left(\\beta\\right)\\right) \\operatorname{sin}\\left(\\theta\\right) \\dot{\\phi})\\mathbf{\\hat{n}_z}$$"
      ],
      "text/plain": [
       "⎛             d                                 d                                                                    d       ⎞\n",
       "⎜L₁⋅cos(θ(t))⋅──(θ(t)) - L₂⋅sin(β(t))⋅cos(θ(t))⋅──(β(t)) + L₃⋅(-sin(β(t))⋅cos(φ(t)) - sin(φ(t))⋅cos(β(t)))⋅cos(θ(t))⋅──(φ(t))⎟\n",
       "⎝             dt                                dt                                                                   dt      ⎠ n_x + ⎛             d                                                          d       ⎞\n",
       "⎜L₂⋅cos(β(t))⋅──(β(t)) + L₃⋅(-sin(β(t))⋅sin(φ(t)) + cos(β(t))⋅cos(φ(t)))⋅──(φ(t))⎟\n",
       "⎝             dt                                                         dt      ⎠ n_y + ⎛               d                                 d                                                                    d       ⎞\n",
       "⎜- L₁⋅sin(θ(t))⋅──(θ(t)) + L₂⋅sin(β(t))⋅sin(θ(t))⋅──(β(t)) - L₃⋅(-sin(β(t))⋅cos(φ(t)) - sin(φ(t))⋅cos(β(t)))⋅sin(θ(t))⋅──(φ(t))⎟\n",
       "⎝               dt                                dt                                                                   dt      ⎠ n_z"
      ]
     },
     "execution_count": 18,
     "metadata": {},
     "output_type": "execute_result"
    }
   ],
   "source": [
    "# This vector can be expressed in the fixed reference frame N\n",
    "C.v2pt_theory(B, N_dbl_prime, N_final).express(N)"
   ]
  },
  {
   "cell_type": "code",
   "execution_count": 19,
   "metadata": {
    "collapsed": false
   },
   "outputs": [
    {
     "data": {
      "image/png": "[encoded data removed]",
      "text/latex": [
       "$$(- L_{1} \\operatorname{sin}\\left(\\theta\\right) \\left(\\dot{\\theta}\\right)^{2} + L_{1} \\operatorname{cos}\\left(\\theta\\right) \\ddot{\\theta} - L_{2} \\operatorname{sin}\\left(\\beta\\right) \\operatorname{cos}\\left(\\theta\\right) \\ddot{\\beta} - L_{2} \\operatorname{cos}\\left(\\beta\\right) \\operatorname{cos}\\left(\\theta\\right) \\left(\\dot{\\beta}\\right)^{2} - L_{3} \\left(- \\operatorname{sin}\\left(\\beta\\right) \\operatorname{sin}\\left(\\phi\\right) + \\operatorname{cos}\\left(\\beta\\right) \\operatorname{cos}\\left(\\phi\\right)\\right) \\operatorname{cos}\\left(\\theta\\right) \\left(\\dot{\\phi}\\right)^{2} + L_{3} \\left(- \\operatorname{sin}\\left(\\beta\\right) \\operatorname{cos}\\left(\\phi\\right) - \\operatorname{sin}\\left(\\phi\\right) \\operatorname{cos}\\left(\\beta\\right)\\right) \\operatorname{cos}\\left(\\theta\\right) \\ddot{\\phi})\\mathbf{\\hat{n}_x} + (- L_{2} \\operatorname{sin}\\left(\\beta\\right) \\left(\\dot{\\beta}\\right)^{2} + L_{2} \\operatorname{cos}\\left(\\beta\\right) \\ddot{\\beta} + L_{3} \\left(- \\operatorname{sin}\\left(\\beta\\right) \\operatorname{sin}\\left(\\phi\\right) + \\operatorname{cos}\\left(\\beta\\right) \\operatorname{cos}\\left(\\phi\\right)\\right) \\ddot{\\phi} - L_{3} \\left(\\operatorname{sin}\\left(\\beta\\right) \\operatorname{cos}\\left(\\phi\\right) + \\operatorname{sin}\\left(\\phi\\right) \\operatorname{cos}\\left(\\beta\\right)\\right) \\left(\\dot{\\phi}\\right)^{2})\\mathbf{\\hat{n}_y} + (- L_{1} \\operatorname{sin}\\left(\\theta\\right) \\ddot{\\theta} - L_{1} \\operatorname{cos}\\left(\\theta\\right) \\left(\\dot{\\theta}\\right)^{2} + L_{2} \\operatorname{sin}\\left(\\beta\\right) \\operatorname{sin}\\left(\\theta\\right) \\ddot{\\beta} + L_{2} \\operatorname{sin}\\left(\\theta\\right) \\operatorname{cos}\\left(\\beta\\right) \\left(\\dot{\\beta}\\right)^{2} + L_{3} \\left(- \\operatorname{sin}\\left(\\beta\\right) \\operatorname{sin}\\left(\\phi\\right) + \\operatorname{cos}\\left(\\beta\\right) \\operatorname{cos}\\left(\\phi\\right)\\right) \\operatorname{sin}\\left(\\theta\\right) \\left(\\dot{\\phi}\\right)^{2} - L_{3} \\left(- \\operatorname{sin}\\left(\\beta\\right) \\operatorname{cos}\\left(\\phi\\right) - \\operatorname{sin}\\left(\\phi\\right) \\operatorname{cos}\\left(\\beta\\right)\\right) \\operatorname{sin}\\left(\\theta\\right) \\ddot{\\phi})\\mathbf{\\hat{n}_z}$$"
      ],
      "text/plain": [
       "⎛                         2                  2                                  2                                          2                                                                       2                                                               2      ⎞\n",
       "⎜               ⎛d       ⎞                  d                                  d                                 ⎛d       ⎞                                                              ⎛d       ⎞                                                               d       ⎟\n",
       "⎜- L₁⋅sin(θ(t))⋅⎜──(θ(t))⎟  + L₁⋅cos(θ(t))⋅───(θ(t)) - L₂⋅sin(β(t))⋅cos(θ(t))⋅───(β(t)) - L₂⋅cos(β(t))⋅cos(θ(t))⋅⎜──(β(t))⎟  - L₃⋅(-sin(β(t))⋅sin(φ(t)) + cos(β(t))⋅cos(φ(t)))⋅cos(θ(t))⋅⎜──(φ(t))⎟  + L₃⋅(-sin(β(t))⋅cos(φ(t)) - sin(φ(t))⋅cos(β(t)))⋅cos(θ(t))⋅───(φ(t))⎟\n",
       "⎜               ⎝dt      ⎠                   2                                  2                                ⎝dt      ⎠                                                              ⎝dt      ⎠                                                                2      ⎟\n",
       "⎝                                          dt                                 dt                                                                                                                                                                                 dt       ⎠ n_x + ⎛                         2                  2                                                           2                                                                  2⎞\n",
       "⎜               ⎛d       ⎞                  d                                                           d                                                         ⎛d       ⎞ ⎟\n",
       "⎜- L₂⋅sin(β(t))⋅⎜──(β(t))⎟  + L₂⋅cos(β(t))⋅───(β(t)) + L₃⋅(-sin(β(t))⋅sin(φ(t)) + cos(β(t))⋅cos(φ(t)))⋅───(φ(t)) - L₃⋅(sin(β(t))⋅cos(φ(t)) + sin(φ(t))⋅cos(β(t)))⋅⎜──(φ(t))⎟ ⎟\n",
       "⎜               ⎝dt      ⎠                   2                                                           2                                                        ⎝dt      ⎠ ⎟\n",
       "⎝                                          dt                                                          dt                                                                    ⎠ n_y + ⎛                 2                                2                            2                                          2                                                                       2                                                               2      ⎞\n",
       "⎜                d                       ⎛d       ⎞                            d                                 ⎛d       ⎞                                                              ⎛d       ⎞                                                               d       ⎟\n",
       "⎜- L₁⋅sin(θ(t))⋅───(θ(t)) - L₁⋅cos(θ(t))⋅⎜──(θ(t))⎟  + L₂⋅sin(β(t))⋅sin(θ(t))⋅───(β(t)) + L₂⋅sin(θ(t))⋅cos(β(t))⋅⎜──(β(t))⎟  + L₃⋅(-sin(β(t))⋅sin(φ(t)) + cos(β(t))⋅cos(φ(t)))⋅sin(θ(t))⋅⎜──(φ(t))⎟  - L₃⋅(-sin(β(t))⋅cos(φ(t)) - sin(φ(t))⋅cos(β(t)))⋅sin(θ(t))⋅───(φ(t))⎟\n",
       "⎜                 2                      ⎝dt      ⎠                             2                                ⎝dt      ⎠                                                              ⎝dt      ⎠                                                                2      ⎟\n",
       "⎝               dt                                                            dt                                                                                                                                                                                 dt       ⎠ n_z"
      ]
     },
     "execution_count": 19,
     "metadata": {},
     "output_type": "execute_result"
    }
   ],
   "source": [
    "# Acceleration is calculated and express in the fixed frame in a similar manner\n",
    "A.set_acc(N_prime, A.a2pt_theory(O, N, N_prime))\n",
    "B.set_acc(N_dbl_prime, B.a2pt_theory(A, N_prime, N_dbl_prime))\n",
    "C.a2pt_theory(B, N_dbl_prime, N_final).express(N)"
   ]
  },
  {
   "cell_type": "markdown",
   "metadata": {},
   "source": [
    "## Problem 3\n",
    "Figure 4 shows a disk of radius $R$ spinning about link $AB$ according to $\\dot{\\phi}$. Bar $AB$ is connected to the vertical link by a perfect pin, and its angle relative to the vertical link is described by $\\theta$. The system is rotating about the vertical link according to $\\dot{\\psi}$. Point $B$ is a point on the top of the disk.\n",
    "\n",
    "a. Using the fixed, inertial frame, $XYZ$, write angular velocity of the disk.    \n",
    "b. What is the angular acceleration of the disk?    \n",
    "c. What is the velocity of point B?    \n",
    "d. What is the acceleration of point B?   \n",
    "\n",
    "<p style=\"text-align:center\">\n",
    "\t<img src=\"http://shared.crawlab.org/mill_in_precession.png\" alt=\"Mill in Precession\" width=50%><br>\n",
    "    <strong>Figure 4: Mill in Precession</strong>\n",
    "</p>"
   ]
  },
  {
   "cell_type": "markdown",
   "metadata": {},
   "source": [
    "The frames and angles used in the solution are summarized in Figure 5. Frame x$'$y$'$z$'$ rotates about the Z-axis according to $\\psi$. Frame xyz is fixed to link between A and the center of the disk.\n",
    "\n",
    "<p style=\"text-align:center\">\n",
    "\t<img src=\"http://shared.crawlab.org/mill_in_precession_frames.png\" alt=\"Frames and Angles\" width=60%><br>\n",
    "    <strong>Figure 5: Frames and Angles</strong>\n",
    "</p>"
   ]
  },
  {
   "cell_type": "code",
   "execution_count": 20,
   "metadata": {
    "collapsed": true
   },
   "outputs": [],
   "source": [
    "psi, theta, phi = dynamicsymbols('psi theta phi')\n",
    "psi_dot, theta_dot, phi_dot = dynamicsymbols('psi theta phi', 1)\n",
    "L, R = sympy.symbols('L R')"
   ]
  },
  {
   "cell_type": "code",
   "execution_count": 21,
   "metadata": {
    "collapsed": false
   },
   "outputs": [],
   "source": [
    "# Fixed, inertial frame\n",
    "N = ReferenceFrame('N')\n",
    "\n",
    "# Frame rotating about Z according to psi\n",
    "N_prime = N.orientnew('N_{prime}', 'Axis', [psi, N.z])\n",
    "\n",
    "# Frame fixed to link AC\n",
    "N_final = N_prime.orientnew('N_{final}', 'Axis', [(sympy.pi/2 - theta), N_prime.y])\n",
    "\n",
    "# Frame fixed to disk\n",
    "N_disk = N_final.orientnew('N_{disk}', 'Axis', [phi, N_final.x])"
   ]
  },
  {
   "cell_type": "code",
   "execution_count": 22,
   "metadata": {
    "collapsed": false
   },
   "outputs": [
    {
     "data": {
      "image/png": "[encoded data removed]",
      "text/latex": [
       "$$\\left[\\begin{matrix}\\sin{\\left (\\theta{\\left (t \\right )} \\right )} \\cos{\\left (\\psi{\\left (t \\right )} \\right )} & \\sin{\\left (\\psi{\\left (t \\right )} \\right )} \\sin{\\left (\\theta{\\left (t \\right )} \\right )} & - \\cos{\\left (\\theta{\\left (t \\right )} \\right )}\\\\\\sin{\\left (\\phi{\\left (t \\right )} \\right )} \\cos{\\left (\\psi{\\left (t \\right )} \\right )} \\cos{\\left (\\theta{\\left (t \\right )} \\right )} - \\sin{\\left (\\psi{\\left (t \\right )} \\right )} \\cos{\\left (\\phi{\\left (t \\right )} \\right )} & \\sin{\\left (\\phi{\\left (t \\right )} \\right )} \\sin{\\left (\\psi{\\left (t \\right )} \\right )} \\cos{\\left (\\theta{\\left (t \\right )} \\right )} + \\cos{\\left (\\phi{\\left (t \\right )} \\right )} \\cos{\\left (\\psi{\\left (t \\right )} \\right )} & \\sin{\\left (\\phi{\\left (t \\right )} \\right )} \\sin{\\left (\\theta{\\left (t \\right )} \\right )}\\\\\\sin{\\left (\\phi{\\left (t \\right )} \\right )} \\sin{\\left (\\psi{\\left (t \\right )} \\right )} + \\cos{\\left (\\phi{\\left (t \\right )} \\right )} \\cos{\\left (\\psi{\\left (t \\right )} \\right )} \\cos{\\left (\\theta{\\left (t \\right )} \\right )} & - \\sin{\\left (\\phi{\\left (t \\right )} \\right )} \\cos{\\left (\\psi{\\left (t \\right )} \\right )} + \\sin{\\left (\\psi{\\left (t \\right )} \\right )} \\cos{\\left (\\phi{\\left (t \\right )} \\right )} \\cos{\\left (\\theta{\\left (t \\right )} \\right )} & \\sin{\\left (\\theta{\\left (t \\right )} \\right )} \\cos{\\left (\\phi{\\left (t \\right )} \\right )}\\end{matrix}\\right]$$"
      ],
      "text/plain": [
       "⎡                sin(θ(t))⋅cos(ψ(t))                                  sin(ψ(t)\n",
       "⎢                                                                             \n",
       "⎢sin(φ(t))⋅cos(ψ(t))⋅cos(θ(t)) - sin(ψ(t))⋅cos(φ(t))  sin(φ(t))⋅sin(ψ(t))⋅cos(\n",
       "⎢                                                                             \n",
       "⎣sin(φ(t))⋅sin(ψ(t)) + cos(φ(t))⋅cos(ψ(t))⋅cos(θ(t))  -sin(φ(t))⋅cos(ψ(t)) + s\n",
       "\n",
       ")⋅sin(θ(t))                       -cos(θ(t))     ⎤\n",
       "                                                 ⎥\n",
       "θ(t)) + cos(φ(t))⋅cos(ψ(t))   sin(φ(t))⋅sin(θ(t))⎥\n",
       "                                                 ⎥\n",
       "in(ψ(t))⋅cos(φ(t))⋅cos(θ(t))  sin(θ(t))⋅cos(φ(t))⎦"
      ]
     },
     "execution_count": 22,
     "metadata": {},
     "output_type": "execute_result"
    }
   ],
   "source": [
    "# We can also write rotation matrices\n",
    "# The rotation, or Direction Cosing Matrix (dcm), between the final set of axes and N\n",
    "N_disk.dcm(N)"
   ]
  },
  {
   "cell_type": "code",
   "execution_count": 23,
   "metadata": {
    "collapsed": false
   },
   "outputs": [
    {
     "data": {
      "image/png": "[encoded data removed]",
      "text/latex": [
       "$$\\dot{\\phi}\\mathbf{\\hat{n_{final}}_x} -  \\dot{\\theta}\\mathbf{\\hat{n_{prime}}_y} + \\dot{\\psi}\\mathbf{\\hat{n}_z}$$"
      ],
      "text/plain": [
       "d       \n",
       "──(φ(t))\n",
       "dt       n_{final}_x +  d       \n",
       "-──(θ(t))\n",
       " dt       n_{prime}_y + d       \n",
       "──(ψ(t))\n",
       "dt       n_z"
      ]
     },
     "execution_count": 23,
     "metadata": {},
     "output_type": "execute_result"
    }
   ],
   "source": [
    "# Now, we can write the angular velocity\n",
    "N_disk.ang_vel_in(N)"
   ]
  },
  {
   "cell_type": "code",
   "execution_count": 24,
   "metadata": {
    "collapsed": false
   },
   "outputs": [
    {
     "data": {
      "image/png": "[encoded data removed]",
      "text/latex": [
       "$$(\\operatorname{sin}\\left(\\psi\\right) \\dot{\\theta} + \\operatorname{sin}\\left(\\theta\\right) \\operatorname{cos}\\left(\\psi\\right) \\dot{\\phi})\\mathbf{\\hat{n}_x} + (\\operatorname{sin}\\left(\\psi\\right) \\operatorname{sin}\\left(\\theta\\right) \\dot{\\phi} - \\operatorname{cos}\\left(\\psi\\right) \\dot{\\theta})\\mathbf{\\hat{n}_y} + (- \\operatorname{cos}\\left(\\theta\\right) \\dot{\\phi} + \\dot{\\psi})\\mathbf{\\hat{n}_z}$$"
      ],
      "text/plain": [
       "⎛          d                              d       ⎞\n",
       "⎜sin(ψ(t))⋅──(θ(t)) + sin(θ(t))⋅cos(ψ(t))⋅──(φ(t))⎟\n",
       "⎝          dt                             dt      ⎠ n_x + ⎛                    d                    d       ⎞\n",
       "⎜sin(ψ(t))⋅sin(θ(t))⋅──(φ(t)) - cos(ψ(t))⋅──(θ(t))⎟\n",
       "⎝                    dt                   dt      ⎠ n_y + ⎛            d          d       ⎞\n",
       "⎜- cos(θ(t))⋅──(φ(t)) + ──(ψ(t))⎟\n",
       "⎝            dt         dt      ⎠ n_z"
      ]
     },
     "execution_count": 24,
     "metadata": {},
     "output_type": "execute_result"
    }
   ],
   "source": [
    "# We can also express the angular velocity in a single frame\n",
    "N_disk.ang_vel_in(N).express(N)"
   ]
  },
  {
   "cell_type": "code",
   "execution_count": 25,
   "metadata": {
    "collapsed": false
   },
   "outputs": [
    {
     "data": {
      "image/png": "[encoded data removed]",
      "text/latex": [
       "$$\\ddot{\\phi}\\mathbf{\\hat{n_{final}}_x} + \\operatorname{sin}\\left(\\theta\\right) \\dot{\\phi} \\dot{\\psi}\\mathbf{\\hat{n_{final}}_y} + \\dot{\\phi} \\dot{\\theta}\\mathbf{\\hat{n_{final}}_z} + \\dot{\\psi} \\dot{\\theta}\\mathbf{\\hat{n_{prime}}_x} -  \\ddot{\\theta}\\mathbf{\\hat{n_{prime}}_y} + \\ddot{\\psi}\\mathbf{\\hat{n}_z}$$"
      ],
      "text/plain": [
       "  2      \n",
       " d       \n",
       "───(φ(t))\n",
       "  2      \n",
       "dt        n_{final}_x +           d        d       \n",
       "sin(θ(t))⋅──(φ(t))⋅──(ψ(t))\n",
       "          dt       dt       n_{final}_y + d        d       \n",
       "──(φ(t))⋅──(θ(t))\n",
       "dt       dt       n_{final}_z + d        d       \n",
       "──(ψ(t))⋅──(θ(t))\n",
       "dt       dt       n_{prime}_x +    2      \n",
       "  d       \n",
       "-───(θ(t))\n",
       "   2      \n",
       " dt        n_{prime}_y +   2      \n",
       " d       \n",
       "───(ψ(t))\n",
       "  2      \n",
       "dt        n_z"
      ]
     },
     "execution_count": 25,
     "metadata": {},
     "output_type": "execute_result"
    }
   ],
   "source": [
    "# We can write the angular acceleration in a similar way\n",
    "N_disk.ang_acc_in(N)"
   ]
  },
  {
   "cell_type": "code",
   "execution_count": 26,
   "metadata": {
    "collapsed": false
   },
   "outputs": [
    {
     "data": {
      "image/png": "[encoded data removed]",
      "text/latex": [
       "$$(- \\operatorname{sin}\\left(\\psi\\right) \\operatorname{sin}\\left(\\theta\\right) \\dot{\\phi} \\dot{\\psi} + \\operatorname{sin}\\left(\\psi\\right) \\ddot{\\theta} + \\operatorname{sin}\\left(\\theta\\right) \\operatorname{cos}\\left(\\psi\\right) \\ddot{\\phi} + \\operatorname{cos}\\left(\\psi\\right) \\operatorname{cos}\\left(\\theta\\right) \\dot{\\phi} \\dot{\\theta} + \\operatorname{cos}\\left(\\psi\\right) \\dot{\\psi} \\dot{\\theta})\\mathbf{\\hat{n}_x} + (\\operatorname{sin}\\left(\\psi\\right) \\operatorname{sin}\\left(\\theta\\right) \\ddot{\\phi} + \\operatorname{sin}\\left(\\psi\\right) \\operatorname{cos}\\left(\\theta\\right) \\dot{\\phi} \\dot{\\theta} + \\operatorname{sin}\\left(\\psi\\right) \\dot{\\psi} \\dot{\\theta} + \\operatorname{sin}\\left(\\theta\\right) \\operatorname{cos}\\left(\\psi\\right) \\dot{\\phi} \\dot{\\psi} - \\operatorname{cos}\\left(\\psi\\right) \\ddot{\\theta})\\mathbf{\\hat{n}_y} + (\\operatorname{sin}\\left(\\theta\\right) \\dot{\\phi} \\dot{\\theta} - \\operatorname{cos}\\left(\\theta\\right) \\ddot{\\phi} + \\ddot{\\psi})\\mathbf{\\hat{n}_z}$$"
      ],
      "text/plain": [
       "⎛                                                      2                               2                                                                            ⎞\n",
       "⎜                      d        d                     d                               d                              d        d                    d        d       ⎟\n",
       "⎜- sin(ψ(t))⋅sin(θ(t))⋅──(φ(t))⋅──(ψ(t)) + sin(ψ(t))⋅───(θ(t)) + sin(θ(t))⋅cos(ψ(t))⋅───(φ(t)) + cos(ψ(t))⋅cos(θ(t))⋅──(φ(t))⋅──(θ(t)) + cos(ψ(t))⋅──(ψ(t))⋅──(θ(t))⎟\n",
       "⎜                      dt       dt                     2                               2                             dt       dt                   dt       dt      ⎟\n",
       "⎝                                                    dt                              dt                                                                             ⎠ n_x + ⎛                      2                                                                                                                                   2      ⎞\n",
       "⎜                     d                              d        d                    d        d                              d        d                     d       ⎟\n",
       "⎜sin(ψ(t))⋅sin(θ(t))⋅───(φ(t)) + sin(ψ(t))⋅cos(θ(t))⋅──(φ(t))⋅──(θ(t)) + sin(ψ(t))⋅──(ψ(t))⋅──(θ(t)) + sin(θ(t))⋅cos(ψ(t))⋅──(φ(t))⋅──(ψ(t)) - cos(ψ(t))⋅───(θ(t))⎟\n",
       "⎜                      2                             dt       dt                   dt       dt                             dt       dt                     2      ⎟\n",
       "⎝                    dt                                                                                                                                  dt       ⎠ n_y + ⎛                                          2           2      ⎞\n",
       "⎜          d        d                     d           d       ⎟\n",
       "⎜sin(θ(t))⋅──(φ(t))⋅──(θ(t)) - cos(θ(t))⋅───(φ(t)) + ───(ψ(t))⎟\n",
       "⎜          dt       dt                     2           2      ⎟\n",
       "⎝                                        dt          dt       ⎠ n_z"
      ]
     },
     "execution_count": 26,
     "metadata": {},
     "output_type": "execute_result"
    }
   ],
   "source": [
    "# We can also express it in a single frame\n",
    "N_disk.ang_acc_in(N).express(N)"
   ]
  },
  {
   "cell_type": "code",
   "execution_count": 46,
   "metadata": {
    "collapsed": false
   },
   "outputs": [],
   "source": [
    "# Define the point O in the fixed frame\n",
    "A = Point('A')\n",
    "A.set_vel(N, 0 * N_prime.x) # Point A is stationary in both N and N_prime\n",
    "\n",
    "# Define the other points\n",
    "# We can use the intermediate frames to do so\n",
    "C = A.locatenew('C', L * N_final.x)\n",
    "B = C.locatenew('B', R * N_final.z)"
   ]
  },
  {
   "cell_type": "code",
   "execution_count": 55,
   "metadata": {
    "collapsed": false
   },
   "outputs": [
    {
     "data": {
      "image/png": "[encoded data removed]",
      "text/latex": [
       "$$-  R \\dot{\\theta}\\mathbf{\\hat{n_{final}}_x} + (L \\operatorname{sin}\\left(\\theta\\right) \\dot{\\psi} - R \\left(- \\operatorname{cos}\\left(\\theta\\right) \\dot{\\psi} + \\dot{\\phi}\\right))\\mathbf{\\hat{n_{final}}_y} + L \\dot{\\theta}\\mathbf{\\hat{n_{final}}_z}$$"
      ],
      "text/plain": [
       "   d       \n",
       "-R⋅──(θ(t))\n",
       "   dt       n_{final}_x + ⎛            d            ⎛            d          d       ⎞⎞\n",
       "⎜L⋅sin(θ(t))⋅──(ψ(t)) - R⋅⎜- cos(θ(t))⋅──(ψ(t)) + ──(φ(t))⎟⎟\n",
       "⎝            dt           ⎝            dt         dt      ⎠⎠ n_{final}_y +   d       \n",
       "L⋅──(θ(t))\n",
       "  dt       n_{final}_z"
      ]
     },
     "execution_count": 55,
     "metadata": {},
     "output_type": "execute_result"
    }
   ],
   "source": [
    "# Define the velocity of point B\n",
    "# Use the .v2pt_theory() to calculate the compoent from the rotation of L\n",
    "C.set_vel(N, C.v2pt_theory(A, N, N_final))\n",
    "\n",
    "B.v2pt_theory(C, N, N_disk)"
   ]
  },
  {
   "cell_type": "code",
   "execution_count": 54,
   "metadata": {
    "collapsed": false
   },
   "outputs": [
    {
     "data": {
      "image/png": "[encoded data removed]",
      "text/latex": [
       "$$(L \\operatorname{cos}\\left(\\psi\\right) \\operatorname{cos}\\left(\\theta\\right) \\dot{\\theta} - R \\operatorname{sin}\\left(\\theta\\right) \\operatorname{cos}\\left(\\psi\\right) \\dot{\\theta} - \\left(L \\operatorname{sin}\\left(\\theta\\right) \\dot{\\psi} - R \\left(- \\operatorname{cos}\\left(\\theta\\right) \\dot{\\psi} + \\dot{\\phi}\\right)\\right) \\operatorname{sin}\\left(\\psi\\right))\\mathbf{\\hat{n}_x} + (L \\operatorname{sin}\\left(\\psi\\right) \\operatorname{cos}\\left(\\theta\\right) \\dot{\\theta} - R \\operatorname{sin}\\left(\\psi\\right) \\operatorname{sin}\\left(\\theta\\right) \\dot{\\theta} + \\left(L \\operatorname{sin}\\left(\\theta\\right) \\dot{\\psi} - R \\left(- \\operatorname{cos}\\left(\\theta\\right) \\dot{\\psi} + \\dot{\\phi}\\right)\\right) \\operatorname{cos}\\left(\\psi\\right))\\mathbf{\\hat{n}_y} + (L \\operatorname{sin}\\left(\\theta\\right) \\dot{\\theta} + R \\operatorname{cos}\\left(\\theta\\right) \\dot{\\theta})\\mathbf{\\hat{n}_z}$$"
      ],
      "text/plain": [
       "⎛                      d                                d          ⎛            d            ⎛            d          d       ⎞⎞          ⎞\n",
       "⎜L⋅cos(ψ(t))⋅cos(θ(t))⋅──(θ(t)) - R⋅sin(θ(t))⋅cos(ψ(t))⋅──(θ(t)) - ⎜L⋅sin(θ(t))⋅──(ψ(t)) - R⋅⎜- cos(θ(t))⋅──(ψ(t)) + ──(φ(t))⎟⎟⋅sin(ψ(t))⎟\n",
       "⎝                      dt                               dt         ⎝            dt           ⎝            dt         dt      ⎠⎠          ⎠ n_x + ⎛                      d                                d          ⎛            d            ⎛            d          d       ⎞⎞          ⎞\n",
       "⎜L⋅sin(ψ(t))⋅cos(θ(t))⋅──(θ(t)) - R⋅sin(ψ(t))⋅sin(θ(t))⋅──(θ(t)) + ⎜L⋅sin(θ(t))⋅──(ψ(t)) - R⋅⎜- cos(θ(t))⋅──(ψ(t)) + ──(φ(t))⎟⎟⋅cos(ψ(t))⎟\n",
       "⎝                      dt                               dt         ⎝            dt           ⎝            dt         dt      ⎠⎠          ⎠ n_y + ⎛            d                      d       ⎞\n",
       "⎜L⋅sin(θ(t))⋅──(θ(t)) + R⋅cos(θ(t))⋅──(θ(t))⎟\n",
       "⎝            dt                     dt      ⎠ n_z"
      ]
     },
     "execution_count": 54,
     "metadata": {},
     "output_type": "execute_result"
    }
   ],
   "source": [
    "# We can also express the angular velocity in a single frame\n",
    "B.v2pt_theory(C, N, N_disk).express(N)"
   ]
  },
  {
   "cell_type": "code",
   "execution_count": 56,
   "metadata": {
    "collapsed": false
   },
   "outputs": [
    {
     "data": {
      "image/png": "[encoded data removed]",
      "text/latex": [
       "$$(- L \\operatorname{sin}^{2}\\left(\\theta\\right) \\left(\\dot{\\psi}\\right)^{2} - L \\left(\\dot{\\theta}\\right)^{2} + R \\left(- \\operatorname{cos}\\left(\\theta\\right) \\dot{\\psi} + \\dot{\\phi}\\right) \\operatorname{sin}\\left(\\theta\\right) \\dot{\\psi} + R \\left(\\operatorname{sin}\\left(\\theta\\right) \\dot{\\phi} \\dot{\\psi} - \\ddot{\\theta}\\right))\\mathbf{\\hat{n_{final}}_x} + (L \\left(\\operatorname{sin}\\left(\\theta\\right) \\ddot{\\psi} + \\operatorname{cos}\\left(\\theta\\right) \\dot{\\psi} \\dot{\\theta}\\right) + L \\operatorname{cos}\\left(\\theta\\right) \\dot{\\psi} \\dot{\\theta} - R \\left(\\operatorname{sin}\\left(\\theta\\right) \\dot{\\psi} \\dot{\\theta} - \\operatorname{cos}\\left(\\theta\\right) \\ddot{\\psi} + \\ddot{\\phi}\\right) - R \\operatorname{sin}\\left(\\theta\\right) \\dot{\\psi} \\dot{\\theta})\\mathbf{\\hat{n_{final}}_y} + (- L \\operatorname{sin}\\left(\\theta\\right) \\operatorname{cos}\\left(\\theta\\right) \\left(\\dot{\\psi}\\right)^{2} + L \\ddot{\\theta} - R \\left(- \\operatorname{cos}\\left(\\theta\\right) \\dot{\\psi} + \\dot{\\phi}\\right)^{2} - R \\left(\\dot{\\theta}\\right)^{2})\\mathbf{\\hat{n_{final}}_z}$$"
      ],
      "text/plain": [
       "⎛                         2               2                                                              ⎛                                2      ⎞⎞\n",
       "⎜       2       ⎛d       ⎞      ⎛d       ⎞      ⎛            d          d       ⎞           d            ⎜          d        d           d       ⎟⎟\n",
       "⎜- L⋅sin (θ(t))⋅⎜──(ψ(t))⎟  - L⋅⎜──(θ(t))⎟  + R⋅⎜- cos(θ(t))⋅──(ψ(t)) + ──(φ(t))⎟⋅sin(θ(t))⋅──(ψ(t)) + R⋅⎜sin(θ(t))⋅──(φ(t))⋅──(ψ(t)) - ───(θ(t))⎟⎟\n",
       "⎜               ⎝dt      ⎠      ⎝dt      ⎠      ⎝            dt         dt      ⎠           dt           ⎜          dt       dt           2      ⎟⎟\n",
       "⎝                                                                                                        ⎝                              dt       ⎠⎠ n_{final}_x + ⎛  ⎛            2                                    ⎞                                     ⎛                                          2           2      ⎞                                ⎞\n",
       "⎜  ⎜           d                    d        d       ⎟               d        d            ⎜          d        d                     d           d       ⎟               d        d       ⎟\n",
       "⎜L⋅⎜sin(θ(t))⋅───(ψ(t)) + cos(θ(t))⋅──(ψ(t))⋅──(θ(t))⎟ + L⋅cos(θ(t))⋅──(ψ(t))⋅──(θ(t)) - R⋅⎜sin(θ(t))⋅──(ψ(t))⋅──(θ(t)) - cos(θ(t))⋅───(ψ(t)) + ───(φ(t))⎟ - R⋅sin(θ(t))⋅──(ψ(t))⋅──(θ(t))⎟\n",
       "⎜  ⎜            2                   dt       dt      ⎟               dt       dt           ⎜          dt       dt                     2           2      ⎟               dt       dt      ⎟\n",
       "⎝  ⎝          dt                                     ⎠                                     ⎝                                        dt          dt       ⎠                                ⎠ n_{final}_y + ⎛                                  2       2                                            2               2⎞\n",
       "⎜                        ⎛d       ⎞       d            ⎛            d          d       ⎞      ⎛d       ⎞ ⎟\n",
       "⎜- L⋅sin(θ(t))⋅cos(θ(t))⋅⎜──(ψ(t))⎟  + L⋅───(θ(t)) - R⋅⎜- cos(θ(t))⋅──(ψ(t)) + ──(φ(t))⎟  - R⋅⎜──(θ(t))⎟ ⎟\n",
       "⎜                        ⎝dt      ⎠        2           ⎝            dt         dt      ⎠      ⎝dt      ⎠ ⎟\n",
       "⎝                                        dt                                                              ⎠ n_{final}_z"
      ]
     },
     "execution_count": 56,
     "metadata": {},
     "output_type": "execute_result"
    }
   ],
   "source": [
    "# Define the acceleration of point B\n",
    "# Use the .apt_theory() to calculate the compoent from the rotation of L\n",
    "C.set_acc(N, C.a2pt_theory(A, N, N_final))\n",
    "\n",
    "B.a2pt_theory(C, N, N_disk)"
   ]
  },
  {
   "cell_type": "code",
   "execution_count": 57,
   "metadata": {
    "collapsed": false
   },
   "outputs": [
    {
     "data": {
      "image/png": "[encoded data removed]",
      "text/latex": [
       "$$(- \\left(L \\left(\\operatorname{sin}\\left(\\theta\\right) \\ddot{\\psi} + \\operatorname{cos}\\left(\\theta\\right) \\dot{\\psi} \\dot{\\theta}\\right) + L \\operatorname{cos}\\left(\\theta\\right) \\dot{\\psi} \\dot{\\theta} - R \\left(\\operatorname{sin}\\left(\\theta\\right) \\dot{\\psi} \\dot{\\theta} - \\operatorname{cos}\\left(\\theta\\right) \\ddot{\\psi} + \\ddot{\\phi}\\right) - R \\operatorname{sin}\\left(\\theta\\right) \\dot{\\psi} \\dot{\\theta}\\right) \\operatorname{sin}\\left(\\psi\\right) + \\left(- L \\operatorname{sin}^{2}\\left(\\theta\\right) \\left(\\dot{\\psi}\\right)^{2} - L \\left(\\dot{\\theta}\\right)^{2} + R \\left(- \\operatorname{cos}\\left(\\theta\\right) \\dot{\\psi} + \\dot{\\phi}\\right) \\operatorname{sin}\\left(\\theta\\right) \\dot{\\psi} + R \\left(\\operatorname{sin}\\left(\\theta\\right) \\dot{\\phi} \\dot{\\psi} - \\ddot{\\theta}\\right)\\right) \\operatorname{sin}\\left(\\theta\\right) \\operatorname{cos}\\left(\\psi\\right) + \\left(- L \\operatorname{sin}\\left(\\theta\\right) \\operatorname{cos}\\left(\\theta\\right) \\left(\\dot{\\psi}\\right)^{2} + L \\ddot{\\theta} - R \\left(- \\operatorname{cos}\\left(\\theta\\right) \\dot{\\psi} + \\dot{\\phi}\\right)^{2} - R \\left(\\dot{\\theta}\\right)^{2}\\right) \\operatorname{cos}\\left(\\psi\\right) \\operatorname{cos}\\left(\\theta\\right))\\mathbf{\\hat{n}_x} + (\\left(L \\left(\\operatorname{sin}\\left(\\theta\\right) \\ddot{\\psi} + \\operatorname{cos}\\left(\\theta\\right) \\dot{\\psi} \\dot{\\theta}\\right) + L \\operatorname{cos}\\left(\\theta\\right) \\dot{\\psi} \\dot{\\theta} - R \\left(\\operatorname{sin}\\left(\\theta\\right) \\dot{\\psi} \\dot{\\theta} - \\operatorname{cos}\\left(\\theta\\right) \\ddot{\\psi} + \\ddot{\\phi}\\right) - R \\operatorname{sin}\\left(\\theta\\right) \\dot{\\psi} \\dot{\\theta}\\right) \\operatorname{cos}\\left(\\psi\\right) + \\left(- L \\operatorname{sin}^{2}\\left(\\theta\\right) \\left(\\dot{\\psi}\\right)^{2} - L \\left(\\dot{\\theta}\\right)^{2} + R \\left(- \\operatorname{cos}\\left(\\theta\\right) \\dot{\\psi} + \\dot{\\phi}\\right) \\operatorname{sin}\\left(\\theta\\right) \\dot{\\psi} + R \\left(\\operatorname{sin}\\left(\\theta\\right) \\dot{\\phi} \\dot{\\psi} - \\ddot{\\theta}\\right)\\right) \\operatorname{sin}\\left(\\psi\\right) \\operatorname{sin}\\left(\\theta\\right) + \\left(- L \\operatorname{sin}\\left(\\theta\\right) \\operatorname{cos}\\left(\\theta\\right) \\left(\\dot{\\psi}\\right)^{2} + L \\ddot{\\theta} - R \\left(- \\operatorname{cos}\\left(\\theta\\right) \\dot{\\psi} + \\dot{\\phi}\\right)^{2} - R \\left(\\dot{\\theta}\\right)^{2}\\right) \\operatorname{sin}\\left(\\psi\\right) \\operatorname{cos}\\left(\\theta\\right))\\mathbf{\\hat{n}_y} + (- \\left(- L \\operatorname{sin}^{2}\\left(\\theta\\right) \\left(\\dot{\\psi}\\right)^{2} - L \\left(\\dot{\\theta}\\right)^{2} + R \\left(- \\operatorname{cos}\\left(\\theta\\right) \\dot{\\psi} + \\dot{\\phi}\\right) \\operatorname{sin}\\left(\\theta\\right) \\dot{\\psi} + R \\left(\\operatorname{sin}\\left(\\theta\\right) \\dot{\\phi} \\dot{\\psi} - \\ddot{\\theta}\\right)\\right) \\operatorname{cos}\\left(\\theta\\right) + \\left(- L \\operatorname{sin}\\left(\\theta\\right) \\operatorname{cos}\\left(\\theta\\right) \\left(\\dot{\\psi}\\right)^{2} + L \\ddot{\\theta} - R \\left(- \\operatorname{cos}\\left(\\theta\\right) \\dot{\\psi} + \\dot{\\phi}\\right)^{2} - R \\left(\\dot{\\theta}\\right)^{2}\\right) \\operatorname{sin}\\left(\\theta\\right))\\mathbf{\\hat{n}_z}$$"
      ],
      "text/plain": [
       "⎛  ⎛  ⎛            2                                    ⎞                                     ⎛                                          2           2      ⎞                                ⎞             ⎛                         2               2                                                              ⎛                                2      ⎞⎞                       ⎛                                  2       2                                            2               2⎞                    ⎞\n",
       "⎜  ⎜  ⎜           d                    d        d       ⎟               d        d            ⎜          d        d                     d           d       ⎟               d        d       ⎟             ⎜       2       ⎛d       ⎞      ⎛d       ⎞      ⎛            d          d       ⎞           d            ⎜          d        d           d       ⎟⎟                       ⎜                        ⎛d       ⎞       d            ⎛            d          d       ⎞      ⎛d       ⎞ ⎟                    ⎟\n",
       "⎜- ⎜L⋅⎜sin(θ(t))⋅───(ψ(t)) + cos(θ(t))⋅──(ψ(t))⋅──(θ(t))⎟ + L⋅cos(θ(t))⋅──(ψ(t))⋅──(θ(t)) - R⋅⎜sin(θ(t))⋅──(ψ(t))⋅──(θ(t)) - cos(θ(t))⋅───(ψ(t)) + ───(φ(t))⎟ - R⋅sin(θ(t))⋅──(ψ(t))⋅──(θ(t))⎟⋅sin(ψ(t)) + ⎜- L⋅sin (θ(t))⋅⎜──(ψ(t))⎟  - L⋅⎜──(θ(t))⎟  + R⋅⎜- cos(θ(t))⋅──(ψ(t)) + ──(φ(t))⎟⋅sin(θ(t))⋅──(ψ(t)) + R⋅⎜sin(θ(t))⋅──(φ(t))⋅──(ψ(t)) - ───(θ(t))⎟⎟⋅sin(θ(t))⋅cos(ψ(t)) + ⎜- L⋅sin(θ(t))⋅cos(θ(t))⋅⎜──(ψ(t))⎟  + L⋅───(θ(t)) - R⋅⎜- cos(θ(t))⋅──(ψ(t)) + ──(φ(t))⎟  - R⋅⎜──(θ(t))⎟ ⎟⋅cos(ψ(t))⋅cos(θ(t))⎟\n",
       "⎜  ⎜  ⎜            2                   dt       dt      ⎟               dt       dt           ⎜          dt       dt                     2           2      ⎟               dt       dt      ⎟             ⎜               ⎝dt      ⎠      ⎝dt      ⎠      ⎝            dt         dt      ⎠           dt           ⎜          dt       dt           2      ⎟⎟                       ⎜                        ⎝dt      ⎠        2           ⎝            dt         dt      ⎠      ⎝dt      ⎠ ⎟                    ⎟\n",
       "⎝  ⎝  ⎝          dt                                     ⎠                                     ⎝                                        dt          dt       ⎠                                ⎠             ⎝                                                                                                        ⎝                              dt       ⎠⎠                       ⎝                                        dt                                                              ⎠                    ⎠ n_x + ⎛⎛  ⎛            2                                    ⎞                                     ⎛                                          2           2      ⎞                                ⎞             ⎛                         2               2                                                              ⎛                                2      ⎞⎞                       ⎛                                  2       2                                            2               2⎞                    ⎞\n",
       "⎜⎜  ⎜           d                    d        d       ⎟               d        d            ⎜          d        d                     d           d       ⎟               d        d       ⎟             ⎜       2       ⎛d       ⎞      ⎛d       ⎞      ⎛            d          d       ⎞           d            ⎜          d        d           d       ⎟⎟                       ⎜                        ⎛d       ⎞       d            ⎛            d          d       ⎞      ⎛d       ⎞ ⎟                    ⎟\n",
       "⎜⎜L⋅⎜sin(θ(t))⋅───(ψ(t)) + cos(θ(t))⋅──(ψ(t))⋅──(θ(t))⎟ + L⋅cos(θ(t))⋅──(ψ(t))⋅──(θ(t)) - R⋅⎜sin(θ(t))⋅──(ψ(t))⋅──(θ(t)) - cos(θ(t))⋅───(ψ(t)) + ───(φ(t))⎟ - R⋅sin(θ(t))⋅──(ψ(t))⋅──(θ(t))⎟⋅cos(ψ(t)) + ⎜- L⋅sin (θ(t))⋅⎜──(ψ(t))⎟  - L⋅⎜──(θ(t))⎟  + R⋅⎜- cos(θ(t))⋅──(ψ(t)) + ──(φ(t))⎟⋅sin(θ(t))⋅──(ψ(t)) + R⋅⎜sin(θ(t))⋅──(φ(t))⋅──(ψ(t)) - ───(θ(t))⎟⎟⋅sin(ψ(t))⋅sin(θ(t)) + ⎜- L⋅sin(θ(t))⋅cos(θ(t))⋅⎜──(ψ(t))⎟  + L⋅───(θ(t)) - R⋅⎜- cos(θ(t))⋅──(ψ(t)) + ──(φ(t))⎟  - R⋅⎜──(θ(t))⎟ ⎟⋅sin(ψ(t))⋅cos(θ(t))⎟\n",
       "⎜⎜  ⎜            2                   dt       dt      ⎟               dt       dt           ⎜          dt       dt                     2           2      ⎟               dt       dt      ⎟             ⎜               ⎝dt      ⎠      ⎝dt      ⎠      ⎝            dt         dt      ⎠           dt           ⎜          dt       dt           2      ⎟⎟                       ⎜                        ⎝dt      ⎠        2           ⎝            dt         dt      ⎠      ⎝dt      ⎠ ⎟                    ⎟\n",
       "⎝⎝  ⎝          dt                                     ⎠                                     ⎝                                        dt          dt       ⎠                                ⎠             ⎝                                                                                                        ⎝                              dt       ⎠⎠                       ⎝                                        dt                                                              ⎠                    ⎠ n_y + ⎛  ⎛                         2               2                                                              ⎛                                2      ⎞⎞             ⎛                                  2       2                                            2               2⎞          ⎞\n",
       "⎜  ⎜       2       ⎛d       ⎞      ⎛d       ⎞      ⎛            d          d       ⎞           d            ⎜          d        d           d       ⎟⎟             ⎜                        ⎛d       ⎞       d            ⎛            d          d       ⎞      ⎛d       ⎞ ⎟          ⎟\n",
       "⎜- ⎜- L⋅sin (θ(t))⋅⎜──(ψ(t))⎟  - L⋅⎜──(θ(t))⎟  + R⋅⎜- cos(θ(t))⋅──(ψ(t)) + ──(φ(t))⎟⋅sin(θ(t))⋅──(ψ(t)) + R⋅⎜sin(θ(t))⋅──(φ(t))⋅──(ψ(t)) - ───(θ(t))⎟⎟⋅cos(θ(t)) + ⎜- L⋅sin(θ(t))⋅cos(θ(t))⋅⎜──(ψ(t))⎟  + L⋅───(θ(t)) - R⋅⎜- cos(θ(t))⋅──(ψ(t)) + ──(φ(t))⎟  - R⋅⎜──(θ(t))⎟ ⎟⋅sin(θ(t))⎟\n",
       "⎜  ⎜               ⎝dt      ⎠      ⎝dt      ⎠      ⎝            dt         dt      ⎠           dt           ⎜          dt       dt           2      ⎟⎟             ⎜                        ⎝dt      ⎠        2           ⎝            dt         dt      ⎠      ⎝dt      ⎠ ⎟          ⎟\n",
       "⎝  ⎝                                                                                                        ⎝                              dt       ⎠⎠             ⎝                                        dt                                                              ⎠          ⎠ n_z"
      ]
     },
     "execution_count": 57,
     "metadata": {},
     "output_type": "execute_result"
    }
   ],
   "source": [
    "# We can also express the angular velocity in a single frame\n",
    "B.a2pt_theory(C, N, N_disk).express(N)"
   ]
  },
  {
   "cell_type": "markdown",
   "metadata": {},
   "source": [
    "<hr class = \"style-end\">"
   ]
  },
  {
   "cell_type": "markdown",
   "metadata": {},
   "source": [
    "#### Licenses\n",
    "Code is licensed under a 3-clause BSD style license. See the licenses/LICENSE.md file.\n",
    "\n",
    "Other content is provided under a [Creative Commons Attribution-NonCommercial 4.0 International License](http://creativecommons.org/licenses/by-nc/4.0/), CC-BY-NC 4.0.\n",
    "    "
   ]
  },
  {
   "cell_type": "code",
   "execution_count": 32,
   "metadata": {
    "collapsed": false
   },
   "outputs": [
    {
     "data": {
      "text/html": [
       "<style>\n",
       "    @font-face {\n",
       "        font-family: \"Computer Modern\";\n",
       "        src: url('http://9dbb143991406a7c655e-aa5fcb0a5a4ec34cff238a2d56ca4144.r56.cf5.rackcdn.com/cmunss.otf');\n",
       "    }\n",
       "    @font-face {\n",
       "        font-family: \"Computer Modern\";\n",
       "        font-weight: bold;\n",
       "        src: url('http://9dbb143991406a7c655e-aa5fcb0a5a4ec34cff238a2d56ca4144.r56.cf5.rackcdn.com/cmunsx.otf');\n",
       "    }\n",
       "    @font-face {\n",
       "        font-family: \"Computer Modern\";\n",
       "        font-style: oblique;\n",
       "        src: url('http://9dbb143991406a7c655e-aa5fcb0a5a4ec34cff238a2d56ca4144.r56.cf5.rackcdn.com/cmunsi.otf');\n",
       "    }\n",
       "    @font-face {\n",
       "        font-family: \"Computer Modern\";\n",
       "        font-weight: bold;\n",
       "        font-style: oblique;\n",
       "        src: url('http://9dbb143991406a7c655e-aa5fcb0a5a4ec34cff238a2d56ca4144.r56.cf5.rackcdn.com/cmunso.otf');\n",
       "    }\n",
       "    \n",
       "    div.cell{\n",
       "        max-width:1100px;\n",
       "        margin-left:auto;\n",
       "        margin-right:auto;\n",
       "    }\n",
       "    \n",
       "    h1 {\n",
       "        font-family: Computer Modern;\n",
       "    }\n",
       "    \n",
       "    h4{\n",
       "        margin-top:12px;\n",
       "        margin-bottom: 3px;\n",
       "       }\n",
       "\n",
       "    div.text_cell_render{\n",
       "        font-family: Computer Modern, \"Helvetica Neue\", Arial, Helvetica, Geneva, sans-serif;\n",
       "        line-height: 145%;\n",
       "        font-size: 130%;\n",
       "        max-width:1100px;\n",
       "        margin-left:auto;\n",
       "        margin-right:auto;\n",
       "    }\n",
       "    \n",
       "    .CodeMirror{\n",
       "            font-family: \"Source Code Pro\", source-code-pro, Consolas, monospace;\n",
       "    }\n",
       "    \n",
       "    .warning{\n",
       "        color: rgb( 240, 20, 20 )\n",
       "        }  \n",
       "    \n",
       "    hr.style-end {\n",
       "    border: 0;\n",
       "    height: 1px;\n",
       "    text-align: center;\n",
       "    background: #333;\n",
       "    background-image: -webkit-linear-gradient(left, #ccc, #333, #ccc); \n",
       "    background-image:    -moz-linear-gradient(left, #ccc, #333, #ccc); \n",
       "    background-image:     -ms-linear-gradient(left, #ccc, #333, #ccc); \n",
       "    background-image:      -o-linear-gradient(left, #ccc, #333, #ccc); \n",
       "    }\n",
       "\n",
       "    hr.style-end:after {\n",
       "    content: \"⚜\";\n",
       "    display: inline-block;\n",
       "    position: relative; \n",
       "    top: -0.5em;  \n",
       "    font-size: 1.5em;\n",
       "    padding: 0 0.25em;\n",
       "    background: white;\n",
       "    }\n",
       "    \n",
       "/*  Center figures, etc\n",
       "    .ui-wrapper {\n",
       "        margin-left: auto !important;\n",
       "        margin-right: auto !important;\n",
       "    }\n",
       " */\n",
       "    \n",
       "</style>\n",
       "<script>\n",
       "    MathJax.Hub.Config({\n",
       "                        TeX: {\n",
       "                           extensions: [\"AMSmath.js\"]\n",
       "                           },\n",
       "                tex2jax: {\n",
       "                    inlineMath: [ ['$','$'], [\"\\\\(\",\"\\\\)\"] ],\n",
       "                    displayMath: [ ['$$','$$'], [\"\\\\[\",\"\\\\]\"] ]\n",
       "                },\n",
       "                displayAlign: 'center', // Change this to 'center' to center equations.\n",
       "                \"HTML-CSS\": {\n",
       "                    styles: {'.MathJax_Display': {\"margin\": 4}}\n",
       "                }\n",
       "        });\n",
       "</script>\n"
      ],
      "text/plain": [
       "<IPython.core.display.HTML object>"
      ]
     },
     "execution_count": 32,
     "metadata": {},
     "output_type": "execute_result"
    }
   ],
   "source": [
    "# Ignore this cell - We just update the CSS to make the notebook look a little bit better and easier to read\n",
    "\n",
    "# Improve the notebook styling -- Run this first\n",
    "import codecs\n",
    "from IPython.core.display import HTML\n",
    "css_file = 'styling/CRAWLAB_IPythonNotebook.css'\n",
    "HTML(codecs.open(css_file, 'r', 'utf-8').read())"
   ]
  },
  {
   "cell_type": "code",
   "execution_count": null,
   "metadata": {
    "collapsed": true
   },
   "outputs": [],
   "source": []
  }
 ],
 "metadata": {
  "kernelspec": {
   "display_name": "Python 3",
   "language": "python",
   "name": "python3"
  },
  "language_info": {
   "codemirror_mode": {
    "name": "ipython",
    "version": 3
   },
   "file_extension": ".py",
   "mimetype": "text/x-python",
   "name": "python",
   "nbconvert_exporter": "python",
   "pygments_lexer": "ipython3",
   "version": "3.4.3"
  }
 },
 "nbformat": 4,
 "nbformat_minor": 0
}
