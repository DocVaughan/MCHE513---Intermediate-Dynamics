{
 "cells": [
  {
   "cell_type": "markdown",
   "metadata": {},
   "source": [
    "<h1 style=\"text-align:center\">Mass-Spring-Damper Example</h1>\n",
    "<h3 style=\"text-align:center\">MCHE 513: Intermediate Dynamics</h3> \n",
    "<p style=\"text-align:center\">Dr. Joshua Vaughan <br>\n",
    "<a href=\"mailto:joshua.vaughan@louisiana.edu\">joshua.vaughan@louisiana.edu</a><br>\n",
    "<a href=\"http://www.ucs.louisiana.edu/~jev9637/\">http://www.ucs.louisiana.edu/~jev9637/</a></p>"
   ]
  },
  {
   "cell_type": "markdown",
   "metadata": {},
   "source": [
    "In this example, we'll determine the equations of motion for the simple mass-spring-damper system shown in Figure 1. The system consists of two masses, $m_1$ and $m_2$, connected by spring, $k$, and damper, $c$. There is a force on the first mass, $f$. The position of first mass is represented by $x_1$, and the second mass by $x_2$.\n",
    "\n",
    "<p style=\"text-align:center\">\n",
    "\t<img src=\"http://shared.crawlab.org/TwoMassSpringDamper_Forced.png\" alt=\"Forces Two-Mass-Spring-Damper\" width=50%><br>\n",
    "    <strong>Figure 1: Forced Two-Mass-Spring-Damper</strong>\n",
    "</p>"
   ]
  },
  {
   "cell_type": "code",
   "execution_count": 1,
   "metadata": {
    "collapsed": true
   },
   "outputs": [],
   "source": [
    "# Import the SymPy Module\n",
    "import sympy\n",
    "\n",
    "# Import the necessary sub-modules for dynamics\n",
    "from sympy.physics.mechanics import LagrangesMethod, Lagrangian\n",
    "from sympy.physics.mechanics import ReferenceFrame, Particle, Point\n",
    "from sympy.physics.mechanics import dynamicsymbols\n",
    "\n",
    "# initiate better printing of SymPy results\n",
    "sympy.init_printing()"
   ]
  },
  {
   "cell_type": "markdown",
   "metadata": {},
   "source": [
    "First, we need to define the generalized coordinates. We'll treat the two masses as point masses, and identify them as such to SymPy. We also need to identify the other symbols in the problem, the two masses, $m_1$ and $m_2$, the spring constant, $k$, damping coefficient, $c$, and force, $f$."
   ]
  },
  {
   "cell_type": "code",
   "execution_count": 138,
   "metadata": {
    "collapsed": false
   },
   "outputs": [],
   "source": [
    "x1, x2, f = dynamicsymbols('x_1 x_2 f')\n",
    "\n",
    "# Also define the first derivatives of each\n",
    "x1_dot, x2_dot, f_dot = dynamicsymbols('x_1 x_2 f', 1)\n",
    "\n",
    "# Define the symbols for the other paramters\n",
    "mass1, mass2, k, c = sympy.symbols('m_1 m_2 k c', isPostive = True)"
   ]
  },
  {
   "cell_type": "code",
   "execution_count": 204,
   "metadata": {
    "collapsed": false
   },
   "outputs": [],
   "source": [
    "# Define the reference frame\n",
    "N = ReferenceFrame('N')\n",
    "\n",
    "#Define a world coordinate origin\n",
    "O = Point('O')\n",
    "O.set_vel(N, 0)\n",
    "\n",
    "# Define the two points and set their velocities\n",
    "# m1p = Point('m1p')\n",
    "m1p = O.locatenew('m1p', x1 * N.x)\n",
    "m1p.set_vel(N, x1_dot * N.x)\n",
    "\n",
    "# m2p = Point('m2p')\n",
    "m2p = O.locatenew('m2p', x2 * N.x)\n",
    "m2p.set_vel(N, x2_dot * N.x)"
   ]
  },
  {
   "cell_type": "code",
   "execution_count": 213,
   "metadata": {
    "collapsed": false
   },
   "outputs": [
    {
     "data": {
      "image/png": "[encoded data removed]",
      "text/latex": [
       "$$- 0.5 k \\left(\\operatorname{x_{1}}{\\left (t \\right )} - \\operatorname{x_{2}}{\\left (t \\right )}\\right)^{2} + \\frac{m_{1}}{2} \\left(\\frac{d}{d t} \\operatorname{x_{1}}{\\left (t \\right )}\\right)^{2} + \\frac{m_{2}}{2} \\left(\\frac{d}{d t} \\operatorname{x_{2}}{\\left (t \\right )}\\right)^{2}$$"
      ],
      "text/plain": [
       "                                            2                 2\n",
       "                                 ⎛d        ⎞       ⎛d        ⎞ \n",
       "                              m₁⋅⎜──(x₁(t))⎟    m₂⋅⎜──(x₂(t))⎟ \n",
       "                          2      ⎝dt       ⎠       ⎝dt       ⎠ \n",
       "- - -0.5⋅k⋅(x₁(t) - x₂(t))  + ─────────────── + ───────────────\n",
       "                                     2                 2       "
      ]
     },
     "execution_count": 213,
     "metadata": {},
     "output_type": "execute_result"
    }
   ],
   "source": [
    "m1 = Particle('m1', m1p, mass1)\n",
    "m2 = Particle('m2', m2p, mass2)\n",
    "\n",
    "# Set up the force list - each item follows the form:\n",
    "#    (the location where the force is applied, its magnitude and direction)\n",
    "forces = [(m1p, f * N.x + c * (x2_dot - x1_dot) * N.x), # damping and external force on m1\n",
    "          (m2p, -c * (x2_dot - x1_dot) * N.x)]          # damping on m2\n",
    "\n",
    "# Define the potential energy for the spring\n",
    "m1.set_potential_energy(1 / 2 * k * (x1 - x2)**2)\n",
    "\n",
    "# Form the Lagrangian, then simplify and printd\n",
    "L = Lagrangian(N, m1, m2)\n",
    "L.simplify()"
   ]
  },
  {
   "cell_type": "code",
   "execution_count": 211,
   "metadata": {
    "collapsed": false
   },
   "outputs": [],
   "source": [
    "LM = LagrangesMethod(L, [x1, x2], forcelist = forces, frame = N)"
   ]
  },
  {
   "cell_type": "code",
   "execution_count": 212,
   "metadata": {
    "collapsed": false
   },
   "outputs": [
    {
     "data": {
      "image/png": "[encoded data removed]",
      "text/latex": [
       "$$\\left[\\begin{matrix}k \\left(\\operatorname{x_{1}}{\\left (t \\right )} - \\operatorname{x_{2}}{\\left (t \\right )}\\right) + m_{1} \\frac{d^{2}}{d t^{2}}  \\operatorname{x_{1}}{\\left (t \\right )}\\\\- 1.0 k \\left(\\operatorname{x_{1}}{\\left (t \\right )} - \\operatorname{x_{2}}{\\left (t \\right )}\\right) + m_{2} \\frac{d^{2}}{d t^{2}}  \\operatorname{x_{2}}{\\left (t \\right )}\\end{matrix}\\right]$$"
      ],
      "text/plain": [
       "⎡                             2           ⎤\n",
       "⎢                            d            ⎥\n",
       "⎢    k⋅(x₁(t) - x₂(t)) + m₁⋅───(x₁(t))    ⎥\n",
       "⎢                             2           ⎥\n",
       "⎢                           dt            ⎥\n",
       "⎢                                         ⎥\n",
       "⎢                                 2       ⎥\n",
       "⎢                                d        ⎥\n",
       "⎢-- -1.0⋅k⋅(x₁(t) - x₂(t)) + m₂⋅───(x₂(t))⎥\n",
       "⎢                                 2       ⎥\n",
       "⎣                               dt        ⎦"
      ]
     },
     "execution_count": 212,
     "metadata": {},
     "output_type": "execute_result"
    }
   ],
   "source": [
    "sympy.simplify(LM.form_lagranges_equations())"
   ]
  },
  {
   "cell_type": "code",
   "execution_count": 208,
   "metadata": {
    "collapsed": false
   },
   "outputs": [
    {
     "data": {
      "text/plain": [
       "[(m1p, (c*(-x_1' + x_2') + f)*N.x), (m2p, - c*(-x_1' + x_2')*N.x)]"
      ]
     },
     "execution_count": 208,
     "metadata": {},
     "output_type": "execute_result"
    }
   ],
   "source": [
    "LM.forcelist"
   ]
  },
  {
   "cell_type": "code",
   "execution_count": 209,
   "metadata": {
    "collapsed": false
   },
   "outputs": [
    {
     "ename": "TypeError",
     "evalue": "'Mul' object is not callable",
     "output_type": "error",
     "traceback": [
      "\u001b[0;31m---------------------------------------------------------------------------\u001b[0m",
      "\u001b[0;31mTypeError\u001b[0m                                 Traceback (most recent call last)",
      "\u001b[0;32m<ipython-input-209-98c1eaa88868>\u001b[0m in \u001b[0;36m<module>\u001b[0;34m()\u001b[0m\n\u001b[0;32m----> 1\u001b[0;31m \u001b[0mm1\u001b[0m\u001b[0;34m.\u001b[0m\u001b[0mpotential_energy\u001b[0m\u001b[0;34m(\u001b[0m\u001b[0;34m)\u001b[0m\u001b[0;34m\u001b[0m\u001b[0m\n\u001b[0m",
      "\u001b[0;31mTypeError\u001b[0m: 'Mul' object is not callable"
     ]
    }
   ],
   "source": [
    "m1.potential_energy()"
   ]
  },
  {
   "cell_type": "code",
   "execution_count": 9,
   "metadata": {
    "collapsed": false
   },
   "outputs": [
    {
     "data": {
      "image/png": "[encoded data removed]",
      "text/latex": [
       "$$-  c \\left(- \\dot{x}_{1} + \\dot{x}_{2}\\right)\\mathbf{\\hat{n}_x}$$"
      ],
      "text/plain": [
       "   ⎛  d           d        ⎞\n",
       "-c⋅⎜- ──(x₁(t)) + ──(x₂(t))⎟\n",
       "   ⎝  dt          dt       ⎠ n_x"
      ]
     },
     "execution_count": 9,
     "metadata": {},
     "output_type": "execute_result"
    }
   ],
   "source": [
    "-c * (x2_dot - x1_dot) * N.x"
   ]
  },
  {
   "cell_type": "code",
   "execution_count": null,
   "metadata": {
    "collapsed": true
   },
   "outputs": [],
   "source": []
  }
 ],
 "metadata": {
  "kernelspec": {
   "display_name": "Python 3",
   "language": "python",
   "name": "python3"
  },
  "language_info": {
   "codemirror_mode": {
    "name": "ipython",
    "version": 3
   },
   "file_extension": ".py",
   "mimetype": "text/x-python",
   "name": "python",
   "nbconvert_exporter": "python",
   "pygments_lexer": "ipython3",
   "version": "3.4.3"
  }
 },
 "nbformat": 4,
 "nbformat_minor": 0
}
