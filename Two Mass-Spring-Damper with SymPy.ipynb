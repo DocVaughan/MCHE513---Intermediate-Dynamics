{
 "cells": [
  {
   "cell_type": "markdown",
   "metadata": {},
   "source": [
    "<h1 style=\"text-align:center\">Mass-Spring-Damper Example</h1>\n",
    "<h3 style=\"text-align:center\">MCHE 513: Intermediate Dynamics</h3> \n",
    "<p style=\"text-align:center\">Dr. Joshua Vaughan <br>\n",
    "<a href=\"mailto:joshua.vaughan@louisiana.edu\">joshua.vaughan@louisiana.edu</a><br>\n",
    "<a href=\"http://www.ucs.louisiana.edu/~jev9637/\">http://www.ucs.louisiana.edu/~jev9637/</a></p>"
   ]
  },
  {
   "cell_type": "markdown",
   "metadata": {},
   "source": [
    "In this example, we'll determine the equations of motion for the simple mass-spring-damper system shown in Figure 1. The system consists of two masses, $m_1$ and $m_2$, connected by spring, $k$, and damper, $c$. There is a force on the first mass, $f$. The position of first mass is represented by $x_1$, and the second mass by $x_2$.\n",
    "\n",
    "<p style=\"text-align:center\">\n",
    "\t<img src=\"http://shared.crawlab.org/TwoMassSpringDamper_Forced.png\" alt=\"Forces Two-Mass-Spring-Damper\" width=50%><br>\n",
    "    <strong>Figure 1: Forced Two-Mass-Spring-Damper</strong>\n",
    "</p>"
   ]
  },
  {
   "cell_type": "code",
   "execution_count": 1,
   "metadata": {
    "collapsed": true
   },
   "outputs": [],
   "source": [
    "# Import the SymPy Module\n",
    "import sympy\n",
    "\n",
    "# Import the necessary sub-modules for dynamics\n",
    "from sympy.physics.mechanics import LagrangesMethod, Lagrangian\n",
    "from sympy.physics.mechanics import ReferenceFrame, Particle, Point\n",
    "from sympy.physics.mechanics import dynamicsymbols\n",
    "\n",
    "# initiate better printing of SymPy results\n",
    "sympy.init_printing()"
   ]
  },
  {
   "cell_type": "markdown",
   "metadata": {},
   "source": [
    "First, we need to define the generalized coordinates. We'll treat the two masses as point masses, and identify them as such to SymPy. We also need to identify the other symbols in the problem, the two masses, $m_1$ and $m_2$, the spring constant, $k$, damping coefficient, $c$, and force, $f$."
   ]
  },
  {
   "cell_type": "code",
   "execution_count": 2,
   "metadata": {},
   "outputs": [],
   "source": [
    "x1, x2, f = dynamicsymbols('x_1 x_2 f')\n",
    "\n",
    "# Also define the first derivatives of each\n",
    "x1_dot, x2_dot, f_dot = dynamicsymbols('x_1 x_2 f', 1)\n",
    "\n",
    "# Define the symbols for the other paramters\n",
    "mass1, mass2, k, c = sympy.symbols('m_1 m_2 k c', isPostive = True)"
   ]
  },
  {
   "cell_type": "code",
   "execution_count": 3,
   "metadata": {},
   "outputs": [],
   "source": [
    "# Define the reference frame\n",
    "N = ReferenceFrame('N')\n",
    "\n",
    "#Define a world coordinate origin\n",
    "O = Point('O')\n",
    "O.set_vel(N, 0)\n",
    "\n",
    "# Define the two points and set their velocities\n",
    "# m1p = Point('m1p')\n",
    "m1p = O.locatenew('m1p', x1 * N.x)\n",
    "m1p.set_vel(N, x1_dot * N.x)\n",
    "\n",
    "# m2p = Point('m2p')\n",
    "m2p = O.locatenew('m2p', x2 * N.x)\n",
    "m2p.set_vel(N, x2_dot * N.x)"
   ]
  },
  {
   "cell_type": "code",
   "execution_count": 4,
   "metadata": {},
   "outputs": [
    {
     "data": {
      "image/png": "[encoded data removed]",
      "text/latex": [
       "$$- 0.5 k \\left(\\operatorname{x_{1}}{\\left (t \\right )} - \\operatorname{x_{2}}{\\left (t \\right )}\\right)^{2} + \\frac{m_{1} \\left(\\frac{d}{d t} \\operatorname{x_{1}}{\\left (t \\right )}\\right)^{2}}{2} + \\frac{m_{2} \\left(\\frac{d}{d t} \\operatorname{x_{2}}{\\left (t \\right )}\\right)^{2}}{2}$$"
      ],
      "text/plain": [
       "                                         2                 2\n",
       "                              ⎛d        ⎞       ⎛d        ⎞ \n",
       "                           m₁⋅⎜──(x₁(t))⎟    m₂⋅⎜──(x₂(t))⎟ \n",
       "                       2      ⎝dt       ⎠       ⎝dt       ⎠ \n",
       "- 0.5⋅k⋅(x₁(t) - x₂(t))  + ─────────────── + ───────────────\n",
       "                                  2                 2       "
      ]
     },
     "execution_count": 4,
     "metadata": {},
     "output_type": "execute_result"
    }
   ],
   "source": [
    "m1 = Particle('m1', m1p, mass1)\n",
    "m2 = Particle('m2', m2p, mass2)\n",
    "\n",
    "# Set up the force list - each item follows the form:\n",
    "#    (the location where the force is applied, its magnitude and direction)\n",
    "forces = [(m1p, f * N.x + c * (x2_dot - x1_dot) * N.x), # damping and external force on m1\n",
    "          (m2p, -c * (x2_dot - x1_dot) * N.x)]          # damping on m2\n",
    "\n",
    "# Define the potential energy for the spring\n",
    "m1.potential_energy = 1 / 2 * k * (x1 - x2)**2\n",
    "\n",
    "# Form the Lagrangian, then simplify and printd\n",
    "L = Lagrangian(N, m1, m2)\n",
    "L.simplify()"
   ]
  },
  {
   "cell_type": "code",
   "execution_count": 5,
   "metadata": {},
   "outputs": [],
   "source": [
    "LM = LagrangesMethod(L, [x1, x2], forcelist = forces, frame = N)"
   ]
  },
  {
   "cell_type": "code",
   "execution_count": 6,
   "metadata": {},
   "outputs": [
    {
     "data": {
      "image/png": "[encoded data removed]",
      "text/latex": [
       "$$\\left[\\begin{matrix}c \\left(\\frac{d}{d t} \\operatorname{x_{1}}{\\left (t \\right )} - \\frac{d}{d t} \\operatorname{x_{2}}{\\left (t \\right )}\\right) + k \\left(\\operatorname{x_{1}}{\\left (t \\right )} - \\operatorname{x_{2}}{\\left (t \\right )}\\right) + m_{1} \\frac{d^{2}}{d t^{2}} \\operatorname{x_{1}}{\\left (t \\right )} - f{\\left (t \\right )}\\\\- c \\left(\\frac{d}{d t} \\operatorname{x_{1}}{\\left (t \\right )} - \\frac{d}{d t} \\operatorname{x_{2}}{\\left (t \\right )}\\right) - 1.0 k \\left(\\operatorname{x_{1}}{\\left (t \\right )} - \\operatorname{x_{2}}{\\left (t \\right )}\\right) + m_{2} \\frac{d^{2}}{d t^{2}} \\operatorname{x_{2}}{\\left (t \\right )}\\end{matrix}\\right]$$"
      ],
      "text/plain": [
       "⎡                                                     2              ⎤\n",
       "⎢  ⎛d           d        ⎞                           d               ⎥\n",
       "⎢c⋅⎜──(x₁(t)) - ──(x₂(t))⎟ + k⋅(x₁(t) - x₂(t)) + m₁⋅───(x₁(t)) - f(t)⎥\n",
       "⎢  ⎝dt          dt       ⎠                            2              ⎥\n",
       "⎢                                                   dt               ⎥\n",
       "⎢                                                                    ⎥\n",
       "⎢                                                           2        ⎥\n",
       "⎢    ⎛d           d        ⎞                               d         ⎥\n",
       "⎢- c⋅⎜──(x₁(t)) - ──(x₂(t))⎟ - 1.0⋅k⋅(x₁(t) - x₂(t)) + m₂⋅───(x₂(t)) ⎥\n",
       "⎢    ⎝dt          dt       ⎠                                2        ⎥\n",
       "⎣                                                         dt         ⎦"
      ]
     },
     "execution_count": 6,
     "metadata": {},
     "output_type": "execute_result"
    }
   ],
   "source": [
    "sympy.simplify(LM.form_lagranges_equations())"
   ]
  },
  {
   "cell_type": "markdown",
   "metadata": {},
   "source": [
    "The <tt>LagrangesMethod</tt> class gives us lots of information about the system. For example, we can output the mass/inertia matrix and the forcing terms. Note that the forcing terms include what might be conservative forces and would therefore normally appear in a stiffness matrix."
   ]
  },
  {
   "cell_type": "code",
   "execution_count": 10,
   "metadata": {},
   "outputs": [
    {
     "data": {
      "image/png": "[encoded data removed]",
      "text/latex": [
       "$$\\left[\\begin{matrix}m_{1} & 0\\\\0 & m_{2}\\end{matrix}\\right]$$"
      ],
      "text/plain": [
       "⎡m₁  0 ⎤\n",
       "⎢      ⎥\n",
       "⎣0   m₂⎦"
      ]
     },
     "execution_count": 10,
     "metadata": {},
     "output_type": "execute_result"
    }
   ],
   "source": [
    "# Output the inertia/mass matrix of the system\n",
    "LM.mass_matrix"
   ]
  },
  {
   "cell_type": "code",
   "execution_count": 11,
   "metadata": {},
   "outputs": [
    {
     "data": {
      "image/png": "[encoded data removed]",
      "text/latex": [
       "$$\\left[\\begin{matrix}c \\left(- \\frac{d}{d t} \\operatorname{x_{1}}{\\left (t \\right )} + \\frac{d}{d t} \\operatorname{x_{2}}{\\left (t \\right )}\\right) - 0.5 k \\left(2 \\operatorname{x_{1}}{\\left (t \\right )} - 2 \\operatorname{x_{2}}{\\left (t \\right )}\\right) + f{\\left (t \\right )}\\\\- c \\left(- \\frac{d}{d t} \\operatorname{x_{1}}{\\left (t \\right )} + \\frac{d}{d t} \\operatorname{x_{2}}{\\left (t \\right )}\\right) - 0.5 k \\left(- 2 \\operatorname{x_{1}}{\\left (t \\right )} + 2 \\operatorname{x_{2}}{\\left (t \\right )}\\right)\\end{matrix}\\right]$$"
      ],
      "text/plain": [
       "⎡  ⎛  d           d        ⎞                                   ⎤\n",
       "⎢c⋅⎜- ──(x₁(t)) + ──(x₂(t))⎟ - 0.5⋅k⋅(2⋅x₁(t) - 2⋅x₂(t)) + f(t)⎥\n",
       "⎢  ⎝  dt          dt       ⎠                                   ⎥\n",
       "⎢                                                              ⎥\n",
       "⎢      ⎛  d           d        ⎞                               ⎥\n",
       "⎢  - c⋅⎜- ──(x₁(t)) + ──(x₂(t))⎟ - 0.5⋅k⋅(-2⋅x₁(t) + 2⋅x₂(t))  ⎥\n",
       "⎣      ⎝  dt          dt       ⎠                               ⎦"
      ]
     },
     "execution_count": 11,
     "metadata": {},
     "output_type": "execute_result"
    }
   ],
   "source": [
    "# Output the forcing terms of the system\n",
    "LM.forcing"
   ]
  },
  {
   "cell_type": "markdown",
   "metadata": {},
   "source": [
    "<hr style=\"border: 0px;\n",
    "        height: 1px;\n",
    "        text-align: center;\n",
    "        background: #333;\n",
    "        background-image: -webkit-linear-gradient(left, #ccc, #333, #ccc); \n",
    "        background-image:    -moz-linear-gradient(left, #ccc, #333, #ccc); \n",
    "        background-image:     -ms-linear-gradient(left, #ccc, #333, #ccc); \n",
    "        background-image:      -o-linear-gradient(left, #ccc, #333, #ccc);\">"
   ]
  },
  {
   "cell_type": "markdown",
   "metadata": {},
   "source": [
    "#### Licenses\n",
    "Code is licensed under a 3-clause BSD style license. See the licenses/LICENSE.md file.\n",
    "\n",
    "Other content is provided under a [Creative Commons Attribution-NonCommercial 4.0 International License](http://creativecommons.org/licenses/by-nc/4.0/), CC-BY-NC 4.0."
   ]
  },
  {
   "cell_type": "code",
   "execution_count": 13,
   "metadata": {},
   "outputs": [
    {
     "data": {
      "text/html": [
       "<script>\n",
       "    MathJax.Hub.Config({\n",
       "                        TeX: {\n",
       "                           extensions: [\"AMSmath.js\"]\n",
       "                           },\n",
       "                tex2jax: {\n",
       "                    inlineMath: [ ['$','$'], [\"\\\\(\",\"\\\\)\"] ],\n",
       "                    displayMath: [ ['$$','$$'], [\"\\\\[\",\"\\\\]\"] ]\n",
       "                },\n",
       "                displayAlign: 'center', // Change this to 'center' to center equations.\n",
       "                \"HTML-CSS\": {\n",
       "                    styles: {'.MathJax_Display': {\"margin\": 4}}\n",
       "                }\n",
       "        });\n",
       "</script>\n",
       "\n",
       "<style>\n",
       "    @font-face {\n",
       "        font-family: \"Computer Modern\";\n",
       "        src: url('http://mirrors.ctan.org/fonts/cm-unicode/fonts/otf/cmunss.otf');\n",
       "    }\n",
       "    @font-face {\n",
       "        font-family: \"Computer Modern\";\n",
       "        src: url('http://mirrors.ctan.org/fonts/cm-unicode/fonts/otf/cmunsx.otf');\n",
       "        font-weight: bold;\n",
       "    }\n",
       "    @font-face {\n",
       "        font-family: \"Computer Modern\";\n",
       "        src: url('http://mirrors.ctan.org/fonts/cm-unicode/fonts/otf/cmunsi.otf');\n",
       "        font-style: oblique;\n",
       "    }\n",
       "    @font-face {\n",
       "        font-family: \"Computer Modern\";\n",
       "        src: url('http://mirrors.ctan.org/fonts/cm-unicode/fonts/otf/cmunso.otf');\n",
       "        font-weight: bold;\n",
       "        font-style: oblique;\n",
       "    }\n",
       "\n",
       "    div.cell {\n",
       "        max-width: 1100px;\n",
       "    }\n",
       "    \n",
       "    h1 {\n",
       "        font-family: Computer Modern;\n",
       "    }\n",
       "    \n",
       "    h4 {\n",
       "        margin-top: 12px;\n",
       "        margin-bottom: 3px;\n",
       "    }\n",
       "\n",
       "    div.text_cell_render {\n",
       "        font-family: Computer Modern, \"Helvetica Neue\", Arial, Helvetica, Geneva, sans-serif;\n",
       "        line-height: 145%;\n",
       "        font-size: 130%;\n",
       "        width: 100%;\n",
       "        max-width: 1100px;\n",
       "    }\n",
       "    \n",
       "    .CodeMirror {\n",
       "        font-family: \"Source Code Pro\", source-code-pro, Consolas, monospace;\n",
       "    }\n",
       "    \n",
       "    .warning {\n",
       "        color: rgb( 240, 20, 20 )\n",
       "    }  \n",
       "  \n",
       "   \n",
       "    hr.style-end {\n",
       "        border: 0px !important;\n",
       "        height: 1px !important;\n",
       "        text-align: center !important;\n",
       "        background: #333 !important;\n",
       "        background-image: -webkit-linear-gradient(left, #ccc, #333, #ccc) !important; \n",
       "        background-image:    -moz-linear-gradient(left, #ccc, #333, #ccc) !important; \n",
       "        background-image:     -ms-linear-gradient(left, #ccc, #333, #ccc) !important; \n",
       "        background-image:      -o-linear-gradient(left, #ccc, #333, #ccc) !important; \n",
       "    }\n",
       "\n",
       "    hr.style-end:after {\n",
       "        content: &#x269C !important;\n",
       "        left: 50% !important;\n",
       "        position: absolute !important;\n",
       "        /* Controls the whitespace around the symbol */\n",
       "        padding: 0px !important;\n",
       "        background: #fff !important;\n",
       "    }\n",
       "    \n",
       "/*  Center figures, etc\n",
       "    .ui-wrapper {\n",
       "        margin-left: auto !important;\n",
       "        margin-right: auto !important;\n",
       "    }\n",
       "*/\n",
       "    \n",
       "</style>\n"
      ],
      "text/plain": [
       "<IPython.core.display.HTML object>"
      ]
     },
     "execution_count": 13,
     "metadata": {},
     "output_type": "execute_result"
    }
   ],
   "source": [
    "# This cell will just improve the styling of the notebook\n",
    "# You can ignore it, if you are okay with the default sytling\n",
    "from IPython.core.display import HTML\n",
    "import urllib.request\n",
    "response = urllib.request.urlopen(\"https://cl.ly/1B1y452Z1d35\")\n",
    "HTML(response.read().decode(\"utf-8\"))"
   ]
  }
 ],
 "metadata": {
  "kernelspec": {
   "display_name": "Python 3",
   "language": "python",
   "name": "python3"
  },
  "language_info": {
   "codemirror_mode": {
    "name": "ipython",
    "version": 3
   },
   "file_extension": ".py",
   "mimetype": "text/x-python",
   "name": "python",
   "nbconvert_exporter": "python",
   "pygments_lexer": "ipython3",
   "version": "3.6.2"
  }
 },
 "nbformat": 4,
 "nbformat_minor": 1
}
