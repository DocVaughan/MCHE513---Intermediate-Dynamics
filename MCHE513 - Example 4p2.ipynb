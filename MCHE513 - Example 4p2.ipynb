{
 "cells": [
  {
   "cell_type": "markdown",
   "metadata": {},
   "source": [
    "<h1 style=\"text-align:center\">Example 4.2</h1>\n",
    "<h3 style=\"text-align:center\">MCHE 513: Intermediate Dynamics &mdash; Fall 2015</h3> \n",
    "<p style=\"text-align:center\">Dr. Joshua Vaughan <br>\n",
    "<a href=\"mailto:joshua.vaughan@louisiana.edu\">joshua.vaughan@louisiana.edu</a><br>\n",
    "<a href=\"http://www.ucs.louisiana.edu/~jev9637/\">http://www.ucs.louisiana.edu/~jev9637/</a></p>"
   ]
  },
  {
   "cell_type": "code",
   "execution_count": 1,
   "metadata": {
    "collapsed": false
   },
   "outputs": [],
   "source": [
    "import sympy\n",
    "sympy.init_printing()"
   ]
  },
  {
   "cell_type": "code",
   "execution_count": 2,
   "metadata": {
    "collapsed": false
   },
   "outputs": [],
   "source": [
    "beta, gamma, phi = sympy.symbols('beta gamma phi')"
   ]
  },
  {
   "cell_type": "code",
   "execution_count": 3,
   "metadata": {
    "collapsed": false
   },
   "outputs": [],
   "source": [
    "# Define the precession rotation matrix\n",
    "R_beta = sympy.Matrix([[sympy.cos(beta), 0, -sympy.sin(beta)],\n",
    "                       [0, 1, 0],\n",
    "                       [sympy.sin(beta), 0, sympy.cos(beta)]])"
   ]
  },
  {
   "cell_type": "code",
   "execution_count": 4,
   "metadata": {
    "collapsed": false
   },
   "outputs": [],
   "source": [
    "# Define the nutation rotation matrix\n",
    "R_gamma = sympy.Matrix([[1, 0, 0],\n",
    "                        [0, sympy.cos(gamma), sympy.sin(gamma)],\n",
    "                        [0, -sympy.sin(gamma), sympy.cos(gamma)]])"
   ]
  },
  {
   "cell_type": "code",
   "execution_count": 5,
   "metadata": {
    "collapsed": true
   },
   "outputs": [],
   "source": [
    "# Define the sping rotation matrix\n",
    "R_phi = sympy.Matrix([[sympy.cos(phi), 0, -sympy.sin(phi)],\n",
    "                      [0, 1, 0],\n",
    "                      [sympy.sin(phi), 0, sympy.cos(phi)]])"
   ]
  },
  {
   "cell_type": "code",
   "execution_count": 6,
   "metadata": {
    "collapsed": false
   },
   "outputs": [
    {
     "data": {
      "image/png": "[encoded data removed]",
      "text/latex": [
       "$$\\left[\\begin{matrix}\\sin{\\left (\\gamma \\right )} \\sin{\\left (\\phi \\right )} \\frac{d}{d t} \\beta\\\\\\cos{\\left (\\gamma \\right )} \\frac{d}{d t} \\beta\\\\- \\sin{\\left (\\gamma \\right )} \\cos{\\left (\\phi \\right )} \\frac{d}{d t} \\beta\\end{matrix}\\right]$$"
      ],
      "text/plain": [
       "⎡              d     ⎤\n",
       "⎢sin(γ)⋅sin(φ)⋅──(β) ⎥\n",
       "⎢              dt    ⎥\n",
       "⎢                    ⎥\n",
       "⎢           d        ⎥\n",
       "⎢    cos(γ)⋅──(β)    ⎥\n",
       "⎢           dt       ⎥\n",
       "⎢                    ⎥\n",
       "⎢               d    ⎥\n",
       "⎢-sin(γ)⋅cos(φ)⋅──(β)⎥\n",
       "⎣               dt   ⎦"
      ]
     },
     "execution_count": 6,
     "metadata": {},
     "output_type": "execute_result"
    }
   ],
   "source": [
    "# Write the precession term in XYZ, then use the rotation matrices to transform to xyz\n",
    "precession_vel = sympy.Matrix([[0], [sympy.Derivative(beta, sympy.Symbol('t'))], [0]])\n",
    "\n",
    "precession_term = R_phi * R_gamma * R_phi * precession_vel\n",
    "\n",
    "# Print the answer - not using the print() function causes it to default to \"pretty\" printing\n",
    "precession_term"
   ]
  },
  {
   "cell_type": "code",
   "execution_count": 7,
   "metadata": {
    "collapsed": false
   },
   "outputs": [
    {
     "data": {
      "image/png": "[encoded data removed]",
      "text/latex": [
       "$$\\left[\\begin{matrix}\\cos{\\left (\\phi \\right )} \\frac{d}{d t} \\gamma\\\\0\\\\\\sin{\\left (\\phi \\right )} \\frac{d}{d t} \\gamma\\end{matrix}\\right]$$"
      ],
      "text/plain": [
       "⎡       d    ⎤\n",
       "⎢cos(φ)⋅──(γ)⎥\n",
       "⎢       dt   ⎥\n",
       "⎢            ⎥\n",
       "⎢     0      ⎥\n",
       "⎢            ⎥\n",
       "⎢       d    ⎥\n",
       "⎢sin(φ)⋅──(γ)⎥\n",
       "⎣       dt   ⎦"
      ]
     },
     "execution_count": 7,
     "metadata": {},
     "output_type": "execute_result"
    }
   ],
   "source": [
    "# Write the precession term in x'y'z', then use the rotation matrices to transform to xyz\n",
    "nutation_vel = sympy.Matrix([[sympy.Derivative(gamma, sympy.Symbol('t'))], [0], [0]])\n",
    "\n",
    "nutation_term = R_phi * R_gamma * nutation_vel\n",
    "\n",
    "# Print the answer - not using the print() function causes it to default to \"pretty\" printing\n",
    "nutation_term"
   ]
  },
  {
   "cell_type": "code",
   "execution_count": 8,
   "metadata": {
    "collapsed": true
   },
   "outputs": [],
   "source": [
    "# The spin component of the angular velocity is already written in xyz\n",
    "# No transformation is needed\n",
    "spin_vel = sympy.Matrix([[0], [sympy.Derivative(phi, sympy.Symbol('t'))], [0]])"
   ]
  },
  {
   "cell_type": "code",
   "execution_count": 9,
   "metadata": {
    "collapsed": false
   },
   "outputs": [
    {
     "data": {
      "image/png": "[encoded data removed]",
      "text/latex": [
       "$$\\left[\\begin{matrix}\\sin{\\left (\\gamma \\right )} \\sin{\\left (\\phi \\right )} \\frac{d}{d t} \\beta + \\cos{\\left (\\phi \\right )} \\frac{d}{d t} \\gamma\\\\\\cos{\\left (\\gamma \\right )} \\frac{d}{d t} \\beta + \\frac{d}{d t} \\phi\\\\- \\sin{\\left (\\gamma \\right )} \\cos{\\left (\\phi \\right )} \\frac{d}{d t} \\beta + \\sin{\\left (\\phi \\right )} \\frac{d}{d t} \\gamma\\end{matrix}\\right]$$"
      ],
      "text/plain": [
       "⎡               d              d     ⎤\n",
       "⎢ sin(γ)⋅sin(φ)⋅──(β) + cos(φ)⋅──(γ) ⎥\n",
       "⎢               dt             dt    ⎥\n",
       "⎢                                    ⎥\n",
       "⎢               d       d            ⎥\n",
       "⎢        cos(γ)⋅──(β) + ──(φ)        ⎥\n",
       "⎢               dt      dt           ⎥\n",
       "⎢                                    ⎥\n",
       "⎢                d              d    ⎥\n",
       "⎢- sin(γ)⋅cos(φ)⋅──(β) + sin(φ)⋅──(γ)⎥\n",
       "⎣                dt             dt   ⎦"
      ]
     },
     "execution_count": 9,
     "metadata": {},
     "output_type": "execute_result"
    }
   ],
   "source": [
    "# The total angular velocity is just the sum of the precsesion, nutation, and spin terms\n",
    "ang_vel_xyz = precession_term + nutation_term + spin_vel\n",
    "\n",
    "# Print the answer - not using the print() function causes it to default to \"pretty\" printing\n",
    "ang_vel_xyz"
   ]
  },
  {
   "cell_type": "markdown",
   "metadata": {},
   "source": [
    "We can subtitute the values for the angles using the ```.subs()``` method"
   ]
  },
  {
   "cell_type": "code",
   "execution_count": 10,
   "metadata": {
    "collapsed": false
   },
   "outputs": [
    {
     "data": {
      "image/png": "[encoded data removed]",
      "text/latex": [
       "$$\\left[\\begin{matrix}-21.4891498386867\\\\900.194027703747\\\\7.71455780421365\\end{matrix}\\right]$$"
      ],
      "text/plain": [
       "⎡-21.4891498386867⎤\n",
       "⎢                 ⎥\n",
       "⎢900.194027703747 ⎥\n",
       "⎢                 ⎥\n",
       "⎣7.71455780421365 ⎦"
      ]
     },
     "execution_count": 10,
     "metadata": {},
     "output_type": "execute_result"
    }
   ],
   "source": [
    "ang_vel_xyz.subs([(sympy.Derivative(beta, sympy.Symbol('t')), 63.54),\n",
    "                  (sympy.Derivative(gamma, sympy.Symbol('t')), 19.416),\n",
    "                  (sympy.Derivative(phi, sympy.Symbol('t')), 837.8), \n",
    "                  (beta, 0.2939), \n",
    "                  (gamma,0.19021), \n",
    "                  (phi, 3.351)])"
   ]
  },
  {
   "cell_type": "markdown",
   "metadata": {},
   "source": [
    "This is currently written in the $xyz$ frame. Using the rotation matrices developed, we can easily transform it into the $XYZ$ frame."
   ]
  },
  {
   "cell_type": "code",
   "execution_count": 11,
   "metadata": {
    "collapsed": false
   },
   "outputs": [
    {
     "data": {
      "image/png": "[encoded data removed]",
      "text/latex": [
       "$$\\left[\\begin{matrix}\\left(\\cos{\\left (\\gamma \\right )} \\frac{d}{d t} \\beta + \\frac{d}{d t} \\phi\\right) \\sin{\\left (\\beta \\right )} \\sin{\\left (\\gamma \\right )} + \\left(- \\sin{\\left (\\beta \\right )} \\sin{\\left (\\phi \\right )} \\cos{\\left (\\gamma \\right )} + \\cos{\\left (\\beta \\right )} \\cos{\\left (\\phi \\right )}\\right) \\left(\\sin{\\left (\\gamma \\right )} \\sin{\\left (\\phi \\right )} \\frac{d}{d t} \\beta + \\cos{\\left (\\phi \\right )} \\frac{d}{d t} \\gamma\\right) + \\left(\\sin{\\left (\\beta \\right )} \\cos{\\left (\\gamma \\right )} \\cos{\\left (\\phi \\right )} + \\sin{\\left (\\phi \\right )} \\cos{\\left (\\beta \\right )}\\right) \\left(- \\sin{\\left (\\gamma \\right )} \\cos{\\left (\\phi \\right )} \\frac{d}{d t} \\beta + \\sin{\\left (\\phi \\right )} \\frac{d}{d t} \\gamma\\right)\\\\\\left(\\cos{\\left (\\gamma \\right )} \\frac{d}{d t} \\beta + \\frac{d}{d t} \\phi\\right) \\cos{\\left (\\gamma \\right )} + \\left(\\sin{\\left (\\gamma \\right )} \\sin{\\left (\\phi \\right )} \\frac{d}{d t} \\beta + \\cos{\\left (\\phi \\right )} \\frac{d}{d t} \\gamma\\right) \\sin{\\left (\\gamma \\right )} \\sin{\\left (\\phi \\right )} - \\left(- \\sin{\\left (\\gamma \\right )} \\cos{\\left (\\phi \\right )} \\frac{d}{d t} \\beta + \\sin{\\left (\\phi \\right )} \\frac{d}{d t} \\gamma\\right) \\sin{\\left (\\gamma \\right )} \\cos{\\left (\\phi \\right )}\\\\\\left(- \\sin{\\left (\\beta \\right )} \\sin{\\left (\\phi \\right )} + \\cos{\\left (\\beta \\right )} \\cos{\\left (\\gamma \\right )} \\cos{\\left (\\phi \\right )}\\right) \\left(- \\sin{\\left (\\gamma \\right )} \\cos{\\left (\\phi \\right )} \\frac{d}{d t} \\beta + \\sin{\\left (\\phi \\right )} \\frac{d}{d t} \\gamma\\right) + \\left(- \\sin{\\left (\\beta \\right )} \\cos{\\left (\\phi \\right )} - \\sin{\\left (\\phi \\right )} \\cos{\\left (\\beta \\right )} \\cos{\\left (\\gamma \\right )}\\right) \\left(\\sin{\\left (\\gamma \\right )} \\sin{\\left (\\phi \\right )} \\frac{d}{d t} \\beta + \\cos{\\left (\\phi \\right )} \\frac{d}{d t} \\gamma\\right) + \\left(\\cos{\\left (\\gamma \\right )} \\frac{d}{d t} \\beta + \\frac{d}{d t} \\phi\\right) \\sin{\\left (\\gamma \\right )} \\cos{\\left (\\beta \\right )}\\end{matrix}\\right]$$"
      ],
      "text/plain": [
       "⎡⎛       d       d    ⎞                                                       \n",
       "⎢⎜cos(γ)⋅──(β) + ──(φ)⎟⋅sin(β)⋅sin(γ) + (-sin(β)⋅sin(φ)⋅cos(γ) + cos(β)⋅cos(φ)\n",
       "⎢⎝       dt      dt   ⎠                                                       \n",
       "⎢                                                                             \n",
       "⎢                             ⎛       d       d    ⎞          ⎛              d\n",
       "⎢                             ⎜cos(γ)⋅──(β) + ──(φ)⎟⋅cos(γ) + ⎜sin(γ)⋅sin(φ)⋅─\n",
       "⎢                             ⎝       dt      dt   ⎠          ⎝              d\n",
       "⎢                                                                             \n",
       "⎢                                        ⎛                d              d    \n",
       "⎢(-sin(β)⋅sin(φ) + cos(β)⋅cos(γ)⋅cos(φ))⋅⎜- sin(γ)⋅cos(φ)⋅──(β) + sin(φ)⋅──(γ)\n",
       "⎣                                        ⎝                dt             dt   \n",
       "\n",
       "  ⎛              d              d    ⎞                                        \n",
       ")⋅⎜sin(γ)⋅sin(φ)⋅──(β) + cos(φ)⋅──(γ)⎟ + (sin(β)⋅cos(γ)⋅cos(φ) + sin(φ)⋅cos(β)\n",
       "  ⎝              dt             dt   ⎠                                        \n",
       "                                                                              \n",
       "              d    ⎞                 ⎛                d              d    ⎞   \n",
       "─(β) + cos(φ)⋅──(γ)⎟⋅sin(γ)⋅sin(φ) - ⎜- sin(γ)⋅cos(φ)⋅──(β) + sin(φ)⋅──(γ)⎟⋅si\n",
       "t             dt   ⎠                 ⎝                dt             dt   ⎠   \n",
       "                                                                              \n",
       "⎞                                           ⎛              d              d   \n",
       "⎟ + (-sin(β)⋅cos(φ) - sin(φ)⋅cos(β)⋅cos(γ))⋅⎜sin(γ)⋅sin(φ)⋅──(β) + cos(φ)⋅──(γ\n",
       "⎠                                           ⎝              dt             dt  \n",
       "\n",
       "  ⎛                d              d    ⎞ ⎤\n",
       ")⋅⎜- sin(γ)⋅cos(φ)⋅──(β) + sin(φ)⋅──(γ)⎟ ⎥\n",
       "  ⎝                dt             dt   ⎠ ⎥\n",
       "                                         ⎥\n",
       "                                         ⎥\n",
       "n(γ)⋅cos(φ)                              ⎥\n",
       "                                         ⎥\n",
       "                                         ⎥\n",
       " ⎞   ⎛       d       d    ⎞              ⎥\n",
       ")⎟ + ⎜cos(γ)⋅──(β) + ──(φ)⎟⋅sin(γ)⋅cos(β)⎥\n",
       " ⎠   ⎝       dt      dt   ⎠              ⎦"
      ]
     },
     "execution_count": 11,
     "metadata": {},
     "output_type": "execute_result"
    }
   ],
   "source": [
    "R = R_phi * R_gamma * R_beta\n",
    "\n",
    "ang_vel_XYZ = R.T * ang_vel_xyz\n",
    "\n",
    "# Print the answer - not using the print() function causes it to default to \"pretty\" printing\n",
    "ang_vel_XYZ"
   ]
  },
  {
   "cell_type": "markdown",
   "metadata": {},
   "source": [
    "The ```.subs()``` method can also be used here to get a numerical answer."
   ]
  },
  {
   "cell_type": "code",
   "execution_count": 12,
   "metadata": {
    "collapsed": false
   },
   "outputs": [
    {
     "data": {
      "image/png": "[encoded data removed]",
      "text/latex": [
       "$$\\left[\\begin{matrix}64.4695579456653\\\\886.229902584183\\\\145.982263786794\\end{matrix}\\right]$$"
      ],
      "text/plain": [
       "⎡64.4695579456653⎤\n",
       "⎢                ⎥\n",
       "⎢886.229902584183⎥\n",
       "⎢                ⎥\n",
       "⎣145.982263786794⎦"
      ]
     },
     "execution_count": 12,
     "metadata": {},
     "output_type": "execute_result"
    }
   ],
   "source": [
    "ang_vel_XYZ.subs([(sympy.Derivative(beta, sympy.Symbol('t')), 63.54),\n",
    "                  (sympy.Derivative(gamma, sympy.Symbol('t')), 19.416),\n",
    "                  (sympy.Derivative(phi, sympy.Symbol('t')), 837.8), \n",
    "                  (beta, 0.2939), \n",
    "                  (gamma,0.19021), \n",
    "                  (phi, 3.351)])"
   ]
  },
  {
   "cell_type": "markdown",
   "metadata": {},
   "source": [
    "A similar procedure can be used to find the angular acceleration."
   ]
  },
  {
   "cell_type": "markdown",
   "metadata": {},
   "source": [
    "<hr class = \"style-end\">"
   ]
  },
  {
   "cell_type": "markdown",
   "metadata": {},
   "source": [
    "#### Licenses\n",
    "Code is licensed under a 3-clause BSD style license. See the licenses/LICENSE.md file.\n",
    "\n",
    "Other content is provided under a [Creative Commons Attribution-NonCommercial 4.0 International License](http://creativecommons.org/licenses/by-nc/4.0/), CC-BY-NC 4.0."
   ]
  },
  {
   "cell_type": "code",
   "execution_count": 13,
   "metadata": {
    "collapsed": false
   },
   "outputs": [
    {
     "data": {
      "text/html": [
       "<style>\n",
       "    @font-face {\n",
       "        font-family: \"Computer Modern\";\n",
       "        src: url('http://9dbb143991406a7c655e-aa5fcb0a5a4ec34cff238a2d56ca4144.r56.cf5.rackcdn.com/cmunss.otf');\n",
       "    }\n",
       "    @font-face {\n",
       "        font-family: \"Computer Modern\";\n",
       "        font-weight: bold;\n",
       "        src: url('http://9dbb143991406a7c655e-aa5fcb0a5a4ec34cff238a2d56ca4144.r56.cf5.rackcdn.com/cmunsx.otf');\n",
       "    }\n",
       "    @font-face {\n",
       "        font-family: \"Computer Modern\";\n",
       "        font-style: oblique;\n",
       "        src: url('http://9dbb143991406a7c655e-aa5fcb0a5a4ec34cff238a2d56ca4144.r56.cf5.rackcdn.com/cmunsi.otf');\n",
       "    }\n",
       "    @font-face {\n",
       "        font-family: \"Computer Modern\";\n",
       "        font-weight: bold;\n",
       "        font-style: oblique;\n",
       "        src: url('http://9dbb143991406a7c655e-aa5fcb0a5a4ec34cff238a2d56ca4144.r56.cf5.rackcdn.com/cmunso.otf');\n",
       "    }\n",
       "    \n",
       "    div.cell{\n",
       "        max-width:1100px;\n",
       "        margin-left:auto;\n",
       "        margin-right:auto;\n",
       "    }\n",
       "    \n",
       "    h1 {\n",
       "        font-family: Computer Modern;\n",
       "    }\n",
       "    \n",
       "    h4{\n",
       "        margin-top:12px;\n",
       "        margin-bottom: 3px;\n",
       "       }\n",
       "\n",
       "    div.text_cell_render{\n",
       "        font-family: Computer Modern, \"Helvetica Neue\", Arial, Helvetica, Geneva, sans-serif;\n",
       "        line-height: 145%;\n",
       "        font-size: 130%;\n",
       "        max-width:1100px;\n",
       "        margin-left:auto;\n",
       "        margin-right:auto;\n",
       "    }\n",
       "    \n",
       "    .CodeMirror{\n",
       "            font-family: \"Source Code Pro\", source-code-pro, Consolas, monospace;\n",
       "    }\n",
       "    \n",
       "    .warning{\n",
       "        color: rgb( 240, 20, 20 )\n",
       "        }  \n",
       "    \n",
       "    hr.style-end {\n",
       "    border: 0;\n",
       "    height: 1px;\n",
       "    text-align: center;\n",
       "    background: #333;\n",
       "    background-image: -webkit-linear-gradient(left, #ccc, #333, #ccc); \n",
       "    background-image:    -moz-linear-gradient(left, #ccc, #333, #ccc); \n",
       "    background-image:     -ms-linear-gradient(left, #ccc, #333, #ccc); \n",
       "    background-image:      -o-linear-gradient(left, #ccc, #333, #ccc); \n",
       "    }\n",
       "\n",
       "    hr.style-end:after {\n",
       "    content: \"⚜\";\n",
       "    display: inline-block;\n",
       "    position: relative; \n",
       "    top: -0.5em;  \n",
       "    font-size: 1.5em;\n",
       "    padding: 0 0.25em;\n",
       "    background: white;\n",
       "    }\n",
       "    \n",
       "/*  Center figures, etc\n",
       "    .ui-wrapper {\n",
       "        margin-left: auto !important;\n",
       "        margin-right: auto !important;\n",
       "    }\n",
       " */\n",
       "    \n",
       "</style>\n",
       "<script>\n",
       "    MathJax.Hub.Config({\n",
       "                        TeX: {\n",
       "                           extensions: [\"AMSmath.js\"]\n",
       "                           },\n",
       "                tex2jax: {\n",
       "                    inlineMath: [ ['$','$'], [\"\\\\(\",\"\\\\)\"] ],\n",
       "                    displayMath: [ ['$$','$$'], [\"\\\\[\",\"\\\\]\"] ]\n",
       "                },\n",
       "                displayAlign: 'center', // Change this to 'center' to center equations.\n",
       "                \"HTML-CSS\": {\n",
       "                    styles: {'.MathJax_Display': {\"margin\": 4}}\n",
       "                }\n",
       "        });\n",
       "</script>\n"
      ],
      "text/plain": [
       "<IPython.core.display.HTML object>"
      ]
     },
     "execution_count": 13,
     "metadata": {},
     "output_type": "execute_result"
    }
   ],
   "source": [
    "# Ignore this cell - We just update the CSS to make the notebook look a little bit better and easier to read\n",
    "\n",
    "# Improve the notebook styling -- Run this first\n",
    "import codecs\n",
    "from IPython.core.display import HTML\n",
    "css_file = 'styling/CRAWLAB_IPythonNotebook.css'\n",
    "HTML(codecs.open(css_file, 'r', 'utf-8').read())"
   ]
  }
 ],
 "metadata": {
  "kernelspec": {
   "display_name": "Python 3",
   "language": "python",
   "name": "python3"
  },
  "language_info": {
   "codemirror_mode": {
    "name": "ipython",
    "version": 3
   },
   "file_extension": ".py",
   "mimetype": "text/x-python",
   "name": "python",
   "nbconvert_exporter": "python",
   "pygments_lexer": "ipython3",
   "version": "3.4.3"
  }
 },
 "nbformat": 4,
 "nbformat_minor": 0
}
