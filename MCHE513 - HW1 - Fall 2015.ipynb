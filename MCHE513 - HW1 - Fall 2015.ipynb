{
 "cells": [
  {
   "cell_type": "markdown",
   "metadata": {},
   "source": [
    "<h1 style=\"text-align:center\">MCHE 513: Intermediate Dynamics</h1>\n",
    "<h3 style=\"text-align:center\">Homework 1 &mdash; Fall 2015</h3> \n",
    "<p style=\"text-align:center\">Dr. Joshua Vaughan <br>\n",
    "<a href=\"mailto:joshua.vaughan@louisiana.edu\">joshua.vaughan@louisiana.edu</a><br>\n",
    "<a href=\"http://www.ucs.louisiana.edu/~jev9637/\">http://www.ucs.louisiana.edu/~jev9637/</a></p>"
   ]
  },
  {
   "cell_type": "markdown",
   "metadata": {},
   "source": [
    "We'll use the [Sympy](http://www.sympy.org/) library to solve these problems analytically. To use it, we need to import it."
   ]
  },
  {
   "cell_type": "code",
   "execution_count": 1,
   "metadata": {
    "collapsed": true
   },
   "outputs": [],
   "source": [
    "# import Sympy and start \"pretty printing\"\n",
    "import sympy\n",
    "sympy.init_printing()"
   ]
  },
  {
   "cell_type": "code",
   "execution_count": 2,
   "metadata": {
    "collapsed": true
   },
   "outputs": [],
   "source": [
    "# We also want to import the sympy.physics.mechanics module\n",
    "\n",
    "# Note that * imports are usually considered bad practice\n",
    "from sympy.physics.mechanics import *"
   ]
  },
  {
   "cell_type": "markdown",
   "metadata": {},
   "source": [
    "## Problem 2.1"
   ]
  },
  {
   "cell_type": "code",
   "execution_count": 3,
   "metadata": {
    "collapsed": false
   },
   "outputs": [],
   "source": [
    "# Define symbols for the variables we'll use in the problem solution\n",
    "k, zeta, beta, rho = sympy.symbols('k zeta beta rho')\n",
    "x, y, r = sympy.symbols('x y r')\n",
    "\n",
    "x = k * zeta**2\n",
    "y = 2 * k * (1 - sympy.exp(zeta))\n",
    "\n",
    "v = beta * zeta"
   ]
  },
  {
   "cell_type": "code",
   "execution_count": 4,
   "metadata": {
    "collapsed": false
   },
   "outputs": [],
   "source": [
    "# Define the fixed, Newtonian Frame\n",
    "N = ReferenceFrame('N')"
   ]
  },
  {
   "cell_type": "code",
   "execution_count": 5,
   "metadata": {
    "collapsed": false
   },
   "outputs": [],
   "source": [
    "# Now, define the position vector within it\n",
    "r = x * N.x + y * N.y\n",
    "\n",
    "# We can now differntiate this vector with respect to zeta \n",
    "# Here we are using the vectorized version of diff vector.diff(variable, frame)\n",
    "r_prime = r.diff(zeta, N)\n",
    "r_dbl_prime = r_prime.diff(zeta, N)"
   ]
  },
  {
   "cell_type": "code",
   "execution_count": 6,
   "metadata": {
    "collapsed": false
   },
   "outputs": [
    {
     "data": {
      "image/png": "[encoded data removed]",
      "text/latex": [
       "$$2 k \\zeta\\mathbf{\\hat{n}_x} -  2 k e^{\\zeta}\\mathbf{\\hat{n}_y}$$"
      ],
      "text/plain": [
       "2⋅k⋅ζ n_x +       ζ\n",
       "-2⋅k⋅ℯ  n_y"
      ]
     },
     "execution_count": 6,
     "metadata": {},
     "output_type": "execute_result"
    }
   ],
   "source": [
    "# We can examine the resulting vectors\n",
    "r_prime"
   ]
  },
  {
   "cell_type": "code",
   "execution_count": 7,
   "metadata": {
    "collapsed": false
   },
   "outputs": [
    {
     "data": {
      "image/png": "[encoded data removed]",
      "text/latex": [
       "$$2 k\\mathbf{\\hat{n}_x} -  2 k e^{\\zeta}\\mathbf{\\hat{n}_y}$$"
      ],
      "text/plain": [
       "2⋅k n_x +       ζ\n",
       "-2⋅k⋅ℯ  n_y"
      ]
     },
     "execution_count": 7,
     "metadata": {},
     "output_type": "execute_result"
    }
   ],
   "source": [
    "r_dbl_prime"
   ]
  },
  {
   "cell_type": "code",
   "execution_count": 8,
   "metadata": {
    "collapsed": false
   },
   "outputs": [
    {
     "data": {
      "image/png": "[encoded data removed]",
      "text/latex": [
       "$$\\sqrt{4 k^{2} \\zeta^{2} + 4 k^{2} e^{2 \\zeta}}$$"
      ],
      "text/plain": [
       "   _____________________\n",
       "  ╱    2  2      2  2⋅ζ \n",
       "╲╱  4⋅k ⋅ζ  + 4⋅k ⋅ℯ    "
      ]
     },
     "execution_count": 8,
     "metadata": {},
     "output_type": "execute_result"
    }
   ],
   "source": [
    "s_prime = r_prime.magnitude()\n",
    "s_prime"
   ]
  },
  {
   "cell_type": "code",
   "execution_count": 9,
   "metadata": {
    "collapsed": false
   },
   "outputs": [
    {
     "data": {
      "image/png": "[encoded data removed]",
      "text/latex": [
       "$$\\frac{2 k \\zeta}{\\sqrt{4 k^{2} \\zeta^{2} + 4 k^{2} e^{2 \\zeta}}}\\mathbf{\\hat{n}_x} -  \\frac{2 k e^{\\zeta}}{\\sqrt{4 k^{2} \\zeta^{2} + 4 k^{2} e^{2 \\zeta}}}\\mathbf{\\hat{n}_y}$$"
      ],
      "text/plain": [
       "         2⋅k⋅ζ          \n",
       "────────────────────────\n",
       "   _____________________\n",
       "  ╱    2  2      2  2⋅ζ \n",
       "╲╱  4⋅k ⋅ζ  + 4⋅k ⋅ℯ     n_x +               ζ         \n",
       "        -2⋅k⋅ℯ          \n",
       "────────────────────────\n",
       "   _____________________\n",
       "  ╱    2  2      2  2⋅ζ \n",
       "╲╱  4⋅k ⋅ζ  + 4⋅k ⋅ℯ     n_y"
      ]
     },
     "execution_count": 9,
     "metadata": {},
     "output_type": "execute_result"
    }
   ],
   "source": [
    "e_t = r_prime / s_prime\n",
    "e_t"
   ]
  },
  {
   "cell_type": "code",
   "execution_count": 10,
   "metadata": {
    "collapsed": false
   },
   "outputs": [],
   "source": [
    "e_n = rho / s_prime**4 * (r_dbl_prime * s_prime**2 - r_prime * (r_prime & r_dbl_prime))"
   ]
  },
  {
   "cell_type": "markdown",
   "metadata": {},
   "source": [
    "The value of $\\rho$ can be found from the fact the $|\\bar{e}_n| = 1$. To do so, solve the equation \n",
    "\n",
    "$$ |\\bar{e}_n| - 1 = 0 $$\n",
    "\n",
    "Most numerical equation solvers require equations be rewritten in this form. SymPy is no different.\n",
    "\n",
    "We can also use ```.subs(zeta, 0.5)``` to evaluate the solution at $\\zeta = 0.5$. This can be chained onto the call to solve the equation to operate on the returned solution."
   ]
  },
  {
   "cell_type": "code",
   "execution_count": 11,
   "metadata": {
    "collapsed": false
   },
   "outputs": [
    {
     "data": {
      "image/png": "[encoded data removed]",
      "text/latex": [
       "$$12.4071047946204 \\sqrt{k^{2}}$$"
      ],
      "text/plain": [
       "                    ____\n",
       "                   ╱  2 \n",
       "12.4071047946204⋅╲╱  k  "
      ]
     },
     "execution_count": 11,
     "metadata": {},
     "output_type": "execute_result"
    }
   ],
   "source": [
    "sympy.solve(e_n.magnitude() - 1, rho)[1].subs(zeta, 0.5)"
   ]
  },
  {
   "cell_type": "markdown",
   "metadata": {},
   "source": [
    "We can now find the velocity and acceleration."
   ]
  },
  {
   "cell_type": "code",
   "execution_count": 12,
   "metadata": {
    "collapsed": false
   },
   "outputs": [
    {
     "data": {
      "image/png": "[encoded data removed]",
      "text/latex": [
       "$$\\frac{0.145106692127635 \\beta}{\\sqrt{k^{2}}} k\\mathbf{\\hat{n}_x} -  \\frac{0.478480979663534 \\beta}{\\sqrt{k^{2}}} k\\mathbf{\\hat{n}_y}$$"
      ],
      "text/plain": [
       "0.145106692127635⋅β⋅k\n",
       "─────────────────────\n",
       "          ____       \n",
       "         ╱  2        \n",
       "       ╲╱  k          n_x - 0.478480979663534⋅β⋅k \n",
       "───────────────────────\n",
       "           ____        \n",
       "          ╱  2         \n",
       "        ╲╱  k           n_y"
      ]
     },
     "execution_count": 12,
     "metadata": {},
     "output_type": "execute_result"
    }
   ],
   "source": [
    "v_bar = v * e_t\n",
    "\n",
    "# Use the .subs(zeta, 0.5) to evaluate at a value of zeta = 0.5\n",
    "v_bar.subs(zeta, 0.5)"
   ]
  },
  {
   "cell_type": "code",
   "execution_count": 13,
   "metadata": {
    "collapsed": false
   },
   "outputs": [],
   "source": [
    "v_dot = v * v.diff(zeta) * 1 / s_prime"
   ]
  },
  {
   "cell_type": "code",
   "execution_count": 14,
   "metadata": {
    "collapsed": false
   },
   "outputs": [
    {
     "data": {
      "image/png": "[encoded data removed]",
      "text/latex": [
       "$$\\frac{0.0613944438252853 \\beta^{2}}{k}\\mathbf{\\hat{n}_x} -  \\frac{0.133013858670138 \\beta^{2}}{k}\\mathbf{\\hat{n}_y}$$"
      ],
      "text/plain": [
       "                    2\n",
       "0.0613944438252853⋅β \n",
       "─────────────────────\n",
       "          k           n_x +                     2 \n",
       "-0.133013858670138⋅β  \n",
       "──────────────────────\n",
       "          k            n_y"
      ]
     },
     "execution_count": 14,
     "metadata": {},
     "output_type": "execute_result"
    }
   ],
   "source": [
    "a_bar = v_dot * e_t + v**2 / rho * e_n\n",
    "\n",
    "# Use the .subs(zeta, 0.5) to evaluate at a value of zeta = 0.5\n",
    "a_bar.subs(zeta, 0.5)"
   ]
  },
  {
   "cell_type": "markdown",
   "metadata": {},
   "source": [
    "## Problem 2.9"
   ]
  },
  {
   "cell_type": "code",
   "execution_count": 15,
   "metadata": {
    "collapsed": false
   },
   "outputs": [],
   "source": [
    "x, y = dynamicsymbols('x y')\n",
    "\n",
    "x_dot = sympy.diff(x, sympy.Symbol('t'))\n",
    "x_ddot = sympy.diff(x_dot, sympy.Symbol('t'))\n",
    "\n",
    "y = 2 * (1 - 4 * x**2)\n",
    "\n",
    "y_dot = sympy.diff(y, sympy.Symbol('t'))\n",
    "y_ddot = sympy.diff(y_dot, sympy.Symbol('t'))"
   ]
  },
  {
   "cell_type": "code",
   "execution_count": 16,
   "metadata": {
    "collapsed": false
   },
   "outputs": [
    {
     "data": {
      "image/png": "[encoded data removed]",
      "text/latex": [
       "$$\\dot{x}\\mathbf{\\hat{n}_x} -  16 x \\dot{x}\\mathbf{\\hat{n}_y}$$"
      ],
      "text/plain": [
       "d       \n",
       "──(x(t))\n",
       "dt       n_x +          d       \n",
       "-16⋅x(t)⋅──(x(t))\n",
       "         dt       n_y"
      ]
     },
     "execution_count": 16,
     "metadata": {},
     "output_type": "execute_result"
    }
   ],
   "source": [
    "# Define the fixed, Newtonian Frame\n",
    "N = ReferenceFrame('N')\n",
    "\n",
    "# Write the velocity vector in the newtonian frame\n",
    "vel = x_dot * N.x + y_dot * N.y\n",
    "\n",
    "vel"
   ]
  },
  {
   "cell_type": "code",
   "execution_count": 17,
   "metadata": {
    "collapsed": false
   },
   "outputs": [
    {
     "data": {
      "image/png": "[encoded data removed]",
      "text/latex": [
       "$$(- 16 x \\ddot{x} - 16 \\left(\\dot{x}\\right)^{2})\\mathbf{\\hat{n}_y}$$"
      ],
      "text/plain": [
       "⎛            2                      2⎞\n",
       "⎜           d             ⎛d       ⎞ ⎟\n",
       "⎜- 16⋅x(t)⋅───(x(t)) - 16⋅⎜──(x(t))⎟ ⎟\n",
       "⎜            2            ⎝dt      ⎠ ⎟\n",
       "⎝          dt                        ⎠ n_y"
      ]
     },
     "execution_count": 17,
     "metadata": {},
     "output_type": "execute_result"
    }
   ],
   "source": [
    "# Write the acceleration vector in the fixed frame\n",
    "accel = y_ddot * N.y\n",
    "\n",
    "accel"
   ]
  },
  {
   "cell_type": "markdown",
   "metadata": {},
   "source": [
    "We can again use the ```.subs()``` method to evaluate these expressions under the desired conditions"
   ]
  },
  {
   "cell_type": "code",
   "execution_count": 18,
   "metadata": {
    "collapsed": false
   },
   "outputs": [
    {
     "data": {
      "image/png": "[encoded data removed]",
      "text/latex": [
       "$$30\\mathbf{\\hat{n}_x} -  480 x\\mathbf{\\hat{n}_y}$$"
      ],
      "text/plain": [
       "30 n_x - 480⋅x(t) n_y"
      ]
     },
     "execution_count": 18,
     "metadata": {},
     "output_type": "execute_result"
    }
   ],
   "source": [
    "vel.subs(x_dot, 30)"
   ]
  },
  {
   "cell_type": "code",
   "execution_count": 19,
   "metadata": {
    "collapsed": false
   },
   "outputs": [
    {
     "data": {
      "image/png": "[encoded data removed]",
      "text/latex": [
       "$$(- 16 x 0 - 14400)\\mathbf{\\hat{n}_y}$$"
      ],
      "text/plain": [
       "⎛          d             ⎞\n",
       "⎜- 16⋅x(t)⋅──(30) - 14400⎟\n",
       "⎝          dt            ⎠ n_y"
      ]
     },
     "execution_count": 19,
     "metadata": {},
     "output_type": "execute_result"
    }
   ],
   "source": [
    "accel.subs([(x_dot, 30), (x_ddot, 0)])"
   ]
  },
  {
   "cell_type": "markdown",
   "metadata": {},
   "source": [
    "## Problem 2.19"
   ]
  },
  {
   "cell_type": "code",
   "execution_count": 20,
   "metadata": {
    "collapsed": false
   },
   "outputs": [],
   "source": [
    "R, theta = dynamicsymbols('R theta')\n",
    "Norm, T, m, g, l = sympy.symbols('N T m g l')\n",
    "\n",
    "L = l + (0.25 - R)\n",
    "\n",
    "l = 2 * (0.25) * sympy.sin(theta / 2)\n",
    "\n",
    "R = l"
   ]
  },
  {
   "cell_type": "code",
   "execution_count": 21,
   "metadata": {
    "collapsed": false
   },
   "outputs": [
    {
     "data": {
      "image/png": "[encoded data removed]",
      "text/latex": [
       "$$0.25 \\cos{\\left (\\frac{1}{2} \\theta{\\left (t \\right )} \\right )} \\frac{d}{d t} \\theta{\\left (t \\right )}$$"
      ],
      "text/plain": [
       "        ⎛θ(t)⎞ d       \n",
       "0.25⋅cos⎜────⎟⋅──(θ(t))\n",
       "        ⎝ 2  ⎠ dt      "
      ]
     },
     "execution_count": 21,
     "metadata": {},
     "output_type": "execute_result"
    }
   ],
   "source": [
    "R_dot = sympy.diff(R, sympy.Symbol('t'))\n",
    "R_ddot = sympy.diff(R_dot, sympy.Symbol('t'))\n",
    "\n",
    "theta_dot = 5  # rad/s, from problem definition\n",
    "theta_ddot = 0 # from problem definition\n",
    "\n",
    "R_dot"
   ]
  },
  {
   "cell_type": "code",
   "execution_count": 22,
   "metadata": {
    "collapsed": false
   },
   "outputs": [
    {
     "data": {
      "image/png": "[encoded data removed]",
      "text/latex": [
       "$$- 0.125 \\sin{\\left (\\frac{1}{2} \\theta{\\left (t \\right )} \\right )} \\left(\\frac{d}{d t} \\theta{\\left (t \\right )}\\right)^{2} + 0.25 \\cos{\\left (\\frac{1}{2} \\theta{\\left (t \\right )} \\right )} \\frac{d^{2}}{d t^{2}}  \\theta{\\left (t \\right )}$$"
      ],
      "text/plain": [
       "                               2                    2      \n",
       "              ⎛θ(t)⎞ ⎛d       ⎞            ⎛θ(t)⎞  d       \n",
       "- - -0.125⋅sin⎜────⎟⋅⎜──(θ(t))⎟  + 0.25⋅cos⎜────⎟⋅───(θ(t))\n",
       "              ⎝ 2  ⎠ ⎝dt      ⎠            ⎝ 2  ⎠   2      \n",
       "                                                  dt       "
      ]
     },
     "execution_count": 22,
     "metadata": {},
     "output_type": "execute_result"
    }
   ],
   "source": [
    "R_ddot"
   ]
  },
  {
   "cell_type": "code",
   "execution_count": 23,
   "metadata": {
    "collapsed": false
   },
   "outputs": [
    {
     "data": {
      "image/png": "[encoded data removed]",
      "text/latex": [
       "$$1.11811649250947$$"
      ],
      "text/plain": [
       "1.11811649250947"
      ]
     },
     "execution_count": 23,
     "metadata": {},
     "output_type": "execute_result"
    }
   ],
   "source": [
    "# Substitute the values of theta_dot and theta_ddot into R_dot and R_ddot\n",
    "R_dot = R_dot.subs([(sympy.diff(theta, sympy.Symbol('t')), theta_dot), \n",
    "                    (sympy.diff(theta, sympy.Symbol('t'), 2), theta_ddot), \n",
    "                    (theta, 0.927), \n",
    "                    (g, 9.81), \n",
    "                    (m, 0.5)])\n",
    "\n",
    "R_dot"
   ]
  },
  {
   "cell_type": "code",
   "execution_count": 24,
   "metadata": {
    "collapsed": false
   },
   "outputs": [
    {
     "data": {
      "image/png": "[encoded data removed]",
      "text/latex": [
       "$$-1.39712989101388$$"
      ],
      "text/plain": [
       "-1.39712989101388"
      ]
     },
     "execution_count": 24,
     "metadata": {},
     "output_type": "execute_result"
    }
   ],
   "source": [
    "# Substitute the values of theta_dot and theta_ddot into R_dot and R_ddot\n",
    "R_ddot = R_ddot.subs([(sympy.diff(theta, sympy.Symbol('t'), 2), theta_ddot),\n",
    "                      (sympy.diff(theta, sympy.Symbol('t')), theta_dot),                        \n",
    "                      (theta, 0.927), \n",
    "                      (g, 9.81), \n",
    "                      (m, 0.5)])\n",
    "\n",
    "R_ddot"
   ]
  },
  {
   "cell_type": "markdown",
   "metadata": {
    "collapsed": true
   },
   "source": [
    "With these parameters, the acceleration of the mass can be found. Each direction can be solved independently, but let's use frames."
   ]
  },
  {
   "cell_type": "code",
   "execution_count": 25,
   "metadata": {
    "collapsed": false
   },
   "outputs": [],
   "source": [
    "accel_er = R_ddot - R * theta_dot**2\n",
    "accel_en = R * theta_ddot + 2 * R_dot * theta_dot"
   ]
  },
  {
   "cell_type": "code",
   "execution_count": 26,
   "metadata": {
    "collapsed": false
   },
   "outputs": [
    {
     "data": {
      "image/png": "[encoded data removed]",
      "text/latex": [
       "$$- 12.5 \\sin{\\left (\\frac{1}{2} \\theta{\\left (t \\right )} \\right )} - 1.39712989101388$$"
      ],
      "text/plain": [
       "                ⎛θ(t)⎞                   \n",
       "- -12.5⋅(-1)⋅sin⎜────⎟ - 1.39712989101388\n",
       "                ⎝ 2  ⎠                   "
      ]
     },
     "execution_count": 26,
     "metadata": {},
     "output_type": "execute_result"
    }
   ],
   "source": [
    "accel_er"
   ]
  },
  {
   "cell_type": "code",
   "execution_count": 27,
   "metadata": {
    "collapsed": false
   },
   "outputs": [
    {
     "data": {
      "image/png": "[encoded data removed]",
      "text/latex": [
       "$$11.1811649250947$$"
      ],
      "text/plain": [
       "11.1811649250947"
      ]
     },
     "execution_count": 27,
     "metadata": {},
     "output_type": "execute_result"
    }
   ],
   "source": [
    "accel_en"
   ]
  },
  {
   "cell_type": "markdown",
   "metadata": {},
   "source": [
    "Now, just apply Newton's 2nd law in each direction."
   ]
  },
  {
   "cell_type": "code",
   "execution_count": 28,
   "metadata": {
    "collapsed": false
   },
   "outputs": [],
   "source": [
    "Tension = sympy.solve(T - m*g*sympy.sin(theta) - m * accel_er, T)"
   ]
  },
  {
   "cell_type": "code",
   "execution_count": 29,
   "metadata": {
    "collapsed": false
   },
   "outputs": [
    {
     "data": {
      "image/png": "[encoded data removed]",
      "text/latex": [
       "$$0.430306274903678$$"
      ],
      "text/plain": [
       "0.430306274903678"
      ]
     },
     "execution_count": 29,
     "metadata": {},
     "output_type": "execute_result"
    }
   ],
   "source": [
    "Tension[0].subs([(sympy.diff(theta, sympy.Symbol('t')), 0.5), \n",
    "                 (sympy.diff(theta, sympy.Symbol('t'), 2), 0), \n",
    "                 (theta, 0.927), \n",
    "                 (g, 9.81), \n",
    "                 (m, 0.5)])"
   ]
  },
  {
   "cell_type": "code",
   "execution_count": 30,
   "metadata": {
    "collapsed": false
   },
   "outputs": [],
   "source": [
    "Normal = sympy.solve(Norm - m * g * sympy.cos(theta) - m * accel_en, Norm)"
   ]
  },
  {
   "cell_type": "code",
   "execution_count": 31,
   "metadata": {
    "collapsed": false
   },
   "outputs": [
    {
     "data": {
      "image/png": "[encoded data removed]",
      "text/latex": [
       "$$8.53474076972223$$"
      ],
      "text/plain": [
       "8.53474076972223"
      ]
     },
     "execution_count": 31,
     "metadata": {},
     "output_type": "execute_result"
    }
   ],
   "source": [
    "Normal[0].subs([(sympy.diff(theta, sympy.Symbol('t')), 0.5), \n",
    "                (sympy.diff(theta, sympy.Symbol('t'), 2), 0), \n",
    "                (theta, 0.927), \n",
    "                (g, 9.81), \n",
    "                (m, 0.5)])"
   ]
  },
  {
   "cell_type": "markdown",
   "metadata": {},
   "source": [
    "## Problem 2.21"
   ]
  },
  {
   "cell_type": "code",
   "execution_count": 32,
   "metadata": {
    "collapsed": false
   },
   "outputs": [
    {
     "name": "stdout",
     "output_type": "stream",
     "text": [
      "The speed is 29.48 m/s.\n"
     ]
    }
   ],
   "source": [
    "R, theta = dynamicsymbols('R theta')\n",
    "Norm, T, m, g, v, rho, theta_dot, v_dot = sympy.symbols('N T m g v rho theta_dot v_dot')\n",
    "\n",
    "rho = 0.5     # radius of circle\n",
    "H = 0.8       # height of opening from circle center\n",
    "\n",
    "R = sympy.sqrt(rho**2 + H**2)\n",
    "R_dot = -25.0 # negative because it's in the -e_r direction\n",
    "R_ddot = 0.0\n",
    "theta = sympy.atan(0.5 / 0.8)\n",
    "\n",
    "# Solve the e_r direction component of the total velocity for speed\n",
    "speed = sympy.solve(R_dot + v * sympy.cos(theta), v)[0] # the [0] is needed because sympy.solve returns a list\n",
    "\n",
    "print('The speed is {:0.2f} m/s.'.format(speed))"
   ]
  },
  {
   "cell_type": "code",
   "execution_count": 33,
   "metadata": {
    "collapsed": false
   },
   "outputs": [
    {
     "name": "stdout",
     "output_type": "stream",
     "text": [
      "The angular velocity is 16.56 rad/s.\n"
     ]
    }
   ],
   "source": [
    "# Solve the e_theta direction component of the total velocity for theta_dot\n",
    "ang_vel = sympy.solve(R * theta_dot - speed * sympy.sin(theta), theta_dot)[0] # the [0] is needed because sympy.solve returns a list\n",
    "\n",
    "print('The angular velocity is {:0.2f} rad/s.'.format(ang_vel))"
   ]
  },
  {
   "cell_type": "markdown",
   "metadata": {},
   "source": [
    "Now, follow a similar procedure for the acceleration."
   ]
  },
  {
   "cell_type": "code",
   "execution_count": 34,
   "metadata": {
    "collapsed": false
   },
   "outputs": [
    {
     "name": "stdout",
     "output_type": "stream",
     "text": [
      "The rate of change of speed is -781.25 m/s^2.\n"
     ]
    }
   ],
   "source": [
    "# e_r direction\n",
    "speed_change = sympy.solve(R_ddot - R * ang_vel**2 + v_dot * sympy.cos(theta) \n",
    "                           + speed**2 / rho * sympy.sin(theta), v_dot)[0] # the [0] is needed because sympy.solve returns a list\n",
    "\n",
    "print('The rate of change of speed is {:0.2f} m/s^2.'.format(speed_change))"
   ]
  },
  {
   "cell_type": "markdown",
   "metadata": {},
   "source": [
    "To solve for the tension, use Newton's 2nd law. The $\\bar{e}_t$ direction will allow us to solve for the tension using the parameters we've already defined."
   ]
  },
  {
   "cell_type": "code",
   "execution_count": 35,
   "metadata": {
    "collapsed": false
   },
   "outputs": [
    {
     "name": "stdout",
     "output_type": "stream",
     "text": [
      "The resulting tension is -181.94 N.\n"
     ]
    }
   ],
   "source": [
    "# F = ma in the e_t direction\n",
    "Tension = sympy.solve(T * sympy.cos(theta) - m * g - m * speed_change, T)[0]\n",
    "\n",
    "print('The resulting tension is {:0.2f} N.'.format(Tension.subs([(m, 0.2), (g, 9.81)])))"
   ]
  },
  {
   "cell_type": "markdown",
   "metadata": {},
   "source": [
    "<hr class = \"style-end\">"
   ]
  },
  {
   "cell_type": "markdown",
   "metadata": {},
   "source": [
    "#### Licenses\n",
    "Code is licensed under a 3-clause BSD style license. See the licenses/LICENSE.md file.\n",
    "\n",
    "Other content is provided under a [Creative Commons Attribution-NonCommercial 4.0 International License](http://creativecommons.org/licenses/by-nc/4.0/), CC-BY-NC 4.0.\n",
    "    "
   ]
  },
  {
   "cell_type": "code",
   "execution_count": 36,
   "metadata": {
    "collapsed": false
   },
   "outputs": [
    {
     "data": {
      "text/html": [
       "<style>\n",
       "    @font-face {\n",
       "        font-family: \"Computer Modern\";\n",
       "        src: url('http://9dbb143991406a7c655e-aa5fcb0a5a4ec34cff238a2d56ca4144.r56.cf5.rackcdn.com/cmunss.otf');\n",
       "    }\n",
       "    @font-face {\n",
       "        font-family: \"Computer Modern\";\n",
       "        font-weight: bold;\n",
       "        src: url('http://9dbb143991406a7c655e-aa5fcb0a5a4ec34cff238a2d56ca4144.r56.cf5.rackcdn.com/cmunsx.otf');\n",
       "    }\n",
       "    @font-face {\n",
       "        font-family: \"Computer Modern\";\n",
       "        font-style: oblique;\n",
       "        src: url('http://9dbb143991406a7c655e-aa5fcb0a5a4ec34cff238a2d56ca4144.r56.cf5.rackcdn.com/cmunsi.otf');\n",
       "    }\n",
       "    @font-face {\n",
       "        font-family: \"Computer Modern\";\n",
       "        font-weight: bold;\n",
       "        font-style: oblique;\n",
       "        src: url('http://9dbb143991406a7c655e-aa5fcb0a5a4ec34cff238a2d56ca4144.r56.cf5.rackcdn.com/cmunso.otf');\n",
       "    }\n",
       "    \n",
       "    div.cell{\n",
       "        max-width:1100px;\n",
       "        margin-left:auto;\n",
       "        margin-right:auto;\n",
       "    }\n",
       "    \n",
       "    h1 {\n",
       "        font-family: Computer Modern;\n",
       "    }\n",
       "    \n",
       "    h4{\n",
       "        margin-top:12px;\n",
       "        margin-bottom: 3px;\n",
       "       }\n",
       "\n",
       "    div.text_cell_render{\n",
       "        font-family: Computer Modern, \"Helvetica Neue\", Arial, Helvetica, Geneva, sans-serif;\n",
       "        line-height: 145%;\n",
       "        font-size: 130%;\n",
       "        max-width:1100px;\n",
       "        margin-left:auto;\n",
       "        margin-right:auto;\n",
       "    }\n",
       "    \n",
       "    .CodeMirror{\n",
       "            font-family: \"Source Code Pro\", source-code-pro, Consolas, monospace;\n",
       "    }\n",
       "    \n",
       "    .warning{\n",
       "        color: rgb( 240, 20, 20 )\n",
       "        }  \n",
       "    \n",
       "    hr.style-end {\n",
       "    border: 0;\n",
       "    height: 1px;\n",
       "    text-align: center;\n",
       "    background: #333;\n",
       "    background-image: -webkit-linear-gradient(left, #ccc, #333, #ccc); \n",
       "    background-image:    -moz-linear-gradient(left, #ccc, #333, #ccc); \n",
       "    background-image:     -ms-linear-gradient(left, #ccc, #333, #ccc); \n",
       "    background-image:      -o-linear-gradient(left, #ccc, #333, #ccc); \n",
       "    }\n",
       "\n",
       "    hr.style-end:after {\n",
       "    content: \"⚜\";\n",
       "    display: inline-block;\n",
       "    position: relative; \n",
       "    top: -0.5em;  \n",
       "    font-size: 1.5em;\n",
       "    padding: 0 0.25em;\n",
       "    background: white;\n",
       "    }\n",
       "    \n",
       "/*  Center figures, etc\n",
       "    .ui-wrapper {\n",
       "        margin-left: auto !important;\n",
       "        margin-right: auto !important;\n",
       "    }\n",
       " */\n",
       "    \n",
       "</style>\n",
       "<script>\n",
       "    MathJax.Hub.Config({\n",
       "                        TeX: {\n",
       "                           extensions: [\"AMSmath.js\"]\n",
       "                           },\n",
       "                tex2jax: {\n",
       "                    inlineMath: [ ['$','$'], [\"\\\\(\",\"\\\\)\"] ],\n",
       "                    displayMath: [ ['$$','$$'], [\"\\\\[\",\"\\\\]\"] ]\n",
       "                },\n",
       "                displayAlign: 'center', // Change this to 'center' to center equations.\n",
       "                \"HTML-CSS\": {\n",
       "                    styles: {'.MathJax_Display': {\"margin\": 4}}\n",
       "                }\n",
       "        });\n",
       "</script>\n"
      ],
      "text/plain": [
       "<IPython.core.display.HTML object>"
      ]
     },
     "execution_count": 36,
     "metadata": {},
     "output_type": "execute_result"
    }
   ],
   "source": [
    "# Ignore this cell - We just update the CSS to make the notebook look a little bit better and easier to read\n",
    "\n",
    "# Improve the notebook styling -- Run this first\n",
    "import codecs\n",
    "from IPython.core.display import HTML\n",
    "css_file = 'styling/CRAWLAB_IPythonNotebook.css'\n",
    "HTML(codecs.open(css_file, 'r', 'utf-8').read())"
   ]
  }
 ],
 "metadata": {
  "kernelspec": {
   "display_name": "Python 3",
   "language": "python",
   "name": "python3"
  },
  "language_info": {
   "codemirror_mode": {
    "name": "ipython",
    "version": 3
   },
   "file_extension": ".py",
   "mimetype": "text/x-python",
   "name": "python",
   "nbconvert_exporter": "python",
   "pygments_lexer": "ipython3",
   "version": "3.4.3"
  }
 },
 "nbformat": 4,
 "nbformat_minor": 0
}
