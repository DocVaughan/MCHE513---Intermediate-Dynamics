{
 "cells": [
  {
   "cell_type": "markdown",
   "metadata": {},
   "source": [
    "<h1 style=\"text-align:center\">Problem 6.21</h1>\n",
    "<h3 style=\"text-align:center\">MCHE 513: Intermediate Dynamics</h3> \n",
    "<p style=\"text-align:center\">Dr. Joshua Vaughan <br>\n",
    "<a href=\"mailto:joshua.vaughan@louisiana.edu\">joshua.vaughan@louisiana.edu</a><br>\n",
    "<a href=\"http://www.ucs.louisiana.edu/~jev9637/\">http://www.ucs.louisiana.edu/~jev9637/</a></p>`"
   ]
  },
  {
   "cell_type": "markdown",
   "metadata": {},
   "source": [
    "The problem asks to form the equations of motion for an unbalanced rolling cylinder, with eccentricity $\\epsilon$ and radius $R$. There is enough friction such that pure rolling (no slip) is maintained. The system is sketched in Figure 1.\n",
    "\n",
    "<p style=\"text-align:center\">\n",
    "\t<img src=\"http://shared.crawlab.org/rolling_imbalanced_Prob6p21.png\" alt=\"Rolling Cylinder with Imbalance\" width=50%><br>\n",
    "    <strong>Figure 1: Rolling Cylinder with Imbalance</strong>\n",
    "</p>"
   ]
  },
  {
   "cell_type": "code",
   "execution_count": 1,
   "metadata": {
    "collapsed": true
   },
   "outputs": [],
   "source": [
    "# Import the SymPy Module\n",
    "import sympy\n",
    "\n",
    "# Import the necessary sub-modules and methods for dynamics\n",
    "from sympy.physics.mechanics import dynamicsymbols, inertia\n",
    "from sympy.physics.mechanics import LagrangesMethod, Lagrangian\n",
    "from sympy.physics.mechanics import Particle, Point, ReferenceFrame, RigidBody\n",
    "\n",
    "# initiate better printing of SymPy results\n",
    "sympy.init_printing()"
   ]
  },
  {
   "cell_type": "code",
   "execution_count": 2,
   "metadata": {
    "collapsed": false
   },
   "outputs": [],
   "source": [
    "# Define the generalized coordinates - just 1DOF here\n",
    "theta = dynamicsymbols('theta')\n",
    "theta_dot = dynamicsymbols('theta', 1)\n",
    "\n",
    "# Define the other symbols needed\n",
    "R, e, m, g, Izz = sympy.symbols('R epsilon m g I_{zz}')"
   ]
  },
  {
   "cell_type": "code",
   "execution_count": 3,
   "metadata": {
    "collapsed": true
   },
   "outputs": [],
   "source": [
    "# Define the Newtonian reference frame\n",
    "N = ReferenceFrame('N')\n",
    "\n",
    "# Define a body-fixed frame along the pendulum, with y aligned from m to the pin\n",
    "P = N.orientnew('P', 'Axis', [-theta, N.z])\n",
    "\n",
    "# Define the point at the center of the cylinder and set its velocity\n",
    "A = Point('A')\n",
    "A.set_vel(N, R * theta_dot * N.x) # Pure rolling"
   ]
  },
  {
   "cell_type": "code",
   "execution_count": 4,
   "metadata": {
    "collapsed": false
   },
   "outputs": [
    {
     "data": {
      "image/png": "[encoded data removed]",
      "text/latex": [
       "$$(R \\dot{\\theta} - \\epsilon \\operatorname{cos}\\left(\\theta\\right) \\dot{\\theta})\\mathbf{\\hat{n}_x} + \\epsilon \\operatorname{sin}\\left(\\theta\\right) \\dot{\\theta}\\mathbf{\\hat{n}_y}$$"
      ],
      "text/plain": [
       "⎛  d                      d       ⎞\n",
       "⎜R⋅──(θ(t)) - ε⋅cos(θ(t))⋅──(θ(t))⎟\n",
       "⎝  dt                     dt      ⎠ n_x +             d       \n",
       "ε⋅sin(θ(t))⋅──(θ(t))\n",
       "            dt       n_y"
      ]
     },
     "execution_count": 4,
     "metadata": {},
     "output_type": "execute_result"
    }
   ],
   "source": [
    "# Locate the center of mass relative to the cylinder center\n",
    "G = A.locatenew('G', -e * (sympy.sin(theta) * N.x + sympy.cos(theta) * N.y))\n",
    "\n",
    "# Define its velocity, working from the velocity of point A - needed for kinetic energy calculation\n",
    "G.v2pt_theory(A, N, P)"
   ]
  },
  {
   "cell_type": "code",
   "execution_count": 5,
   "metadata": {
    "collapsed": false
   },
   "outputs": [],
   "source": [
    "# Create the inertia diadic for the cylinder. \n",
    "# Since the system is planar, set Ixx and Iyy to zero for simplicity\n",
    "Ic = inertia(P, 0, 0, Izz)\n",
    "\n",
    "# Define the cylinder as a rigid body\n",
    "cylinder = RigidBody('cylinder', G, P, m, (Ic, G))\n",
    "\n",
    "# Define the potential energy of the cyliner - just gravity here\n",
    "cylinder.set_potential_energy(-m * g * e * sympy.cos(theta))"
   ]
  },
  {
   "cell_type": "code",
   "execution_count": 6,
   "metadata": {
    "collapsed": false
   },
   "outputs": [
    {
     "data": {
      "image/png": "[encoded data removed]",
      "text/latex": [
       "$$\\frac{I_{{zz}}}{2} \\left(\\frac{d}{d t} \\theta{\\left (t \\right )}\\right)^{2} + \\epsilon g m \\cos{\\left (\\theta{\\left (t \\right )} \\right )} + \\frac{m}{2} \\left(R^{2} - 2 R \\epsilon \\cos{\\left (\\theta{\\left (t \\right )} \\right )} + \\epsilon^{2}\\right) \\left(\\frac{d}{d t} \\theta{\\left (t \\right )}\\right)^{2}$$"
      ],
      "text/plain": [
       "                 2                                                            \n",
       "       ⎛d       ⎞                        ⎛ 2                      2⎞ ⎛d       \n",
       "I_{zz}⋅⎜──(θ(t))⎟                      m⋅⎝R  - 2⋅R⋅ε⋅cos(θ(t)) + ε ⎠⋅⎜──(θ(t))\n",
       "       ⎝dt      ⎠                                                    ⎝dt      \n",
       "────────────────── + ε⋅g⋅m⋅cos(θ(t)) + ───────────────────────────────────────\n",
       "        2                                                  2                  \n",
       "\n",
       " 2\n",
       "⎞ \n",
       "⎟ \n",
       "⎠ \n",
       "──\n",
       "  "
      ]
     },
     "execution_count": 6,
     "metadata": {},
     "output_type": "execute_result"
    }
   ],
   "source": [
    "# Form the Lagrangian, then simplify and print\n",
    "L = Lagrangian(N, cylinder)\n",
    "L.simplify()"
   ]
  },
  {
   "cell_type": "code",
   "execution_count": 7,
   "metadata": {
    "collapsed": false
   },
   "outputs": [
    {
     "data": {
      "image/png": "[encoded data removed]",
      "text/latex": [
       "$$R \\epsilon m \\sin{\\left (\\theta{\\left (t \\right )} \\right )} \\left(\\frac{d}{d t} \\theta{\\left (t \\right )}\\right)^{2} + \\epsilon g m \\sin{\\left (\\theta{\\left (t \\right )} \\right )} + \\left(I_{{zz}} + R^{2} m - 2 R \\epsilon m \\cos{\\left (\\theta{\\left (t \\right )} \\right )} + \\epsilon^{2} m\\right) \\frac{d^{2}}{d t^{2}}  \\theta{\\left (t \\right )}$$"
      ],
      "text/plain": [
       "                          2                                                   \n",
       "                ⎛d       ⎞                      ⎛          2                  \n",
       "R⋅ε⋅m⋅sin(θ(t))⋅⎜──(θ(t))⎟  + ε⋅g⋅m⋅sin(θ(t)) + ⎝I_{zz} + R ⋅m - 2⋅R⋅ε⋅m⋅cos(θ\n",
       "                ⎝dt      ⎠                                                    \n",
       "                                                                              \n",
       "\n",
       "               2      \n",
       "        2  ⎞  d       \n",
       "(t)) + ε ⋅m⎠⋅───(θ(t))\n",
       "               2      \n",
       "             dt       "
      ]
     },
     "execution_count": 7,
     "metadata": {},
     "output_type": "execute_result"
    }
   ],
   "source": [
    "# create an instance of the LagrangesMethod class\n",
    "LM = LagrangesMethod(L, [theta])\n",
    "\n",
    "# Form the equations of motion, then simplify and print\n",
    "eq_of_motion = LM.form_lagranges_equations()\n",
    "sympy.collect(sympy.simplify(eq_of_motion)[0], theta)"
   ]
  },
  {
   "cell_type": "markdown",
   "metadata": {},
   "source": [
    "<hr class = \"style-end\">"
   ]
  },
  {
   "cell_type": "markdown",
   "metadata": {},
   "source": [
    "#### Licenses\n",
    "Code is licensed under a 3-clause BSD style license. See the licenses/LICENSE.md file.\n",
    "\n",
    "Other content is provided under a [Creative Commons Attribution-NonCommercial 4.0 International License](http://creativecommons.org/licenses/by-nc/4.0/), CC-BY-NC 4.0."
   ]
  },
  {
   "cell_type": "code",
   "execution_count": 8,
   "metadata": {
    "collapsed": false
   },
   "outputs": [
    {
     "data": {
      "text/html": [
       "<style>\n",
       "    @font-face {\n",
       "        font-family: \"Computer Modern\";\n",
       "        src: url('http://9dbb143991406a7c655e-aa5fcb0a5a4ec34cff238a2d56ca4144.r56.cf5.rackcdn.com/cmunss.otf');\n",
       "    }\n",
       "    @font-face {\n",
       "        font-family: \"Computer Modern\";\n",
       "        font-weight: bold;\n",
       "        src: url('http://9dbb143991406a7c655e-aa5fcb0a5a4ec34cff238a2d56ca4144.r56.cf5.rackcdn.com/cmunsx.otf');\n",
       "    }\n",
       "    @font-face {\n",
       "        font-family: \"Computer Modern\";\n",
       "        font-style: oblique;\n",
       "        src: url('http://9dbb143991406a7c655e-aa5fcb0a5a4ec34cff238a2d56ca4144.r56.cf5.rackcdn.com/cmunsi.otf');\n",
       "    }\n",
       "    @font-face {\n",
       "        font-family: \"Computer Modern\";\n",
       "        font-weight: bold;\n",
       "        font-style: oblique;\n",
       "        src: url('http://9dbb143991406a7c655e-aa5fcb0a5a4ec34cff238a2d56ca4144.r56.cf5.rackcdn.com/cmunso.otf');\n",
       "    }\n",
       "    \n",
       "    div.cell{\n",
       "        max-width:1100px;\n",
       "        margin-left:auto;\n",
       "        margin-right:auto;\n",
       "    }\n",
       "    \n",
       "    h1 {\n",
       "        font-family: Computer Modern;\n",
       "    }\n",
       "    \n",
       "    h4{\n",
       "        margin-top:12px;\n",
       "        margin-bottom: 3px;\n",
       "       }\n",
       "\n",
       "    div.text_cell_render{\n",
       "        font-family: Computer Modern, \"Helvetica Neue\", Arial, Helvetica, Geneva, sans-serif;\n",
       "        line-height: 145%;\n",
       "        font-size: 130%;\n",
       "        max-width:1100px;\n",
       "        margin-left:auto;\n",
       "        margin-right:auto;\n",
       "    }\n",
       "    \n",
       "    .CodeMirror{\n",
       "            font-family: \"Source Code Pro\", source-code-pro, Consolas, monospace;\n",
       "    }\n",
       "    \n",
       "    .warning{\n",
       "        color: rgb( 240, 20, 20 )\n",
       "        }  \n",
       "    \n",
       "    hr.style-end {\n",
       "    border: 0;\n",
       "    height: 1px;\n",
       "    text-align: center;\n",
       "    background: #333;\n",
       "    background-image: -webkit-linear-gradient(left, #ccc, #333, #ccc); \n",
       "    background-image:    -moz-linear-gradient(left, #ccc, #333, #ccc); \n",
       "    background-image:     -ms-linear-gradient(left, #ccc, #333, #ccc); \n",
       "    background-image:      -o-linear-gradient(left, #ccc, #333, #ccc); \n",
       "    }\n",
       "\n",
       "    hr.style-end:after {\n",
       "    content: \"⚜\";\n",
       "    display: inline-block;\n",
       "    position: relative; \n",
       "    top: -0.5em;  \n",
       "    font-size: 1.5em;\n",
       "    padding: 0 0.25em;\n",
       "    background: white;\n",
       "    }\n",
       "    \n",
       "/*  Center figures, etc\n",
       "    .ui-wrapper {\n",
       "        margin-left: auto !important;\n",
       "        margin-right: auto !important;\n",
       "    }\n",
       " */\n",
       "    \n",
       "</style>\n",
       "<script>\n",
       "    MathJax.Hub.Config({\n",
       "                        TeX: {\n",
       "                           extensions: [\"AMSmath.js\"]\n",
       "                           },\n",
       "                tex2jax: {\n",
       "                    inlineMath: [ ['$','$'], [\"\\\\(\",\"\\\\)\"] ],\n",
       "                    displayMath: [ ['$$','$$'], [\"\\\\[\",\"\\\\]\"] ]\n",
       "                },\n",
       "                displayAlign: 'center', // Change this to 'center' to center equations.\n",
       "                \"HTML-CSS\": {\n",
       "                    styles: {'.MathJax_Display': {\"margin\": 4}}\n",
       "                }\n",
       "        });\n",
       "</script>\n"
      ],
      "text/plain": [
       "<IPython.core.display.HTML object>"
      ]
     },
     "execution_count": 8,
     "metadata": {},
     "output_type": "execute_result"
    }
   ],
   "source": [
    "# Ignore this cell - We just update the CSS to make the notebook look a little bit better and easier to read\n",
    "\n",
    "# Improve the notebook styling -- Run this first\n",
    "import codecs\n",
    "from IPython.core.display import HTML\n",
    "css_file = 'styling/CRAWLAB_IPythonNotebook.css'\n",
    "HTML(codecs.open(css_file, 'r', 'utf-8').read())"
   ]
  }
 ],
 "metadata": {
  "kernelspec": {
   "display_name": "Python 3",
   "language": "python",
   "name": "python3"
  },
  "language_info": {
   "codemirror_mode": {
    "name": "ipython",
    "version": 3
   },
   "file_extension": ".py",
   "mimetype": "text/x-python",
   "name": "python",
   "nbconvert_exporter": "python",
   "pygments_lexer": "ipython3",
   "version": "3.4.3"
  }
 },
 "nbformat": 4,
 "nbformat_minor": 0
}
