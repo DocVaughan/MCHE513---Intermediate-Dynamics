{
 "cells": [
  {
   "cell_type": "markdown",
   "metadata": {},
   "source": [
    "<h1 style=\"text-align:center\">Rolling Imbalance</h1>\n",
    "<h3 style=\"text-align:center\">MCHE 513: Intermediate Dynamics</h3> \n",
    "<p style=\"text-align:center\">Dr. Joshua Vaughan <br>\n",
    "<a href=\"mailto:joshua.vaughan@louisiana.edu\">joshua.vaughan@louisiana.edu</a><br>\n",
    "<a href=\"http://www.ucs.louisiana.edu/~jev9637/\">http://www.ucs.louisiana.edu/~jev9637/</a></p>`"
   ]
  },
  {
   "cell_type": "markdown",
   "metadata": {},
   "source": [
    "The notebook will form the equations of motion for an unbalanced rolling cylinder, with eccentricity $\\epsilon$ and radius $R$. There is enough friction such that pure rolling (no slip) is maintained. The system is sketched in Figure 1.\n",
    "\n",
    "<p style=\"text-align:center\">\n",
    "\t<img src=\"http://shared.crawlab.org/rolling_imbalanced_Prob6p21.png\" alt=\"Rolling Cylinder with Imbalance\" width=50%><br>\n",
    "    <strong>Figure 1: Rolling Cylinder with Imbalance</strong>\n",
    "</p>"
   ]
  },
  {
   "cell_type": "code",
   "execution_count": 1,
   "metadata": {
    "collapsed": true
   },
   "outputs": [],
   "source": [
    "# Import the SymPy Module\n",
    "import sympy\n",
    "\n",
    "# Import the necessary sub-modules and methods for dynamics\n",
    "from sympy.physics.mechanics import dynamicsymbols, inertia\n",
    "from sympy.physics.mechanics import LagrangesMethod, Lagrangian\n",
    "from sympy.physics.mechanics import Particle, Point, ReferenceFrame, RigidBody\n",
    "\n",
    "# initiate better printing of SymPy results\n",
    "sympy.init_printing()"
   ]
  },
  {
   "cell_type": "code",
   "execution_count": 2,
   "metadata": {
    "collapsed": true
   },
   "outputs": [],
   "source": [
    "# Define the generalized coordinates - just 1DOF here\n",
    "theta = dynamicsymbols('theta')\n",
    "theta_dot = dynamicsymbols('theta', 1)\n",
    "\n",
    "# Define the other symbols needed\n",
    "R, e, m, g, Izz, t = sympy.symbols('R epsilon m g I_{zz} t')"
   ]
  },
  {
   "cell_type": "code",
   "execution_count": 3,
   "metadata": {
    "collapsed": true
   },
   "outputs": [],
   "source": [
    "# Define the Newtonian reference frame\n",
    "N = ReferenceFrame('N')\n",
    "\n",
    "# Define a body-fixed frame along the pendulum, with y aligned from m to the pin\n",
    "P = N.orientnew('P', 'Axis', [-theta, N.z])\n",
    "\n",
    "# Define the point at the center of the cylinder and set its velocity\n",
    "A = Point('A')\n",
    "A.set_vel(N, R * theta_dot * N.x) # Pure rolling"
   ]
  },
  {
   "cell_type": "code",
   "execution_count": 4,
   "metadata": {},
   "outputs": [
    {
     "data": {
      "image/png": "[encoded data removed]",
      "text/latex": [
       "$$(R \\dot{\\theta} - \\epsilon \\operatorname{cos}\\left(\\theta\\right) \\dot{\\theta})\\mathbf{\\hat{n}_x} + \\epsilon \\operatorname{sin}\\left(\\theta\\right) \\dot{\\theta}\\mathbf{\\hat{n}_y}$$"
      ],
      "text/plain": [
       "⎛  d                      d       ⎞                   d\n",
       "⎜R⋅──(θ(t)) - ε⋅cos(θ(t))⋅──(θ(t))⎟ n_x + ε⋅sin(θ(t))⋅──(θ(t)) n_y\n",
       "⎝  dt                     dt      ⎠                   dt"
      ]
     },
     "execution_count": 4,
     "metadata": {},
     "output_type": "execute_result"
    }
   ],
   "source": [
    "# Locate the center of mass relative to the cylinder center\n",
    "G = A.locatenew('G', -e * (sympy.sin(theta) * N.x + sympy.cos(theta) * N.y))\n",
    "\n",
    "# Define its velocity, working from the velocity of point A - needed for kinetic energy calculation\n",
    "G.v2pt_theory(A, N, P)"
   ]
  },
  {
   "cell_type": "code",
   "execution_count": 5,
   "metadata": {
    "collapsed": true
   },
   "outputs": [],
   "source": [
    "# Create the inertia diadic for the cylinder. \n",
    "# Since the system is planar, set Ixx and Iyy to zero for simplicity\n",
    "Ic = inertia(P, 0, 0, Izz)\n",
    "\n",
    "# Define the cylinder as a rigid body\n",
    "cylinder = RigidBody('cylinder', G, P, m, (Ic, G))\n",
    "\n",
    "# Define the potential energy of the cyliner - just gravity here\n",
    "cylinder.potential_energy =-m * g * e * sympy.cos(theta)"
   ]
  },
  {
   "cell_type": "code",
   "execution_count": 6,
   "metadata": {},
   "outputs": [
    {
     "data": {
      "image/png": "[encoded data removed]",
      "text/latex": [
       "$$\\frac{I_{zz} \\left(\\frac{d}{d t} \\theta{\\left (t \\right )}\\right)^{2}}{2} + \\epsilon g m \\cos{\\left (\\theta{\\left (t \\right )} \\right )} + \\frac{m \\left(R^{2} - 2 R \\epsilon \\cos{\\left (\\theta{\\left (t \\right )} \\right )} + \\epsilon^{2}\\right) \\left(\\frac{d}{d t} \\theta{\\left (t \\right )}\\right)^{2}}{2}$$"
      ],
      "text/plain": [
       "                 2                                                            \n",
       "       ⎛d       ⎞                        ⎛ 2                      2⎞ ⎛d       \n",
       "I_{zz}⋅⎜──(θ(t))⎟                      m⋅⎝R  - 2⋅R⋅ε⋅cos(θ(t)) + ε ⎠⋅⎜──(θ(t))\n",
       "       ⎝dt      ⎠                                                    ⎝dt      \n",
       "────────────────── + ε⋅g⋅m⋅cos(θ(t)) + ───────────────────────────────────────\n",
       "        2                                                  2                  \n",
       "\n",
       " 2\n",
       "⎞ \n",
       "⎟ \n",
       "⎠ \n",
       "──\n",
       "  "
      ]
     },
     "execution_count": 6,
     "metadata": {},
     "output_type": "execute_result"
    }
   ],
   "source": [
    "# Form the Lagrangian, then simplify and print\n",
    "L = Lagrangian(N, cylinder)\n",
    "L.simplify()"
   ]
  },
  {
   "cell_type": "code",
   "execution_count": 7,
   "metadata": {},
   "outputs": [
    {
     "data": {
      "image/png": "[encoded data removed]",
      "text/latex": [
       "$$R \\epsilon m \\sin{\\left (\\theta{\\left (t \\right )} \\right )} \\left(\\frac{d}{d t} \\theta{\\left (t \\right )}\\right)^{2} + \\epsilon g m \\sin{\\left (\\theta{\\left (t \\right )} \\right )} + \\left(I_{zz} + R^{2} m - 2 R \\epsilon m \\cos{\\left (\\theta{\\left (t \\right )} \\right )} + \\epsilon^{2} m\\right) \\frac{d^{2}}{d t^{2}} \\theta{\\left (t \\right )}$$"
      ],
      "text/plain": [
       "                          2                                                   \n",
       "                ⎛d       ⎞                      ⎛          2                  \n",
       "R⋅ε⋅m⋅sin(θ(t))⋅⎜──(θ(t))⎟  + ε⋅g⋅m⋅sin(θ(t)) + ⎝I_{zz} + R ⋅m - 2⋅R⋅ε⋅m⋅cos(θ\n",
       "                ⎝dt      ⎠                                                    \n",
       "                                                                              \n",
       "\n",
       "               2      \n",
       "        2  ⎞  d       \n",
       "(t)) + ε ⋅m⎠⋅───(θ(t))\n",
       "               2      \n",
       "             dt       "
      ]
     },
     "execution_count": 7,
     "metadata": {},
     "output_type": "execute_result"
    }
   ],
   "source": [
    "# create an instance of the LagrangesMethod class\n",
    "LM = LagrangesMethod(L, [theta])\n",
    "\n",
    "# Form the equations of motion, then simplify and print\n",
    "eq_of_motion = LM.form_lagranges_equations()\n",
    "sympy.collect(sympy.simplify(eq_of_motion)[0], theta)"
   ]
  },
  {
   "cell_type": "markdown",
   "metadata": {},
   "source": [
    "## Simulation\n",
    "We can pass these equations of motion to numerical solver for simluation. To do so, we need to import [NumPy](http://numpy.org) and the [SciPy](http://www.scipy.org) ode solver, ```ode```. We'll also import [matplotlib](http://www.scipy.org) to enable plotting of the results.\n",
    "\n",
    "For a system as simple as this one, we could easily set up the necessary components for the numerical simulation manually. However, here we will automate as much as possible. Following a similar procedure on more complicated systems would be necessary."
   ]
  },
  {
   "cell_type": "code",
   "execution_count": 8,
   "metadata": {
    "collapsed": true
   },
   "outputs": [],
   "source": [
    "# import NumPy with namespace np\n",
    "import numpy as np\n",
    "\n",
    "# import the ode ODE solver\n",
    "from scipy.integrate import ode\n",
    "\n",
    "# import the plotting functions from matplotlib\n",
    "import matplotlib.pyplot as plt\n",
    "\n",
    "# set up the notebook to display the plots inline\n",
    "%matplotlib inline"
   ]
  },
  {
   "cell_type": "code",
   "execution_count": 9,
   "metadata": {},
   "outputs": [
    {
     "data": {
      "image/png": "[encoded data removed]",
      "text/latex": [
       "$$\\left[\\begin{matrix}\\frac{d}{d t} \\theta{\\left (t \\right )}\\\\\\frac{- \\epsilon g m \\sin{\\left (\\theta{\\left (t \\right )} \\right )} + \\frac{m \\left(2 \\epsilon^{2} \\sin{\\left (\\theta{\\left (t \\right )} \\right )} \\cos{\\left (\\theta{\\left (t \\right )} \\right )} \\left(\\frac{d}{d t} \\theta{\\left (t \\right )}\\right)^{2} + 2 \\epsilon \\left(R \\frac{d}{d t} \\theta{\\left (t \\right )} - \\epsilon \\cos{\\left (\\theta{\\left (t \\right )} \\right )} \\frac{d}{d t} \\theta{\\left (t \\right )}\\right) \\sin{\\left (\\theta{\\left (t \\right )} \\right )} \\frac{d}{d t} \\theta{\\left (t \\right )}\\right)}{2} - \\frac{m \\left(4 \\epsilon^{2} \\sin{\\left (\\theta{\\left (t \\right )} \\right )} \\cos{\\left (\\theta{\\left (t \\right )} \\right )} \\left(\\frac{d}{d t} \\theta{\\left (t \\right )}\\right)^{2} + \\epsilon \\left(2 R - 2 \\epsilon \\cos{\\left (\\theta{\\left (t \\right )} \\right )}\\right) \\sin{\\left (\\theta{\\left (t \\right )} \\right )} \\left(\\frac{d}{d t} \\theta{\\left (t \\right )}\\right)^{2} + 2 \\epsilon \\left(R \\frac{d}{d t} \\theta{\\left (t \\right )} - \\epsilon \\cos{\\left (\\theta{\\left (t \\right )} \\right )} \\frac{d}{d t} \\theta{\\left (t \\right )}\\right) \\sin{\\left (\\theta{\\left (t \\right )} \\right )} \\frac{d}{d t} \\theta{\\left (t \\right )}\\right)}{2}}{I_{zz} + \\frac{m \\left(2 \\epsilon^{2} \\sin^{2}{\\left (\\theta{\\left (t \\right )} \\right )} + \\left(R - \\epsilon \\cos{\\left (\\theta{\\left (t \\right )} \\right )}\\right) \\left(2 R - 2 \\epsilon \\cos{\\left (\\theta{\\left (t \\right )} \\right )}\\right)\\right)}{2}}\\end{matrix}\\right]$$"
      ],
      "text/plain": [
       "⎡                                                                             \n",
       "⎢                                                                             \n",
       "⎢                                                                             \n",
       "⎢                                                                             \n",
       "⎢                     ⎛                                   2                   \n",
       "⎢                     ⎜   2                     ⎛d       ⎞        ⎛  d        \n",
       "⎢                   m⋅⎜2⋅ε ⋅sin(θ(t))⋅cos(θ(t))⋅⎜──(θ(t))⎟  + 2⋅ε⋅⎜R⋅──(θ(t)) \n",
       "⎢                     ⎝                         ⎝dt      ⎠        ⎝  dt       \n",
       "⎢-ε⋅g⋅m⋅sin(θ(t)) + ──────────────────────────────────────────────────────────\n",
       "⎢                                                                     2       \n",
       "⎢─────────────────────────────────────────────────────────────────────────────\n",
       "⎢                                                                             \n",
       "⎢                                                                             \n",
       "⎢                                                                             \n",
       "⎣                                                                             \n",
       "\n",
       "                                                       d                      \n",
       "                                                       ──(θ(t))               \n",
       "                                                       dt                     \n",
       "                                                                              \n",
       "                                          ⎞     ⎛                             \n",
       "              d       ⎞           d       ⎟     ⎜   2                     ⎛d  \n",
       "- ε⋅cos(θ(t))⋅──(θ(t))⎟⋅sin(θ(t))⋅──(θ(t))⎟   m⋅⎜4⋅ε ⋅sin(θ(t))⋅cos(θ(t))⋅⎜──(\n",
       "              dt      ⎠           dt      ⎠     ⎝                         ⎝dt \n",
       "─────────────────────────────────────────── - ────────────────────────────────\n",
       "                                                                              \n",
       "──────────────────────────────────────────────────────────────────────────────\n",
       "                                   ⎛   2    2                                 \n",
       "                                 m⋅⎝2⋅ε ⋅sin (θ(t)) + (R - ε⋅cos(θ(t)))⋅(2⋅R -\n",
       "                        I_{zz} + ─────────────────────────────────────────────\n",
       "                                                               2              \n",
       "\n",
       "                                                                              \n",
       "                                                                              \n",
       "                                                                              \n",
       "                                                                              \n",
       "      2                                               2                       \n",
       "     ⎞                                      ⎛d       ⎞        ⎛  d            \n",
       "θ(t))⎟  + ε⋅(2⋅R - 2⋅ε⋅cos(θ(t)))⋅sin(θ(t))⋅⎜──(θ(t))⎟  + 2⋅ε⋅⎜R⋅──(θ(t)) - ε⋅\n",
       "     ⎠                                      ⎝dt      ⎠        ⎝  dt           \n",
       "──────────────────────────────────────────────────────────────────────────────\n",
       "                                          2                                   \n",
       "──────────────────────────────────────────────────────────────────────────────\n",
       "               ⎞                                                              \n",
       " 2⋅ε⋅cos(θ(t)))⎠                                                              \n",
       "────────────────                                                              \n",
       "                                                                              \n",
       "\n",
       "                                       ⎤\n",
       "                                       ⎥\n",
       "                                       ⎥\n",
       "                                       ⎥\n",
       "                                      ⎞⎥\n",
       "          d       ⎞           d       ⎟⎥\n",
       "cos(θ(t))⋅──(θ(t))⎟⋅sin(θ(t))⋅──(θ(t))⎟⎥\n",
       "          dt      ⎠           dt      ⎠⎥\n",
       "───────────────────────────────────────⎥\n",
       "                                       ⎥\n",
       "───────────────────────────────────────⎥\n",
       "                                       ⎥\n",
       "                                       ⎥\n",
       "                                       ⎥\n",
       "                                       ⎦"
      ]
     },
     "execution_count": 9,
     "metadata": {},
     "output_type": "execute_result"
    }
   ],
   "source": [
    "# Make the call to set up in state-space-ish form q_dot = f(q, t)\n",
    "lrhs = LM.rhs()\n",
    "\n",
    "# Simplify the results\n",
    "lrhs.simplify()\n",
    "\n",
    "# Output the result\n",
    "lrhs"
   ]
  },
  {
   "cell_type": "code",
   "execution_count": 10,
   "metadata": {
    "collapsed": true
   },
   "outputs": [],
   "source": [
    "# Define the states and state vector\n",
    "w1, w2 = sympy.symbols('w1 w2', cls=sympy.Function)\n",
    "w = [w1(t), w2(t)]\n",
    "\n",
    "# Set up the state definitions and parameter substitution\n",
    "sub_params = {theta: w1(t), \n",
    "              theta_dot: w2(t), \n",
    "              g : 9.81, \n",
    "              e : 0.5,\n",
    "              R : 1.0,\n",
    "              m : 10.0,\n",
    "              Izz : 0.5 * (0.9 * m) * R**2 + (0.1 * m) * e**2}\n",
    "\n",
    "# Create a function from the equations of motion\n",
    "# Here, we substitude the states and parameters as appropriate prior to the lamdification\n",
    "eq_of_motion = sympy.lambdify((t, w), \n",
    "                              lrhs.subs(sub_params))"
   ]
  },
  {
   "cell_type": "code",
   "execution_count": 11,
   "metadata": {
    "collapsed": true
   },
   "outputs": [],
   "source": [
    "# Set up the initial conditions for the solver\n",
    "theta_init = 225 * np.pi/180     # Initial angle\n",
    "theta_dot_init = 0           # Initial angular velocity\n",
    "\n",
    "# Pack the initial conditions into an array\n",
    "x0 = [theta_init, theta_dot_init]\n",
    "\n",
    "# Create the time samples for the output of the ODE solver\n",
    "sim_time = np.linspace(0.0, 10.0, 1001) # 0-10s with 1001 points in between"
   ]
  },
  {
   "cell_type": "code",
   "execution_count": 12,
   "metadata": {
    "collapsed": true
   },
   "outputs": [],
   "source": [
    "# Set up the initial point for the ode solver\n",
    "r = ode(eq_of_motion).set_initial_value(x0, sim_time[0])\n",
    " \n",
    "# define the sample time\n",
    "dt = sim_time[1] - sim_time[0]   \n",
    "\n",
    "# pre-populate the response array with zeros\n",
    "response = np.zeros((len(sim_time), len(x0)))\n",
    "\n",
    "# Set the initial index to 0\n",
    "index = 0\n",
    "\n",
    "# Now, numerically integrate the ODE while:\n",
    "#   1. the last step was successful\n",
    "#   2. the current time is less than the desired simluation end time\n",
    "while r.successful() and r.t < sim_time[-1]:\n",
    "    response[index, :] = r.y\n",
    "    r.integrate(r.t + dt)\n",
    "    index += 1"
   ]
  },
  {
   "cell_type": "code",
   "execution_count": 13,
   "metadata": {},
   "outputs": [
    {
     "data": {
      "image/png": "[encoded data removed]",
      "text/plain": [
       "<matplotlib.figure.Figure at 0x11f338860>"
      ]
     },
     "metadata": {},
     "output_type": "display_data"
    }
   ],
   "source": [
    "# Set the plot size - 3x2 aspect ratio is best\n",
    "fig = plt.figure(figsize=(6, 4))\n",
    "ax = plt.gca()\n",
    "plt.subplots_adjust(bottom=0.17, left=0.17, top=0.96, right=0.96)\n",
    "\n",
    "# Change the axis units to serif\n",
    "plt.setp(ax.get_ymajorticklabels(), family='serif', fontsize=18)\n",
    "plt.setp(ax.get_xmajorticklabels(), family='serif', fontsize=18)\n",
    "\n",
    "# Remove top and right axes border\n",
    "ax.spines['right'].set_color('none')\n",
    "ax.spines['top'].set_color('none')\n",
    "\n",
    "# Only show axes ticks on the bottom and left axes\n",
    "ax.xaxis.set_ticks_position('bottom')\n",
    "ax.yaxis.set_ticks_position('left')\n",
    "\n",
    "# Turn on the plot grid and set appropriate linestyle and color\n",
    "ax.grid(True,linestyle=':', color='0.75')\n",
    "ax.set_axisbelow(True)\n",
    "\n",
    "# Define the X and Y axis labels\n",
    "plt.xlabel('Time (s)', family='serif', fontsize=22, weight='bold', labelpad=5)\n",
    "plt.ylabel('Angle (deg)', family='serif', fontsize=22, weight='bold', labelpad=10)\n",
    "\n",
    "# Plot the data\n",
    "plt.plot(sim_time, response[:, 0] * 180/np.pi, linewidth=2, linestyle='-', label = '$\\theta$')\n",
    "\n",
    "# uncomment below and set limits if needed\n",
    "# plt.xlim(0, 5)\n",
    "# plt.ylim(-1, 1)\n",
    "\n",
    "# Create the legend, then fix the fontsize\n",
    "# leg = plt.legend(loc='upper right', ncol = 1, fancybox=True)\n",
    "# ltext  = leg.get_texts()\n",
    "# plt.setp(ltext, family='serif', fontsize=20)\n",
    "\n",
    "# Adjust the page layout filling the page using the new tight_layout command\n",
    "plt.tight_layout(pad=0.5)\n",
    "\n",
    "# Uncomment to save the figure as a high-res pdf in the current folder\n",
    "# It's saved at the original 6x4 size\n",
    "# plt.savefig('Simple_Pendulum_Response.pdf')\n",
    "\n",
    "fig.set_size_inches(9, 6) # Resize the figure for better display in the notebook"
   ]
  },
  {
   "cell_type": "markdown",
   "metadata": {},
   "source": [
    "Let's plot the planar position of the center of mass."
   ]
  },
  {
   "cell_type": "code",
   "execution_count": 14,
   "metadata": {
    "collapsed": true
   },
   "outputs": [],
   "source": [
    "x = 2 * 1.0 * np.pi * response[:,0] - 0.1 * np.sin(response[:,0])\n",
    "y = -0.1 * np.cos(response[:,0])"
   ]
  },
  {
   "cell_type": "code",
   "execution_count": 15,
   "metadata": {},
   "outputs": [
    {
     "data": {
      "image/png": "[encoded data removed]",
      "text/plain": [
       "<matplotlib.figure.Figure at 0x11f318940>"
      ]
     },
     "metadata": {},
     "output_type": "display_data"
    }
   ],
   "source": [
    "# Set the plot size - 3x2 aspect ratio is best\n",
    "fig = plt.figure(figsize=(6, 4))\n",
    "ax = plt.gca()\n",
    "plt.subplots_adjust(bottom=0.17, left=0.17, top=0.96, right=0.96)\n",
    "\n",
    "# Change the axis units to serif\n",
    "plt.setp(ax.get_ymajorticklabels(), family='serif', fontsize=18)\n",
    "plt.setp(ax.get_xmajorticklabels(), family='serif', fontsize=18)\n",
    "\n",
    "# Remove top and right axes border\n",
    "ax.spines['right'].set_color('none')\n",
    "ax.spines['top'].set_color('none')\n",
    "\n",
    "# Only show axes ticks on the bottom and left axes\n",
    "ax.xaxis.set_ticks_position('bottom')\n",
    "ax.yaxis.set_ticks_position('left')\n",
    "\n",
    "# Turn on the plot grid and set appropriate linestyle and color\n",
    "ax.grid(True,linestyle=':', color='0.75')\n",
    "ax.set_axisbelow(True)\n",
    "\n",
    "# Define the X and Y axis labels\n",
    "plt.xlabel('Horizontal Position (m)', family='serif', fontsize=22, weight='bold', labelpad=5)\n",
    "plt.ylabel('Vertical Position (m)', family='serif', fontsize=22, weight='bold', labelpad=10)\n",
    "\n",
    "# Plot the data\n",
    "plt.plot(x, y, linewidth=2, linestyle='-')\n",
    "\n",
    "# uncomment below and set limits if needed\n",
    "# plt.xlim(-1, 1)\n",
    "# plt.ylim(1.25*np.min(y), 0.01)\n",
    "\n",
    "# Adjust the page layout filling the page using the new tight_layout command\n",
    "plt.tight_layout(pad=0.5)\n",
    "\n",
    "# Uncomment to save the figure as a high-res pdf in the current folder\n",
    "# It's saved at the original 6x4 size\n",
    "# plt.savefig('Spring_Pendulum_Response_Planar.pdf')\n",
    "\n",
    "fig.set_size_inches(9, 6) # Resize the figure for better display in the notebook"
   ]
  },
  {
   "cell_type": "markdown",
   "metadata": {},
   "source": [
    "<hr style=\"border: 0px;\n",
    "        height: 1px;\n",
    "        text-align: center;\n",
    "        background: #333;\n",
    "        background-image: -webkit-linear-gradient(left, #ccc, #333, #ccc); \n",
    "        background-image:    -moz-linear-gradient(left, #ccc, #333, #ccc); \n",
    "        background-image:     -ms-linear-gradient(left, #ccc, #333, #ccc); \n",
    "        background-image:      -o-linear-gradient(left, #ccc, #333, #ccc);\">"
   ]
  },
  {
   "cell_type": "markdown",
   "metadata": {},
   "source": [
    "#### Licenses\n",
    "Code is licensed under a 3-clause BSD style license. See the licenses/LICENSE.md file.\n",
    "\n",
    "Other content is provided under a [Creative Commons Attribution-NonCommercial 4.0 International License](http://creativecommons.org/licenses/by-nc/4.0/), CC-BY-NC 4.0."
   ]
  },
  {
   "cell_type": "code",
   "execution_count": 16,
   "metadata": {},
   "outputs": [
    {
     "data": {
      "text/html": [
       "<script>\n",
       "    MathJax.Hub.Config({\n",
       "                        TeX: {\n",
       "                           extensions: [\"AMSmath.js\"]\n",
       "                           },\n",
       "                tex2jax: {\n",
       "                    inlineMath: [ ['$','$'], [\"\\\\(\",\"\\\\)\"] ],\n",
       "                    displayMath: [ ['$$','$$'], [\"\\\\[\",\"\\\\]\"] ]\n",
       "                },\n",
       "                displayAlign: 'center', // Change this to 'center' to center equations.\n",
       "                \"HTML-CSS\": {\n",
       "                    styles: {'.MathJax_Display': {\"margin\": 4}}\n",
       "                }\n",
       "        });\n",
       "</script>\n",
       "\n",
       "<style>\n",
       "    @font-face {\n",
       "        font-family: \"Computer Modern\";\n",
       "        src: url('http://mirrors.ctan.org/fonts/cm-unicode/fonts/otf/cmunss.otf');\n",
       "    }\n",
       "    @font-face {\n",
       "        font-family: \"Computer Modern\";\n",
       "        src: url('http://mirrors.ctan.org/fonts/cm-unicode/fonts/otf/cmunsx.otf');\n",
       "        font-weight: bold;\n",
       "    }\n",
       "    @font-face {\n",
       "        font-family: \"Computer Modern\";\n",
       "        src: url('http://mirrors.ctan.org/fonts/cm-unicode/fonts/otf/cmunsi.otf');\n",
       "        font-style: oblique;\n",
       "    }\n",
       "    @font-face {\n",
       "        font-family: \"Computer Modern\";\n",
       "        src: url('http://mirrors.ctan.org/fonts/cm-unicode/fonts/otf/cmunso.otf');\n",
       "        font-weight: bold;\n",
       "        font-style: oblique;\n",
       "    }\n",
       "\n",
       "    div.cell {\n",
       "        max-width: 1100px;\n",
       "    }\n",
       "    \n",
       "    h1 {\n",
       "        font-family: Computer Modern;\n",
       "    }\n",
       "    \n",
       "    h4 {\n",
       "        margin-top: 12px;\n",
       "        margin-bottom: 3px;\n",
       "    }\n",
       "\n",
       "    div.text_cell_render {\n",
       "        font-family: Computer Modern, \"Helvetica Neue\", Arial, Helvetica, Geneva, sans-serif;\n",
       "        line-height: 145%;\n",
       "        font-size: 130%;\n",
       "        width: 100%;\n",
       "        max-width: 1100px;\n",
       "    }\n",
       "    \n",
       "    .CodeMirror {\n",
       "        font-family: \"Source Code Pro\", source-code-pro, Consolas, monospace;\n",
       "    }\n",
       "    \n",
       "    .warning {\n",
       "        color: rgb( 240, 20, 20 )\n",
       "    }  \n",
       "  \n",
       "   \n",
       "    hr.style-end {\n",
       "        border: 0px !important;\n",
       "        height: 1px !important;\n",
       "        text-align: center !important;\n",
       "        background: #333 !important;\n",
       "        background-image: -webkit-linear-gradient(left, #ccc, #333, #ccc) !important; \n",
       "        background-image:    -moz-linear-gradient(left, #ccc, #333, #ccc) !important; \n",
       "        background-image:     -ms-linear-gradient(left, #ccc, #333, #ccc) !important; \n",
       "        background-image:      -o-linear-gradient(left, #ccc, #333, #ccc) !important; \n",
       "    }\n",
       "\n",
       "    hr.style-end:after {\n",
       "        content: &#x269C !important;\n",
       "        left: 50% !important;\n",
       "        position: absolute !important;\n",
       "        /* Controls the whitespace around the symbol */\n",
       "        padding: 0px !important;\n",
       "        background: #fff !important;\n",
       "    }\n",
       "    \n",
       "/*  Center figures, etc\n",
       "    .ui-wrapper {\n",
       "        margin-left: auto !important;\n",
       "        margin-right: auto !important;\n",
       "    }\n",
       "*/\n",
       "    \n",
       "</style>\n"
      ],
      "text/plain": [
       "<IPython.core.display.HTML object>"
      ]
     },
     "execution_count": 16,
     "metadata": {},
     "output_type": "execute_result"
    }
   ],
   "source": [
    "# This cell will just improve the styling of the notebook\n",
    "# You can ignore it, if you are okay with the default sytling\n",
    "from IPython.core.display import HTML\n",
    "import urllib.request\n",
    "response = urllib.request.urlopen(\"https://cl.ly/1B1y452Z1d35\")\n",
    "HTML(response.read().decode(\"utf-8\"))"
   ]
  }
 ],
 "metadata": {
  "kernelspec": {
   "display_name": "Python 3",
   "language": "python",
   "name": "python3"
  },
  "language_info": {
   "codemirror_mode": {
    "name": "ipython",
    "version": 3
   },
   "file_extension": ".py",
   "mimetype": "text/x-python",
   "name": "python",
   "nbconvert_exporter": "python",
   "pygments_lexer": "ipython3",
   "version": "3.6.2"
  }
 },
 "nbformat": 4,
 "nbformat_minor": 1
}
