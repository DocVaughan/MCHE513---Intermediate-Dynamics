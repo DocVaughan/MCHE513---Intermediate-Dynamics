{
 "cells": [
  {
   "cell_type": "markdown",
   "metadata": {},
   "source": [
    "<h1 style=\"text-align:center\">Mass-Spring-Pendulum Example</h1>\n",
    "<h3 style=\"text-align:center\"> MCHE 513: Intermediate Dynamics</h3> \n",
    "<p style=\"text-align:center\">Dr. Joshua Vaughan <br>\n",
    "<a href=\"mailto:joshua.vaughan@louisiana.edu\">joshua.vaughan@louisiana.edu</a><br>\n",
    "http://www.ucs.louisiana.edu/~jev9637/   </p>"
   ]
  },
  {
   "cell_type": "markdown",
   "metadata": {},
   "source": [
    "<p style = \"text-align: center;\">\n",
    "\t<img src=\"http://shared.crawlab.org/Spring_mass_pendulum.png\" alt=\"A Mass-Spring-Pendulum System\" width=40%><br>\n",
    "    <strong> Figure 1: A Mass-Spring-Pendulum System</strong>\n",
    "</p><br>\n",
    "\n",
    "This notebook demonstrates the analysis of the system shown in Figure 1. Mass $m_1$ is attached to ground via a spring and constrained to move horizontally. Its horizontal motion from equilibrium is described by $x$. Mass $m_2$ is suspended from the center of $m_1$ via a massless, inextensible, inflexible cable of length $l$. The angle of this cable from horizontal is described by $\\theta$. The linearized equations of motion for the system are:\n",
    "\n",
    "$ \\quad \\left(m_1 + m_2\\right) \\ddot{x} - m_2 l \\ddot{\\theta} + k x = f $\n",
    "\n",
    "$ \\quad -m_2 l \\ddot{x} + m_2 l^2 \\ddot{\\theta} + m_2 g l \\theta = 0 $\n",
    "\n",
    "We could also write this equation in matrix form:\n",
    "\n",
    "$ \\quad \\begin{bmatrix}m_1 + m_2 & -m_2 l \\\\ -m_2 l & \\hphantom{-}m_2 l^2\\end{bmatrix}\\begin{bmatrix}\\ddot{x} \\\\ \\ddot{\\theta}\\end{bmatrix} + \\begin{bmatrix}k & 0 \\\\ 0 & m_2 g l\\end{bmatrix}\\begin{bmatrix}x \\\\ \\theta\\end{bmatrix} = \\begin{bmatrix}f \\\\ 0\\end{bmatrix}$\n",
    "\n",
    "We'll use the [Sympy](http://sympy.org) tools to verify these equations of motion, then [NumPy](http://numpy.org) and [SciPy](http://scipy.org) to simulate the response of this system."
   ]
  },
  {
   "cell_type": "code",
   "execution_count": 1,
   "metadata": {
    "collapsed": true
   },
   "outputs": [],
   "source": [
    "# Import the SymPy Module\n",
    "import sympy\n",
    "\n",
    "# Import the necessary sub-modules and methods for dynamics\n",
    "from sympy.physics.mechanics import dynamicsymbols\n",
    "from sympy.physics.mechanics import LagrangesMethod, Lagrangian\n",
    "from sympy.physics.mechanics import Particle, Point, ReferenceFrame\n",
    "\n",
    "# initiate better printing of SymPy results\n",
    "sympy.init_printing()"
   ]
  },
  {
   "cell_type": "code",
   "execution_count": 2,
   "metadata": {
    "collapsed": true
   },
   "outputs": [],
   "source": [
    "# Define the genearlized coordinate\n",
    "x, theta, f = dynamicsymbols('x theta f')\n",
    "\n",
    "# Also define the first derivative\n",
    "x_dot, theta_dot = dynamicsymbols('x theta', 1)\n",
    "\n",
    "# Define the symbols for the other paramters\n",
    "m1, m2, k, g, l, t = sympy.symbols('m_1, m_2, k, g, l, t')"
   ]
  },
  {
   "cell_type": "code",
   "execution_count": 3,
   "metadata": {
    "collapsed": false
   },
   "outputs": [
    {
     "data": {
      "image/png": "[encoded data removed]",
      "text/latex": [
       "$$g l m_{2} \\cos{\\left (\\theta{\\left (t \\right )} \\right )} - 0.5 k x^{2}{\\left (t \\right )} + \\frac{l^{2} m_{2}}{2} \\left(\\frac{d}{d t} \\theta{\\left (t \\right )}\\right)^{2} - l m_{2} \\cos{\\left (\\theta{\\left (t \\right )} \\right )} \\frac{d}{d t} \\theta{\\left (t \\right )} \\frac{d}{d t} x{\\left (t \\right )} + \\frac{m_{1}}{2} \\left(\\frac{d}{d t} x{\\left (t \\right )}\\right)^{2} + \\frac{m_{2}}{2} \\left(\\frac{d}{d t} x{\\left (t \\right )}\\right)^{2}$$"
      ],
      "text/plain": [
       "                                                    2                         \n",
       "                                     2    ⎛d       ⎞                          \n",
       "                                    l ⋅m₂⋅⎜──(θ(t))⎟                          \n",
       "                             2            ⎝dt      ⎠                   d      \n",
       "g⋅l⋅m₂⋅cos(θ(t)) - - -0.5⋅k⋅x (t) + ───────────────── - l⋅m₂⋅cos(θ(t))⋅──(θ(t)\n",
       "                                            2                          dt     \n",
       "\n",
       "                          2                2\n",
       "                ⎛d       ⎞       ⎛d       ⎞ \n",
       "             m₁⋅⎜──(x(t))⎟    m₂⋅⎜──(x(t))⎟ \n",
       "  d             ⎝dt      ⎠       ⎝dt      ⎠ \n",
       ")⋅──(x(t)) + ────────────── + ──────────────\n",
       "  dt               2                2       "
      ]
     },
     "execution_count": 3,
     "metadata": {},
     "output_type": "execute_result"
    }
   ],
   "source": [
    "# Define the Newtonian reference frame\n",
    "N = ReferenceFrame('N')\n",
    "\n",
    "# Define a body-fixed frame along the pendulum, with y aligned from m to the pin\n",
    "A = N.orientnew('A', 'Axis', [-theta, N.z])\n",
    "\n",
    "# Define the trolley point and its velocity\n",
    "T = Point('T')\n",
    "T.set_vel(N, x_dot * N.x)\n",
    "\n",
    "# Treat the trolley as a particle\n",
    "mtr = Particle('mtr', T, m1)\n",
    "\n",
    "# Define the payload point and set its velocity\n",
    "P = Point('P')\n",
    "P.set_vel(N, x_dot * N.x - l * theta_dot * A.x)\n",
    "\n",
    "# The payload is a particle (a point mass)\n",
    "mp = Particle('mp', P, m2)\n",
    "\n",
    "# Define the potential energy of the payload \n",
    "mp.set_potential_energy(-m2 * g * l * sympy.cos(theta)) # gravity\n",
    "mtr.set_potential_energy(1 / 2 * k * x**2) # spring potential\n",
    "\n",
    "# Set up the force list - each item follows the form:\n",
    "#    (the location where the force is applied, its magnitude and direction)\n",
    "forces = [(T, f * N.x)]\n",
    "\n",
    "# Form the Lagrangian, then simplify and print\n",
    "L = Lagrangian(N, mtr, mp)\n",
    "L.simplify()"
   ]
  },
  {
   "cell_type": "code",
   "execution_count": 4,
   "metadata": {
    "collapsed": false
   },
   "outputs": [],
   "source": [
    "# This creates a LagrangesMethod class instance that will allow us to form the equations of motion, etc\n",
    "LM = LagrangesMethod(L, [x, theta], forcelist = forces, frame = N)"
   ]
  },
  {
   "cell_type": "code",
   "execution_count": 5,
   "metadata": {
    "collapsed": false
   },
   "outputs": [
    {
     "data": {
      "image/png": "[encoded data removed]",
      "text/latex": [
       "$$\\left[\\begin{matrix}1.0 k x{\\left (t \\right )} + l m_{2} \\sin{\\left (\\theta{\\left (t \\right )} \\right )} \\left(\\frac{d}{d t} \\theta{\\left (t \\right )}\\right)^{2} - l m_{2} \\cos{\\left (\\theta{\\left (t \\right )} \\right )} \\frac{d^{2}}{d t^{2}}  \\theta{\\left (t \\right )} + m_{1} \\frac{d^{2}}{d t^{2}}  x{\\left (t \\right )} + m_{2} \\frac{d^{2}}{d t^{2}}  x{\\left (t \\right )} - f{\\left (t \\right )}\\\\g l m_{2} \\sin{\\left (\\theta{\\left (t \\right )} \\right )} + l^{2} m_{2} \\frac{d^{2}}{d t^{2}}  \\theta{\\left (t \\right )} - l m_{2} \\cos{\\left (\\theta{\\left (t \\right )} \\right )} \\frac{d^{2}}{d t^{2}}  x{\\left (t \\right )}\\end{matrix}\\right]$$"
      ],
      "text/plain": [
       "⎡                                      2                    2              2  \n",
       "⎢                            ⎛d       ⎞                    d              d   \n",
       "⎢1.0⋅k⋅x(t) + l⋅m₂⋅sin(θ(t))⋅⎜──(θ(t))⎟  - l⋅m₂⋅cos(θ(t))⋅───(θ(t)) + m₁⋅───(x\n",
       "⎢                            ⎝dt      ⎠                     2              2  \n",
       "⎢                                                         dt             dt   \n",
       "⎢                                                                             \n",
       "⎢                                                2                          2 \n",
       "⎢                                         2     d                          d  \n",
       "⎢                     g⋅l⋅m₂⋅sin(θ(t)) + l ⋅m₂⋅───(θ(t)) - l⋅m₂⋅cos(θ(t))⋅───(\n",
       "⎢                                                2                          2 \n",
       "⎣                                              dt                         dt  \n",
       "\n",
       "            2             ⎤\n",
       "           d              ⎥\n",
       "(t)) + m₂⋅───(x(t)) - f(t)⎥\n",
       "            2             ⎥\n",
       "          dt              ⎥\n",
       "                          ⎥\n",
       "                          ⎥\n",
       "                          ⎥\n",
       "x(t))                     ⎥\n",
       "                          ⎥\n",
       "                          ⎦"
      ]
     },
     "execution_count": 5,
     "metadata": {},
     "output_type": "execute_result"
    }
   ],
   "source": [
    "LM.form_lagranges_equations()"
   ]
  },
  {
   "cell_type": "markdown",
   "metadata": {},
   "source": [
    "The <tt>LagrangesMethod</tt> class gives us lots of information about the system. For example, we can output the mass/inertia matrix and the forcing terms. Note that the forcing terms include what might be conservative forces and would therefore normally appear in a stiffness matrix."
   ]
  },
  {
   "cell_type": "code",
   "execution_count": 6,
   "metadata": {
    "collapsed": false
   },
   "outputs": [
    {
     "data": {
      "image/png": "[encoded data removed]",
      "text/latex": [
       "$$\\left[\\begin{matrix}m_{1} + m_{2} & - l m_{2} \\cos{\\left (\\theta{\\left (t \\right )} \\right )}\\\\- l m_{2} \\cos{\\left (\\theta{\\left (t \\right )} \\right )} & l^{2} m_{2}\\end{matrix}\\right]$$"
      ],
      "text/plain": [
       "⎡    m₁ + m₂      -l⋅m₂⋅cos(θ(t))⎤\n",
       "⎢                                ⎥\n",
       "⎢                       2        ⎥\n",
       "⎣-l⋅m₂⋅cos(θ(t))       l ⋅m₂     ⎦"
      ]
     },
     "execution_count": 6,
     "metadata": {},
     "output_type": "execute_result"
    }
   ],
   "source": [
    "# Output the inertia/mass matrix of the system\n",
    "LM.mass_matrix"
   ]
  },
  {
   "cell_type": "code",
   "execution_count": 7,
   "metadata": {
    "collapsed": false
   },
   "outputs": [
    {
     "data": {
      "image/png": "[encoded data removed]",
      "text/latex": [
       "$$\\left[\\begin{matrix}- 1.0 k x{\\left (t \\right )} - l m_{2} \\sin{\\left (\\theta{\\left (t \\right )} \\right )} \\left(\\frac{d}{d t} \\theta{\\left (t \\right )}\\right)^{2} + f{\\left (t \\right )}\\\\- g l m_{2} \\sin{\\left (\\theta{\\left (t \\right )} \\right )}\\end{matrix}\\right]$$"
      ],
      "text/plain": [
       "⎡                                          2       ⎤\n",
       "⎢                                ⎛d       ⎞        ⎥\n",
       "⎢-- -1.0⋅k⋅x(t) - l⋅m₂⋅sin(θ(t))⋅⎜──(θ(t))⎟  + f(t)⎥\n",
       "⎢                                ⎝dt      ⎠        ⎥\n",
       "⎢                                                  ⎥\n",
       "⎣                -g⋅l⋅m₂⋅sin(θ(t))                 ⎦"
      ]
     },
     "execution_count": 7,
     "metadata": {},
     "output_type": "execute_result"
    }
   ],
   "source": [
    "# Output the forcing terms of the system\n",
    "LM.forcing"
   ]
  },
  {
   "cell_type": "markdown",
   "metadata": {},
   "source": [
    "We can also use builtin functions to write the sytsem as a set of first order ODEs, suitable for simluation."
   ]
  },
  {
   "cell_type": "code",
   "execution_count": 8,
   "metadata": {
    "collapsed": false
   },
   "outputs": [
    {
     "data": {
      "image/png": "[encoded data removed]",
      "text/latex": [
       "$$\\left[\\begin{matrix}\\frac{d}{d t} x{\\left (t \\right )}\\\\\\frac{d}{d t} \\theta{\\left (t \\right )}\\\\\\frac{1}{m_{1} + m_{2} \\sin^{2}{\\left (\\theta{\\left (t \\right )} \\right )}} \\left(- 0.5 g m_{2} \\sin{\\left (2 \\theta{\\left (t \\right )} \\right )} - 1.0 k x{\\left (t \\right )} - 1.0 l m_{2} \\sin{\\left (\\theta{\\left (t \\right )} \\right )} \\left(\\frac{d}{d t} \\theta{\\left (t \\right )}\\right)^{2} + 1.0 f{\\left (t \\right )}\\right)\\\\- \\frac{1}{l \\left(m_{1} + m_{2} \\sin^{2}{\\left (\\theta{\\left (t \\right )} \\right )}\\right)} \\left(g \\left(m_{1} + m_{2}\\right) \\sin{\\left (\\theta{\\left (t \\right )} \\right )} + \\left(1.0 k x{\\left (t \\right )} + l m_{2} \\sin{\\left (\\theta{\\left (t \\right )} \\right )} \\left(\\frac{d}{d t} \\theta{\\left (t \\right )}\\right)^{2} - f{\\left (t \\right )}\\right) \\cos{\\left (\\theta{\\left (t \\right )} \\right )}\\right)\\end{matrix}\\right]$$"
      ],
      "text/plain": [
       "⎡                                       d                                     \n",
       "⎢                                       ──(x(t))                              \n",
       "⎢                                       dt                                    \n",
       "⎢                                                                             \n",
       "⎢                                       d                                     \n",
       "⎢                                       ──(θ(t))                              \n",
       "⎢                                       dt                                    \n",
       "⎢                                                                             \n",
       "⎢                                                                           2 \n",
       "⎢                                                                 ⎛d       ⎞  \n",
       "⎢-- -0.5⋅g⋅m₂⋅sin(2⋅θ(t)) - - -1.0⋅k⋅x(t) - - -1.0⋅l⋅m₂⋅sin(θ(t))⋅⎜──(θ(t))⎟  \n",
       "⎢                                                                 ⎝dt      ⎠  \n",
       "⎢─────────────────────────────────────────────────────────────────────────────\n",
       "⎢                                              2                              \n",
       "⎢                                   m₁ + m₂⋅sin (θ(t))                        \n",
       "⎢                                                                             \n",
       "⎢ ⎛                        ⎛                                      2       ⎞   \n",
       "⎢ ⎜                        ⎜                            ⎛d       ⎞        ⎟   \n",
       "⎢-⎜g⋅(m₁ + m₂)⋅sin(θ(t)) + ⎜1.0⋅k⋅x(t) + l⋅m₂⋅sin(θ(t))⋅⎜──(θ(t))⎟  - f(t)⎟⋅co\n",
       "⎢ ⎝                        ⎝                            ⎝dt      ⎠        ⎠   \n",
       "⎢─────────────────────────────────────────────────────────────────────────────\n",
       "⎢                                  ⎛           2      ⎞                       \n",
       "⎣                                l⋅⎝m₁ + m₂⋅sin (θ(t))⎠                       \n",
       "\n",
       "          ⎤\n",
       "          ⎥\n",
       "          ⎥\n",
       "          ⎥\n",
       "          ⎥\n",
       "          ⎥\n",
       "          ⎥\n",
       "          ⎥\n",
       "          ⎥\n",
       "          ⎥\n",
       "+ 1.0⋅f(t)⎥\n",
       "          ⎥\n",
       "──────────⎥\n",
       "          ⎥\n",
       "          ⎥\n",
       "          ⎥\n",
       "       ⎞  ⎥\n",
       "       ⎟  ⎥\n",
       "s(θ(t))⎟  ⎥\n",
       "       ⎠  ⎥\n",
       "───────── ⎥\n",
       "          ⎥\n",
       "          ⎦"
      ]
     },
     "execution_count": 8,
     "metadata": {},
     "output_type": "execute_result"
    }
   ],
   "source": [
    "# Make the call to set up in state-space-ish form q_dot = f(q, t)\n",
    "lrhs = LM.rhs()\n",
    "\n",
    "# Simplify the results\n",
    "lrhs.simplify()\n",
    "\n",
    "# Output the result\n",
    "lrhs"
   ]
  },
  {
   "cell_type": "markdown",
   "metadata": {},
   "source": [
    "We can also linearize these equations with builtin SymPy methods. Let's do so about the $x = \\dot{x} = \\theta = \\dot{\\theta} = 0$ operating point. The resulting equations returned are a system of first order ODEs in state-space form:\n",
    "\n",
    "$$ \\dot{x} = Ax + Bu $$\n",
    "\n",
    "See the [SymPy Documentation](http://docs.sympy.org/0.7.6/modules/physics/mechanics/linearize.html#linearizing-lagrange-s-equations) for much more information."
   ]
  },
  {
   "cell_type": "code",
   "execution_count": 9,
   "metadata": {
    "collapsed": false
   },
   "outputs": [],
   "source": [
    "# Define the point to linearize around\n",
    "operating_point = {x: 0.0, x_dot: 0.0, theta: 0.0, theta_dot: 0.0}\n",
    "\n",
    "# Make the call to the linearizer\n",
    "A, B, inp_vec = LM.linearize([x, theta], [x_dot, theta_dot],\n",
    "                             op_point = operating_point, \n",
    "                             A_and_B = True)"
   ]
  },
  {
   "cell_type": "code",
   "execution_count": 10,
   "metadata": {
    "collapsed": false
   },
   "outputs": [
    {
     "data": {
      "image/png": "[encoded data removed]",
      "text/latex": [
       "$$\\left[\\begin{matrix}0 & 0 & 1 & 0\\\\0 & 0 & 0 & 1\\\\- \\frac{1.0 k}{m_{1}} & - \\frac{g m_{2}}{m_{1}} & 0 & 0\\\\- \\frac{1.0 k}{l m_{1}} & - \\frac{g \\left(m_{1} + m_{2}\\right)}{l m_{1}} & 0 & 0\\end{matrix}\\right]$$"
      ],
      "text/plain": [
       "⎡   0           0        1  0⎤\n",
       "⎢                            ⎥\n",
       "⎢   0           0        0  1⎥\n",
       "⎢                            ⎥\n",
       "⎢-1.0⋅k      -g⋅m₂           ⎥\n",
       "⎢───────     ──────      0  0⎥\n",
       "⎢   m₁         m₁            ⎥\n",
       "⎢                            ⎥\n",
       "⎢-1.0⋅k   -g⋅(m₁ + m₂)       ⎥\n",
       "⎢───────  ─────────────  0  0⎥\n",
       "⎣  l⋅m₁        l⋅m₁          ⎦"
      ]
     },
     "execution_count": 10,
     "metadata": {},
     "output_type": "execute_result"
    }
   ],
   "source": [
    "# simplify and print out the A matrix\n",
    "A.simplify()\n",
    "A"
   ]
  },
  {
   "cell_type": "code",
   "execution_count": 11,
   "metadata": {
    "collapsed": false
   },
   "outputs": [
    {
     "data": {
      "image/png": "[encoded data removed]",
      "text/latex": [
       "$$\\left[\\begin{matrix}0\\\\0\\\\\\frac{1}{m_{1}}\\\\\\frac{1}{l m_{1}}\\end{matrix}\\right]$$"
      ],
      "text/plain": [
       "⎡ 0  ⎤\n",
       "⎢    ⎥\n",
       "⎢ 0  ⎥\n",
       "⎢    ⎥\n",
       "⎢ 1  ⎥\n",
       "⎢ ── ⎥\n",
       "⎢ m₁ ⎥\n",
       "⎢    ⎥\n",
       "⎢ 1  ⎥\n",
       "⎢────⎥\n",
       "⎣l⋅m₁⎦"
      ]
     },
     "execution_count": 11,
     "metadata": {},
     "output_type": "execute_result"
    }
   ],
   "source": [
    "# simplify and print out the B matrix\n",
    "B.simplify()\n",
    "B"
   ]
  },
  {
   "cell_type": "markdown",
   "metadata": {},
   "source": [
    "## Checking the Result\n",
    "These equations match the linearized equations of motion from the top of this notebook, if they are written as a system of first order ODEs, rather than two second-order ODEs.\n",
    "To begin, let's define a state vector $\\mathbf{w} = \\left[x \\quad \\theta \\quad \\dot{x} \\quad \\dot{\\theta}\\right]^T $\n",
    "\n",
    "As mentioned above, we'll most often see the state space form writen as:\n",
    "\n",
    "$ \\quad \\dot{x} = Ax + Bu $\n",
    "\n",
    "where $x$ is the state vector, $A$ is the state transition matrix, $B$ is the input matrix, and $u$ is the input. We'll use $\\mathbf{w}$ here and in the code to avoid confusion with our state $x$, the position of $m_1$.\n",
    "\n",
    "To begin, let's write the two equations of motion as:\n",
    "\n",
    "$ \\quad \\ddot{x} = \\frac{1}{m_1 + m_2} \\left(m_2 l \\ddot{\\theta} - k x + f \\right)$\n",
    "\n",
    "$ \\quad  \\ddot{\\theta}= \\frac{1}{m_2 l^2} \\left(m_2 l \\ddot{x} - m_2 g l \\theta\\right) = \\frac{1}{l}\\ddot{x} - \\frac{g}{l}\\theta   $\n",
    "\n",
    "After some algebra and using the state vector defined above, we can write our equations of motion as:\n",
    "\n",
    "$$ \\dot{\\mathbf{w}} = \\begin{bmatrix}0 & 0 & 1 & 0\\\\ 0 & 0 & 0 & 1 \\\\ -\\frac{k}{m_1} & -\\frac{m_2}{m_1}g & 0 & 0 \\\\  -\\frac{k}{m_1} & -\\left(\\frac{m_1 + m_2}{m_1}\\right)\\frac{g}{l} & 0 & 0 \\end{bmatrix}\\mathbf{w} + \\begin{bmatrix}0 \\\\ 0 \\\\ \\frac{1}{m_1}  \\\\ \\frac{1}{m_1 l} \\end{bmatrix} f $$"
   ]
  },
  {
   "cell_type": "markdown",
   "metadata": {},
   "source": [
    "\n",
    "Now, we have the option of automating the creation of the functions necessary for use in the ODE solver, like we've done in [some other notebooks](http://nbviewer.ipython.org/github/DocVaughan/MCHE513---Intermediate-Dynamics/blob/master/Planar%20Crane%20with%20SymPy.ipynb). Here, let's manually generate the necessary functions to examine that case."
   ]
  },
  {
   "cell_type": "code",
   "execution_count": 12,
   "metadata": {
    "collapsed": false
   },
   "outputs": [],
   "source": [
    "# import NumPy with namespace np\n",
    "import numpy as np\n",
    "\n",
    "# import the ode ODE solver\n",
    "from scipy.integrate import odeint\n",
    "\n",
    "# import the plotting functions from matplotlib\n",
    "import matplotlib.pyplot as plt\n",
    "\n",
    "# set up the notebook to display the plots inline\n",
    "%matplotlib inline"
   ]
  },
  {
   "cell_type": "code",
   "execution_count": 13,
   "metadata": {
    "collapsed": false
   },
   "outputs": [],
   "source": [
    "# Define the system parameters\n",
    "m1 = 10.0            # Trolley mass (kg)\n",
    "m2 = 1.0             # Payload mass (kg)\n",
    "g = 9.81             # Gravity (m/s^2)\n",
    "k = 4 * np.pi**2     # Spring constant (N/m)\n",
    "l = 2.0              # Cable length (m)"
   ]
  },
  {
   "cell_type": "markdown",
   "metadata": {},
   "source": [
    "To use ```scipy.intergrate.odeint``` we need to define a funciton that represents the system of first order differential equations we want to solve. Here, that is simply the system of equations of motion. The ```odeint``` funciton requires the the arguments of this function be ```w, t, p```, where ```w``` is the vector of states, ```t``` is the time, and ```p``` is a list of other parameters, as necessary. The function should returnn the system as a list.\n",
    "\n",
    "We'll also define the forcing function, with arguments following the order of those requried by ```odeint```."
   ]
  },
  {
   "cell_type": "code",
   "execution_count": 14,
   "metadata": {
    "collapsed": false
   },
   "outputs": [],
   "source": [
    "# Define the system as a series of 1st order ODES (beginnings of state-space form)\n",
    "def eq_of_motion(w, t, p):\n",
    "    \"\"\"\n",
    "    Defines the differential equations for the coupled spring-mass system.\n",
    "\n",
    "    Arguments:\n",
    "        w :  vector of the state variables:\n",
    "                  w = [x, theta, x_dot, theta_dot]\n",
    "        t :  time\n",
    "        p :  vector of the parameters:\n",
    "                  p = [m1, m2, k, l, g, wf]\n",
    "    \n",
    "    Returns:\n",
    "        sysODE : An list representing the system of equations of motion as 1st order ODEs\n",
    "    \"\"\"\n",
    "    x, theta, x_dot,  theta_dot = w\n",
    "    m1, m2, k, l, g, wf = p\n",
    "\n",
    "    # Create sysODE = (x', theta', x_dot', theta_dot'):\n",
    "    sysODE = [x_dot,\n",
    "              theta_dot,\n",
    "              -k/m1 * x - m2/m1 * g * theta + f(t,p)/m1,\n",
    "              -k/(m1 * l) * x - (m1 + m2)/m1 * g/l * theta + f(t, p)/(m1 * l)]\n",
    "    \n",
    "    return sysODE\n",
    "\n",
    "\n",
    "\n",
    "# Define the forcing function\n",
    "def f(t, p):\n",
    "    \"\"\" \n",
    "    Defines the forcing function\n",
    "    \n",
    "    Arguments:\n",
    "        t : time\n",
    "        p :  vector of the parameters:\n",
    "             p = [m1, m2, k, l, g, wf]\n",
    "    \n",
    "    Returns:\n",
    "        f : forcing function at current timestep\n",
    "    \"\"\"\n",
    "    \n",
    "    m1, m2, k, l, g, wf = p\n",
    "    \n",
    "    # Uncomment below for no force input - use for initial condition response\n",
    "    #f = 0.0 \n",
    "    \n",
    "    # Uncomment below for sinusoidal forcing input at frequency wf rad/s\n",
    "    f = np.sin(wf * t)\n",
    "    \n",
    "    return f"
   ]
  },
  {
   "cell_type": "code",
   "execution_count": 15,
   "metadata": {
    "collapsed": false
   },
   "outputs": [],
   "source": [
    "# Set up simulation parameters \n",
    "\n",
    "# ODE solver parameters\n",
    "abserr = 1.0e-9\n",
    "relerr = 1.0e-9\n",
    "max_step = 0.01\n",
    "stoptime = 25.0\n",
    "numpoints = 2501\n",
    "\n",
    "# Create the time samples for the output of the ODE solver\n",
    "t = np.linspace(0.0, stoptime, numpoints)\n",
    "\n",
    "# Initial conditions\n",
    "x_init = 0.0                        # initial position\n",
    "x_dot_init = 0.0                    # initial velocity\n",
    "theta_init = 0.0                    # initial angle\n",
    "theta_dot_init = 0.0                # initial angular velocity\n",
    "\n",
    "wf = np.sqrt(k / m1)                # forcing function frequency\n",
    "\n",
    "# Pack the parameters and initial conditions into arrays \n",
    "p = [m1, m2, k, l, g, wf]\n",
    "x0 = [x_init, theta_init, x_dot_init, theta_dot_init]"
   ]
  },
  {
   "cell_type": "code",
   "execution_count": 16,
   "metadata": {
    "collapsed": false
   },
   "outputs": [],
   "source": [
    "# Call the ODE solver.\n",
    "resp = odeint(eq_of_motion, x0, t, args=(p,), atol=abserr, rtol=relerr,  hmax=max_step)"
   ]
  },
  {
   "cell_type": "code",
   "execution_count": 17,
   "metadata": {
    "collapsed": false
   },
   "outputs": [
    {
     "data": {
      "image/png": "[encoded data removed]",
      "text/plain": [
       "<matplotlib.figure.Figure at 0x10cbbb128>"
      ]
     },
     "metadata": {},
     "output_type": "display_data"
    }
   ],
   "source": [
    "# Let's plot the trolly position and cable angle as subplots, to make it easier to compare\n",
    "\n",
    "# Make the figure pretty, then plot the results\n",
    "#   \"pretty\" parameters selected based on pdf output, not screen output\n",
    "#   Many of these setting could also be made default by the .matplotlibrc file\n",
    "fig, (ax1, ax2) = plt.subplots(1, 2, figsize=(12,4))\n",
    "\n",
    "plt.subplots_adjust(bottom=0.12,left=0.17,top=0.96,right=0.96)\n",
    "plt.setp(ax1.get_ymajorticklabels(),family='serif',fontsize=18)\n",
    "plt.setp(ax1.get_xmajorticklabels(),family='serif',fontsize=18)\n",
    "plt.setp(ax2.get_ymajorticklabels(),family='serif',fontsize=18)\n",
    "plt.setp(ax2.get_xmajorticklabels(),family='serif',fontsize=18)\n",
    "\n",
    "ax1.spines['right'].set_color('none')\n",
    "ax1.spines['top'].set_color('none')\n",
    "ax1.xaxis.set_ticks_position('bottom')\n",
    "ax1.yaxis.set_ticks_position('left')\n",
    "ax1.grid(True,linestyle=':',color='0.75')\n",
    "ax1.set_axisbelow(True)\n",
    "\n",
    "ax2.spines['right'].set_color('none')\n",
    "ax2.spines['top'].set_color('none')\n",
    "ax2.xaxis.set_ticks_position('bottom')\n",
    "ax2.yaxis.set_ticks_position('left')\n",
    "ax2.grid(True,linestyle=':',color='0.75')\n",
    "ax2.set_axisbelow(True)\n",
    "\n",
    "\n",
    "# Trolley Position plot\n",
    "ax1.set_xlabel(r'Time (s)',family='serif',fontsize=22,weight='bold',labelpad=5)\n",
    "ax1.set_ylabel(r'Displacement (m)',family='serif',fontsize=22,weight='bold',labelpad=10)\n",
    "ax1.plot(t, resp[:,0], linewidth=2)\n",
    "\n",
    "\n",
    "# Cable Angle plot \n",
    "ax2.set_xlabel(r'Time (s)',family='serif',fontsize=22,weight='bold',labelpad=5)\n",
    "ax2.set_ylabel(r'Angle (deg)', family='serif', fontsize=22, weight='bold',labelpad=10)\n",
    "ax2.plot(t, resp[:,0] * 180/np.pi, linewidth=2)\n",
    "\n",
    "\n",
    "# Adjust the page layout filling the page using the new tight_layout command\n",
    "plt.tight_layout(pad=0.5)\n",
    "\n",
    "# If you want to save the figure, uncomment the commands below. \n",
    "# The figure will be saved in the same directory as your IPython notebook.\n",
    "# Save the figure as a high-res pdf in the current folder\n",
    "# savefig('MassSpringPend_Response.pdf', dpi=300)\n",
    "\n",
    "fig.set_size_inches(18,6) # Resize the figure for better display in the notebook"
   ]
  },
  {
   "cell_type": "markdown",
   "metadata": {},
   "source": [
    "<hr class = \"style-end\">"
   ]
  },
  {
   "cell_type": "markdown",
   "metadata": {},
   "source": [
    "#### Licenses\n",
    "Code is licensed under a 3-clause BSD style license. See the licenses/LICENSE.md file.\n",
    "\n",
    "Other content is provided under a [Creative Commons Attribution-NonCommercial 4.0 International License](http://creativecommons.org/licenses/by-nc/4.0/), CC-BY-NC 4.0."
   ]
  },
  {
   "cell_type": "code",
   "execution_count": 18,
   "metadata": {
    "collapsed": false
   },
   "outputs": [
    {
     "data": {
      "text/html": [
       "<style>\n",
       "    @font-face {\n",
       "        font-family: \"Computer Modern\";\n",
       "        src: url('http://9dbb143991406a7c655e-aa5fcb0a5a4ec34cff238a2d56ca4144.r56.cf5.rackcdn.com/cmunss.otf');\n",
       "    }\n",
       "    @font-face {\n",
       "        font-family: \"Computer Modern\";\n",
       "        font-weight: bold;\n",
       "        src: url('http://9dbb143991406a7c655e-aa5fcb0a5a4ec34cff238a2d56ca4144.r56.cf5.rackcdn.com/cmunsx.otf');\n",
       "    }\n",
       "    @font-face {\n",
       "        font-family: \"Computer Modern\";\n",
       "        font-style: oblique;\n",
       "        src: url('http://9dbb143991406a7c655e-aa5fcb0a5a4ec34cff238a2d56ca4144.r56.cf5.rackcdn.com/cmunsi.otf');\n",
       "    }\n",
       "    @font-face {\n",
       "        font-family: \"Computer Modern\";\n",
       "        font-weight: bold;\n",
       "        font-style: oblique;\n",
       "        src: url('http://9dbb143991406a7c655e-aa5fcb0a5a4ec34cff238a2d56ca4144.r56.cf5.rackcdn.com/cmunso.otf');\n",
       "    }\n",
       "    \n",
       "    div.cell{\n",
       "        max-width:1100px;\n",
       "        margin-left:auto;\n",
       "        margin-right:auto;\n",
       "    }\n",
       "    \n",
       "    h1 {\n",
       "        font-family: Computer Modern;\n",
       "    }\n",
       "    \n",
       "    h4{\n",
       "        margin-top:12px;\n",
       "        margin-bottom: 3px;\n",
       "       }\n",
       "\n",
       "    div.text_cell_render{\n",
       "        font-family: Computer Modern, \"Helvetica Neue\", Arial, Helvetica, Geneva, sans-serif;\n",
       "        line-height: 145%;\n",
       "        font-size: 130%;\n",
       "        max-width:1100px;\n",
       "        margin-left:auto;\n",
       "        margin-right:auto;\n",
       "    }\n",
       "    \n",
       "    .CodeMirror{\n",
       "            font-family: \"Source Code Pro\", source-code-pro, Consolas, monospace;\n",
       "    }\n",
       "    \n",
       "    .warning{\n",
       "        color: rgb( 240, 20, 20 )\n",
       "        }  \n",
       "    \n",
       "    hr.style-end {\n",
       "    border: 0;\n",
       "    height: 1px;\n",
       "    text-align: center;\n",
       "    background: #333;\n",
       "    background-image: -webkit-linear-gradient(left, #ccc, #333, #ccc); \n",
       "    background-image:    -moz-linear-gradient(left, #ccc, #333, #ccc); \n",
       "    background-image:     -ms-linear-gradient(left, #ccc, #333, #ccc); \n",
       "    background-image:      -o-linear-gradient(left, #ccc, #333, #ccc); \n",
       "    }\n",
       "\n",
       "    hr.style-end:after {\n",
       "    content: \"⚜\";\n",
       "    display: inline-block;\n",
       "    position: relative; \n",
       "    top: -0.5em;  \n",
       "    font-size: 1.5em;\n",
       "    padding: 0 0.25em;\n",
       "    background: white;\n",
       "    }\n",
       "    \n",
       "/*  Center figures, etc\n",
       "    .ui-wrapper {\n",
       "        margin-left: auto !important;\n",
       "        margin-right: auto !important;\n",
       "    }\n",
       " */\n",
       "    \n",
       "</style>\n",
       "<script>\n",
       "    MathJax.Hub.Config({\n",
       "                        TeX: {\n",
       "                           extensions: [\"AMSmath.js\"]\n",
       "                           },\n",
       "                tex2jax: {\n",
       "                    inlineMath: [ ['$','$'], [\"\\\\(\",\"\\\\)\"] ],\n",
       "                    displayMath: [ ['$$','$$'], [\"\\\\[\",\"\\\\]\"] ]\n",
       "                },\n",
       "                displayAlign: 'center', // Change this to 'center' to center equations.\n",
       "                \"HTML-CSS\": {\n",
       "                    styles: {'.MathJax_Display': {\"margin\": 4}}\n",
       "                }\n",
       "        });\n",
       "</script>\n"
      ],
      "text/plain": [
       "<IPython.core.display.HTML object>"
      ]
     },
     "execution_count": 18,
     "metadata": {},
     "output_type": "execute_result"
    }
   ],
   "source": [
    "# Ignore this cell - We just update the CSS to make the notebook look a little bit better and easier to read\n",
    "\n",
    "# Improve the notebook styling -- Run this first\n",
    "from IPython.core.display import HTML\n",
    "css_file = 'styling/CRAWLAB_IPythonNotebook.css'\n",
    "HTML(open(css_file, \"r\").read())"
   ]
  }
 ],
 "metadata": {
  "kernelspec": {
   "display_name": "Python 3",
   "language": "python",
   "name": "python3"
  },
  "language_info": {
   "codemirror_mode": {
    "name": "ipython",
    "version": 3
   },
   "file_extension": ".py",
   "mimetype": "text/x-python",
   "name": "python",
   "nbconvert_exporter": "python",
   "pygments_lexer": "ipython3",
   "version": "3.4.3"
  }
 },
 "nbformat": 4,
 "nbformat_minor": 0
}
